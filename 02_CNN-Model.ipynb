{
 "cells": [
  {
   "cell_type": "code",
   "execution_count": 1,
   "id": "ff32db3c",
   "metadata": {},
   "outputs": [],
   "source": [
    "import datetime\n",
    "\n",
    "import numpy as np\n",
    "import pandas as pd\n",
    "import seaborn as sns\n",
    "import tensorflow as tf\n",
    "import matplotlib.pyplot as plt\n",
    "\n",
    "from tensorflow.keras import Model, Sequential\n",
    "\n",
    "from tensorflow.keras.optimizers import Adam\n",
    "from tensorflow.keras.callbacks import EarlyStopping\n",
    "from tensorflow.keras.losses import MeanSquaredError\n",
    "from tensorflow.keras.metrics import MeanAbsoluteError\n",
    "\n",
    "from tensorflow.keras.layers import Dense, Conv1D, LSTM, Lambda, Reshape, RNN, LSTMCell\n",
    "\n",
    "import warnings\n",
    "warnings.filterwarnings('ignore')"
   ]
  },
  {
   "cell_type": "code",
   "execution_count": 2,
   "id": "e9b19a92",
   "metadata": {},
   "outputs": [],
   "source": [
    "plt.rcParams['figure.figsize'] = (10, 7.5)\n",
    "plt.rcParams['axes.grid'] = False"
   ]
  },
  {
   "cell_type": "code",
   "execution_count": 3,
   "id": "3d6b177b",
   "metadata": {},
   "outputs": [
    {
     "name": "stdout",
     "output_type": "stream",
     "text": [
      "2.11.0\n"
     ]
    }
   ],
   "source": [
    "print(tf.__version__)"
   ]
  },
  {
   "cell_type": "code",
   "execution_count": 4,
   "id": "78c3689a",
   "metadata": {},
   "outputs": [],
   "source": [
    "tf.random.set_seed(42)\n",
    "np.random.seed(42)"
   ]
  },
  {
   "cell_type": "code",
   "execution_count": 5,
   "id": "498d4344",
   "metadata": {},
   "outputs": [
    {
     "name": "stdout",
     "output_type": "stream",
     "text": [
      "(2151, 6) (614, 6) (308, 6)\n"
     ]
    }
   ],
   "source": [
    "train_df = pd.read_csv('data/train.csv', index_col=0).drop('CionScore',axis=1)\n",
    "val_df = pd.read_csv('data/val.csv', index_col=0).drop('CionScore',axis=1)\n",
    "test_df = pd.read_csv('data/test.csv', index_col=0).drop('CionScore',axis=1)\n",
    "print(train_df.shape, val_df.shape, test_df.shape)"
   ]
  },
  {
   "cell_type": "code",
   "execution_count": 6,
   "id": "c5e3d37d",
   "metadata": {},
   "outputs": [
    {
     "data": {
      "text/html": [
       "<div>\n",
       "<style scoped>\n",
       "    .dataframe tbody tr th:only-of-type {\n",
       "        vertical-align: middle;\n",
       "    }\n",
       "\n",
       "    .dataframe tbody tr th {\n",
       "        vertical-align: top;\n",
       "    }\n",
       "\n",
       "    .dataframe thead th {\n",
       "        text-align: right;\n",
       "    }\n",
       "</style>\n",
       "<table border=\"1\" class=\"dataframe\">\n",
       "  <thead>\n",
       "    <tr style=\"text-align: right;\">\n",
       "      <th></th>\n",
       "      <th>Open</th>\n",
       "      <th>High</th>\n",
       "      <th>Low</th>\n",
       "      <th>Close</th>\n",
       "      <th>Volume</th>\n",
       "      <th>Coin_timestamp</th>\n",
       "    </tr>\n",
       "  </thead>\n",
       "  <tbody>\n",
       "    <tr>\n",
       "      <th>0</th>\n",
       "      <td>0.010909</td>\n",
       "      <td>0.009038</td>\n",
       "      <td>0.011130</td>\n",
       "      <td>0.010638</td>\n",
       "      <td>0.000274</td>\n",
       "      <td>0.000000</td>\n",
       "    </tr>\n",
       "    <tr>\n",
       "      <th>1</th>\n",
       "      <td>0.010731</td>\n",
       "      <td>0.008742</td>\n",
       "      <td>0.010713</td>\n",
       "      <td>0.010195</td>\n",
       "      <td>0.000214</td>\n",
       "      <td>0.000465</td>\n",
       "    </tr>\n",
       "    <tr>\n",
       "      <th>2</th>\n",
       "      <td>0.010274</td>\n",
       "      <td>0.008349</td>\n",
       "      <td>0.009911</td>\n",
       "      <td>0.009390</td>\n",
       "      <td>0.000337</td>\n",
       "      <td>0.000930</td>\n",
       "    </tr>\n",
       "    <tr>\n",
       "      <th>3</th>\n",
       "      <td>0.009482</td>\n",
       "      <td>0.007685</td>\n",
       "      <td>0.008210</td>\n",
       "      <td>0.007804</td>\n",
       "      <td>0.000557</td>\n",
       "      <td>0.001395</td>\n",
       "    </tr>\n",
       "    <tr>\n",
       "      <th>4</th>\n",
       "      <td>0.007877</td>\n",
       "      <td>0.006544</td>\n",
       "      <td>0.006264</td>\n",
       "      <td>0.007371</td>\n",
       "      <td>0.001044</td>\n",
       "      <td>0.001860</td>\n",
       "    </tr>\n",
       "  </tbody>\n",
       "</table>\n",
       "</div>"
      ],
      "text/plain": [
       "       Open      High       Low     Close    Volume  Coin_timestamp\n",
       "0  0.010909  0.009038  0.011130  0.010638  0.000274        0.000000\n",
       "1  0.010731  0.008742  0.010713  0.010195  0.000214        0.000465\n",
       "2  0.010274  0.008349  0.009911  0.009390  0.000337        0.000930\n",
       "3  0.009482  0.007685  0.008210  0.007804  0.000557        0.001395\n",
       "4  0.007877  0.006544  0.006264  0.007371  0.001044        0.001860"
      ]
     },
     "execution_count": 6,
     "metadata": {},
     "output_type": "execute_result"
    }
   ],
   "source": [
    "train_df.head()"
   ]
  },
  {
   "cell_type": "code",
   "execution_count": 7,
   "id": "7edd05a8",
   "metadata": {},
   "outputs": [],
   "source": [
    "class DataWindow():\n",
    "    def __init__(self, input_width, label_width, shift, \n",
    "                 train_df=train_df, val_df=val_df, test_df=test_df, \n",
    "                 label_columns=None):\n",
    "        \n",
    "        self.train_df = train_df\n",
    "        self.val_df = val_df\n",
    "        self.test_df = test_df\n",
    "        \n",
    "        self.label_columns = label_columns\n",
    "        if label_columns is not None:\n",
    "            self.label_columns_indices = {name: i for i, name in enumerate(label_columns)}\n",
    "        self.column_indices = {name: i for i, name in enumerate(train_df.columns)}\n",
    "        \n",
    "        self.input_width = input_width\n",
    "        self.label_width = label_width\n",
    "        self.shift = shift\n",
    "        \n",
    "        self.total_window_size = input_width + shift\n",
    "        \n",
    "        self.input_slice = slice(0, input_width)\n",
    "        self.input_indices = np.arange(self.total_window_size)[self.input_slice]\n",
    "        \n",
    "        self.label_start = self.total_window_size - self.label_width\n",
    "        self.labels_slice = slice(self.label_start, None)\n",
    "        self.label_indices = np.arange(self.total_window_size)[self.labels_slice]\n",
    "    \n",
    "    def split_to_inputs_labels(self, features):\n",
    "        inputs = features[:, self.input_slice, :]\n",
    "        labels = features[:, self.labels_slice, :]\n",
    "        if self.label_columns is not None:\n",
    "            labels = tf.stack(\n",
    "                [labels[:,:,self.column_indices[name]] for name in self.label_columns],\n",
    "                axis=-1\n",
    "            )\n",
    "        inputs.set_shape([None, self.input_width, None])\n",
    "        labels.set_shape([None, self.label_width, None])\n",
    "        \n",
    "        return inputs, labels\n",
    "    \n",
    "    def plot(self, model=None, plot_col='Close', max_subplots=3):\n",
    "        inputs, labels = self.sample_batch\n",
    "        \n",
    "        plt.figure(figsize=(12, 8))\n",
    "        plot_col_index = self.column_indices[plot_col]\n",
    "        max_n = min(max_subplots, len(inputs))\n",
    "        \n",
    "        for n in range(max_n):\n",
    "            plt.subplot(3, 1, n+1)\n",
    "            plt.ylabel(f'{plot_col} [scaled]')\n",
    "            plt.plot(self.input_indices, inputs[n, :, plot_col_index],\n",
    "                     label='Inputs', marker='.', zorder=-10)\n",
    "\n",
    "            if self.label_columns:\n",
    "              label_col_index = self.label_columns_indices.get(plot_col, None)\n",
    "            else:\n",
    "              label_col_index = plot_col_index\n",
    "\n",
    "            if label_col_index is None:\n",
    "              continue\n",
    "\n",
    "            plt.scatter(self.label_indices, labels[n, :, label_col_index],\n",
    "                        edgecolors='k', marker='s', label='Labels', c='green', s=64)\n",
    "            if model is not None:\n",
    "              predictions = model(inputs)\n",
    "              plt.scatter(self.label_indices, predictions[n, :, label_col_index],\n",
    "                          marker='X', edgecolors='k', label='Predictions',\n",
    "                          c='red', s=64)\n",
    "\n",
    "            if n == 0:\n",
    "              plt.legend()\n",
    "\n",
    "        plt.xlabel('Time (h)')\n",
    "        \n",
    "    def make_dataset(self, data):\n",
    "        data = np.array(data, dtype=np.float32)\n",
    "        ds = tf.keras.preprocessing.timeseries_dataset_from_array(\n",
    "            data=data,\n",
    "            targets=None,\n",
    "            sequence_length=self.total_window_size,\n",
    "            sequence_stride=1,\n",
    "            shuffle=True,\n",
    "            batch_size=32\n",
    "        )\n",
    "        \n",
    "        ds = ds.map(self.split_to_inputs_labels)\n",
    "        return ds\n",
    "    \n",
    "    @property\n",
    "    def train(self):\n",
    "        return self.make_dataset(self.train_df)\n",
    "    \n",
    "    @property\n",
    "    def val(self):\n",
    "        return self.make_dataset(self.val_df)\n",
    "    \n",
    "    @property\n",
    "    def test(self):\n",
    "        return self.make_dataset(self.test_df)\n",
    "    \n",
    "    @property\n",
    "    def sample_batch(self):\n",
    "        result = getattr(self, '_sample_batch', None)\n",
    "        if result is None:\n",
    "            result = next(iter(self.train))\n",
    "            self._sample_batch = result\n",
    "        return result"
   ]
  },
  {
   "cell_type": "code",
   "execution_count": 8,
   "id": "a507fa05",
   "metadata": {},
   "outputs": [],
   "source": [
    "def compile_and_fit(model, window, patience=3, max_epochs=50):\n",
    "    early_stopping = EarlyStopping(monitor='val_loss',\n",
    "                                   patience=patience,\n",
    "                                   mode='min')\n",
    "    \n",
    "    model.compile(loss=MeanSquaredError(),\n",
    "                  optimizer=Adam(),\n",
    "                  metrics=[MeanAbsoluteError()])\n",
    "    \n",
    "    history = model.fit(window.train,\n",
    "                       epochs=max_epochs,\n",
    "                       validation_data=window.val,\n",
    "                       callbacks=[early_stopping])\n",
    "    \n",
    "    return history"
   ]
  },
  {
   "cell_type": "code",
   "execution_count": 9,
   "id": "1a85f354",
   "metadata": {},
   "outputs": [],
   "source": [
    "column_indices = {name: i for i, name in enumerate(train_df.columns)}"
   ]
  },
  {
   "cell_type": "markdown",
   "id": "df308e0a",
   "metadata": {},
   "source": [
    "## CNN "
   ]
  },
  {
   "cell_type": "markdown",
   "id": "efa01851",
   "metadata": {},
   "source": [
    "### Multi-step model "
   ]
  },
  {
   "cell_type": "code",
   "execution_count": 10,
   "id": "78dec5fe",
   "metadata": {},
   "outputs": [],
   "source": [
    "KERNEL_WIDTH = 3\n",
    "LABEL_WIDTH = 7\n",
    "INPUT_WIDTH = LABEL_WIDTH + KERNEL_WIDTH - 1\n",
    "\n",
    "multi_window = DataWindow(input_width=INPUT_WIDTH, label_width=LABEL_WIDTH, shift=1, label_columns=['Close'])"
   ]
  },
  {
   "cell_type": "code",
   "execution_count": 11,
   "id": "58fc36f1",
   "metadata": {},
   "outputs": [
    {
     "data": {
      "text/html": [
       "<div>\n",
       "<style scoped>\n",
       "    .dataframe tbody tr th:only-of-type {\n",
       "        vertical-align: middle;\n",
       "    }\n",
       "\n",
       "    .dataframe tbody tr th {\n",
       "        vertical-align: top;\n",
       "    }\n",
       "\n",
       "    .dataframe thead th {\n",
       "        text-align: right;\n",
       "    }\n",
       "</style>\n",
       "<table border=\"1\" class=\"dataframe\">\n",
       "  <thead>\n",
       "    <tr style=\"text-align: right;\">\n",
       "      <th></th>\n",
       "      <th>Open</th>\n",
       "      <th>High</th>\n",
       "      <th>Low</th>\n",
       "      <th>Close</th>\n",
       "      <th>Volume</th>\n",
       "      <th>Coin_timestamp</th>\n",
       "    </tr>\n",
       "  </thead>\n",
       "  <tbody>\n",
       "    <tr>\n",
       "      <th>0</th>\n",
       "      <td>0.010909</td>\n",
       "      <td>0.009038</td>\n",
       "      <td>0.011130</td>\n",
       "      <td>0.010638</td>\n",
       "      <td>0.000274</td>\n",
       "      <td>0.000000</td>\n",
       "    </tr>\n",
       "    <tr>\n",
       "      <th>1</th>\n",
       "      <td>0.010731</td>\n",
       "      <td>0.008742</td>\n",
       "      <td>0.010713</td>\n",
       "      <td>0.010195</td>\n",
       "      <td>0.000214</td>\n",
       "      <td>0.000465</td>\n",
       "    </tr>\n",
       "    <tr>\n",
       "      <th>2</th>\n",
       "      <td>0.010274</td>\n",
       "      <td>0.008349</td>\n",
       "      <td>0.009911</td>\n",
       "      <td>0.009390</td>\n",
       "      <td>0.000337</td>\n",
       "      <td>0.000930</td>\n",
       "    </tr>\n",
       "    <tr>\n",
       "      <th>3</th>\n",
       "      <td>0.009482</td>\n",
       "      <td>0.007685</td>\n",
       "      <td>0.008210</td>\n",
       "      <td>0.007804</td>\n",
       "      <td>0.000557</td>\n",
       "      <td>0.001395</td>\n",
       "    </tr>\n",
       "    <tr>\n",
       "      <th>4</th>\n",
       "      <td>0.007877</td>\n",
       "      <td>0.006544</td>\n",
       "      <td>0.006264</td>\n",
       "      <td>0.007371</td>\n",
       "      <td>0.001044</td>\n",
       "      <td>0.001860</td>\n",
       "    </tr>\n",
       "  </tbody>\n",
       "</table>\n",
       "</div>"
      ],
      "text/plain": [
       "       Open      High       Low     Close    Volume  Coin_timestamp\n",
       "0  0.010909  0.009038  0.011130  0.010638  0.000274        0.000000\n",
       "1  0.010731  0.008742  0.010713  0.010195  0.000214        0.000465\n",
       "2  0.010274  0.008349  0.009911  0.009390  0.000337        0.000930\n",
       "3  0.009482  0.007685  0.008210  0.007804  0.000557        0.001395\n",
       "4  0.007877  0.006544  0.006264  0.007371  0.001044        0.001860"
      ]
     },
     "execution_count": 11,
     "metadata": {},
     "output_type": "execute_result"
    }
   ],
   "source": [
    "train_df.head()"
   ]
  },
  {
   "cell_type": "code",
   "execution_count": 12,
   "id": "97eb4f56",
   "metadata": {
    "collapsed": true
   },
   "outputs": [
    {
     "name": "stdout",
     "output_type": "stream",
     "text": [
      "Epoch 1/50\n",
      "67/67 [==============================] - 1s 9ms/step - loss: 0.0157 - mean_absolute_error: 0.0744 - val_loss: 0.1132 - val_mean_absolute_error: 0.2843\n",
      "Epoch 2/50\n",
      "67/67 [==============================] - 0s 2ms/step - loss: 7.8681e-04 - mean_absolute_error: 0.0167 - val_loss: 0.0193 - val_mean_absolute_error: 0.1057\n",
      "Epoch 3/50\n",
      "67/67 [==============================] - 0s 2ms/step - loss: 4.5161e-04 - mean_absolute_error: 0.0109 - val_loss: 0.0136 - val_mean_absolute_error: 0.0873\n",
      "Epoch 4/50\n",
      "67/67 [==============================] - 0s 2ms/step - loss: 4.2508e-04 - mean_absolute_error: 0.0100 - val_loss: 0.0129 - val_mean_absolute_error: 0.0849\n",
      "Epoch 5/50\n",
      "67/67 [==============================] - 0s 2ms/step - loss: 4.1899e-04 - mean_absolute_error: 0.0098 - val_loss: 0.0129 - val_mean_absolute_error: 0.0853\n",
      "Epoch 6/50\n",
      "67/67 [==============================] - 0s 2ms/step - loss: 4.1911e-04 - mean_absolute_error: 0.0097 - val_loss: 0.0138 - val_mean_absolute_error: 0.0887\n",
      "Epoch 7/50\n",
      "67/67 [==============================] - 0s 2ms/step - loss: 4.0920e-04 - mean_absolute_error: 0.0097 - val_loss: 0.0121 - val_mean_absolute_error: 0.0816\n",
      "Epoch 8/50\n",
      "67/67 [==============================] - 0s 2ms/step - loss: 4.0003e-04 - mean_absolute_error: 0.0095 - val_loss: 0.0120 - val_mean_absolute_error: 0.0818\n",
      "Epoch 9/50\n",
      "67/67 [==============================] - 0s 2ms/step - loss: 3.9301e-04 - mean_absolute_error: 0.0094 - val_loss: 0.0125 - val_mean_absolute_error: 0.0838\n",
      "Epoch 10/50\n",
      "67/67 [==============================] - 0s 2ms/step - loss: 3.8614e-04 - mean_absolute_error: 0.0094 - val_loss: 0.0116 - val_mean_absolute_error: 0.0797\n",
      "Epoch 11/50\n",
      "67/67 [==============================] - 0s 2ms/step - loss: 3.8170e-04 - mean_absolute_error: 0.0093 - val_loss: 0.0113 - val_mean_absolute_error: 0.0787\n",
      "Epoch 12/50\n",
      "67/67 [==============================] - 0s 2ms/step - loss: 3.7094e-04 - mean_absolute_error: 0.0091 - val_loss: 0.0116 - val_mean_absolute_error: 0.0808\n",
      "Epoch 13/50\n",
      "67/67 [==============================] - 0s 2ms/step - loss: 3.6528e-04 - mean_absolute_error: 0.0090 - val_loss: 0.0125 - val_mean_absolute_error: 0.0841\n",
      "Epoch 14/50\n",
      "67/67 [==============================] - 0s 2ms/step - loss: 3.6508e-04 - mean_absolute_error: 0.0093 - val_loss: 0.0112 - val_mean_absolute_error: 0.0788\n",
      "Epoch 15/50\n",
      "67/67 [==============================] - 0s 2ms/step - loss: 3.4965e-04 - mean_absolute_error: 0.0089 - val_loss: 0.0107 - val_mean_absolute_error: 0.0766\n",
      "Epoch 16/50\n",
      "67/67 [==============================] - 0s 2ms/step - loss: 3.4568e-04 - mean_absolute_error: 0.0088 - val_loss: 0.0111 - val_mean_absolute_error: 0.0788\n",
      "Epoch 17/50\n",
      "67/67 [==============================] - 0s 2ms/step - loss: 3.4469e-04 - mean_absolute_error: 0.0089 - val_loss: 0.0108 - val_mean_absolute_error: 0.0774\n",
      "Epoch 18/50\n",
      "67/67 [==============================] - 0s 2ms/step - loss: 3.3384e-04 - mean_absolute_error: 0.0087 - val_loss: 0.0104 - val_mean_absolute_error: 0.0740\n",
      "Epoch 19/50\n",
      "67/67 [==============================] - 0s 2ms/step - loss: 3.2140e-04 - mean_absolute_error: 0.0085 - val_loss: 0.0099 - val_mean_absolute_error: 0.0733\n",
      "Epoch 20/50\n",
      "67/67 [==============================] - 0s 2ms/step - loss: 3.1541e-04 - mean_absolute_error: 0.0084 - val_loss: 0.0097 - val_mean_absolute_error: 0.0721\n",
      "Epoch 21/50\n",
      "67/67 [==============================] - 0s 2ms/step - loss: 3.1430e-04 - mean_absolute_error: 0.0084 - val_loss: 0.0094 - val_mean_absolute_error: 0.0703\n",
      "Epoch 22/50\n",
      "67/67 [==============================] - 0s 2ms/step - loss: 3.2146e-04 - mean_absolute_error: 0.0089 - val_loss: 0.0098 - val_mean_absolute_error: 0.0730\n",
      "Epoch 23/50\n",
      "67/67 [==============================] - 0s 2ms/step - loss: 3.1376e-04 - mean_absolute_error: 0.0089 - val_loss: 0.0099 - val_mean_absolute_error: 0.0734\n",
      "Epoch 24/50\n",
      "67/67 [==============================] - 0s 2ms/step - loss: 3.0258e-04 - mean_absolute_error: 0.0083 - val_loss: 0.0090 - val_mean_absolute_error: 0.0684\n",
      "Epoch 25/50\n",
      "67/67 [==============================] - 0s 2ms/step - loss: 2.9392e-04 - mean_absolute_error: 0.0081 - val_loss: 0.0088 - val_mean_absolute_error: 0.0680\n",
      "Epoch 26/50\n",
      "67/67 [==============================] - 0s 2ms/step - loss: 2.9288e-04 - mean_absolute_error: 0.0083 - val_loss: 0.0100 - val_mean_absolute_error: 0.0743\n",
      "Epoch 27/50\n",
      "67/67 [==============================] - 0s 2ms/step - loss: 2.8202e-04 - mean_absolute_error: 0.0079 - val_loss: 0.0086 - val_mean_absolute_error: 0.0667\n",
      "Epoch 28/50\n",
      "67/67 [==============================] - 0s 2ms/step - loss: 2.8256e-04 - mean_absolute_error: 0.0080 - val_loss: 0.0094 - val_mean_absolute_error: 0.0696\n",
      "Epoch 29/50\n",
      "67/67 [==============================] - 0s 2ms/step - loss: 2.8146e-04 - mean_absolute_error: 0.0082 - val_loss: 0.0085 - val_mean_absolute_error: 0.0662\n",
      "Epoch 30/50\n",
      "67/67 [==============================] - 0s 2ms/step - loss: 2.7305e-04 - mean_absolute_error: 0.0079 - val_loss: 0.0084 - val_mean_absolute_error: 0.0652\n",
      "Epoch 31/50\n",
      "67/67 [==============================] - 0s 2ms/step - loss: 2.7868e-04 - mean_absolute_error: 0.0080 - val_loss: 0.0085 - val_mean_absolute_error: 0.0669\n",
      "Epoch 32/50\n",
      "67/67 [==============================] - 0s 2ms/step - loss: 2.7360e-04 - mean_absolute_error: 0.0079 - val_loss: 0.0081 - val_mean_absolute_error: 0.0640\n",
      "Epoch 33/50\n",
      "67/67 [==============================] - 0s 2ms/step - loss: 2.6288e-04 - mean_absolute_error: 0.0077 - val_loss: 0.0084 - val_mean_absolute_error: 0.0662\n",
      "Epoch 34/50\n",
      "67/67 [==============================] - 0s 2ms/step - loss: 2.6033e-04 - mean_absolute_error: 0.0075 - val_loss: 0.0084 - val_mean_absolute_error: 0.0660\n",
      "Epoch 35/50\n",
      "67/67 [==============================] - 0s 2ms/step - loss: 2.7060e-04 - mean_absolute_error: 0.0081 - val_loss: 0.0098 - val_mean_absolute_error: 0.0740\n",
      "19/19 [==============================] - 0s 887us/step - loss: 0.0098 - mean_absolute_error: 0.0740\n",
      "驗證集的MSE 0.07398064434528351\n",
      "測試集的MSE 0.031226415187120438\n"
     ]
    }
   ],
   "source": [
    "ms_cnn_model = Sequential([\n",
    "    Conv1D(64, kernel_size=(KERNEL_WIDTH)),        \n",
    "    Dense(1, kernel_initializer=tf.initializers.zeros),\n",
    "])\n",
    "\n",
    "history = compile_and_fit(ms_cnn_model, multi_window)\n",
    "\n",
    "# ms_val_performance = {}\n",
    "ms_performance = {}\n",
    "ms_val_performance = {}\n",
    "ms_performance = {}\n",
    "\n",
    "ms_val_performance['CNN'] = ms_cnn_model.evaluate(multi_window.val)\n",
    "ms_performance['CNN'] = ms_cnn_model.evaluate(multi_window.test, verbose=0)\n",
    "\n",
    "print(f\"驗證集的MSE {ms_val_performance['CNN'][1]}\")\n",
    "print(f\"測試集的MSE {ms_performance['CNN'][1]}\")\n"
   ]
  },
  {
   "cell_type": "code",
   "execution_count": 14,
   "id": "15db7b4e",
   "metadata": {},
   "outputs": [
    {
     "data": {
      "image/png": "[encoded data removed]",
      "text/plain": [
       "<IPython.core.display.Image object>"
      ]
     },
     "execution_count": 14,
     "metadata": {},
     "output_type": "execute_result"
    }
   ],
   "source": [
    "from keras.utils import plot_model\n",
    "tf.keras.utils.plot_model(ms_cnn_model, to_file='Functional_API_model.png')"
   ]
  },
  {
   "cell_type": "code",
   "execution_count": 41,
   "id": "054d78ea",
   "metadata": {},
   "outputs": [
    {
     "data": {
      "image/png": "[encoded data removed]",
      "text/plain": [
       "<Figure size 1000x750 with 1 Axes>"
      ]
     },
     "metadata": {},
     "output_type": "display_data"
    }
   ],
   "source": [
    "\n",
    "ms_mae_test=[32.63889118982175,26.418983158801588,23.442551235991374]\n",
    "x = np.arange(len(ms_mae_test))\n",
    "labels = [ 'LSTM','CNN-General','CNN-Sentiment']\n",
    "\n",
    "plt.bar(x,ms_mae_test, width=0.25, color='white', edgecolor='black', hatch='/', label='Test')\n",
    "\n",
    "for i in x:\n",
    "    plt.text(x=i, y=ms_mae_test[i]+ 0.15, s=str(round(ms_mae_test[i], 3)), ha='center')\n",
    "\n",
    "\n",
    "\n",
    "plt.xlabel('Models')\n",
    "plt.ylabel('Mean absolute error')\n",
    "plt.xticks(ticks=x, labels=labels)\n",
    "plt.legend(loc='best')\n",
    "plt.tight_layout()\n",
    "plt.savefig('peixeiro.png', dpi=300)"
   ]
  }
 ],
 "metadata": {
  "kernelspec": {
   "display_name": "Python 3 (ipykernel)",
   "language": "python",
   "name": "python3"
  },
  "language_info": {
   "codemirror_mode": {
    "name": "ipython",
    "version": 3
   },
   "file_extension": ".py",
   "mimetype": "text/x-python",
   "name": "python",
   "nbconvert_exporter": "python",
   "pygments_lexer": "ipython3",
   "version": "3.10.9"
  }
 },
 "nbformat": 4,
 "nbformat_minor": 5
}
