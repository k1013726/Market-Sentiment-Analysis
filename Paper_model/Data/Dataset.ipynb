{
 "cells": [
  {
   "cell_type": "code",
   "execution_count": 1,
   "id": "1ec3a50a",
   "metadata": {},
   "outputs": [],
   "source": [
    "# https://finance.yahoo.com/most-active\n",
    "# https://finance.yahoo.com/crypto/"
   ]
  },
  {
   "cell_type": "code",
   "execution_count": 9,
   "id": "22e1da77",
   "metadata": {},
   "outputs": [
    {
     "name": "stdout",
     "output_type": "stream",
     "text": [
      "[*********************100%***********************]  1 of 1 completed\n",
      "                                 Open        High         Low       Close  \\\n",
      "Datetime                                                                    \n",
      "2023-11-01 00:00:00+00:00  226.418167  227.039429  226.149078  226.590942   \n",
      "2023-11-01 01:00:00+00:00  226.607666  226.652176  226.205338  226.205338   \n",
      "2023-11-01 02:00:00+00:00  226.195831  226.346893  225.735291  225.810226   \n",
      "2023-11-01 03:00:00+00:00  225.808212  225.875137  225.338074  225.595322   \n",
      "2023-11-01 04:00:00+00:00  225.595322  225.595322  225.306473  225.317566   \n",
      "\n",
      "                            Adj Close   Volume  \n",
      "Datetime                                        \n",
      "2023-11-01 00:00:00+00:00  226.590942  1477184  \n",
      "2023-11-01 01:00:00+00:00  226.205338        0  \n",
      "2023-11-01 02:00:00+00:00  225.810226        0  \n",
      "2023-11-01 03:00:00+00:00  225.595322        0  \n",
      "2023-11-01 04:00:00+00:00  225.317566        0  \n"
     ]
    }
   ],
   "source": [
    "import yfinance as yf \n",
    "import datetime as dt\n",
    "\n",
    "# BTC-USD\n",
    "# ETH-USD\n",
    "# USDT-USD\n",
    "# USDC-USD\n",
    "# BNB-USD\n",
    "\n",
    "symbol = \"BNB-USD\"\n",
    "# Read data\n",
    "start =dt.date(2023,11,1)\n",
    "end = dt.date(2023, 12, 1)\n",
    "\n",
    "df=yf.download(symbol, start=start,end=end,interval='1h')#\n",
    "# df = yf.download(symbol)\n",
    "df.to_csv(\"BNBUSD-1m1h.csv\")\n",
    "\n",
    "print(df.head())"
   ]
  },
  {
   "cell_type": "code",
   "execution_count": 10,
   "metadata": {},
   "outputs": [
    {
     "data": {
      "text/plain": [
       "(720, 6)"
      ]
     },
     "execution_count": 10,
     "metadata": {},
     "output_type": "execute_result"
    }
   ],
   "source": [
    "df.shape"
   ]
  },
  {
   "cell_type": "code",
   "execution_count": 14,
   "metadata": {},
   "outputs": [
    {
     "name": "stderr",
     "output_type": "stream",
     "text": [
      "C:\\Users\\nptu\\AppData\\Local\\Temp\\ipykernel_7324\\98025812.py:4: SettingWithCopyWarning: \n",
      "A value is trying to be set on a copy of a slice from a DataFrame\n",
      "\n",
      "See the caveats in the documentation: https://pandas.pydata.org/pandas-docs/stable/user_guide/indexing.html#returning-a-view-versus-a-copy\n",
      "  df['Datetime'][i]=df['Datetime'][i].split('+')[0]\n"
     ]
    }
   ],
   "source": [
    "import pandas as pd\n",
    "df=pd.read_csv('./USDTUSD-1m1h.csv')\n",
    "for i in range(len(df['Datetime'])):\n",
    "    df['Datetime'][i]=df['Datetime'][i].split('+')[0]\n",
    "\n",
    "\n",
    "df.to_csv('USDTUSD-1m1h.csv')\n"
   ]
  }
 ],
 "metadata": {
  "kernelspec": {
   "display_name": "Python 3",
   "language": "python",
   "name": "python3"
  },
  "language_info": {
   "codemirror_mode": {
    "name": "ipython",
    "version": 3
   },
   "file_extension": ".py",
   "mimetype": "text/x-python",
   "name": "python",
   "nbconvert_exporter": "python",
   "pygments_lexer": "ipython3",
   "version": "3.10.9"
  },
  "vscode": {
   "interpreter": {
    "hash": "beedbe2faf2f7048d727558d0bc3221e7eba2a0b921cac4d4771b2feb8f74b30"
   }
  }
 },
 "nbformat": 4,
 "nbformat_minor": 5
}
