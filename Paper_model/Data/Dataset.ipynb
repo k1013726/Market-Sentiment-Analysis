{
 "cells": [
  {
   "cell_type": "code",
   "execution_count": 1,
   "id": "1ec3a50a",
   "metadata": {},
   "outputs": [],
   "source": [
    "# https://finance.yahoo.com/most-active\n",
    "# https://finance.yahoo.com/crypto/"
   ]
  },
  {
   "cell_type": "code",
   "execution_count": 1,
   "id": "22e1da77",
   "metadata": {},
   "outputs": [
    {
     "name": "stdout",
     "output_type": "stream",
     "text": [
      "[*********************100%***********************]  1 of 1 completed\n",
      "(3271, 6)\n"
     ]
    }
   ],
   "source": [
    "import yfinance as yf \n",
    "import datetime as dt\n",
    "symbol = \"ETH-USD\"\n",
    "# Read data\n",
    "start =dt.date(2014, 9, 17)\n",
    "end = dt.date(2023, 9, 1)\n",
    "\n",
    "df = yf.download(symbol,end=end,start=start)\n",
    "print(df.shape)\n",
    "# df.to_csv(\"BNB-N4Y.csv\")"
   ]
  },
  {
   "cell_type": "code",
   "execution_count": 4,
   "id": "249b8982",
   "metadata": {},
   "outputs": [
    {
     "name": "stderr",
     "output_type": "stream",
     "text": [
      "C:\\Users\\nptu\\AppData\\Local\\Temp\\ipykernel_8944\\3596457883.py:14: SettingWithCopyWarning: \n",
      "A value is trying to be set on a copy of a slice from a DataFrame\n",
      "\n",
      "See the caveats in the documentation: https://pandas.pydata.org/pandas-docs/stable/user_guide/indexing.html#returning-a-view-versus-a-copy\n",
      "  df['Date'][i]=timestamp_datetime(df['Date'][i]/1000)\n"
     ]
    }
   ],
   "source": [
    "import time\n",
    "import pandas as pd\n",
    "\n",
    "def timestamp_datetime(value):\n",
    "    format = '%Y-%m-%d %H:%M:%S'   \n",
    "    value = time.localtime(value)   \n",
    "    dt = time.strftime(format, value)\n",
    "    return dt\n",
    "\n",
    "\n",
    "df=pd.read_csv(\"./ETHUSDT-1h/ETHUSDT-1h.csv\")\n",
    "\n",
    "for i in range(len(df['Date'])):\n",
    "    df['Date'][i]=timestamp_datetime(df['Date'][i]/1000)\n",
    "\n",
    "df.to_csv(\"ETHUSDT-1h.csv\",index=False)"
   ]
  }
 ],
 "metadata": {
  "kernelspec": {
   "display_name": "Python 3",
   "language": "python",
   "name": "python3"
  },
  "language_info": {
   "codemirror_mode": {
    "name": "ipython",
    "version": 3
   },
   "file_extension": ".py",
   "mimetype": "text/x-python",
   "name": "python",
   "nbconvert_exporter": "python",
   "pygments_lexer": "ipython3",
   "version": "3.10.9"
  },
  "vscode": {
   "interpreter": {
    "hash": "beedbe2faf2f7048d727558d0bc3221e7eba2a0b921cac4d4771b2feb8f74b30"
   }
  }
 },
 "nbformat": 4,
 "nbformat_minor": 5
}
