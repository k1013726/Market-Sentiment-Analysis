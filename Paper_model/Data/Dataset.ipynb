{
 "cells": [
  {
   "cell_type": "code",
   "execution_count": 1,
   "id": "1ec3a50a",
   "metadata": {},
   "outputs": [],
   "source": [
    "# https://finance.yahoo.com/most-active\n",
    "# https://finance.yahoo.com/crypto/"
   ]
  },
  {
   "cell_type": "code",
   "execution_count": 10,
   "id": "22e1da77",
   "metadata": {},
   "outputs": [
    {
     "name": "stdout",
     "output_type": "stream",
     "text": [
      "[*********************100%***********************]  1 of 1 completed\n",
      "(661, 6)\n"
     ]
    }
   ],
   "source": [
    "import yfinance as yf \n",
    "import datetime as dt\n",
    "symbol = \"BNB-USD\"\n",
    "# Read data\n",
    "start =dt.date(2021, 11, 9)\n",
    "end = dt.date(2023, 9, 1)\n",
    "\n",
    "df = yf.download(symbol,end=end,start=start)\n",
    "print(df.shape)\n",
    "df.to_csv(\"BNB-N4Y.csv\")"
   ]
  }
 ],
 "metadata": {
  "kernelspec": {
   "display_name": "Python 3",
   "language": "python",
   "name": "python3"
  },
  "language_info": {
   "codemirror_mode": {
    "name": "ipython",
    "version": 3
   },
   "file_extension": ".py",
   "mimetype": "text/x-python",
   "name": "python",
   "nbconvert_exporter": "python",
   "pygments_lexer": "ipython3",
   "version": "3.10.9"
  },
  "vscode": {
   "interpreter": {
    "hash": "beedbe2faf2f7048d727558d0bc3221e7eba2a0b921cac4d4771b2feb8f74b30"
   }
  }
 },
 "nbformat": 4,
 "nbformat_minor": 5
}
