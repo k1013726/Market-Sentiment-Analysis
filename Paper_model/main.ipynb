{
 "cells": [
  {
   "cell_type": "code",
   "execution_count": 13,
   "metadata": {},
   "outputs": [
    {
     "name": "stderr",
     "output_type": "stream",
     "text": [
      "C:\\Users\\admin\\AppData\\Local\\Temp\\ipykernel_1636\\3141070683.py:12: DeprecationWarning: executable_path has been deprecated, please pass in a Service object\n",
      "  driver = webdriver.Chrome('./chromedriver-win64/chromedriver',options=opts)\n"
     ]
    },
    {
     "ename": "TimeoutException",
     "evalue": "Message: timeout: Timed out receiving message from renderer: 300.000\n  (Session info: chrome=117.0.5938.92)\nStacktrace:\n\tGetHandleVerifier [0x00007FF641227892+54818]\n\t(No symbol) [0x00007FF641196AC2]\n\t(No symbol) [0x00007FF64104DA3B]\n\t(No symbol) [0x00007FF64103C06A]\n\t(No symbol) [0x00007FF64103BFB3]\n\t(No symbol) [0x00007FF64103A82E]\n\t(No symbol) [0x00007FF64103B2EE]\n\t(No symbol) [0x00007FF64104775B]\n\t(No symbol) [0x00007FF6410584D1]\n\t(No symbol) [0x00007FF64105C80A]\n\t(No symbol) [0x00007FF64103B937]\n\t(No symbol) [0x00007FF6410583AA]\n\t(No symbol) [0x00007FF6410C7609]\n\t(No symbol) [0x00007FF6410AE883]\n\t(No symbol) [0x00007FF641083691]\n\t(No symbol) [0x00007FF6410848D4]\n\tGetHandleVerifier [0x00007FF64158B992+3610402]\n\tGetHandleVerifier [0x00007FF6415E1860+3962352]\n\tGetHandleVerifier [0x00007FF6415D9D4F+3930847]\n\tGetHandleVerifier [0x00007FF6412C3646+693206]\n\t(No symbol) [0x00007FF6411A1628]\n\t(No symbol) [0x00007FF64119D934]\n\t(No symbol) [0x00007FF64119DA62]\n\t(No symbol) [0x00007FF64118E113]\n\tBaseThreadInitThunk [0x00007FFE733B7344+20]\n\tRtlUserThreadStart [0x00007FFE739826B1+33]\n",
     "output_type": "error",
     "traceback": [
      "\u001b[1;31m---------------------------------------------------------------------------\u001b[0m",
      "\u001b[1;31mTimeoutException\u001b[0m                          Traceback (most recent call last)",
      "\u001b[1;32mc:\\Users\\admin\\Documents\\GitHub\\Market-Sentiment-Analysis\\Paper_model\\main.ipynb 儲存格 1\u001b[0m line \u001b[0;36m2\n\u001b[0;32m     <a href='vscode-notebook-cell:/c%3A/Users/admin/Documents/GitHub/Market-Sentiment-Analysis/Paper_model/main.ipynb#W0sZmlsZQ%3D%3D?line=19'>20</a>\u001b[0m driver\u001b[39m.\u001b[39mfind_element(By\u001b[39m.\u001b[39mXPATH,\u001b[39m'\u001b[39m\u001b[39m/html/body/div[6]/main/section/div/div/form/div[3]/div[1]/div/div[2]/div/select/option[13]\u001b[39m\u001b[39m'\u001b[39m)\u001b[39m.\u001b[39mclick()\n\u001b[0;32m     <a href='vscode-notebook-cell:/c%3A/Users/admin/Documents/GitHub/Market-Sentiment-Analysis/Paper_model/main.ipynb#W0sZmlsZQ%3D%3D?line=20'>21</a>\u001b[0m driver\u001b[39m.\u001b[39mfind_element(By\u001b[39m.\u001b[39mXPATH,\u001b[39m'\u001b[39m\u001b[39m/html/body/div[6]/main/section/div/div/form/div[3]/div[2]/div/div[2]/div[1]/select/option[37]\u001b[39m\u001b[39m'\u001b[39m)\u001b[39m.\u001b[39mclick()\n\u001b[1;32m---> <a href='vscode-notebook-cell:/c%3A/Users/admin/Documents/GitHub/Market-Sentiment-Analysis/Paper_model/main.ipynb#W0sZmlsZQ%3D%3D?line=21'>22</a>\u001b[0m driver\u001b[39m.\u001b[39;49mfind_element(By\u001b[39m.\u001b[39;49mXPATH,\u001b[39m'\u001b[39;49m\u001b[39m/html/body/div[6]/main/section/div/div/form/input\u001b[39;49m\u001b[39m'\u001b[39;49m)\u001b[39m.\u001b[39;49mclick()\n\u001b[0;32m     <a href='vscode-notebook-cell:/c%3A/Users/admin/Documents/GitHub/Market-Sentiment-Analysis/Paper_model/main.ipynb#W0sZmlsZQ%3D%3D?line=23'>24</a>\u001b[0m \u001b[39m# driver.find_element(By.XPATH,'').click()\u001b[39;00m\n",
      "File \u001b[1;32mc:\\Users\\admin\\AppData\\Local\\Programs\\Python\\Python310\\lib\\site-packages\\selenium\\webdriver\\remote\\webelement.py:93\u001b[0m, in \u001b[0;36mWebElement.click\u001b[1;34m(self)\u001b[0m\n\u001b[0;32m     91\u001b[0m \u001b[39mdef\u001b[39;00m \u001b[39mclick\u001b[39m(\u001b[39mself\u001b[39m) \u001b[39m-\u001b[39m\u001b[39m>\u001b[39m \u001b[39mNone\u001b[39;00m:\n\u001b[0;32m     92\u001b[0m \u001b[39m    \u001b[39m\u001b[39m\"\"\"Clicks the element.\"\"\"\u001b[39;00m\n\u001b[1;32m---> 93\u001b[0m     \u001b[39mself\u001b[39;49m\u001b[39m.\u001b[39;49m_execute(Command\u001b[39m.\u001b[39;49mCLICK_ELEMENT)\n",
      "File \u001b[1;32mc:\\Users\\admin\\AppData\\Local\\Programs\\Python\\Python310\\lib\\site-packages\\selenium\\webdriver\\remote\\webelement.py:403\u001b[0m, in \u001b[0;36mWebElement._execute\u001b[1;34m(self, command, params)\u001b[0m\n\u001b[0;32m    401\u001b[0m     params \u001b[39m=\u001b[39m {}\n\u001b[0;32m    402\u001b[0m params[\u001b[39m\"\u001b[39m\u001b[39mid\u001b[39m\u001b[39m\"\u001b[39m] \u001b[39m=\u001b[39m \u001b[39mself\u001b[39m\u001b[39m.\u001b[39m_id\n\u001b[1;32m--> 403\u001b[0m \u001b[39mreturn\u001b[39;00m \u001b[39mself\u001b[39;49m\u001b[39m.\u001b[39;49m_parent\u001b[39m.\u001b[39;49mexecute(command, params)\n",
      "File \u001b[1;32mc:\\Users\\admin\\AppData\\Local\\Programs\\Python\\Python310\\lib\\site-packages\\selenium\\webdriver\\remote\\webdriver.py:440\u001b[0m, in \u001b[0;36mWebDriver.execute\u001b[1;34m(self, driver_command, params)\u001b[0m\n\u001b[0;32m    438\u001b[0m response \u001b[39m=\u001b[39m \u001b[39mself\u001b[39m\u001b[39m.\u001b[39mcommand_executor\u001b[39m.\u001b[39mexecute(driver_command, params)\n\u001b[0;32m    439\u001b[0m \u001b[39mif\u001b[39;00m response:\n\u001b[1;32m--> 440\u001b[0m     \u001b[39mself\u001b[39;49m\u001b[39m.\u001b[39;49merror_handler\u001b[39m.\u001b[39;49mcheck_response(response)\n\u001b[0;32m    441\u001b[0m     response[\u001b[39m\"\u001b[39m\u001b[39mvalue\u001b[39m\u001b[39m\"\u001b[39m] \u001b[39m=\u001b[39m \u001b[39mself\u001b[39m\u001b[39m.\u001b[39m_unwrap_value(response\u001b[39m.\u001b[39mget(\u001b[39m\"\u001b[39m\u001b[39mvalue\u001b[39m\u001b[39m\"\u001b[39m, \u001b[39mNone\u001b[39;00m))\n\u001b[0;32m    442\u001b[0m     \u001b[39mreturn\u001b[39;00m response\n",
      "File \u001b[1;32mc:\\Users\\admin\\AppData\\Local\\Programs\\Python\\Python310\\lib\\site-packages\\selenium\\webdriver\\remote\\errorhandler.py:245\u001b[0m, in \u001b[0;36mErrorHandler.check_response\u001b[1;34m(self, response)\u001b[0m\n\u001b[0;32m    243\u001b[0m         alert_text \u001b[39m=\u001b[39m value[\u001b[39m\"\u001b[39m\u001b[39malert\u001b[39m\u001b[39m\"\u001b[39m]\u001b[39m.\u001b[39mget(\u001b[39m\"\u001b[39m\u001b[39mtext\u001b[39m\u001b[39m\"\u001b[39m)\n\u001b[0;32m    244\u001b[0m     \u001b[39mraise\u001b[39;00m exception_class(message, screen, stacktrace, alert_text)  \u001b[39m# type: ignore[call-arg]  # mypy is not smart enough here\u001b[39;00m\n\u001b[1;32m--> 245\u001b[0m \u001b[39mraise\u001b[39;00m exception_class(message, screen, stacktrace)\n",
      "\u001b[1;31mTimeoutException\u001b[0m: Message: timeout: Timed out receiving message from renderer: 300.000\n  (Session info: chrome=117.0.5938.92)\nStacktrace:\n\tGetHandleVerifier [0x00007FF641227892+54818]\n\t(No symbol) [0x00007FF641196AC2]\n\t(No symbol) [0x00007FF64104DA3B]\n\t(No symbol) [0x00007FF64103C06A]\n\t(No symbol) [0x00007FF64103BFB3]\n\t(No symbol) [0x00007FF64103A82E]\n\t(No symbol) [0x00007FF64103B2EE]\n\t(No symbol) [0x00007FF64104775B]\n\t(No symbol) [0x00007FF6410584D1]\n\t(No symbol) [0x00007FF64105C80A]\n\t(No symbol) [0x00007FF64103B937]\n\t(No symbol) [0x00007FF6410583AA]\n\t(No symbol) [0x00007FF6410C7609]\n\t(No symbol) [0x00007FF6410AE883]\n\t(No symbol) [0x00007FF641083691]\n\t(No symbol) [0x00007FF6410848D4]\n\tGetHandleVerifier [0x00007FF64158B992+3610402]\n\tGetHandleVerifier [0x00007FF6415E1860+3962352]\n\tGetHandleVerifier [0x00007FF6415D9D4F+3930847]\n\tGetHandleVerifier [0x00007FF6412C3646+693206]\n\t(No symbol) [0x00007FF6411A1628]\n\t(No symbol) [0x00007FF64119D934]\n\t(No symbol) [0x00007FF64119DA62]\n\t(No symbol) [0x00007FF64118E113]\n\tBaseThreadInitThunk [0x00007FFE733B7344+20]\n\tRtlUserThreadStart [0x00007FFE739826B1+33]\n"
     ]
    }
   ],
   "source": [
    "from selenium import webdriver\n",
    "from selenium.webdriver.common.by import By\n",
    "from selenium.webdriver.chrome.options import Options\n",
    "from fake_useragent import UserAgent\n",
    "\n",
    "ua = UserAgent()\n",
    "opts = Options()\n",
    "opts.add_argument(\"--incognito\")  # 使用無痕模式。用 selenium開瀏覽器已經很乾淨了，但疑心病重的可以用一下\n",
    "ua =ua.random\n",
    "opts.add_argument(\"user-agent={}\".format(ua))  \n",
    "\n",
    "driver = webdriver.Chrome('./chromedriver-win64/chromedriver',options=opts)\n",
    "driver.get('https://irs.thsrc.com.tw/IMINT/')\n",
    "driver.implicitly_wait(15)\n",
    "driver.maximize_window()\n",
    "\n",
    "driver.find_element(By.XPATH,'/html/body/div[6]/div[3]/div/div/button').click()\n",
    "\n",
    "driver.find_element(By.XPATH,'/html/body/div[6]/main/section/div/div/form/div[3]/div[1]/div/div[1]/div/select/option[2]').click()\n",
    "driver.find_element(By.XPATH,'/html/body/div[6]/main/section/div/div/form/div[3]/div[1]/div/div[2]/div/select/option[13]').click()\n",
    "driver.find_element(By.XPATH,'/html/body/div[6]/main/section/div/div/form/div[3]/div[2]/div/div[2]/div[1]/select/option[37]').click()\n",
    "driver.find_element(By.XPATH,'/html/body/div[6]/main/section/div/div/form/input').click()\n",
    "\n",
    "# driver.find_element(By.XPATH,'').click()"
   ]
  }
 ],
 "metadata": {
  "kernelspec": {
   "display_name": "base",
   "language": "python",
   "name": "python3"
  },
  "language_info": {
   "codemirror_mode": {
    "name": "ipython",
    "version": 3
   },
   "file_extension": ".py",
   "mimetype": "text/x-python",
   "name": "python",
   "nbconvert_exporter": "python",
   "pygments_lexer": "ipython3",
   "version": "3.10.9"
  },
  "orig_nbformat": 4
 },
 "nbformat": 4,
 "nbformat_minor": 2
}
