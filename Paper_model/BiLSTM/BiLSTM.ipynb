{
 "cells": [
  {
   "cell_type": "code",
   "execution_count": 6,
   "metadata": {},
   "outputs": [],
   "source": [
    "import numpy as np\n",
    "import tensorflow as tf\n",
    "from tensorflow.keras.models import Sequential\n",
    "from tensorflow.keras.layers import LSTM, Dense\n",
    "import pandas as pd\n",
    "from tensorflow import keras\n",
    "from sklearn.model_selection import train_test_split, KFold\n",
    "from sklearn.metrics import mean_absolute_error\n",
    "from kerastuner.tuners import Hyperband\n",
    "from tensorflow.keras.callbacks import EarlyStopping"
   ]
  },
  {
   "cell_type": "code",
   "execution_count": 10,
   "metadata": {},
   "outputs": [
    {
     "name": "stdout",
     "output_type": "stream",
     "text": [
      "Trial 4 Complete [00h 00m 05s]\n",
      "val_loss: 470836096.0\n",
      "\n",
      "Best val_loss So Far: 470836096.0\n",
      "Total elapsed time: 00h 00m 19s\n",
      "INFO:tensorflow:Oracle triggered exit\n"
     ]
    },
    {
     "name": "stdout",
     "output_type": "stream",
     "text": [
      "INFO:tensorflow:Oracle triggered exit\n",
      "INFO:tensorflow:Oracle triggered exit\n",
      "INFO:tensorflow:Oracle triggered exit\n",
      "INFO:tensorflow:Oracle triggered exit\n",
      "84/84 [==============================] - 1s 4ms/step\n",
      "21/21 [==============================] - 0s 4ms/step\n",
      "訓練集的 MAE: 14355.071553455438\n",
      "測試集的 MAE: 13184.818218936776\n",
      "最佳超參數: <keras_tuner.engine.hyperparameters.hyperparameters.HyperParameters object at 0x0000028E131B7F70>\n"
     ]
    }
   ],
   "source": [
    "# 假設有一組收盤價的時間序列數據 closing_prices\n",
    "df=pd.read_csv('../Data/BTCUSD-all.csv')\n",
    "closing_prices=df['Close']\n",
    "# 創建時間窗口的訓練集數據\n",
    "def create_dataset(closing_prices, time_window):\n",
    "    X, y = [], []\n",
    "    for i in range(len(closing_prices) - time_window):\n",
    "        X.append(closing_prices[i:i+time_window])\n",
    "        y.append(closing_prices[i+time_window])\n",
    "    return np.array(X), np.array(y)\n",
    "\n",
    "# 設置時間窗口大小\n",
    "time_window = 7\n",
    "\n",
    "# 創建訓練集和測試集\n",
    "X, y = create_dataset(closing_prices, time_window)\n",
    "X_train, X_test, y_train, y_test = train_test_split(X, y, test_size=0.2, random_state=42)\n",
    "\n",
    "# 調整數據形狀以符合 LSTM 模型的要求\n",
    "X_train = np.reshape(X_train, (X_train.shape[0], X_train.shape[1], 1))\n",
    "X_test = np.reshape(X_test, (X_test.shape[0], X_test.shape[1], 1))\n",
    "\n",
    "# 定義超參數搜索空間\n",
    "def build_model(hp):\n",
    "    model = Sequential()\n",
    "    model.add(LSTM(units=hp.Int('units', min_value=32, max_value=128, step=32), \n",
    "                   return_sequences=True, input_shape=(X_train.shape[1], 1)))\n",
    "    model.add(LSTM(units=hp.Int('units', min_value=32, max_value=128, step=32)))\n",
    "    model.add(Dense(units=1))\n",
    "    model.compile(optimizer='adam', loss='mean_squared_error')\n",
    "    return model\n",
    "\n",
    "# 定義 EarlyStopping\n",
    "early_stopping = EarlyStopping(monitor='val_loss', patience=15, verbose=0)\n",
    "\n",
    "# 定義交叉驗證\n",
    "kf = KFold(n_splits=5)\n",
    "\n",
    "# 定義 Hyperband 調節器\n",
    "tuner = Hyperband(build_model,\n",
    "                  objective='val_loss',\n",
    "                  max_epochs=100,\n",
    "                  factor=3)\n",
    "\n",
    "# 開始搜索最佳超參數\n",
    "for train_index, val_index in kf.split(X_train):\n",
    "    X_train_fold, X_val_fold = X_train[train_index], X_train[val_index]\n",
    "    y_train_fold, y_val_fold = y_train[train_index], y_train[val_index]    \n",
    "    tuner.search(X_train_fold, y_train_fold, epochs=10, validation_data=(X_val_fold, y_val_fold), callbacks=[early_stopping])\n",
    "\n",
    "# 獲取最佳模型和最佳超參數\n",
    "best_model = tuner.get_best_models(num_models=1)[0]\n",
    "best_hyperparameters = tuner.get_best_hyperparameters(num_trials=1)[0]\n",
    "\n",
    "# 使用最佳模型預測\n",
    "train_predictions = best_model.predict(X_train)\n",
    "test_predictions = best_model.predict(X_test)\n",
    "\n",
    "# 計算訓練集和測試集的 MAE\n",
    "train_mae = mean_absolute_error(y_train, train_predictions)\n",
    "test_mae = mean_absolute_error(y_test, test_predictions)\n",
    "\n",
    "print(\"訓練集的 MAE:\", train_mae)\n",
    "print(\"測試集的 MAE:\", test_mae)"
   ]
  }
 ],
 "metadata": {
  "kernelspec": {
   "display_name": "Python 3",
   "language": "python",
   "name": "python3"
  },
  "language_info": {
   "codemirror_mode": {
    "name": "ipython",
    "version": 3
   },
   "file_extension": ".py",
   "mimetype": "text/x-python",
   "name": "python",
   "nbconvert_exporter": "python",
   "pygments_lexer": "ipython3",
   "version": "3.10.9"
  }
 },
 "nbformat": 4,
 "nbformat_minor": 2
}
