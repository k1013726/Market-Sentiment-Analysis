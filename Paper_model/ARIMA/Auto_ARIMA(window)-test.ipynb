{
 "cells": [
  {
   "cell_type": "code",
   "execution_count": 1,
   "metadata": {},
   "outputs": [],
   "source": [
    "from pmdarima import auto_arima\n",
    "from sklearn.metrics import mean_squared_error,mean_absolute_error\n",
    "from sklearn.model_selection import train_test_split\n",
    "import pandas as pd\n",
    "import numpy as np\n",
    "from sklearn.model_selection import TimeSeriesSplit\n",
    "from sklearn.preprocessing import MinMaxScaler, StandardScaler"
   ]
  },
  {
   "cell_type": "code",
   "execution_count": 2,
   "metadata": {},
   "outputs": [],
   "source": [
    "# 創建時間窗口的訓練集數據\n",
    "def create_dataset(closing_prices, time_window):\n",
    "    features,targets = [],[]\n",
    "    for i in range(len(closing_prices) - time_window):\n",
    "        features.append(closing_prices.iloc[i:i+time_window])\n",
    "        targets.append(closing_prices.iloc[i+time_window])   \n",
    "    return np.array(features),np.array(targets)"
   ]
  },
  {
   "cell_type": "code",
   "execution_count": 5,
   "metadata": {},
   "outputs": [],
   "source": [
    "# dataset = pd.read_csv(f'../Data/BTCUSD-all.csv')\n",
    "# # dataset= np.log(dataset[\"Close\"])\n",
    "# train_data, test_data = train_test_split(dataset[\"Close\"], test_size=7, shuffle=False)\n",
    "\n",
    "# # Take the logarithm\n",
    "# # train_data = np.log(train_data)\n",
    "# # test_data= np.log(test_data)\n",
    "\n",
    "# # Calculate mean and standard deviation\n",
    "# mean = np.mean(train_data)\n",
    "# std = np.std(train_data)*3\n",
    "\n",
    "# # Z-score normalization\n",
    "# standardized_train = (train_data - mean) / std\n",
    "# standardized_test=(test_data- mean)/ std\n",
    "# print(train_data.shape,test_data.shape)"
   ]
  },
  {
   "cell_type": "code",
   "execution_count": 15,
   "metadata": {},
   "outputs": [
    {
     "name": "stdout",
     "output_type": "stream",
     "text": [
      "最佳模型參數:ARIMA (0, 1, 0)\n",
      "MAE train:322.4943 test:10901.0974\n",
      "RMSE train:767.7009 test:12242.3494\n"
     ]
    }
   ],
   "source": [
    "data = pd.read_csv(f'../Data/BTCUSD-all.csv') \n",
    "train_data, test_data = train_test_split(data['Close'], test_size=0.2, shuffle=False)\n",
    "\n",
    "lb=12\n",
    "trainX, trainY = create_dataset(train_data, lb)\n",
    "testX, testY = create_dataset(test_data, lb)\n",
    "tscv = TimeSeriesSplit(n_splits=5)\n",
    "best_model = None\n",
    "best_rmse = np.inf\n",
    "\n",
    "# for train_index, val_index in tscv.split(trainY):\n",
    "#     train_val_data, val_data = trainY[train_index], trainY[val_index]    \n",
    "#     model = auto_arima(train_val_data,exogenous=trainX[train_index],max_p=20,max_q=20,seasonal=False)   \n",
    "#     forecast = model.predict(len(val_data))\n",
    "#     rmse = np.sqrt(mean_squared_error(val_data, forecast))\n",
    "#     if rmse < best_rmse:\n",
    "#         best_rmse = rmse\n",
    "#         best_model = model\n",
    "# best_model.fit(trainY)\n",
    "\n",
    "best_model = auto_arima(trainY,exogenous=trainX,max_p=20,max_q=20,seasonal=False)\n",
    "best_model.fit(trainY)\n",
    "best_model_params = best_model.get_params()['order']\n",
    "print(\"最佳模型參數:ARIMA\", best_model_params)\n",
    "\n",
    "\n",
    "# forecast\n",
    "test_forecast = best_model.predict(n_periods=len(testY))\n",
    "\n",
    "\n",
    "test_data_mae=mean_absolute_error(testY,test_forecast)\n",
    "test_data_rmse=mean_squared_error(testY,test_forecast)**0.5        \n",
    "      \n",
    "\n",
    "# predict train\n",
    "train_forecast = best_model.predict_in_sample()    \n",
    "\n",
    "train_data_mae=mean_absolute_error(trainY,train_forecast)\n",
    "train_data_rmse=mean_squared_error(trainY,train_forecast)**0.5\n",
    "\n",
    "\n",
    "print(f'MAE train:{train_data_mae:.4f} test:{test_data_mae:.4f}')   \n",
    "print(f'RMSE train:{train_data_rmse:.4f} test:{test_data_rmse:.4f}')         \n",
    "        \n",
    "        "
   ]
  }
 ],
 "metadata": {
  "kernelspec": {
   "display_name": "Python 3",
   "language": "python",
   "name": "python3"
  },
  "language_info": {
   "codemirror_mode": {
    "name": "ipython",
    "version": 3
   },
   "file_extension": ".py",
   "mimetype": "text/x-python",
   "name": "python",
   "nbconvert_exporter": "python",
   "pygments_lexer": "ipython3",
   "version": "3.10.9"
  }
 },
 "nbformat": 4,
 "nbformat_minor": 2
}
