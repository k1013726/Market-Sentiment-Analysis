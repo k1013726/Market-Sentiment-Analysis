{
 "cells": [
  {
   "cell_type": "code",
   "execution_count": 28,
   "metadata": {},
   "outputs": [],
   "source": [
    "# SARIMA example\n",
    "from sklearn.metrics import mean_squared_error,mean_absolute_error,mean_absolute_percentage_error\n",
    "from sklearn.model_selection import train_test_split\n",
    "import pandas as pd\n",
    "from sklearn.preprocessing import MinMaxScaler, StandardScaler\n",
    "\n",
    "from statsmodels.graphics.tsaplots import plot_acf, plot_pacf\n",
    "from statsmodels.stats.diagnostic import acorr_ljungbox\n",
    "from statsmodels.tsa.statespace.sarimax import SARIMAX\n",
    "from statsmodels.tsa.arima_process import ArmaProcess\n",
    "from statsmodels.graphics.gofplots import qqplot\n",
    "from statsmodels.tsa.stattools import adfuller\n",
    "from tqdm import tqdm_notebook\n",
    "from itertools import product\n",
    "from typing import Union\n",
    "\n",
    "import matplotlib.pyplot as plt\n",
    "import numpy as np\n",
    "import pandas as pd\n",
    "import datetime\n",
    "\n",
    "import warnings\n",
    "warnings.filterwarnings('ignore')\n",
    "\n",
    "%matplotlib inline"
   ]
  },
  {
   "cell_type": "code",
   "execution_count": 29,
   "metadata": {},
   "outputs": [],
   "source": [
    "def optimize_ARIMA(endog: Union[pd.Series, list], order_list: list, d: int) -> pd.DataFrame:\n",
    "    results = []\n",
    "    \n",
    "    for order in tqdm_notebook(order_list):\n",
    "        try: \n",
    "            model = SARIMAX(endog, order=(order[0], d, order[1]), simple_differencing=False).fit(disp=False)\n",
    "        except:\n",
    "            continue\n",
    "            \n",
    "        aic = model.aic\n",
    "        results.append([order, aic])\n",
    "        \n",
    "    result_df = pd.DataFrame(results)\n",
    "    result_df.columns = ['(p,q)', 'AIC']\n",
    "    \n",
    "    #Sort in ascending order, lower AIC is better\n",
    "    result_df = result_df.sort_values(by='AIC', ascending=True).reset_index(drop=True)\n",
    "    \n",
    "    return result_df"
   ]
  },
  {
   "cell_type": "code",
   "execution_count": 30,
   "metadata": {},
   "outputs": [],
   "source": [
    "def ARIMA_model(file,splits,I):  \n",
    "    # data\n",
    "    path =f'../Data/{file}.csv'\n",
    "    dataset = pd.read_csv(path)\n",
    "    dataset=dataset['Close']\n",
    "\n",
    "    print(f'{file} {splits}')\n",
    "\n",
    "    # Split dataset\n",
    "    train_data, test_data = train_test_split(dataset, train_size=splits, shuffle=False)\n",
    "\n",
    "\n",
    "\n",
    "\n",
    "    #find AR(p),MA(q)\n",
    "    ps = range(0, 13, 1)\n",
    "    qs = range(0, 13, 1)\n",
    "    d = I\n",
    "\n",
    "    order_list = list(product(ps, qs))\n",
    "\n",
    "    result_df = optimize_ARIMA(train_data, order_list, d)\n",
    "    p=result_df['(p,q)'][0][0]\n",
    "    q=result_df['(p,q)'][0][1]\n",
    "\n",
    "    print(f'ARIMA({p},{d},{q})')\n",
    "\n",
    "\n",
    "    # Take the logarithm\n",
    "    train_data = np.log(train_data)\n",
    "    test_data= np.log(test_data)\n",
    "\n",
    "    # Calculate mean and standard deviation\n",
    "    mean = np.mean(train_data)\n",
    "    std = np.std(train_data)*3\n",
    "\n",
    "    # # Z-score normalization\n",
    "    standardized_train = (train_data - mean) / std\n",
    "\n",
    "\n",
    "\n",
    "    model = SARIMAX(standardized_train, order=(p, d, q), seasonal_order=(0, 0, 0,0))\n",
    "    model_fit = model.fit(disp=True)\n",
    "\n",
    "    # # make prediction\n",
    "    test_predict = model_fit.predict(start=len(train_data), end=(len(train_data)+test_data.shape[0]-1))\n",
    "    train_predict = model_fit.predict(start=0, end=(train_data.shape[0]-1))\n",
    "        \n",
    "\n",
    "    original_predict_train = np.exp(train_predict*std+mean)\n",
    "    original_predict_test = np.exp(test_predict*std+mean)\n",
    "\n",
    "    original_train = np.exp(train_data)\n",
    "    original_test = np.exp(test_data)\n",
    "\n",
    "    train_mae=mean_absolute_error(original_predict_train,original_train)\n",
    "    train_rmse=mean_squared_error(original_predict_train,original_train)**0.5\n",
    "    test_mae=mean_absolute_error(original_predict_test,original_test)\n",
    "    test_rmse=mean_squared_error(original_predict_test,original_test)**0.5\n",
    "\n",
    "\n",
    "    print(f'{file} -- ARIMA({p},{d},{q}) is done')\n",
    "    return p,q,train_mae,train_rmse,test_mae,test_rmse"
   ]
  },
  {
   "cell_type": "code",
   "execution_count": 31,
   "metadata": {},
   "outputs": [],
   "source": [
    "# load dataset\n",
    "# file_list=['BTCUSD-all','BTCUSD-N2Y','BTCUSD-N4Y',\n",
    "#            'ETHUSD-all','ETHUSD-N2Y','ETHUSD-N4Y',           \n",
    "#            'USDTUSD-all','USDTUSD-N2Y','USDTUSD-N4Y',  \n",
    "#            'BNBUSD-all','BNBUSD-N2Y','BNBUSD-N4Y'        \n",
    "#            ]\n",
    "\n",
    "# file_list=['BTCUSD-all']\n",
    "file_list=['BTCUSD-1m1h','ETHUSD-1m1h','USDTUSD-1m1h','BNBUSD-1m1h']\n",
    "\n",
    "spilt_list=[0.7]\n",
    "I_list=[0,1,2]\n",
    "\n",
    "files_list=list()\n",
    "spilts_list=list()\n",
    "Classifiers_list=list()\n",
    "\n",
    "\n",
    "train_mae=list()\n",
    "train_rmse=list()\n",
    "test_mae=list()\n",
    "test_rmse=list()\n"
   ]
  },
  {
   "cell_type": "code",
   "execution_count": 32,
   "metadata": {},
   "outputs": [
    {
     "name": "stdout",
     "output_type": "stream",
     "text": [
      "BTCUSD-1m1h 0.7\n"
     ]
    },
    {
     "data": {
      "application/vnd.jupyter.widget-view+json": {
       "model_id": "fc686187481d493c9006df9feee7c222",
       "version_major": 2,
       "version_minor": 0
      },
      "text/plain": [
       "  0%|          | 0/169 [00:00<?, ?it/s]"
      ]
     },
     "metadata": {},
     "output_type": "display_data"
    },
    {
     "name": "stdout",
     "output_type": "stream",
     "text": [
      "ARIMA(6,0,3)\n",
      "BTCUSD-1m1h -- ARIMA(6,0,3) is done\n",
      "BTCUSD-1m1h 0.7\n"
     ]
    },
    {
     "data": {
      "application/vnd.jupyter.widget-view+json": {
       "model_id": "0ed96cad3c464c7a8bc2575f9eaa8e98",
       "version_major": 2,
       "version_minor": 0
      },
      "text/plain": [
       "  0%|          | 0/169 [00:00<?, ?it/s]"
      ]
     },
     "metadata": {},
     "output_type": "display_data"
    },
    {
     "name": "stdout",
     "output_type": "stream",
     "text": [
      "ARIMA(2,1,6)\n",
      "BTCUSD-1m1h -- ARIMA(2,1,6) is done\n",
      "BTCUSD-1m1h 0.7\n"
     ]
    },
    {
     "data": {
      "application/vnd.jupyter.widget-view+json": {
       "model_id": "4899fb6146d747b0bcaa2f91553ea640",
       "version_major": 2,
       "version_minor": 0
      },
      "text/plain": [
       "  0%|          | 0/169 [00:00<?, ?it/s]"
      ]
     },
     "metadata": {},
     "output_type": "display_data"
    },
    {
     "name": "stdout",
     "output_type": "stream",
     "text": [
      "ARIMA(2,2,7)\n",
      "BTCUSD-1m1h -- ARIMA(2,2,7) is done\n",
      "ETHUSD-1m1h 0.7\n"
     ]
    },
    {
     "data": {
      "application/vnd.jupyter.widget-view+json": {
       "model_id": "cbf64f0c29a84b7380d3c5812c01c4a1",
       "version_major": 2,
       "version_minor": 0
      },
      "text/plain": [
       "  0%|          | 0/169 [00:00<?, ?it/s]"
      ]
     },
     "metadata": {},
     "output_type": "display_data"
    },
    {
     "name": "stdout",
     "output_type": "stream",
     "text": [
      "ARIMA(12,0,12)\n",
      "ETHUSD-1m1h -- ARIMA(12,0,12) is done\n",
      "ETHUSD-1m1h 0.7\n"
     ]
    },
    {
     "data": {
      "application/vnd.jupyter.widget-view+json": {
       "model_id": "a403482a07d34c9b9beea67b665c5945",
       "version_major": 2,
       "version_minor": 0
      },
      "text/plain": [
       "  0%|          | 0/169 [00:00<?, ?it/s]"
      ]
     },
     "metadata": {},
     "output_type": "display_data"
    },
    {
     "name": "stdout",
     "output_type": "stream",
     "text": [
      "ARIMA(4,1,4)\n",
      "ETHUSD-1m1h -- ARIMA(4,1,4) is done\n",
      "ETHUSD-1m1h 0.7\n"
     ]
    },
    {
     "data": {
      "application/vnd.jupyter.widget-view+json": {
       "model_id": "7d39ce4850c744269ce2744f549471d5",
       "version_major": 2,
       "version_minor": 0
      },
      "text/plain": [
       "  0%|          | 0/169 [00:00<?, ?it/s]"
      ]
     },
     "metadata": {},
     "output_type": "display_data"
    },
    {
     "name": "stdout",
     "output_type": "stream",
     "text": [
      "ARIMA(5,2,6)\n",
      "ETHUSD-1m1h -- ARIMA(5,2,6) is done\n",
      "USDTUSD-1m1h 0.7\n"
     ]
    },
    {
     "data": {
      "application/vnd.jupyter.widget-view+json": {
       "model_id": "15c5cb62a89a444e97964d237fd04e35",
       "version_major": 2,
       "version_minor": 0
      },
      "text/plain": [
       "  0%|          | 0/169 [00:00<?, ?it/s]"
      ]
     },
     "metadata": {},
     "output_type": "display_data"
    },
    {
     "name": "stdout",
     "output_type": "stream",
     "text": [
      "ARIMA(2,0,4)\n",
      "USDTUSD-1m1h -- ARIMA(2,0,4) is done\n",
      "USDTUSD-1m1h 0.7\n"
     ]
    },
    {
     "data": {
      "application/vnd.jupyter.widget-view+json": {
       "model_id": "061d51ec4ceb4a08870ed33b52240972",
       "version_major": 2,
       "version_minor": 0
      },
      "text/plain": [
       "  0%|          | 0/169 [00:00<?, ?it/s]"
      ]
     },
     "metadata": {},
     "output_type": "display_data"
    },
    {
     "name": "stdout",
     "output_type": "stream",
     "text": [
      "ARIMA(1,1,1)\n",
      "USDTUSD-1m1h -- ARIMA(1,1,1) is done\n",
      "USDTUSD-1m1h 0.7\n"
     ]
    },
    {
     "data": {
      "application/vnd.jupyter.widget-view+json": {
       "model_id": "aa57f5d1bbe04775abfd6546c81d0ff3",
       "version_major": 2,
       "version_minor": 0
      },
      "text/plain": [
       "  0%|          | 0/169 [00:00<?, ?it/s]"
      ]
     },
     "metadata": {},
     "output_type": "display_data"
    },
    {
     "name": "stdout",
     "output_type": "stream",
     "text": [
      "ARIMA(3,2,11)\n",
      "USDTUSD-1m1h -- ARIMA(3,2,11) is done\n",
      "BNBUSD-1m1h 0.7\n"
     ]
    },
    {
     "data": {
      "application/vnd.jupyter.widget-view+json": {
       "model_id": "6d07b3fa587348b1b308cab0d615e0e1",
       "version_major": 2,
       "version_minor": 0
      },
      "text/plain": [
       "  0%|          | 0/169 [00:00<?, ?it/s]"
      ]
     },
     "metadata": {},
     "output_type": "display_data"
    },
    {
     "name": "stdout",
     "output_type": "stream",
     "text": [
      "ARIMA(8,0,6)\n",
      "BNBUSD-1m1h -- ARIMA(8,0,6) is done\n",
      "BNBUSD-1m1h 0.7\n"
     ]
    },
    {
     "data": {
      "application/vnd.jupyter.widget-view+json": {
       "model_id": "ba5fba049caf4bbf870898524d3b3a69",
       "version_major": 2,
       "version_minor": 0
      },
      "text/plain": [
       "  0%|          | 0/169 [00:00<?, ?it/s]"
      ]
     },
     "metadata": {},
     "output_type": "display_data"
    },
    {
     "name": "stdout",
     "output_type": "stream",
     "text": [
      "ARIMA(4,1,9)\n",
      "BNBUSD-1m1h -- ARIMA(4,1,9) is done\n",
      "BNBUSD-1m1h 0.7\n"
     ]
    },
    {
     "data": {
      "application/vnd.jupyter.widget-view+json": {
       "model_id": "64ceb37140a449959b16e4aa8c230e55",
       "version_major": 2,
       "version_minor": 0
      },
      "text/plain": [
       "  0%|          | 0/169 [00:00<?, ?it/s]"
      ]
     },
     "metadata": {},
     "output_type": "display_data"
    },
    {
     "name": "stdout",
     "output_type": "stream",
     "text": [
      "ARIMA(4,2,10)\n",
      "BNBUSD-1m1h -- ARIMA(4,2,10) is done\n"
     ]
    }
   ],
   "source": [
    "for file in file_list:\n",
    "    for spilts in spilt_list:  \n",
    "        for I in I_list:\n",
    "            result=ARIMA_model(file,spilts,I)\n",
    "            files_list.append(file)\n",
    "            spilts_list.append(spilts)\n",
    "            Classifiers_list.append(f'ARIMA({result[0]},{I},{result[1]})')\n",
    "        \n",
    "            \n",
    "            train_mae.append(result[2])\n",
    "            train_rmse.append(result[3])\n",
    "            test_mae.append(result[4])\n",
    "            test_rmse.append(result[5])\n",
    "                \n"
   ]
  },
  {
   "cell_type": "code",
   "execution_count": 33,
   "metadata": {},
   "outputs": [
    {
     "data": {
      "text/html": [
       "<div>\n",
       "<style scoped>\n",
       "    .dataframe tbody tr th:only-of-type {\n",
       "        vertical-align: middle;\n",
       "    }\n",
       "\n",
       "    .dataframe tbody tr th {\n",
       "        vertical-align: top;\n",
       "    }\n",
       "\n",
       "    .dataframe thead th {\n",
       "        text-align: right;\n",
       "    }\n",
       "</style>\n",
       "<table border=\"1\" class=\"dataframe\">\n",
       "  <thead>\n",
       "    <tr style=\"text-align: right;\">\n",
       "      <th></th>\n",
       "      <th>Data</th>\n",
       "      <th>Classifier</th>\n",
       "      <th>Test Split</th>\n",
       "      <th>train_mae</th>\n",
       "      <th>train_rmse</th>\n",
       "      <th>test_mae</th>\n",
       "      <th>test_rmse</th>\n",
       "    </tr>\n",
       "  </thead>\n",
       "  <tbody>\n",
       "    <tr>\n",
       "      <th>0</th>\n",
       "      <td>BTCUSD-1m1h</td>\n",
       "      <td>ARIMA(6,0,3)</td>\n",
       "      <td>0.7</td>\n",
       "      <td>108.099440</td>\n",
       "      <td>174.190517</td>\n",
       "      <td>1131.066807</td>\n",
       "      <td>1217.853435</td>\n",
       "    </tr>\n",
       "    <tr>\n",
       "      <th>1</th>\n",
       "      <td>BTCUSD-1m1h</td>\n",
       "      <td>ARIMA(2,1,6)</td>\n",
       "      <td>0.7</td>\n",
       "      <td>109.189421</td>\n",
       "      <td>173.145870</td>\n",
       "      <td>1045.609370</td>\n",
       "      <td>1126.992361</td>\n",
       "    </tr>\n",
       "    <tr>\n",
       "      <th>2</th>\n",
       "      <td>BTCUSD-1m1h</td>\n",
       "      <td>ARIMA(2,2,7)</td>\n",
       "      <td>0.7</td>\n",
       "      <td>111.058240</td>\n",
       "      <td>176.620329</td>\n",
       "      <td>933.972617</td>\n",
       "      <td>1012.461506</td>\n",
       "    </tr>\n",
       "    <tr>\n",
       "      <th>3</th>\n",
       "      <td>ETHUSD-1m1h</td>\n",
       "      <td>ARIMA(12,0,12)</td>\n",
       "      <td>0.7</td>\n",
       "      <td>7.617605</td>\n",
       "      <td>12.049271</td>\n",
       "      <td>107.624522</td>\n",
       "      <td>111.915636</td>\n",
       "    </tr>\n",
       "    <tr>\n",
       "      <th>4</th>\n",
       "      <td>ETHUSD-1m1h</td>\n",
       "      <td>ARIMA(4,1,4)</td>\n",
       "      <td>0.7</td>\n",
       "      <td>7.603434</td>\n",
       "      <td>12.194404</td>\n",
       "      <td>109.203743</td>\n",
       "      <td>113.257896</td>\n",
       "    </tr>\n",
       "    <tr>\n",
       "      <th>5</th>\n",
       "      <td>ETHUSD-1m1h</td>\n",
       "      <td>ARIMA(5,2,6)</td>\n",
       "      <td>0.7</td>\n",
       "      <td>7.818152</td>\n",
       "      <td>12.498510</td>\n",
       "      <td>91.062606</td>\n",
       "      <td>97.035341</td>\n",
       "    </tr>\n",
       "    <tr>\n",
       "      <th>6</th>\n",
       "      <td>USDTUSD-1m1h</td>\n",
       "      <td>ARIMA(2,0,4)</td>\n",
       "      <td>0.7</td>\n",
       "      <td>0.000098</td>\n",
       "      <td>0.000129</td>\n",
       "      <td>0.000202</td>\n",
       "      <td>0.000240</td>\n",
       "    </tr>\n",
       "    <tr>\n",
       "      <th>7</th>\n",
       "      <td>USDTUSD-1m1h</td>\n",
       "      <td>ARIMA(1,1,1)</td>\n",
       "      <td>0.7</td>\n",
       "      <td>0.000099</td>\n",
       "      <td>0.000131</td>\n",
       "      <td>0.000158</td>\n",
       "      <td>0.000187</td>\n",
       "    </tr>\n",
       "    <tr>\n",
       "      <th>8</th>\n",
       "      <td>USDTUSD-1m1h</td>\n",
       "      <td>ARIMA(3,2,11)</td>\n",
       "      <td>0.7</td>\n",
       "      <td>0.000100</td>\n",
       "      <td>0.000131</td>\n",
       "      <td>0.000145</td>\n",
       "      <td>0.000176</td>\n",
       "    </tr>\n",
       "    <tr>\n",
       "      <th>9</th>\n",
       "      <td>BNBUSD-1m1h</td>\n",
       "      <td>ARIMA(8,0,6)</td>\n",
       "      <td>0.7</td>\n",
       "      <td>1.123064</td>\n",
       "      <td>1.975178</td>\n",
       "      <td>8.717533</td>\n",
       "      <td>10.286385</td>\n",
       "    </tr>\n",
       "    <tr>\n",
       "      <th>10</th>\n",
       "      <td>BNBUSD-1m1h</td>\n",
       "      <td>ARIMA(4,1,9)</td>\n",
       "      <td>0.7</td>\n",
       "      <td>1.135795</td>\n",
       "      <td>1.981810</td>\n",
       "      <td>5.653401</td>\n",
       "      <td>6.522191</td>\n",
       "    </tr>\n",
       "    <tr>\n",
       "      <th>11</th>\n",
       "      <td>BNBUSD-1m1h</td>\n",
       "      <td>ARIMA(4,2,10)</td>\n",
       "      <td>0.7</td>\n",
       "      <td>1.151411</td>\n",
       "      <td>2.020450</td>\n",
       "      <td>36.908636</td>\n",
       "      <td>39.870616</td>\n",
       "    </tr>\n",
       "  </tbody>\n",
       "</table>\n",
       "</div>"
      ],
      "text/plain": [
       "            Data      Classifier  Test Split   train_mae  train_rmse  \\\n",
       "0    BTCUSD-1m1h    ARIMA(6,0,3)         0.7  108.099440  174.190517   \n",
       "1    BTCUSD-1m1h    ARIMA(2,1,6)         0.7  109.189421  173.145870   \n",
       "2    BTCUSD-1m1h    ARIMA(2,2,7)         0.7  111.058240  176.620329   \n",
       "3    ETHUSD-1m1h  ARIMA(12,0,12)         0.7    7.617605   12.049271   \n",
       "4    ETHUSD-1m1h    ARIMA(4,1,4)         0.7    7.603434   12.194404   \n",
       "5    ETHUSD-1m1h    ARIMA(5,2,6)         0.7    7.818152   12.498510   \n",
       "6   USDTUSD-1m1h    ARIMA(2,0,4)         0.7    0.000098    0.000129   \n",
       "7   USDTUSD-1m1h    ARIMA(1,1,1)         0.7    0.000099    0.000131   \n",
       "8   USDTUSD-1m1h   ARIMA(3,2,11)         0.7    0.000100    0.000131   \n",
       "9    BNBUSD-1m1h    ARIMA(8,0,6)         0.7    1.123064    1.975178   \n",
       "10   BNBUSD-1m1h    ARIMA(4,1,9)         0.7    1.135795    1.981810   \n",
       "11   BNBUSD-1m1h   ARIMA(4,2,10)         0.7    1.151411    2.020450   \n",
       "\n",
       "       test_mae    test_rmse  \n",
       "0   1131.066807  1217.853435  \n",
       "1   1045.609370  1126.992361  \n",
       "2    933.972617  1012.461506  \n",
       "3    107.624522   111.915636  \n",
       "4    109.203743   113.257896  \n",
       "5     91.062606    97.035341  \n",
       "6      0.000202     0.000240  \n",
       "7      0.000158     0.000187  \n",
       "8      0.000145     0.000176  \n",
       "9      8.717533    10.286385  \n",
       "10     5.653401     6.522191  \n",
       "11    36.908636    39.870616  "
      ]
     },
     "execution_count": 33,
     "metadata": {},
     "output_type": "execute_result"
    }
   ],
   "source": [
    "Summary={'Data':files_list,'Classifier':Classifiers_list,'Test Split':spilts_list,\n",
    "            'train_mae':train_mae,          \n",
    "            'train_rmse':train_rmse,          \n",
    "            'test_mae':test_mae,           \n",
    "            'test_rmse':test_rmse            \n",
    "         }\n",
    "\n",
    "df_Summary = pd.DataFrame(Summary)\n",
    "df_Summary"
   ]
  },
  {
   "cell_type": "code",
   "execution_count": 34,
   "metadata": {},
   "outputs": [
    {
     "data": {
      "text/html": [
       "<div>\n",
       "<style scoped>\n",
       "    .dataframe tbody tr th:only-of-type {\n",
       "        vertical-align: middle;\n",
       "    }\n",
       "\n",
       "    .dataframe tbody tr th {\n",
       "        vertical-align: top;\n",
       "    }\n",
       "\n",
       "    .dataframe thead th {\n",
       "        text-align: right;\n",
       "    }\n",
       "</style>\n",
       "<table border=\"1\" class=\"dataframe\">\n",
       "  <thead>\n",
       "    <tr style=\"text-align: right;\">\n",
       "      <th></th>\n",
       "      <th>Data</th>\n",
       "      <th>Classifier</th>\n",
       "      <th>Test Split</th>\n",
       "      <th>train_mae</th>\n",
       "      <th>train_rmse</th>\n",
       "      <th>test_mae</th>\n",
       "      <th>test_rmse</th>\n",
       "    </tr>\n",
       "  </thead>\n",
       "  <tbody>\n",
       "    <tr>\n",
       "      <th>0</th>\n",
       "      <td>BTCUSD-1m1h</td>\n",
       "      <td>ARIMA(6,0,3)</td>\n",
       "      <td>0.7</td>\n",
       "      <td>108.099440</td>\n",
       "      <td>174.190517</td>\n",
       "      <td>1131.066807</td>\n",
       "      <td>1217.853435</td>\n",
       "    </tr>\n",
       "    <tr>\n",
       "      <th>1</th>\n",
       "      <td>BTCUSD-1m1h</td>\n",
       "      <td>ARIMA(2,1,6)</td>\n",
       "      <td>0.7</td>\n",
       "      <td>109.189421</td>\n",
       "      <td>173.145870</td>\n",
       "      <td>1045.609370</td>\n",
       "      <td>1126.992361</td>\n",
       "    </tr>\n",
       "    <tr>\n",
       "      <th>2</th>\n",
       "      <td>BTCUSD-1m1h</td>\n",
       "      <td>ARIMA(2,2,7)</td>\n",
       "      <td>0.7</td>\n",
       "      <td>111.058240</td>\n",
       "      <td>176.620329</td>\n",
       "      <td>933.972617</td>\n",
       "      <td>1012.461506</td>\n",
       "    </tr>\n",
       "    <tr>\n",
       "      <th>3</th>\n",
       "      <td>ETHUSD-1m1h</td>\n",
       "      <td>ARIMA(12,0,12)</td>\n",
       "      <td>0.7</td>\n",
       "      <td>7.617605</td>\n",
       "      <td>12.049271</td>\n",
       "      <td>107.624522</td>\n",
       "      <td>111.915636</td>\n",
       "    </tr>\n",
       "    <tr>\n",
       "      <th>4</th>\n",
       "      <td>ETHUSD-1m1h</td>\n",
       "      <td>ARIMA(4,1,4)</td>\n",
       "      <td>0.7</td>\n",
       "      <td>7.603434</td>\n",
       "      <td>12.194404</td>\n",
       "      <td>109.203743</td>\n",
       "      <td>113.257896</td>\n",
       "    </tr>\n",
       "    <tr>\n",
       "      <th>5</th>\n",
       "      <td>ETHUSD-1m1h</td>\n",
       "      <td>ARIMA(5,2,6)</td>\n",
       "      <td>0.7</td>\n",
       "      <td>7.818152</td>\n",
       "      <td>12.498510</td>\n",
       "      <td>91.062606</td>\n",
       "      <td>97.035341</td>\n",
       "    </tr>\n",
       "    <tr>\n",
       "      <th>6</th>\n",
       "      <td>USDTUSD-1m1h</td>\n",
       "      <td>ARIMA(2,0,4)</td>\n",
       "      <td>0.7</td>\n",
       "      <td>0.000098</td>\n",
       "      <td>0.000129</td>\n",
       "      <td>0.000202</td>\n",
       "      <td>0.000240</td>\n",
       "    </tr>\n",
       "    <tr>\n",
       "      <th>7</th>\n",
       "      <td>USDTUSD-1m1h</td>\n",
       "      <td>ARIMA(1,1,1)</td>\n",
       "      <td>0.7</td>\n",
       "      <td>0.000099</td>\n",
       "      <td>0.000131</td>\n",
       "      <td>0.000158</td>\n",
       "      <td>0.000187</td>\n",
       "    </tr>\n",
       "    <tr>\n",
       "      <th>8</th>\n",
       "      <td>USDTUSD-1m1h</td>\n",
       "      <td>ARIMA(3,2,11)</td>\n",
       "      <td>0.7</td>\n",
       "      <td>0.000100</td>\n",
       "      <td>0.000131</td>\n",
       "      <td>0.000145</td>\n",
       "      <td>0.000176</td>\n",
       "    </tr>\n",
       "    <tr>\n",
       "      <th>9</th>\n",
       "      <td>BNBUSD-1m1h</td>\n",
       "      <td>ARIMA(8,0,6)</td>\n",
       "      <td>0.7</td>\n",
       "      <td>1.123064</td>\n",
       "      <td>1.975178</td>\n",
       "      <td>8.717533</td>\n",
       "      <td>10.286385</td>\n",
       "    </tr>\n",
       "    <tr>\n",
       "      <th>10</th>\n",
       "      <td>BNBUSD-1m1h</td>\n",
       "      <td>ARIMA(4,1,9)</td>\n",
       "      <td>0.7</td>\n",
       "      <td>1.135795</td>\n",
       "      <td>1.981810</td>\n",
       "      <td>5.653401</td>\n",
       "      <td>6.522191</td>\n",
       "    </tr>\n",
       "    <tr>\n",
       "      <th>11</th>\n",
       "      <td>BNBUSD-1m1h</td>\n",
       "      <td>ARIMA(4,2,10)</td>\n",
       "      <td>0.7</td>\n",
       "      <td>1.151411</td>\n",
       "      <td>2.020450</td>\n",
       "      <td>36.908636</td>\n",
       "      <td>39.870616</td>\n",
       "    </tr>\n",
       "  </tbody>\n",
       "</table>\n",
       "</div>"
      ],
      "text/plain": [
       "            Data      Classifier  Test Split   train_mae  train_rmse  \\\n",
       "0    BTCUSD-1m1h    ARIMA(6,0,3)         0.7  108.099440  174.190517   \n",
       "1    BTCUSD-1m1h    ARIMA(2,1,6)         0.7  109.189421  173.145870   \n",
       "2    BTCUSD-1m1h    ARIMA(2,2,7)         0.7  111.058240  176.620329   \n",
       "3    ETHUSD-1m1h  ARIMA(12,0,12)         0.7    7.617605   12.049271   \n",
       "4    ETHUSD-1m1h    ARIMA(4,1,4)         0.7    7.603434   12.194404   \n",
       "5    ETHUSD-1m1h    ARIMA(5,2,6)         0.7    7.818152   12.498510   \n",
       "6   USDTUSD-1m1h    ARIMA(2,0,4)         0.7    0.000098    0.000129   \n",
       "7   USDTUSD-1m1h    ARIMA(1,1,1)         0.7    0.000099    0.000131   \n",
       "8   USDTUSD-1m1h   ARIMA(3,2,11)         0.7    0.000100    0.000131   \n",
       "9    BNBUSD-1m1h    ARIMA(8,0,6)         0.7    1.123064    1.975178   \n",
       "10   BNBUSD-1m1h    ARIMA(4,1,9)         0.7    1.135795    1.981810   \n",
       "11   BNBUSD-1m1h   ARIMA(4,2,10)         0.7    1.151411    2.020450   \n",
       "\n",
       "       test_mae    test_rmse  \n",
       "0   1131.066807  1217.853435  \n",
       "1   1045.609370  1126.992361  \n",
       "2    933.972617  1012.461506  \n",
       "3    107.624522   111.915636  \n",
       "4    109.203743   113.257896  \n",
       "5     91.062606    97.035341  \n",
       "6      0.000202     0.000240  \n",
       "7      0.000158     0.000187  \n",
       "8      0.000145     0.000176  \n",
       "9      8.717533    10.286385  \n",
       "10     5.653401     6.522191  \n",
       "11    36.908636    39.870616  "
      ]
     },
     "execution_count": 34,
     "metadata": {},
     "output_type": "execute_result"
    }
   ],
   "source": [
    "df_Summary.to_excel(\"Summary-ARIMA(1m1h).xlsx\",index=False)  \n",
    "df_Summary"
   ]
  }
 ],
 "metadata": {
  "kernelspec": {
   "display_name": "Python 3",
   "language": "python",
   "name": "python3"
  },
  "language_info": {
   "codemirror_mode": {
    "name": "ipython",
    "version": 3
   },
   "file_extension": ".py",
   "mimetype": "text/x-python",
   "name": "python",
   "nbconvert_exporter": "python",
   "pygments_lexer": "ipython3",
   "version": "3.10.9"
  },
  "orig_nbformat": 4
 },
 "nbformat": 4,
 "nbformat_minor": 2
}
