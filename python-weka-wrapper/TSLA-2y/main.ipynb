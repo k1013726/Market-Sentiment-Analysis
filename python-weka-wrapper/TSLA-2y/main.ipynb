{
 "cells": [
  {
   "cell_type": "code",
   "execution_count": 2,
   "metadata": {},
   "outputs": [
    {
     "name": "stderr",
     "output_type": "stream",
     "text": [
      "DEBUG:weka.core.jvm:Adding bundled jars\n",
      "DEBUG:weka.core.jvm:Classpath=['C:\\\\Users\\\\nptu\\\\AppData\\\\Local\\\\Programs\\\\Python\\\\Python310\\\\Lib\\\\site-packages\\\\javabridge\\\\jars\\\\rhino-1.7R4.jar', 'C:\\\\Users\\\\nptu\\\\AppData\\\\Local\\\\Programs\\\\Python\\\\Python310\\\\Lib\\\\site-packages\\\\javabridge\\\\jars\\\\runnablequeue.jar', 'C:\\\\Users\\\\nptu\\\\AppData\\\\Local\\\\Programs\\\\Python\\\\Python310\\\\Lib\\\\site-packages\\\\javabridge\\\\jars\\\\cpython.jar', 'c:\\\\Users\\\\nptu\\\\AppData\\\\Local\\\\Programs\\\\Python\\\\Python310\\\\lib\\\\site-packages\\\\weka\\\\lib\\\\arpack_combined.jar', 'c:\\\\Users\\\\nptu\\\\AppData\\\\Local\\\\Programs\\\\Python\\\\Python310\\\\lib\\\\site-packages\\\\weka\\\\lib\\\\core.jar', 'c:\\\\Users\\\\nptu\\\\AppData\\\\Local\\\\Programs\\\\Python\\\\Python310\\\\lib\\\\site-packages\\\\weka\\\\lib\\\\mtj.jar', 'c:\\\\Users\\\\nptu\\\\AppData\\\\Local\\\\Programs\\\\Python\\\\Python310\\\\lib\\\\site-packages\\\\weka\\\\lib\\\\python-weka-wrapper.jar', 'c:\\\\Users\\\\nptu\\\\AppData\\\\Local\\\\Programs\\\\Python\\\\Python310\\\\lib\\\\site-packages\\\\weka\\\\lib\\\\weka.jar']\n",
      "DEBUG:weka.core.jvm:MaxHeapSize=default\n",
      "DEBUG:weka.core.jvm:Package support enabled\n"
     ]
    }
   ],
   "source": [
    "import weka.core.jvm as jvm\n",
    "import os\n",
    "import traceback\n",
    "import weka.core.jvm as jvm\n",
    "from weka.core.converters import Loader\n",
    "from weka.core.dataset import Instances\n",
    "from weka.timeseries import TSEvaluation, TSEvalModule, WekaForecaster,Periodicity\n",
    "from weka.classifiers import Classifier\n",
    "from weka.core.classes import serialization_write, serialization_read\n",
    "jvm.start(packages=True)"
   ]
  },
  {
   "cell_type": "code",
   "execution_count": 3,
   "metadata": {},
   "outputs": [],
   "source": [
    "# load a dataset\n",
    "from weka.core.converters import Loader\n",
    "loader = Loader(classname=\"weka.core.converters.ArffLoader\")\n",
    "airline_data = loader.load_file(\"data/TSLA-2y.arff\")\n",
    "# airline_data.class_is_last()"
   ]
  },
  {
   "cell_type": "code",
   "execution_count": 4,
   "metadata": {},
   "outputs": [
    {
     "name": "stdout",
     "output_type": "stream",
     "text": [
      "Evaluation modules\n",
      "Available modules\n",
      "-Error\n",
      "-MAE\n",
      "-MSE\n",
      "-RMSE\n",
      "-MAPE\n",
      "-DAC\n",
      "-RAE\n",
      "-RRSE\n",
      "Loading module by name\n",
      "MAE\n"
     ]
    }
   ],
   "source": [
    "# available evaluation modules\n",
    "print(\"Evaluation modules\")\n",
    "modules = TSEvalModule.module_list()\n",
    "print(\"Available modules\")\n",
    "for module in modules:\n",
    "    print(\"-\" + str(module))\n",
    "print(\"Loading module by name\")\n",
    "print(TSEvalModule.module(\"MAE\"))"
   ]
  },
  {
   "cell_type": "code",
   "execution_count": 5,
   "metadata": {},
   "outputs": [
    {
     "name": "stdout",
     "output_type": "stream",
     "text": [
      "Evaluate forecaster\n",
      "True\n",
      "forecast with overlays\n",
      "<bound method OverlayForecaster.forecast_with_overlays of Forecaster has not been built yet!>\n",
      "algorithm name: LinearRegression -S 0 -R 1.0E-8 -num-decimal-places 4\n",
      "command-line: weka.classifiers.timeseries.WekaForecaster -F \"Adj Close\" -O Open,High,Low,Volume,SMA_7,SMA_14,EMA_7,EMA_14,RSI,Stoch_RSI,Upper_BB,Lower_BB,MACD -trim-leading -L 1 -M 7 -B 2 -C 2 -G Date -dayofweek -weekend -conf 0 -P 0.95 -W \"weka.classifiers.functions.LinearRegression -S 0 -R 1.0E-8 -num-decimal-places 4\"\n",
      "lag maker: weka.filters.supervised.attribute.TSLagMaker -F \"Adj Close\" -O Open,High,Low,Volume,SMA_7,SMA_14,EMA_7,EMA_14,RSI,Stoch_RSI,Upper_BB,Lower_BB,MACD -trim-leading -L 1 -M 7 -G Date -dayofweek -weekend\n",
      "=== Evaluation setup ===\n",
      "\n",
      "Relation: TSLA-2y\n",
      "# Training instances: 620\n",
      "# Test instances: 68\n",
      "Evaluate on training data: True\n",
      "Evaluate on test data: True\n",
      "Horizon: 1\n",
      "Prime window size: 7\n",
      "Prime for test data with test data: True\n",
      "Rebuild model after each test forecast step: False\n",
      "Forecast future: True\n",
      "Evaluation modules: Error, MAE, RMSE\n",
      "\n",
      "\n",
      "\n",
      "--------------------------------------------------\n",
      "Instances were inserted in the test data for the following\n",
      "time-stamps (target values set by interpolation):\n",
      "\n",
      "              2023-04-22T00:00:00, 2023-04-23T00:00:00, 2023-04-29T00:00:00, 2023-04-30T00:00:00, 2023-05-06T00:00:00, 2023-05-07T00:00:00, 2023-05-13T00:00:00, 2023-05-14T00:00:00, 2023-05-20T00:00:00, 2023-05-21T00:00:00, 2023-05-27T00:00:00, 2023-05-28T00:00:00, 2023-05-29T00:00:00, 2023-06-03T00:00:00, 2023-06-04T00:00:00, 2023-06-10T00:00:00, 2023-06-11T00:00:00, 2023-06-17T00:00:00, 2023-06-18T00:00:00, 2023-06-19T00:00:00\n",
      "--------------------------------------------------\n",
      "\n",
      "---------------------------------------------------\n",
      "The following test instances had missing values\n",
      "imputed via interpolation. Check source data as\n",
      "this may affect forecasting performance:\n",
      "\n",
      "              6,7,13,14,20,21,27,28,34,35,41,42,43,48,49,55,56,62,63,64\n",
      "---------------------------------------------------\n",
      "=== Evaluation on training data ===\n",
      "Target                      1-step-ahead\n",
      "========================================\n",
      "Adj Close\n",
      "  N                                  613\n",
      "  Mean absolute error              0.013\n",
      "  Root mean squared error         0.0171\n",
      "\n",
      "Total number of instances: 620\n",
      "\n",
      "=== Evaluation on test data ===\n",
      "Target                      1-step-ahead\n",
      "========================================\n",
      "Adj Close\n",
      "  N                                   61\n",
      "  Mean absolute error              0.009\n",
      "  Root mean squared error         0.0116\n",
      "\n",
      "Total number of instances: 68\n",
      "\n",
      "\n"
     ]
    }
   ],
   "source": [
    "# evaluate forecaster\n",
    "print(\"Evaluate forecaster\")\n",
    "forecaster = WekaForecaster()\n",
    "forecaster.fields_to_forecast = [\"Adj Close\"]\n",
    "forecaster.base_forecaster = Classifier(classname=\"weka.classifiers.functions.LinearRegression\")\n",
    "forecaster.tslag_maker.timestamp_field = \"Date\"\n",
    "forecaster.tslag_maker.adjust_for_variance = False\n",
    "\n",
    "# add overlay data\n",
    "forecaster.overlay_fields=\"Open,High,Low,Volume,SMA_7,SMA_14,EMA_7,EMA_14,RSI,Stoch_RSI,Upper_BB,Lower_BB,MACD\"\n",
    "print(forecaster.is_using_overlay_data)\n",
    "print(\"forecast with overlays\")\n",
    "print(forecaster.forecast_with_overlays)\n",
    "\n",
    "forecaster.tslag_maker.max_lag=7\n",
    "forecaster.tslag_maker.min_lag=1\n",
    "forecaster.tslag_maker.periodicity= Periodicity(periodicity=\"DAILY\")\n",
    "\n",
    "\n",
    "\n",
    "# print(help(forecaster.tslag_maker.periodicity))\n",
    "# periodicity=None\n",
    "\n",
    "forecaster.tslag_maker.include_powers_of_time = True\n",
    "forecaster.tslag_maker.include_timelag_products = True\n",
    "forecaster.tslag_maker.remove_leading_instances_with_unknown_lag_values = True\n",
    "\n",
    "# forecaster.tslag_maker.add_month_of_year = True\n",
    "# forecaster.tslag_maker.add_quarter_of_year = True\n",
    "\n",
    "forecaster.tslag_maker.add_day_of_week=True\n",
    "forecaster.tslag_maker.add_weekend_indicator=True\n",
    "\n",
    "print(\"algorithm name: \" + str(forecaster.algorithm_name))\n",
    "print(\"command-line: \" + forecaster.to_commandline())\n",
    "print(\"lag maker: \" + forecaster.tslag_maker.to_commandline())\n",
    "\n",
    "evaluation = TSEvaluation(airline_data, 0.1)\n",
    "evaluation.evaluate_on_training_data = True\n",
    "evaluation.evaluate_on_test_data = True\n",
    "# evaluation.prime_window_size = forecaster.tslag_maker.max_lag\n",
    "evaluation.prime_for_test_data_with_test_data = True\n",
    "evaluation.rebuild_model_after_each_test_forecast_step = False\n",
    "evaluation.forecast_future = True\n",
    "evaluation.horizon = 1\n",
    "evaluation.prime_window_size=7\n",
    "evaluation.evaluation_modules = \"MAE,RMSE\"\n",
    "\n",
    "\n",
    "evaluation.evaluate(forecaster)\n",
    "print(evaluation)\n",
    "if evaluation.evaluate_on_training_data or evaluation.evaluate_on_test_data:\n",
    "    print(evaluation.summary())\n",
    "# if evaluation.evaluate_on_training_data:\n",
    "#     print(\"Predictions (training data): \" + evaluation.predictions_for_training_data(1).summary)\n",
    "# if evaluation.evaluate_on_test_data:\n",
    "#     print(\"Predictions (test data): \" + evaluation.predictions_for_test_data(1).summary)\n",
    "#     preds = evaluation.predictions_for_test_data(1)\n",
    "#     print(\"Counts for targets: \" + str(preds.counts_for_targets()))\n",
    "#     print(\"Errors for target 'Adj Close': \" + str(preds.errors_for_target(\"Adj Close\")))\n",
    "#     print(\"Errors for all targets: \" + str(preds.predictions_for_all_targets()))\n",
    "# if evaluation.training_data is not None:\n",
    "#     print(\"Future forecasts (training)\\n\" + evaluation.print_future_forecast_on_training_data(forecaster))\n",
    "# if evaluation.test_data is not None:\n",
    "#     print(\"Future forecasts (test)\\n\" + evaluation.print_future_forecast_on_test_data(forecaster))\n",
    "\n",
    "# if evaluation.evaluate_on_training_data:\n",
    "#     print(evaluation.print_predictions_for_training_data(\"Predictions (training)\", \"Adj Close\", 1))\n",
    "\n",
    "# if evaluation.evaluate_on_test_data:\n",
    "#     print(evaluation.print_predictions_for_test_data(\"Predictions (test)\", \"Adj Close\", 1))"
   ]
  },
  {
   "cell_type": "code",
   "execution_count": 6,
   "metadata": {},
   "outputs": [
    {
     "name": "stdout",
     "output_type": "stream",
     "text": [
      "Build/use forecaster\n",
      "Actual,Predicted,Error\n",
      "1681660800000.000000,0.242677,1681660799999.757324\n",
      "1681747200000.000000,0.239763,1681747199999.760254\n",
      "1681833600000.000000,0.234453,1681833599999.765625\n",
      "1681920000000.000000,0.235145,1681919999999.764893\n",
      "1682006400000.000000,0.236004,1682006399999.763916\n",
      "1682265600000.000000,0.238347,1682265599999.761719\n",
      "1682352000000.000000,0.235477,1682351999999.764404\n",
      "1682438400000.000000,0.241288,1682438399999.758789\n",
      "1682524800000.000000,0.241441,1682524799999.758545\n",
      "1682611200000.000000,0.240088,1682611199999.760010\n",
      "1682870400000.000000,0.241312,1682870399999.758789\n",
      "1682956800000.000000,0.242437,1682956799999.757568\n",
      "1683043200000.000000,0.245238,1683043199999.754883\n",
      "1683129600000.000000,0.248157,1683129599999.751953\n",
      "1683216000000.000000,0.251262,1683215999999.748779\n",
      "1683475200000.000000,0.253519,1683475199999.746582\n",
      "1683561600000.000000,0.257710,1683561599999.742188\n",
      "1683648000000.000000,0.260368,1683647999999.739746\n",
      "1683734400000.000000,0.262872,1683734399999.737061\n",
      "1683820800000.000000,0.266115,1683820799999.733887\n",
      "1684080000000.000000,0.269453,1684079999999.730469\n",
      "1684166400000.000000,0.273235,1684166399999.726807\n",
      "1684252800000.000000,0.277033,1684252799999.722900\n",
      "1684339200000.000000,0.280812,1684339199999.719238\n",
      "1684425600000.000000,0.284465,1684425599999.715576\n",
      "1684684800000.000000,0.288508,1684684799999.711426\n",
      "1684771200000.000000,0.292117,1684771199999.707764\n",
      "1684857600000.000000,0.295731,1684857599999.704346\n",
      "1684944000000.000000,0.299540,1684943999999.700439\n",
      "1685030400000.000000,0.303383,1685030399999.696533\n",
      "1685376000000.000000,0.307320,1685375999999.692627\n",
      "1685462400000.000000,0.311234,1685462399999.688721\n",
      "1685548800000.000000,0.315110,1685548799999.684814\n",
      "1685635200000.000000,0.318961,1685635199999.681152\n",
      "1685894400000.000000,0.322871,1685894399999.677246\n",
      "1685980800000.000000,0.326650,1685980799999.673340\n",
      "1686067200000.000000,0.330441,1686067199999.669678\n",
      "1686153600000.000000,0.334281,1686153599999.665771\n",
      "1686240000000.000000,0.338132,1686239999999.661865\n",
      "1686499200000.000000,0.342003,1686499199999.657959\n",
      "1686585600000.000000,0.345865,1686585599999.654053\n",
      "1686672000000.000000,0.349716,1686671999999.650391\n",
      "1686758400000.000000,0.353573,1686758399999.646484\n",
      "1686844800000.000000,0.357447,1686844799999.642578\n",
      "1687190400000.000000,0.361299,1687190399999.638672\n",
      "1687276800000.000000,0.365177,1687276799999.634766\n",
      "1687363200000.000000,0.369089,1687363199999.630859\n",
      "1687449600000.000000,0.373027,1687449599999.626953\n"
     ]
    }
   ],
   "source": [
    "# build forecaster\n",
    "print(\"Build/use forecaster\")\n",
    "airline_train, airline_test = airline_data.train_test_split(90.0)\n",
    "forecaster = WekaForecaster()\n",
    "forecaster.fields_to_forecast = [\"Adj Close\"]\n",
    "forecaster.base_forecaster = Classifier(classname=\"weka.classifiers.functions.LinearRegression\")\n",
    "forecaster.fields_to_forecast = \"Adj Close\"\n",
    "forecaster.build_forecaster(airline_train)\n",
    "num_prime_instances = 10\n",
    "airline_prime = Instances.copy_instances(airline_train, airline_train.num_instances - num_prime_instances, num_prime_instances)\n",
    "forecaster.prime_forecaster(airline_prime)\n",
    "num_future_forecasts = airline_test.num_instances\n",
    "preds = forecaster.forecast(num_future_forecasts)\n",
    "print(\"Actual,Predicted,Error\")\n",
    "for i in range(num_future_forecasts):\n",
    "    actual = airline_test.get_instance(i).get_value(0)\n",
    "    predicted = preds[i][0].predicted\n",
    "    error = actual - predicted\n",
    "    print(\"%f,%f,%f\" % (actual, predicted, error))"
   ]
  },
  {
   "cell_type": "code",
   "execution_count": 7,
   "metadata": {},
   "outputs": [
    {
     "name": "stdout",
     "output_type": "stream",
     "text": [
      "Serialization\n",
      "Base model has no serializer, falling back to generic serialization\n",
      "weka.classifiers.functions.LinearRegression -S 0 -R 1.0E-8 -num-decimal-places 4\n"
     ]
    }
   ],
   "source": [
    "# serialization (if supported)\n",
    "print(\"Serialization\")\n",
    "model_file = \"base.model\"\n",
    "if forecaster.base_model_has_serializer:\n",
    "    forecaster.save_base_model(model_file)\n",
    "    forecaster2 = WekaForecaster()\n",
    "    forecaster2.load_base_model(model_file)\n",
    "    print(forecaster2.to_commandline())\n",
    "else:\n",
    "    print(\"Base model has no serializer, falling back to generic serialization\")\n",
    "    serialization_write(model_file, forecaster.base_forecaster)\n",
    "    cls = Classifier(jobject=serialization_read(model_file))\n",
    "    print(cls.to_commandline())"
   ]
  },
  {
   "cell_type": "code",
   "execution_count": 8,
   "metadata": {},
   "outputs": [
    {
     "name": "stdout",
     "output_type": "stream",
     "text": [
      "State\n",
      "Forecaster does not use state, falling back to generic serialization\n",
      "weka.classifiers.timeseries.WekaForecaster -F \"Adj Close\" -L 1 -M 12 -B 2 -C 2 -G ArtificialTimeIndex -conf 0 -P 0.95 -W \"weka.classifiers.functions.LinearRegression -S 0 -R 1.0E-8 -num-decimal-places 4\"\n"
     ]
    }
   ],
   "source": [
    "# state management\n",
    "print(\"State\")\n",
    "model_file = \"state.ser\"\n",
    "if forecaster.uses_state:\n",
    "    forecaster.serialize_state(model_file)\n",
    "    forecaster2 = WekaForecaster()\n",
    "    forecaster2.load_serialized_state(model_file)\n",
    "    print(forecaster2.to_commandline())\n",
    "else:\n",
    "    print(\"Forecaster does not use state, falling back to generic serialization\")\n",
    "    serialization_write(model_file, forecaster)\n",
    "    forecaster2 = WekaForecaster(jobject=serialization_read(model_file))\n",
    "    print(forecaster2.to_commandline())"
   ]
  },
  {
   "cell_type": "code",
   "execution_count": null,
   "metadata": {},
   "outputs": [],
   "source": [
    "jvm.stop()"
   ]
  }
 ],
 "metadata": {
  "kernelspec": {
   "display_name": "Python 3",
   "language": "python",
   "name": "python3"
  },
  "language_info": {
   "codemirror_mode": {
    "name": "ipython",
    "version": 3
   },
   "file_extension": ".py",
   "mimetype": "text/x-python",
   "name": "python",
   "nbconvert_exporter": "python",
   "pygments_lexer": "ipython3",
   "version": "3.10.9"
  },
  "orig_nbformat": 4
 },
 "nbformat": 4,
 "nbformat_minor": 2
}
