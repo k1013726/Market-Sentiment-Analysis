{
 "cells": [
  {
   "cell_type": "code",
   "execution_count": 1,
   "metadata": {},
   "outputs": [
    {
     "name": "stderr",
     "output_type": "stream",
     "text": [
      "DEBUG:weka.core.jvm:Adding bundled jars\n",
      "DEBUG:weka.core.jvm:Classpath=['C:\\\\Users\\\\nptu\\\\AppData\\\\Local\\\\Programs\\\\Python\\\\Python310\\\\Lib\\\\site-packages\\\\javabridge\\\\jars\\\\rhino-1.7R4.jar', 'C:\\\\Users\\\\nptu\\\\AppData\\\\Local\\\\Programs\\\\Python\\\\Python310\\\\Lib\\\\site-packages\\\\javabridge\\\\jars\\\\runnablequeue.jar', 'C:\\\\Users\\\\nptu\\\\AppData\\\\Local\\\\Programs\\\\Python\\\\Python310\\\\Lib\\\\site-packages\\\\javabridge\\\\jars\\\\cpython.jar', 'c:\\\\Users\\\\nptu\\\\AppData\\\\Local\\\\Programs\\\\Python\\\\Python310\\\\lib\\\\site-packages\\\\weka\\\\lib\\\\arpack_combined.jar', 'c:\\\\Users\\\\nptu\\\\AppData\\\\Local\\\\Programs\\\\Python\\\\Python310\\\\lib\\\\site-packages\\\\weka\\\\lib\\\\core.jar', 'c:\\\\Users\\\\nptu\\\\AppData\\\\Local\\\\Programs\\\\Python\\\\Python310\\\\lib\\\\site-packages\\\\weka\\\\lib\\\\mtj.jar', 'c:\\\\Users\\\\nptu\\\\AppData\\\\Local\\\\Programs\\\\Python\\\\Python310\\\\lib\\\\site-packages\\\\weka\\\\lib\\\\python-weka-wrapper.jar', 'c:\\\\Users\\\\nptu\\\\AppData\\\\Local\\\\Programs\\\\Python\\\\Python310\\\\lib\\\\site-packages\\\\weka\\\\lib\\\\weka.jar']\n",
      "DEBUG:weka.core.jvm:MaxHeapSize=default\n",
      "DEBUG:weka.core.jvm:Package support enabled\n"
     ]
    }
   ],
   "source": [
    "import weka.core.jvm as jvm\n",
    "import os\n",
    "import traceback\n",
    "import weka.core.jvm as jvm\n",
    "from weka.core.converters import Loader\n",
    "from weka.core.dataset import Instances\n",
    "from weka.timeseries import TSEvaluation, TSEvalModule, WekaForecaster,Periodicity\n",
    "from weka.classifiers import Classifier\n",
    "from weka.core.classes import serialization_write, serialization_read\n",
    "jvm.start(packages=True)"
   ]
  },
  {
   "cell_type": "code",
   "execution_count": 2,
   "metadata": {},
   "outputs": [],
   "source": [
    "# load a dataset\n",
    "from weka.core.converters import Loader\n",
    "loader = Loader(classname=\"weka.core.converters.ArffLoader\")\n",
    "airline_data = loader.load_file(\"data/BTC-2y.arff\")\n",
    "# airline_data.class_is_last()"
   ]
  },
  {
   "cell_type": "code",
   "execution_count": 3,
   "metadata": {},
   "outputs": [
    {
     "name": "stdout",
     "output_type": "stream",
     "text": [
      "Evaluation modules\n",
      "Available modules\n",
      "-Error\n",
      "-MAE\n",
      "-MSE\n",
      "-RMSE\n",
      "-MAPE\n",
      "-DAC\n",
      "-RAE\n",
      "-RRSE\n",
      "Loading module by name\n",
      "MAE\n"
     ]
    }
   ],
   "source": [
    "# available evaluation modules\n",
    "print(\"Evaluation modules\")\n",
    "modules = TSEvalModule.module_list()\n",
    "print(\"Available modules\")\n",
    "for module in modules:\n",
    "    print(\"-\" + str(module))\n",
    "print(\"Loading module by name\")\n",
    "print(TSEvalModule.module(\"MAE\"))"
   ]
  },
  {
   "cell_type": "code",
   "execution_count": 4,
   "metadata": {},
   "outputs": [
    {
     "name": "stdout",
     "output_type": "stream",
     "text": [
      "Evaluate forecaster\n",
      "True\n",
      "forecast with overlays\n",
      "<bound method OverlayForecaster.forecast_with_overlays of Forecaster has not been built yet!>\n",
      "algorithm name: LinearRegression -S 0 -R 1.0E-8 -num-decimal-places 4\n",
      "command-line: weka.classifiers.timeseries.WekaForecaster -F \"Adj Close\" -O Open,High,Low,Volume,SMA_7,SMA_14,EMA_7,EMA_14,RSI,Stoch_RSI,Upper_BB,Lower_BB,MACD -trim-leading -L 1 -M 7 -B 2 -C 2 -G Date -dayofweek -weekend -conf 0 -P 0.95 -W \"weka.classifiers.functions.LinearRegression -S 0 -R 1.0E-8 -num-decimal-places 4\"\n",
      "lag maker: weka.filters.supervised.attribute.TSLagMaker -F \"Adj Close\" -O Open,High,Low,Volume,SMA_7,SMA_14,EMA_7,EMA_14,RSI,Stoch_RSI,Upper_BB,Lower_BB,MACD -trim-leading -L 1 -M 7 -G Date -dayofweek -weekend\n",
      "=== Evaluation setup ===\n",
      "\n",
      "Relation: BTC-2y\n",
      "# Training instances: 634\n",
      "# Test instances: 70\n",
      "Evaluate on training data: True\n",
      "Evaluate on test data: True\n",
      "Horizon: 1\n",
      "Prime window size: 7\n",
      "Prime for test data with test data: True\n",
      "Rebuild model after each test forecast step: False\n",
      "Forecast future: True\n",
      "Evaluation modules: Error, MAE, RMSE\n",
      "\n",
      "\n",
      "=== Evaluation on training data ===\n",
      "Target                      1-step-ahead\n",
      "========================================\n",
      "Adj Close\n",
      "  N                                  627\n",
      "  Mean absolute error             0.0064\n",
      "  Root mean squared error         0.0089\n",
      "\n",
      "Total number of instances: 634\n",
      "\n",
      "=== Evaluation on test data ===\n",
      "Target                      1-step-ahead\n",
      "========================================\n",
      "Adj Close\n",
      "  N                                   63\n",
      "  Mean absolute error             0.0084\n",
      "  Root mean squared error         0.0096\n",
      "\n",
      "Total number of instances: 70\n",
      "\n",
      "\n"
     ]
    }
   ],
   "source": [
    "# evaluate forecaster\n",
    "print(\"Evaluate forecaster\")\n",
    "forecaster = WekaForecaster()\n",
    "forecaster.fields_to_forecast = [\"Adj Close\"]\n",
    "forecaster.base_forecaster = Classifier(classname=\"weka.classifiers.functions.LinearRegression\")\n",
    "forecaster.tslag_maker.timestamp_field = \"Date\"\n",
    "forecaster.tslag_maker.adjust_for_variance = False\n",
    "\n",
    "# add overlay data\n",
    "forecaster.overlay_fields=\"Open,High,Low,Volume,SMA_7,SMA_14,EMA_7,EMA_14,RSI,Stoch_RSI,Upper_BB,Lower_BB,MACD\"\n",
    "print(forecaster.is_using_overlay_data)\n",
    "print(\"forecast with overlays\")\n",
    "print(forecaster.forecast_with_overlays)\n",
    "\n",
    "forecaster.tslag_maker.max_lag=7\n",
    "forecaster.tslag_maker.min_lag=1\n",
    "forecaster.tslag_maker.periodicity= Periodicity(periodicity=\"DAILY\")\n",
    "\n",
    "\n",
    "\n",
    "# print(help(forecaster.tslag_maker.periodicity))\n",
    "# periodicity=None\n",
    "\n",
    "forecaster.tslag_maker.include_powers_of_time = True\n",
    "forecaster.tslag_maker.include_timelag_products = True\n",
    "forecaster.tslag_maker.remove_leading_instances_with_unknown_lag_values = True\n",
    "\n",
    "# forecaster.tslag_maker.add_month_of_year = True\n",
    "# forecaster.tslag_maker.add_quarter_of_year = True\n",
    "\n",
    "forecaster.tslag_maker.add_day_of_week=True\n",
    "forecaster.tslag_maker.add_weekend_indicator=True\n",
    "\n",
    "print(\"algorithm name: \" + str(forecaster.algorithm_name))\n",
    "print(\"command-line: \" + forecaster.to_commandline())\n",
    "print(\"lag maker: \" + forecaster.tslag_maker.to_commandline())\n",
    "\n",
    "evaluation = TSEvaluation(airline_data, 0.1)\n",
    "evaluation.evaluate_on_training_data = True\n",
    "evaluation.evaluate_on_test_data = True\n",
    "# evaluation.prime_window_size = forecaster.tslag_maker.max_lag\n",
    "evaluation.prime_for_test_data_with_test_data = True\n",
    "evaluation.rebuild_model_after_each_test_forecast_step = False\n",
    "evaluation.forecast_future = True\n",
    "evaluation.horizon = 1\n",
    "evaluation.prime_window_size=7\n",
    "evaluation.evaluation_modules = \"MAE,RMSE\"\n",
    "\n",
    "\n",
    "evaluation.evaluate(forecaster)\n",
    "print(evaluation)\n",
    "if evaluation.evaluate_on_training_data or evaluation.evaluate_on_test_data:\n",
    "    print(evaluation.summary())\n",
    "# if evaluation.evaluate_on_training_data:\n",
    "#     print(\"Predictions (training data): \" + evaluation.predictions_for_training_data(1).summary)\n",
    "# if evaluation.evaluate_on_test_data:\n",
    "#     print(\"Predictions (test data): \" + evaluation.predictions_for_test_data(1).summary)\n",
    "#     preds = evaluation.predictions_for_test_data(1)\n",
    "#     print(\"Counts for targets: \" + str(preds.counts_for_targets()))\n",
    "#     print(\"Errors for target 'Adj Close': \" + str(preds.errors_for_target(\"Adj Close\")))\n",
    "#     print(\"Errors for all targets: \" + str(preds.predictions_for_all_targets()))\n",
    "# if evaluation.training_data is not None:\n",
    "#     print(\"Future forecasts (training)\\n\" + evaluation.print_future_forecast_on_training_data(forecaster))\n",
    "# if evaluation.test_data is not None:\n",
    "#     print(\"Future forecasts (test)\\n\" + evaluation.print_future_forecast_on_test_data(forecaster))\n",
    "\n",
    "# if evaluation.evaluate_on_training_data:\n",
    "#     print(evaluation.print_predictions_for_training_data(\"Predictions (training)\", \"Adj Close\", 1))\n",
    "\n",
    "# if evaluation.evaluate_on_test_data:\n",
    "#     print(evaluation.print_predictions_for_test_data(\"Predictions (test)\", \"Adj Close\", 1))"
   ]
  },
  {
   "cell_type": "code",
   "execution_count": 5,
   "metadata": {},
   "outputs": [
    {
     "name": "stdout",
     "output_type": "stream",
     "text": [
      "Build/use forecaster\n",
      "Actual,Predicted,Error\n",
      "1681660800000.000000,0.284440,1681660799999.715576\n",
      "1681747200000.000000,0.284061,1681747199999.715820\n",
      "1681833600000.000000,0.289436,1681833599999.710449\n",
      "1681920000000.000000,0.296046,1681919999999.703857\n",
      "1682006400000.000000,0.298370,1682006399999.701660\n",
      "1682092800000.000000,0.302348,1682092799999.697754\n",
      "1682179200000.000000,0.307351,1682179199999.692627\n",
      "1682265600000.000000,0.310066,1682265599999.689941\n",
      "1682352000000.000000,0.313132,1682351999999.686768\n",
      "1682438400000.000000,0.318076,1682438399999.681885\n",
      "1682524800000.000000,0.320824,1682524799999.679199\n",
      "1682611200000.000000,0.324092,1682611199999.676025\n",
      "1682697600000.000000,0.328801,1682697599999.671143\n",
      "1682784000000.000000,0.332264,1682783999999.667725\n",
      "1682870400000.000000,0.335690,1682870399999.664307\n",
      "1682956800000.000000,0.340120,1682956799999.659912\n",
      "1683043200000.000000,0.343870,1683043199999.656250\n",
      "1683129600000.000000,0.347250,1683129599999.652832\n",
      "1683216000000.000000,0.351605,1683215999999.648438\n",
      "1683302400000.000000,0.355468,1683302399999.644531\n",
      "1683388800000.000000,0.359013,1683388799999.640869\n",
      "1683475200000.000000,0.363226,1683475199999.636719\n",
      "1683561600000.000000,0.367237,1683561599999.632812\n",
      "1683648000000.000000,0.370936,1683647999999.629150\n",
      "1683734400000.000000,0.375091,1683734399999.625000\n",
      "1683820800000.000000,0.379221,1683820799999.620850\n",
      "1683907200000.000000,0.383028,1683907199999.616943\n",
      "1683993600000.000000,0.387183,1683993599999.612793\n",
      "1684080000000.000000,0.391371,1684079999999.608643\n",
      "1684166400000.000000,0.395316,1684166399999.604736\n",
      "1684252800000.000000,0.399479,1684252799999.600586\n",
      "1684339200000.000000,0.403727,1684339199999.596191\n",
      "1684425600000.000000,0.407792,1684425599999.592285\n",
      "1684512000000.000000,0.411986,1684511999999.588135\n",
      "1684598400000.000000,0.416296,1684598399999.583740\n",
      "1684684800000.000000,0.420464,1684684799999.579590\n",
      "1684771200000.000000,0.424715,1684771199999.575195\n",
      "1684857600000.000000,0.429075,1684857599999.571045\n",
      "1684944000000.000000,0.433344,1684943999999.566650\n",
      "1685030400000.000000,0.437656,1685030399999.562256\n",
      "1685116800000.000000,0.442071,1685116799999.557861\n",
      "1685203200000.000000,0.446434,1685203199999.553467\n",
      "1685289600000.000000,0.450814,1685289599999.549072\n",
      "1685376000000.000000,0.455288,1685375999999.544678\n",
      "1685462400000.000000,0.459736,1685462399999.540283\n",
      "1685548800000.000000,0.464191,1685548799999.535889\n",
      "1685635200000.000000,0.468725,1685635199999.531250\n",
      "1685721600000.000000,0.473255,1685721599999.526855\n",
      "1685808000000.000000,0.477788,1685807999999.522217\n",
      "1685894400000.000000,0.482385,1685894399999.517578\n",
      "1685980800000.000000,0.486994,1685980799999.512939\n",
      "1686067200000.000000,0.491604,1686067199999.508301\n",
      "1686153600000.000000,0.496269,1686153599999.503662\n",
      "1686240000000.000000,0.500954,1686239999999.499023\n",
      "1686326400000.000000,0.505643,1686326399999.494385\n",
      "1686412800000.000000,0.510377,1686412799999.489502\n",
      "1686499200000.000000,0.515138,1686499199999.484863\n",
      "1686585600000.000000,0.519905,1686585599999.479980\n",
      "1686672000000.000000,0.524711,1686671999999.475342\n",
      "1686758400000.000000,0.529546,1686758399999.470459\n",
      "1686844800000.000000,0.534392,1686844799999.465576\n",
      "1686931200000.000000,0.539270,1686931199999.460693\n",
      "1687017600000.000000,0.544180,1687017599999.455811\n",
      "1687104000000.000000,0.549104,1687103999999.450928\n",
      "1687190400000.000000,0.554056,1687190399999.446045\n",
      "1687276800000.000000,0.559040,1687276799999.440918\n",
      "1687363200000.000000,0.564042,1687363199999.436035\n",
      "1687449600000.000000,0.569069,1687449599999.430908\n",
      "1687536000000.000000,0.574128,1687535999999.425781\n",
      "1687622400000.000000,0.579207,1687622399999.420898\n"
     ]
    }
   ],
   "source": [
    "# build forecaster\n",
    "print(\"Build/use forecaster\")\n",
    "airline_train, airline_test = airline_data.train_test_split(90.0)\n",
    "forecaster = WekaForecaster()\n",
    "forecaster.fields_to_forecast = [\"Adj Close\"]\n",
    "forecaster.base_forecaster = Classifier(classname=\"weka.classifiers.functions.LinearRegression\")\n",
    "forecaster.fields_to_forecast = \"Adj Close\"\n",
    "forecaster.build_forecaster(airline_train)\n",
    "num_prime_instances = 10\n",
    "airline_prime = Instances.copy_instances(airline_train, airline_train.num_instances - num_prime_instances, num_prime_instances)\n",
    "forecaster.prime_forecaster(airline_prime)\n",
    "num_future_forecasts = airline_test.num_instances\n",
    "preds = forecaster.forecast(num_future_forecasts)\n",
    "print(\"Actual,Predicted,Error\")\n",
    "for i in range(num_future_forecasts):\n",
    "    actual = airline_test.get_instance(i).get_value(0)\n",
    "    predicted = preds[i][0].predicted\n",
    "    error = actual - predicted\n",
    "    print(\"%f,%f,%f\" % (actual, predicted, error))"
   ]
  },
  {
   "cell_type": "code",
   "execution_count": 6,
   "metadata": {},
   "outputs": [
    {
     "name": "stdout",
     "output_type": "stream",
     "text": [
      "Serialization\n",
      "Base model has no serializer, falling back to generic serialization\n",
      "weka.classifiers.functions.LinearRegression -S 0 -R 1.0E-8 -num-decimal-places 4\n"
     ]
    }
   ],
   "source": [
    "# serialization (if supported)\n",
    "print(\"Serialization\")\n",
    "model_file = \"base.model\"\n",
    "if forecaster.base_model_has_serializer:\n",
    "    forecaster.save_base_model(model_file)\n",
    "    forecaster2 = WekaForecaster()\n",
    "    forecaster2.load_base_model(model_file)\n",
    "    print(forecaster2.to_commandline())\n",
    "else:\n",
    "    print(\"Base model has no serializer, falling back to generic serialization\")\n",
    "    serialization_write(model_file, forecaster.base_forecaster)\n",
    "    cls = Classifier(jobject=serialization_read(model_file))\n",
    "    print(cls.to_commandline())"
   ]
  },
  {
   "cell_type": "code",
   "execution_count": 7,
   "metadata": {},
   "outputs": [
    {
     "name": "stdout",
     "output_type": "stream",
     "text": [
      "State\n",
      "Forecaster does not use state, falling back to generic serialization\n",
      "weka.classifiers.timeseries.WekaForecaster -F \"Adj Close\" -L 1 -M 12 -B 2 -C 2 -G ArtificialTimeIndex -conf 0 -P 0.95 -W \"weka.classifiers.functions.LinearRegression -S 0 -R 1.0E-8 -num-decimal-places 4\"\n"
     ]
    }
   ],
   "source": [
    "# state management\n",
    "print(\"State\")\n",
    "model_file = \"state.ser\"\n",
    "if forecaster.uses_state:\n",
    "    forecaster.serialize_state(model_file)\n",
    "    forecaster2 = WekaForecaster()\n",
    "    forecaster2.load_serialized_state(model_file)\n",
    "    print(forecaster2.to_commandline())\n",
    "else:\n",
    "    print(\"Forecaster does not use state, falling back to generic serialization\")\n",
    "    serialization_write(model_file, forecaster)\n",
    "    forecaster2 = WekaForecaster(jobject=serialization_read(model_file))\n",
    "    print(forecaster2.to_commandline())"
   ]
  },
  {
   "cell_type": "code",
   "execution_count": null,
   "metadata": {},
   "outputs": [],
   "source": [
    "jvm.stop()"
   ]
  }
 ],
 "metadata": {
  "kernelspec": {
   "display_name": "Python 3",
   "language": "python",
   "name": "python3"
  },
  "language_info": {
   "codemirror_mode": {
    "name": "ipython",
    "version": 3
   },
   "file_extension": ".py",
   "mimetype": "text/x-python",
   "name": "python",
   "nbconvert_exporter": "python",
   "pygments_lexer": "ipython3",
   "version": "3.10.9"
  },
  "orig_nbformat": 4
 },
 "nbformat": 4,
 "nbformat_minor": 2
}
