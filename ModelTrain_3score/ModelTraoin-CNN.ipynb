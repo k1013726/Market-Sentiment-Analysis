{
 "cells": [
  {
   "cell_type": "code",
   "execution_count": 1,
   "id": "ff32db3c",
   "metadata": {},
   "outputs": [],
   "source": [
    "import datetime\n",
    "\n",
    "import numpy as np\n",
    "import pandas as pd\n",
    "import seaborn as sns\n",
    "import tensorflow as tf\n",
    "import matplotlib.pyplot as plt\n",
    "\n",
    "from tensorflow.keras import Model, Sequential\n",
    "\n",
    "from tensorflow.keras.optimizers import Adam\n",
    "from tensorflow.keras.callbacks import EarlyStopping\n",
    "from tensorflow.keras.losses import MeanSquaredError\n",
    "from tensorflow.keras.metrics import MeanAbsoluteError\n",
    "\n",
    "from tensorflow.keras.layers import Dense, Conv1D, LSTM, Lambda, Reshape, RNN, LSTMCell\n",
    "\n",
    "import warnings\n",
    "warnings.filterwarnings('ignore')"
   ]
  },
  {
   "cell_type": "code",
   "execution_count": 2,
   "id": "e9b19a92",
   "metadata": {},
   "outputs": [],
   "source": [
    "plt.rcParams['figure.figsize'] = (10, 7.5)\n",
    "plt.rcParams['axes.grid'] = False"
   ]
  },
  {
   "cell_type": "code",
   "execution_count": 3,
   "id": "3d6b177b",
   "metadata": {},
   "outputs": [
    {
     "name": "stdout",
     "output_type": "stream",
     "text": [
      "2.12.0\n"
     ]
    }
   ],
   "source": [
    "print(tf.__version__)"
   ]
  },
  {
   "cell_type": "code",
   "execution_count": 4,
   "id": "78c3689a",
   "metadata": {},
   "outputs": [],
   "source": [
    "tf.random.set_seed(42)\n",
    "np.random.seed(42)"
   ]
  },
  {
   "cell_type": "code",
   "execution_count": 5,
   "id": "7577877a",
   "metadata": {},
   "outputs": [
    {
     "name": "stdout",
     "output_type": "stream",
     "text": [
      "(255, 9) (73, 9) (37, 9)\n"
     ]
    }
   ],
   "source": [
    "# #擁有情緒分數\n",
    "train_df = pd.read_csv('data/train.csv', index_col=0)\n",
    "val_df = pd.read_csv('data/val.csv', index_col=0)\n",
    "test_df = pd.read_csv('data/test.csv', index_col=0)\n",
    "print(train_df.shape, val_df.shape, test_df.shape)"
   ]
  },
  {
   "cell_type": "code",
   "execution_count": 6,
   "id": "c5e3d37d",
   "metadata": {},
   "outputs": [
    {
     "data": {
      "text/html": [
       "<div>\n",
       "<style scoped>\n",
       "    .dataframe tbody tr th:only-of-type {\n",
       "        vertical-align: middle;\n",
       "    }\n",
       "\n",
       "    .dataframe tbody tr th {\n",
       "        vertical-align: top;\n",
       "    }\n",
       "\n",
       "    .dataframe thead th {\n",
       "        text-align: right;\n",
       "    }\n",
       "</style>\n",
       "<table border=\"1\" class=\"dataframe\">\n",
       "  <thead>\n",
       "    <tr style=\"text-align: right;\">\n",
       "      <th></th>\n",
       "      <th>Open</th>\n",
       "      <th>High</th>\n",
       "      <th>Low</th>\n",
       "      <th>Close</th>\n",
       "      <th>Volume</th>\n",
       "      <th>ScorePositive</th>\n",
       "      <th>ScoreNegative</th>\n",
       "      <th>ScoreNeutral</th>\n",
       "      <th>Coin_timestamp</th>\n",
       "    </tr>\n",
       "  </thead>\n",
       "  <tbody>\n",
       "    <tr>\n",
       "      <th>0</th>\n",
       "      <td>0.952530</td>\n",
       "      <td>0.990962</td>\n",
       "      <td>0.972375</td>\n",
       "      <td>1.000000</td>\n",
       "      <td>0.153933</td>\n",
       "      <td>0.027517</td>\n",
       "      <td>0.990777</td>\n",
       "      <td>0.000095</td>\n",
       "      <td>0.000000</td>\n",
       "    </tr>\n",
       "    <tr>\n",
       "      <th>1</th>\n",
       "      <td>1.000000</td>\n",
       "      <td>0.992846</td>\n",
       "      <td>0.991715</td>\n",
       "      <td>0.988159</td>\n",
       "      <td>0.201746</td>\n",
       "      <td>0.027128</td>\n",
       "      <td>0.980765</td>\n",
       "      <td>0.000000</td>\n",
       "      <td>0.003937</td>\n",
       "    </tr>\n",
       "    <tr>\n",
       "      <th>2</th>\n",
       "      <td>0.988303</td>\n",
       "      <td>0.979937</td>\n",
       "      <td>0.956979</td>\n",
       "      <td>0.957410</td>\n",
       "      <td>0.274412</td>\n",
       "      <td>0.167427</td>\n",
       "      <td>0.592638</td>\n",
       "      <td>0.276612</td>\n",
       "      <td>0.007874</td>\n",
       "    </tr>\n",
       "    <tr>\n",
       "      <th>3</th>\n",
       "      <td>0.957630</td>\n",
       "      <td>0.976309</td>\n",
       "      <td>0.954138</td>\n",
       "      <td>0.937980</td>\n",
       "      <td>0.408148</td>\n",
       "      <td>0.273763</td>\n",
       "      <td>0.273044</td>\n",
       "      <td>0.504568</td>\n",
       "      <td>0.011811</td>\n",
       "    </tr>\n",
       "    <tr>\n",
       "      <th>4</th>\n",
       "      <td>0.938233</td>\n",
       "      <td>0.959680</td>\n",
       "      <td>0.853625</td>\n",
       "      <td>0.857264</td>\n",
       "      <td>0.328052</td>\n",
       "      <td>0.339681</td>\n",
       "      <td>0.468234</td>\n",
       "      <td>0.234136</td>\n",
       "      <td>0.015748</td>\n",
       "    </tr>\n",
       "  </tbody>\n",
       "</table>\n",
       "</div>"
      ],
      "text/plain": [
       "       Open      High       Low     Close    Volume  ScorePositive  \\\n",
       "0  0.952530  0.990962  0.972375  1.000000  0.153933       0.027517   \n",
       "1  1.000000  0.992846  0.991715  0.988159  0.201746       0.027128   \n",
       "2  0.988303  0.979937  0.956979  0.957410  0.274412       0.167427   \n",
       "3  0.957630  0.976309  0.954138  0.937980  0.408148       0.273763   \n",
       "4  0.938233  0.959680  0.853625  0.857264  0.328052       0.339681   \n",
       "\n",
       "   ScoreNegative  ScoreNeutral  Coin_timestamp  \n",
       "0       0.990777      0.000095        0.000000  \n",
       "1       0.980765      0.000000        0.003937  \n",
       "2       0.592638      0.276612        0.007874  \n",
       "3       0.273044      0.504568        0.011811  \n",
       "4       0.468234      0.234136        0.015748  "
      ]
     },
     "execution_count": 6,
     "metadata": {},
     "output_type": "execute_result"
    }
   ],
   "source": [
    "train_df.head()"
   ]
  },
  {
   "cell_type": "code",
   "execution_count": 7,
   "id": "7edd05a8",
   "metadata": {},
   "outputs": [],
   "source": [
    "class DataWindow():\n",
    "    def __init__(self, input_width, label_width, shift, \n",
    "                 train_df=train_df, val_df=val_df, test_df=test_df, \n",
    "                 label_columns=None):\n",
    "        \n",
    "        self.train_df = train_df\n",
    "        self.val_df = val_df\n",
    "        self.test_df = test_df\n",
    "        \n",
    "        self.label_columns = label_columns\n",
    "        if label_columns is not None:\n",
    "            self.label_columns_indices = {name: i for i, name in enumerate(label_columns)}\n",
    "        self.column_indices = {name: i for i, name in enumerate(train_df.columns)}\n",
    "        \n",
    "        self.input_width = input_width\n",
    "        self.label_width = label_width\n",
    "        self.shift = shift\n",
    "        \n",
    "        self.total_window_size = input_width + shift\n",
    "        \n",
    "        self.input_slice = slice(0, input_width)\n",
    "        self.input_indices = np.arange(self.total_window_size)[self.input_slice]\n",
    "        \n",
    "        self.label_start = self.total_window_size - self.label_width\n",
    "        self.labels_slice = slice(self.label_start, None)\n",
    "        self.label_indices = np.arange(self.total_window_size)[self.labels_slice]\n",
    "    \n",
    "    def split_to_inputs_labels(self, features):\n",
    "        inputs = features[:, self.input_slice, :]\n",
    "        labels = features[:, self.labels_slice, :]\n",
    "        if self.label_columns is not None:\n",
    "            labels = tf.stack(\n",
    "                [labels[:,:,self.column_indices[name]] for name in self.label_columns],\n",
    "                axis=-1\n",
    "            )\n",
    "        inputs.set_shape([None, self.input_width, None])\n",
    "        labels.set_shape([None, self.label_width, None])\n",
    "        \n",
    "        return inputs, labels\n",
    "    \n",
    "    def plot(self, model=None, plot_col='Close', max_subplots=3):\n",
    "        inputs, labels = self.sample_batch\n",
    "        \n",
    "        plt.figure(figsize=(12, 8))\n",
    "        plot_col_index = self.column_indices[plot_col]\n",
    "        max_n = min(max_subplots, len(inputs))\n",
    "        \n",
    "        for n in range(max_n):\n",
    "            plt.subplot(3, 1, n+1)\n",
    "            plt.ylabel(f'{plot_col} [scaled]')\n",
    "            plt.plot(self.input_indices, inputs[n, :, plot_col_index],\n",
    "                     label='Inputs', marker='.', zorder=-10)\n",
    "\n",
    "            if self.label_columns:\n",
    "              label_col_index = self.label_columns_indices.get(plot_col, None)\n",
    "            else:\n",
    "              label_col_index = plot_col_index\n",
    "\n",
    "            if label_col_index is None:\n",
    "              continue\n",
    "\n",
    "            plt.scatter(self.label_indices, labels[n, :, label_col_index],\n",
    "                        edgecolors='k', marker='s', label='Labels', c='green', s=64)\n",
    "            if model is not None:\n",
    "              predictions = model(inputs)\n",
    "              plt.scatter(self.label_indices, predictions[n, :, label_col_index],\n",
    "                          marker='X', edgecolors='k', label='Predictions',\n",
    "                          c='red', s=64)\n",
    "\n",
    "            if n == 0:\n",
    "              plt.legend()\n",
    "\n",
    "        plt.xlabel('Time (h)')\n",
    "        \n",
    "    def make_dataset(self, data):\n",
    "        data = np.array(data, dtype=np.float32)\n",
    "        ds = tf.keras.preprocessing.timeseries_dataset_from_array(\n",
    "            data=data,\n",
    "            targets=None,\n",
    "            sequence_length=self.total_window_size,\n",
    "            sequence_stride=1,\n",
    "            shuffle=True,\n",
    "            batch_size=32\n",
    "        )\n",
    "        \n",
    "        ds = ds.map(self.split_to_inputs_labels)\n",
    "        return ds\n",
    "    \n",
    "    @property\n",
    "    def train(self):\n",
    "        return self.make_dataset(self.train_df)\n",
    "    \n",
    "    @property\n",
    "    def val(self):\n",
    "        return self.make_dataset(self.val_df)\n",
    "    \n",
    "    @property\n",
    "    def test(self):\n",
    "        return self.make_dataset(self.test_df)\n",
    "    \n",
    "    @property\n",
    "    def sample_batch(self):\n",
    "        result = getattr(self, '_sample_batch', None)\n",
    "        if result is None:\n",
    "            result = next(iter(self.train))\n",
    "            self._sample_batch = result\n",
    "        return result"
   ]
  },
  {
   "cell_type": "code",
   "execution_count": 8,
   "id": "a507fa05",
   "metadata": {},
   "outputs": [],
   "source": [
    "def compile_and_fit(model, window, patience=3, max_epochs=50):\n",
    "    early_stopping = EarlyStopping(monitor='val_loss',\n",
    "                                   patience=patience,\n",
    "                                   mode='min')\n",
    "    \n",
    "    model.compile(loss=MeanSquaredError(),\n",
    "                  optimizer=Adam(),\n",
    "                  metrics=[MeanAbsoluteError()])\n",
    "    \n",
    "    history = model.fit(window.train,\n",
    "                       epochs=max_epochs,\n",
    "                       validation_data=window.val,\n",
    "                       callbacks=[early_stopping])\n",
    "    \n",
    "    return history"
   ]
  },
  {
   "cell_type": "code",
   "execution_count": 9,
   "id": "1a85f354",
   "metadata": {},
   "outputs": [],
   "source": [
    "column_indices = {name: i for i, name in enumerate(train_df.columns)}"
   ]
  },
  {
   "attachments": {},
   "cell_type": "markdown",
   "id": "df308e0a",
   "metadata": {},
   "source": [
    "## CNN "
   ]
  },
  {
   "attachments": {},
   "cell_type": "markdown",
   "id": "efa01851",
   "metadata": {},
   "source": [
    "### Multi-step model "
   ]
  },
  {
   "cell_type": "code",
   "execution_count": 10,
   "id": "78dec5fe",
   "metadata": {},
   "outputs": [],
   "source": [
    "KERNEL_WIDTH = 3\n",
    "LABEL_WIDTH = 7\n",
    "INPUT_WIDTH = LABEL_WIDTH + KERNEL_WIDTH - 1\n",
    "\n",
    "multi_window = DataWindow(input_width=INPUT_WIDTH, label_width=LABEL_WIDTH, shift=1, label_columns=['Close'])"
   ]
  },
  {
   "cell_type": "code",
   "execution_count": 11,
   "id": "58fc36f1",
   "metadata": {},
   "outputs": [
    {
     "data": {
      "text/html": [
       "<div>\n",
       "<style scoped>\n",
       "    .dataframe tbody tr th:only-of-type {\n",
       "        vertical-align: middle;\n",
       "    }\n",
       "\n",
       "    .dataframe tbody tr th {\n",
       "        vertical-align: top;\n",
       "    }\n",
       "\n",
       "    .dataframe thead th {\n",
       "        text-align: right;\n",
       "    }\n",
       "</style>\n",
       "<table border=\"1\" class=\"dataframe\">\n",
       "  <thead>\n",
       "    <tr style=\"text-align: right;\">\n",
       "      <th></th>\n",
       "      <th>Open</th>\n",
       "      <th>High</th>\n",
       "      <th>Low</th>\n",
       "      <th>Close</th>\n",
       "      <th>Volume</th>\n",
       "      <th>ScorePositive</th>\n",
       "      <th>ScoreNegative</th>\n",
       "      <th>ScoreNeutral</th>\n",
       "      <th>Coin_timestamp</th>\n",
       "    </tr>\n",
       "  </thead>\n",
       "  <tbody>\n",
       "    <tr>\n",
       "      <th>0</th>\n",
       "      <td>0.952530</td>\n",
       "      <td>0.990962</td>\n",
       "      <td>0.972375</td>\n",
       "      <td>1.000000</td>\n",
       "      <td>0.153933</td>\n",
       "      <td>0.027517</td>\n",
       "      <td>0.990777</td>\n",
       "      <td>0.000095</td>\n",
       "      <td>0.000000</td>\n",
       "    </tr>\n",
       "    <tr>\n",
       "      <th>1</th>\n",
       "      <td>1.000000</td>\n",
       "      <td>0.992846</td>\n",
       "      <td>0.991715</td>\n",
       "      <td>0.988159</td>\n",
       "      <td>0.201746</td>\n",
       "      <td>0.027128</td>\n",
       "      <td>0.980765</td>\n",
       "      <td>0.000000</td>\n",
       "      <td>0.003937</td>\n",
       "    </tr>\n",
       "    <tr>\n",
       "      <th>2</th>\n",
       "      <td>0.988303</td>\n",
       "      <td>0.979937</td>\n",
       "      <td>0.956979</td>\n",
       "      <td>0.957410</td>\n",
       "      <td>0.274412</td>\n",
       "      <td>0.167427</td>\n",
       "      <td>0.592638</td>\n",
       "      <td>0.276612</td>\n",
       "      <td>0.007874</td>\n",
       "    </tr>\n",
       "    <tr>\n",
       "      <th>3</th>\n",
       "      <td>0.957630</td>\n",
       "      <td>0.976309</td>\n",
       "      <td>0.954138</td>\n",
       "      <td>0.937980</td>\n",
       "      <td>0.408148</td>\n",
       "      <td>0.273763</td>\n",
       "      <td>0.273044</td>\n",
       "      <td>0.504568</td>\n",
       "      <td>0.011811</td>\n",
       "    </tr>\n",
       "    <tr>\n",
       "      <th>4</th>\n",
       "      <td>0.938233</td>\n",
       "      <td>0.959680</td>\n",
       "      <td>0.853625</td>\n",
       "      <td>0.857264</td>\n",
       "      <td>0.328052</td>\n",
       "      <td>0.339681</td>\n",
       "      <td>0.468234</td>\n",
       "      <td>0.234136</td>\n",
       "      <td>0.015748</td>\n",
       "    </tr>\n",
       "  </tbody>\n",
       "</table>\n",
       "</div>"
      ],
      "text/plain": [
       "       Open      High       Low     Close    Volume  ScorePositive  \\\n",
       "0  0.952530  0.990962  0.972375  1.000000  0.153933       0.027517   \n",
       "1  1.000000  0.992846  0.991715  0.988159  0.201746       0.027128   \n",
       "2  0.988303  0.979937  0.956979  0.957410  0.274412       0.167427   \n",
       "3  0.957630  0.976309  0.954138  0.937980  0.408148       0.273763   \n",
       "4  0.938233  0.959680  0.853625  0.857264  0.328052       0.339681   \n",
       "\n",
       "   ScoreNegative  ScoreNeutral  Coin_timestamp  \n",
       "0       0.990777      0.000095        0.000000  \n",
       "1       0.980765      0.000000        0.003937  \n",
       "2       0.592638      0.276612        0.007874  \n",
       "3       0.273044      0.504568        0.011811  \n",
       "4       0.468234      0.234136        0.015748  "
      ]
     },
     "execution_count": 11,
     "metadata": {},
     "output_type": "execute_result"
    }
   ],
   "source": [
    "train_df.head()"
   ]
  },
  {
   "cell_type": "code",
   "execution_count": 12,
   "id": "97eb4f56",
   "metadata": {
    "collapsed": true
   },
   "outputs": [
    {
     "name": "stdout",
     "output_type": "stream",
     "text": [
      "Epoch 1/50\n",
      "8/8 [==============================] - 2s 58ms/step - loss: 0.3016 - mean_absolute_error: 0.4507 - val_loss: 0.0033 - val_mean_absolute_error: 0.0402\n",
      "Epoch 2/50\n",
      "8/8 [==============================] - 0s 11ms/step - loss: 0.2288 - mean_absolute_error: 0.3820 - val_loss: 0.0211 - val_mean_absolute_error: 0.1277\n",
      "Epoch 3/50\n",
      "8/8 [==============================] - 0s 10ms/step - loss: 0.1243 - mean_absolute_error: 0.2894 - val_loss: 0.1155 - val_mean_absolute_error: 0.3150\n",
      "Epoch 4/50\n",
      "8/8 [==============================] - 0s 11ms/step - loss: 0.0825 - mean_absolute_error: 0.2428 - val_loss: 0.1700 - val_mean_absolute_error: 0.3844\n",
      "2/2 [==============================] - 0s 3ms/step - loss: 0.1700 - mean_absolute_error: 0.3844\n",
      "驗證集的MSE 0.3843677341938019\n",
      "測試集的MSE 0.4032084047794342\n"
     ]
    }
   ],
   "source": [
    "\n",
    "ms_cnn_model = Sequential([\n",
    "    Conv1D(64, activation='relu', kernel_size=(KERNEL_WIDTH)),\n",
    "    LSTM(32, return_sequences=True),\n",
    "    Dense(1,kernel_initializer=tf.initializers.zeros),\n",
    "])\n",
    "\n",
    "history = compile_and_fit(ms_cnn_model, multi_window)\n",
    "\n",
    "# ms_val_performance = {}\n",
    "ms_performance = {}\n",
    "ms_val_performance = {}\n",
    "ms_performance = {}\n",
    "\n",
    "ms_val_performance['CNN'] = ms_cnn_model.evaluate(multi_window.val)\n",
    "ms_performance['CNN'] = ms_cnn_model.evaluate(multi_window.test, verbose=0)\n",
    "print(f\"驗證集的MSE {ms_val_performance['CNN'][1]}\")\n",
    "print(f\"測試集的MSE {ms_performance['CNN'][1]}\")\n"
   ]
  },
  {
   "cell_type": "code",
   "execution_count": 13,
   "id": "e1ede146",
   "metadata": {},
   "outputs": [
    {
     "data": {
      "text/plain": [
       "113.41145412666035"
      ]
     },
     "execution_count": 13,
     "metadata": {},
     "output_type": "execute_result"
    }
   ],
   "source": [
    "# 縮限的MSE需要調整為原本範圍\n",
    "df_original = pd.read_csv('data/BTC_final.csv')\n",
    "((df_original['Close'].max()-df_original['Close'].min())*(0.4032084047794342))**0.5"
   ]
  },
  {
   "cell_type": "code",
   "execution_count": 14,
   "id": "15db7b4e",
   "metadata": {},
   "outputs": [
    {
     "data": {
      "image/png": "[encoded data removed]",
      "text/plain": [
       "<IPython.core.display.Image object>"
      ]
     },
     "execution_count": 14,
     "metadata": {},
     "output_type": "execute_result"
    }
   ],
   "source": [
    "from keras.utils import plot_model\n",
    "tf.keras.utils.plot_model(ms_cnn_model, to_file='figure/Functional_API_model.png')"
   ]
  },
  {
   "cell_type": "code",
   "execution_count": 4,
   "id": "054d78ea",
   "metadata": {},
   "outputs": [
    {
     "data": {
      "image/png": "[encoded data removed]",
      "text/plain": [
       "<Figure size 640x480 with 1 Axes>"
      ]
     },
     "metadata": {},
     "output_type": "display_data"
    }
   ],
   "source": [
    "ms_mae_test=[425.67469182453505,61.16331362602122,55.30109908562742]\n",
    "\n",
    "x = np.arange(len(ms_mae_test))\n",
    "labels = [ 'SARIMAX','LSTM','CNN-General']\n",
    "\n",
    "plt.bar(x,ms_mae_test, width=0.25, color='white', edgecolor='black', hatch='/', label='Test')\n",
    "\n",
    "for i in x:\n",
    "    plt.text(x=i, y=ms_mae_test[i]+ 0.45, s=str(round(ms_mae_test[i], 3)), ha='center')\n",
    "\n",
    "\n",
    "\n",
    "plt.xlabel('Models')\n",
    "plt.ylabel('Mean absolute error')\n",
    "plt.xticks(ticks=x, labels=labels)\n",
    "plt.legend(loc='best')\n",
    "plt.tight_layout()\n",
    "plt.savefig('peixeiro.png', dpi=300)"
   ]
  }
 ],
 "metadata": {
  "kernelspec": {
   "display_name": "Python 3 (ipykernel)",
   "language": "python",
   "name": "python3"
  },
  "language_info": {
   "codemirror_mode": {
    "name": "ipython",
    "version": 3
   },
   "file_extension": ".py",
   "mimetype": "text/x-python",
   "name": "python",
   "nbconvert_exporter": "python",
   "pygments_lexer": "ipython3",
   "version": "3.10.9"
  }
 },
 "nbformat": 4,
 "nbformat_minor": 5
}
