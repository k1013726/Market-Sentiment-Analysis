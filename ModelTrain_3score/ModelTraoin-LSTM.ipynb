{
 "cells": [
  {
   "cell_type": "code",
   "execution_count": 1,
   "metadata": {},
   "outputs": [],
   "source": [
    "import datetime\n",
    "\n",
    "import numpy as np\n",
    "import pandas as pd\n",
    "import seaborn as sns\n",
    "import tensorflow as tf\n",
    "import matplotlib.pyplot as plt\n",
    "\n",
    "from tensorflow.keras import Model, Sequential\n",
    "\n",
    "from tensorflow.keras.optimizers import Adam\n",
    "from tensorflow.keras.callbacks import EarlyStopping\n",
    "from tensorflow.keras.losses import MeanSquaredError\n",
    "from tensorflow.keras.metrics import MeanAbsoluteError\n",
    "\n",
    "from tensorflow.keras.layers import Dense, Conv1D, LSTM, Lambda, Reshape, RNN, LSTMCell,ConvLSTM2D\n",
    "\n",
    "import warnings\n",
    "warnings.filterwarnings('ignore')"
   ]
  },
  {
   "cell_type": "code",
   "execution_count": 2,
   "metadata": {},
   "outputs": [],
   "source": [
    "plt.rcParams['figure.figsize'] = (10, 7.5)\n",
    "plt.rcParams['axes.grid'] = False"
   ]
  },
  {
   "cell_type": "code",
   "execution_count": 3,
   "metadata": {},
   "outputs": [
    {
     "name": "stdout",
     "output_type": "stream",
     "text": [
      "2.12.0\n"
     ]
    }
   ],
   "source": [
    "print(tf.__version__)"
   ]
  },
  {
   "cell_type": "code",
   "execution_count": 4,
   "metadata": {},
   "outputs": [],
   "source": [
    "tf.random.set_seed(42)\n",
    "np.random.seed(42)"
   ]
  },
  {
   "cell_type": "code",
   "execution_count": 6,
   "metadata": {},
   "outputs": [
    {
     "name": "stdout",
     "output_type": "stream",
     "text": [
      "(255, 9) (73, 9) (37, 9)\n"
     ]
    }
   ],
   "source": [
    "# #擁有情緒分數\n",
    "train_df = pd.read_csv('data/train.csv', index_col=0)\n",
    "val_df = pd.read_csv('data/val.csv', index_col=0)\n",
    "test_df = pd.read_csv('data/test.csv', index_col=0)\n",
    "print(train_df.shape, val_df.shape, test_df.shape)"
   ]
  },
  {
   "cell_type": "code",
   "execution_count": 7,
   "metadata": {},
   "outputs": [
    {
     "data": {
      "text/html": [
       "<div>\n",
       "<style scoped>\n",
       "    .dataframe tbody tr th:only-of-type {\n",
       "        vertical-align: middle;\n",
       "    }\n",
       "\n",
       "    .dataframe tbody tr th {\n",
       "        vertical-align: top;\n",
       "    }\n",
       "\n",
       "    .dataframe thead th {\n",
       "        text-align: right;\n",
       "    }\n",
       "</style>\n",
       "<table border=\"1\" class=\"dataframe\">\n",
       "  <thead>\n",
       "    <tr style=\"text-align: right;\">\n",
       "      <th></th>\n",
       "      <th>count</th>\n",
       "      <th>mean</th>\n",
       "      <th>std</th>\n",
       "      <th>min</th>\n",
       "      <th>25%</th>\n",
       "      <th>50%</th>\n",
       "      <th>75%</th>\n",
       "      <th>max</th>\n",
       "    </tr>\n",
       "  </thead>\n",
       "  <tbody>\n",
       "    <tr>\n",
       "      <th>Open</th>\n",
       "      <td>255.0</td>\n",
       "      <td>0.475870</td>\n",
       "      <td>0.324374</td>\n",
       "      <td>0.0</td>\n",
       "      <td>0.131029</td>\n",
       "      <td>0.561992</td>\n",
       "      <td>0.773590</td>\n",
       "      <td>1.0</td>\n",
       "    </tr>\n",
       "    <tr>\n",
       "      <th>High</th>\n",
       "      <td>255.0</td>\n",
       "      <td>0.482538</td>\n",
       "      <td>0.330615</td>\n",
       "      <td>0.0</td>\n",
       "      <td>0.130131</td>\n",
       "      <td>0.561767</td>\n",
       "      <td>0.790308</td>\n",
       "      <td>1.0</td>\n",
       "    </tr>\n",
       "    <tr>\n",
       "      <th>Low</th>\n",
       "      <td>255.0</td>\n",
       "      <td>0.477884</td>\n",
       "      <td>0.312671</td>\n",
       "      <td>0.0</td>\n",
       "      <td>0.140670</td>\n",
       "      <td>0.526522</td>\n",
       "      <td>0.757242</td>\n",
       "      <td>1.0</td>\n",
       "    </tr>\n",
       "    <tr>\n",
       "      <th>Close</th>\n",
       "      <td>255.0</td>\n",
       "      <td>0.472531</td>\n",
       "      <td>0.323701</td>\n",
       "      <td>0.0</td>\n",
       "      <td>0.130102</td>\n",
       "      <td>0.527627</td>\n",
       "      <td>0.772061</td>\n",
       "      <td>1.0</td>\n",
       "    </tr>\n",
       "    <tr>\n",
       "      <th>Volume</th>\n",
       "      <td>255.0</td>\n",
       "      <td>0.223899</td>\n",
       "      <td>0.140210</td>\n",
       "      <td>0.0</td>\n",
       "      <td>0.139343</td>\n",
       "      <td>0.209760</td>\n",
       "      <td>0.277317</td>\n",
       "      <td>1.0</td>\n",
       "    </tr>\n",
       "    <tr>\n",
       "      <th>ScorePositive</th>\n",
       "      <td>255.0</td>\n",
       "      <td>0.185835</td>\n",
       "      <td>0.139091</td>\n",
       "      <td>0.0</td>\n",
       "      <td>0.074279</td>\n",
       "      <td>0.177265</td>\n",
       "      <td>0.269369</td>\n",
       "      <td>1.0</td>\n",
       "    </tr>\n",
       "    <tr>\n",
       "      <th>ScoreNegative</th>\n",
       "      <td>255.0</td>\n",
       "      <td>0.460104</td>\n",
       "      <td>0.205251</td>\n",
       "      <td>0.0</td>\n",
       "      <td>0.342141</td>\n",
       "      <td>0.452662</td>\n",
       "      <td>0.583187</td>\n",
       "      <td>1.0</td>\n",
       "    </tr>\n",
       "    <tr>\n",
       "      <th>ScoreNeutral</th>\n",
       "      <td>255.0</td>\n",
       "      <td>0.395870</td>\n",
       "      <td>0.185510</td>\n",
       "      <td>0.0</td>\n",
       "      <td>0.296977</td>\n",
       "      <td>0.378257</td>\n",
       "      <td>0.473426</td>\n",
       "      <td>1.0</td>\n",
       "    </tr>\n",
       "    <tr>\n",
       "      <th>Coin_timestamp</th>\n",
       "      <td>255.0</td>\n",
       "      <td>0.500000</td>\n",
       "      <td>0.290379</td>\n",
       "      <td>0.0</td>\n",
       "      <td>0.250000</td>\n",
       "      <td>0.500000</td>\n",
       "      <td>0.750000</td>\n",
       "      <td>1.0</td>\n",
       "    </tr>\n",
       "  </tbody>\n",
       "</table>\n",
       "</div>"
      ],
      "text/plain": [
       "                count      mean       std  min       25%       50%       75%  \\\n",
       "Open            255.0  0.475870  0.324374  0.0  0.131029  0.561992  0.773590   \n",
       "High            255.0  0.482538  0.330615  0.0  0.130131  0.561767  0.790308   \n",
       "Low             255.0  0.477884  0.312671  0.0  0.140670  0.526522  0.757242   \n",
       "Close           255.0  0.472531  0.323701  0.0  0.130102  0.527627  0.772061   \n",
       "Volume          255.0  0.223899  0.140210  0.0  0.139343  0.209760  0.277317   \n",
       "ScorePositive   255.0  0.185835  0.139091  0.0  0.074279  0.177265  0.269369   \n",
       "ScoreNegative   255.0  0.460104  0.205251  0.0  0.342141  0.452662  0.583187   \n",
       "ScoreNeutral    255.0  0.395870  0.185510  0.0  0.296977  0.378257  0.473426   \n",
       "Coin_timestamp  255.0  0.500000  0.290379  0.0  0.250000  0.500000  0.750000   \n",
       "\n",
       "                max  \n",
       "Open            1.0  \n",
       "High            1.0  \n",
       "Low             1.0  \n",
       "Close           1.0  \n",
       "Volume          1.0  \n",
       "ScorePositive   1.0  \n",
       "ScoreNegative   1.0  \n",
       "ScoreNeutral    1.0  \n",
       "Coin_timestamp  1.0  "
      ]
     },
     "execution_count": 7,
     "metadata": {},
     "output_type": "execute_result"
    }
   ],
   "source": [
    "train_df.describe().transpose()"
   ]
  },
  {
   "cell_type": "code",
   "execution_count": 8,
   "metadata": {},
   "outputs": [],
   "source": [
    "class DataWindow():\n",
    "    def __init__(self, input_width, label_width, shift, \n",
    "                 train_df=train_df, val_df=val_df, test_df=test_df, \n",
    "                 label_columns=None):\n",
    "        \n",
    "        self.train_df = train_df\n",
    "        self.val_df = val_df\n",
    "        self.test_df = test_df\n",
    "        \n",
    "        self.label_columns = label_columns\n",
    "        if label_columns is not None:\n",
    "            self.label_columns_indices = {name: i for i, name in enumerate(label_columns)}\n",
    "        self.column_indices = {name: i for i, name in enumerate(train_df.columns)}\n",
    "        \n",
    "        self.input_width = input_width\n",
    "        self.label_width = label_width\n",
    "        self.shift = shift\n",
    "        \n",
    "        self.total_window_size = input_width + shift\n",
    "        \n",
    "        self.input_slice = slice(0, input_width)\n",
    "        self.input_indices = np.arange(self.total_window_size)[self.input_slice]\n",
    "        \n",
    "        self.label_start = self.total_window_size - self.label_width\n",
    "        self.labels_slice = slice(self.label_start, None)\n",
    "        self.label_indices = np.arange(self.total_window_size)[self.labels_slice]\n",
    "    \n",
    "    def split_to_inputs_labels(self, features):\n",
    "        inputs = features[:, self.input_slice, :]\n",
    "        labels = features[:, self.labels_slice, :]\n",
    "        if self.label_columns is not None:\n",
    "            labels = tf.stack(\n",
    "                [labels[:,:,self.column_indices[name]] for name in self.label_columns],\n",
    "                axis=-1\n",
    "            )\n",
    "        inputs.set_shape([None, self.input_width, None])\n",
    "        labels.set_shape([None, self.label_width, None])\n",
    "        \n",
    "        return inputs, labels\n",
    "    \n",
    "    def plot(self, model=None, plot_col='Close', max_subplots=3):\n",
    "        inputs, labels = self.sample_batch\n",
    "        \n",
    "        plt.figure(figsize=(12, 8))\n",
    "        plot_col_index = self.column_indices[plot_col]\n",
    "        max_n = min(max_subplots, len(inputs))\n",
    "        \n",
    "        for n in range(max_n):\n",
    "            plt.subplot(3, 1, n+1)\n",
    "            plt.ylabel(f'{plot_col} [scaled]')\n",
    "            plt.plot(self.input_indices, inputs[n, :, plot_col_index],\n",
    "                     label='Inputs', marker='.', zorder=-10)\n",
    "\n",
    "            if self.label_columns:\n",
    "              label_col_index = self.label_columns_indices.get(plot_col, None)\n",
    "            else:\n",
    "              label_col_index = plot_col_index\n",
    "\n",
    "            if label_col_index is None:\n",
    "              continue\n",
    "\n",
    "            plt.scatter(self.label_indices, labels[n, :, label_col_index],\n",
    "                        edgecolors='k', marker='s', label='Labels', c='green', s=64)\n",
    "            if model is not None:\n",
    "              predictions = model(inputs)\n",
    "              plt.scatter(self.label_indices, predictions[n, :, label_col_index],\n",
    "                          marker='X', edgecolors='k', label='Predictions',\n",
    "                          c='red', s=64)\n",
    "\n",
    "            if n == 0:\n",
    "              plt.legend()\n",
    "\n",
    "        plt.xlabel('Time (h)')\n",
    "        \n",
    "    def make_dataset(self, data):\n",
    "        data = np.array(data, dtype=np.float32)\n",
    "        ds = tf.keras.preprocessing.timeseries_dataset_from_array(\n",
    "            data=data,\n",
    "            targets=None,\n",
    "            sequence_length=self.total_window_size,\n",
    "            sequence_stride=1,\n",
    "            shuffle=True,\n",
    "            batch_size=32\n",
    "        )\n",
    "        \n",
    "        ds = ds.map(self.split_to_inputs_labels)\n",
    "        return ds\n",
    "    \n",
    "    @property\n",
    "    def train(self):\n",
    "        return self.make_dataset(self.train_df)\n",
    "    \n",
    "    @property\n",
    "    def val(self):\n",
    "        return self.make_dataset(self.val_df)\n",
    "    \n",
    "    @property\n",
    "    def test(self):\n",
    "        return self.make_dataset(self.test_df)\n",
    "    \n",
    "    @property\n",
    "    def sample_batch(self):\n",
    "        result = getattr(self, '_sample_batch', None)\n",
    "        if result is None:\n",
    "            result = next(iter(self.train))\n",
    "            self._sample_batch = result\n",
    "        return result"
   ]
  },
  {
   "cell_type": "code",
   "execution_count": 9,
   "metadata": {},
   "outputs": [],
   "source": [
    "def compile_and_fit(model, window, patience=3, max_epochs=50):\n",
    "    early_stopping = EarlyStopping(monitor='val_loss',\n",
    "                                   patience=patience,\n",
    "                                   mode='min')\n",
    "    \n",
    "    model.compile(loss=MeanSquaredError(),\n",
    "                  optimizer=Adam(),\n",
    "                  metrics=[MeanAbsoluteError()])\n",
    "    \n",
    "    history = model.fit(window.train,\n",
    "                       epochs=max_epochs,\n",
    "                       validation_data=window.val,\n",
    "                       callbacks=[early_stopping])\n",
    "    \n",
    "    return history"
   ]
  },
  {
   "cell_type": "code",
   "execution_count": 10,
   "metadata": {},
   "outputs": [],
   "source": [
    "column_indices = {name: i for i, name in enumerate(train_df.columns)}"
   ]
  },
  {
   "attachments": {},
   "cell_type": "markdown",
   "metadata": {},
   "source": [
    "## LSTM"
   ]
  },
  {
   "attachments": {},
   "cell_type": "markdown",
   "metadata": {},
   "source": [
    "### Multi-step model "
   ]
  },
  {
   "cell_type": "code",
   "execution_count": 11,
   "metadata": {},
   "outputs": [],
   "source": [
    "multi_window = DataWindow(input_width=7, label_width=7, shift=1, label_columns=['Close'])"
   ]
  },
  {
   "cell_type": "code",
   "execution_count": 12,
   "metadata": {},
   "outputs": [],
   "source": [
    "ms_mae_val = []\n",
    "ms_mae_test = []"
   ]
  },
  {
   "cell_type": "code",
   "execution_count": 13,
   "metadata": {},
   "outputs": [
    {
     "name": "stdout",
     "output_type": "stream",
     "text": [
      "Epoch 1/50\n",
      "8/8 [==============================] - 2s 57ms/step - loss: 0.3031 - mean_absolute_error: 0.4504 - val_loss: 0.0035 - val_mean_absolute_error: 0.0420\n",
      "Epoch 2/50\n",
      "8/8 [==============================] - 0s 11ms/step - loss: 0.2267 - mean_absolute_error: 0.3796 - val_loss: 0.0233 - val_mean_absolute_error: 0.1320\n",
      "Epoch 3/50\n",
      "8/8 [==============================] - 0s 10ms/step - loss: 0.1251 - mean_absolute_error: 0.2801 - val_loss: 0.1323 - val_mean_absolute_error: 0.3115\n",
      "Epoch 4/50\n",
      "8/8 [==============================] - 0s 11ms/step - loss: 0.1078 - mean_absolute_error: 0.2668 - val_loss: 0.0743 - val_mean_absolute_error: 0.2418\n",
      "3/3 [==============================] - 0s 2ms/step - loss: 0.0743 - mean_absolute_error: 0.2418\n",
      "驗證集的MSE 0.24177297949790955\n",
      "測試集的MSE 0.2629375755786896\n"
     ]
    }
   ],
   "source": [
    "ms_lstm_model = Sequential([\n",
    "    LSTM(64, return_sequences=True),\n",
    "    Dense(units=1,kernel_initializer=tf.initializers.zeros),\n",
    "])\n",
    "\n",
    "history = compile_and_fit(ms_lstm_model, multi_window)\n",
    "\n",
    "ms_val_performance = {}\n",
    "ms_performance = {}\n",
    "\n",
    "ms_val_performance['LSTM'] = ms_lstm_model.evaluate(multi_window.val)\n",
    "ms_performance['LSTM'] = ms_lstm_model.evaluate(multi_window.test, verbose=0)\n",
    "\n",
    "print(f\"驗證集的MSE {ms_val_performance['LSTM'][1]}\")\n",
    "print(f\"測試集的MSE {ms_performance['LSTM'][1]}\")"
   ]
  },
  {
   "cell_type": "code",
   "execution_count": 14,
   "metadata": {},
   "outputs": [
    {
     "data": {
      "image/png": "[encoded data removed]",
      "text/plain": [
       "<IPython.core.display.Image object>"
      ]
     },
     "execution_count": 14,
     "metadata": {},
     "output_type": "execute_result"
    }
   ],
   "source": [
    "from keras.utils import plot_model\n",
    "tf.keras.utils.plot_model(ms_lstm_model, to_file='Functional_API_model.png')"
   ]
  }
 ],
 "metadata": {
  "kernelspec": {
   "display_name": "Python 3",
   "language": "python",
   "name": "python3"
  },
  "language_info": {
   "codemirror_mode": {
    "name": "ipython",
    "version": 3
   },
   "file_extension": ".py",
   "mimetype": "text/x-python",
   "name": "python",
   "nbconvert_exporter": "python",
   "pygments_lexer": "ipython3",
   "version": "3.10.9"
  },
  "orig_nbformat": 4
 },
 "nbformat": 4,
 "nbformat_minor": 2
}
