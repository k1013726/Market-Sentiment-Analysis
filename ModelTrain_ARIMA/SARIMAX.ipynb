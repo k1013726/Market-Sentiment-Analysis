{
 "cells": [
  {
   "cell_type": "code",
   "execution_count": 1,
   "id": "accessible-forth",
   "metadata": {},
   "outputs": [],
   "source": [
    "from sklearn.metrics import mean_squared_error, mean_absolute_error\n",
    "from statsmodels.graphics.tsaplots import plot_acf, plot_pacf\n",
    "from statsmodels.tsa.seasonal import seasonal_decompose, STL\n",
    "from statsmodels.stats.diagnostic import acorr_ljungbox\n",
    "from statsmodels.tsa.statespace.sarimax import SARIMAX\n",
    "from statsmodels.tsa.arima_process import ArmaProcess\n",
    "from statsmodels.graphics.gofplots import qqplot\n",
    "from statsmodels.tsa.stattools import adfuller\n",
    "from tqdm import tqdm_notebook\n",
    "from itertools import product\n",
    "from typing import Union\n",
    "\n",
    "import matplotlib.pyplot as plt\n",
    "import statsmodels.api as sm\n",
    "import pandas as pd\n",
    "import numpy as np\n",
    "\n",
    "import datetime\n",
    "import warnings\n",
    "warnings.filterwarnings('ignore')\n",
    "\n",
    "%matplotlib inline"
   ]
  },
  {
   "cell_type": "code",
   "execution_count": 2,
   "id": "demanding-stevens",
   "metadata": {},
   "outputs": [
    {
     "data": {
      "text/html": [
       "<div>\n",
       "<style scoped>\n",
       "    .dataframe tbody tr th:only-of-type {\n",
       "        vertical-align: middle;\n",
       "    }\n",
       "\n",
       "    .dataframe tbody tr th {\n",
       "        vertical-align: top;\n",
       "    }\n",
       "\n",
       "    .dataframe thead th {\n",
       "        text-align: right;\n",
       "    }\n",
       "</style>\n",
       "<table border=\"1\" class=\"dataframe\">\n",
       "  <thead>\n",
       "    <tr style=\"text-align: right;\">\n",
       "      <th></th>\n",
       "      <th>index</th>\n",
       "      <th>Date</th>\n",
       "      <th>Open</th>\n",
       "      <th>High</th>\n",
       "      <th>Low</th>\n",
       "      <th>Close</th>\n",
       "      <th>Adj Close</th>\n",
       "      <th>Volume</th>\n",
       "      <th>SMA_7</th>\n",
       "      <th>SMA_14</th>\n",
       "      <th>EMA_7</th>\n",
       "      <th>EMA_14</th>\n",
       "      <th>RSI</th>\n",
       "      <th>Stoch_RSI</th>\n",
       "      <th>Upper_BB</th>\n",
       "      <th>Lower_BB</th>\n",
       "      <th>MACD</th>\n",
       "      <th>ScorePositive</th>\n",
       "      <th>ScoreNegative</th>\n",
       "      <th>ScoreNeutral</th>\n",
       "    </tr>\n",
       "  </thead>\n",
       "  <tbody>\n",
       "    <tr>\n",
       "      <th>0</th>\n",
       "      <td>27</td>\n",
       "      <td>2018-01-28</td>\n",
       "      <td>11475.299805</td>\n",
       "      <td>12040.299805</td>\n",
       "      <td>11475.299805</td>\n",
       "      <td>11786.299805</td>\n",
       "      <td>11786.299805</td>\n",
       "      <td>8.350360e+09</td>\n",
       "      <td>11259.571708</td>\n",
       "      <td>11635.535854</td>\n",
       "      <td>11516.047002</td>\n",
       "      <td>11884.539097</td>\n",
       "      <td>37.129744</td>\n",
       "      <td>0.560353</td>\n",
       "      <td>15192.188206</td>\n",
       "      <td>9606.291969</td>\n",
       "      <td>-761.452864</td>\n",
       "      <td>0.023502</td>\n",
       "      <td>0.057272</td>\n",
       "      <td>0.919226</td>\n",
       "    </tr>\n",
       "    <tr>\n",
       "      <th>1</th>\n",
       "      <td>28</td>\n",
       "      <td>2018-01-29</td>\n",
       "      <td>11755.500000</td>\n",
       "      <td>11875.599609</td>\n",
       "      <td>11179.200195</td>\n",
       "      <td>11296.400391</td>\n",
       "      <td>11296.400391</td>\n",
       "      <td>7.107360e+09</td>\n",
       "      <td>11311.714565</td>\n",
       "      <td>11455.293039</td>\n",
       "      <td>11461.122271</td>\n",
       "      <td>11804.864485</td>\n",
       "      <td>34.531168</td>\n",
       "      <td>0.835160</td>\n",
       "      <td>14866.144405</td>\n",
       "      <td>9602.435771</td>\n",
       "      <td>-744.090581</td>\n",
       "      <td>0.163158</td>\n",
       "      <td>0.294283</td>\n",
       "      <td>0.542558</td>\n",
       "    </tr>\n",
       "    <tr>\n",
       "      <th>2</th>\n",
       "      <td>29</td>\n",
       "      <td>2018-01-30</td>\n",
       "      <td>11306.799805</td>\n",
       "      <td>11307.200195</td>\n",
       "      <td>10036.200195</td>\n",
       "      <td>10106.299805</td>\n",
       "      <td>10106.299805</td>\n",
       "      <td>8.637860e+09</td>\n",
       "      <td>11202.843052</td>\n",
       "      <td>11356.421596</td>\n",
       "      <td>11122.356157</td>\n",
       "      <td>11575.251876</td>\n",
       "      <td>40.137091</td>\n",
       "      <td>1.000000</td>\n",
       "      <td>14450.867575</td>\n",
       "      <td>9531.012601</td>\n",
       "      <td>-816.944788</td>\n",
       "      <td>0.102038</td>\n",
       "      <td>0.260553</td>\n",
       "      <td>0.637410</td>\n",
       "    </tr>\n",
       "    <tr>\n",
       "      <th>3</th>\n",
       "      <td>30</td>\n",
       "      <td>2018-01-31</td>\n",
       "      <td>10108.200195</td>\n",
       "      <td>10381.599609</td>\n",
       "      <td>9777.419922</td>\n",
       "      <td>10221.099609</td>\n",
       "      <td>10221.099609</td>\n",
       "      <td>8.041160e+09</td>\n",
       "      <td>11040.228655</td>\n",
       "      <td>11287.314453</td>\n",
       "      <td>10897.011838</td>\n",
       "      <td>11392.534553</td>\n",
       "      <td>42.917380</td>\n",
       "      <td>1.000000</td>\n",
       "      <td>14318.165125</td>\n",
       "      <td>9345.245031</td>\n",
       "      <td>-855.556563</td>\n",
       "      <td>0.098884</td>\n",
       "      <td>0.268044</td>\n",
       "      <td>0.633072</td>\n",
       "    </tr>\n",
       "    <tr>\n",
       "      <th>4</th>\n",
       "      <td>31</td>\n",
       "      <td>2018-02-01</td>\n",
       "      <td>10237.299805</td>\n",
       "      <td>10288.799805</td>\n",
       "      <td>8812.280273</td>\n",
       "      <td>9170.540039</td>\n",
       "      <td>9170.540039</td>\n",
       "      <td>9.959400e+09</td>\n",
       "      <td>10741.820033</td>\n",
       "      <td>11122.717285</td>\n",
       "      <td>10465.350527</td>\n",
       "      <td>11093.196564</td>\n",
       "      <td>34.828472</td>\n",
       "      <td>0.651247</td>\n",
       "      <td>14132.400116</td>\n",
       "      <td>9050.004084</td>\n",
       "      <td>-959.863343</td>\n",
       "      <td>0.075772</td>\n",
       "      <td>0.452595</td>\n",
       "      <td>0.471633</td>\n",
       "    </tr>\n",
       "  </tbody>\n",
       "</table>\n",
       "</div>"
      ],
      "text/plain": [
       "   index        Date          Open          High           Low         Close  \\\n",
       "0     27  2018-01-28  11475.299805  12040.299805  11475.299805  11786.299805   \n",
       "1     28  2018-01-29  11755.500000  11875.599609  11179.200195  11296.400391   \n",
       "2     29  2018-01-30  11306.799805  11307.200195  10036.200195  10106.299805   \n",
       "3     30  2018-01-31  10108.200195  10381.599609   9777.419922  10221.099609   \n",
       "4     31  2018-02-01  10237.299805  10288.799805   8812.280273   9170.540039   \n",
       "\n",
       "      Adj Close        Volume         SMA_7        SMA_14         EMA_7  \\\n",
       "0  11786.299805  8.350360e+09  11259.571708  11635.535854  11516.047002   \n",
       "1  11296.400391  7.107360e+09  11311.714565  11455.293039  11461.122271   \n",
       "2  10106.299805  8.637860e+09  11202.843052  11356.421596  11122.356157   \n",
       "3  10221.099609  8.041160e+09  11040.228655  11287.314453  10897.011838   \n",
       "4   9170.540039  9.959400e+09  10741.820033  11122.717285  10465.350527   \n",
       "\n",
       "         EMA_14        RSI  Stoch_RSI      Upper_BB     Lower_BB        MACD  \\\n",
       "0  11884.539097  37.129744   0.560353  15192.188206  9606.291969 -761.452864   \n",
       "1  11804.864485  34.531168   0.835160  14866.144405  9602.435771 -744.090581   \n",
       "2  11575.251876  40.137091   1.000000  14450.867575  9531.012601 -816.944788   \n",
       "3  11392.534553  42.917380   1.000000  14318.165125  9345.245031 -855.556563   \n",
       "4  11093.196564  34.828472   0.651247  14132.400116  9050.004084 -959.863343   \n",
       "\n",
       "   ScorePositive  ScoreNegative  ScoreNeutral  \n",
       "0       0.023502       0.057272      0.919226  \n",
       "1       0.163158       0.294283      0.542558  \n",
       "2       0.102038       0.260553      0.637410  \n",
       "3       0.098884       0.268044      0.633072  \n",
       "4       0.075772       0.452595      0.471633  "
      ]
     },
     "execution_count": 2,
     "metadata": {},
     "output_type": "execute_result"
    }
   ],
   "source": [
    "df = pd.read_csv('data\\BTC_final.csv')\n",
    "df.head()"
   ]
  },
  {
   "cell_type": "code",
   "execution_count": 3,
   "id": "consolidated-refund",
   "metadata": {},
   "outputs": [],
   "source": [
    "target = df['Adj Close']\n",
    "exog = df[['Open', 'High', 'Low', 'Volume', 'SMA_7','SMA_14','EMA_7','EMA_14','RSI','Stoch_RSI','Upper_BB','Lower_BB','MACD','ScorePositive','ScoreNegative','ScoreNeutral']]"
   ]
  },
  {
   "cell_type": "code",
   "execution_count": 4,
   "id": "educational-sympathy",
   "metadata": {},
   "outputs": [
    {
     "name": "stdout",
     "output_type": "stream",
     "text": [
      "ADF Statistic: -1.3639653753586114\n",
      "p-value: 0.599424531921265\n"
     ]
    }
   ],
   "source": [
    "ad_fuller_result = adfuller(target)\n",
    "\n",
    "print(f'ADF Statistic: {ad_fuller_result[0]}')\n",
    "print(f'p-value: {ad_fuller_result[1]}')"
   ]
  },
  {
   "cell_type": "code",
   "execution_count": 5,
   "id": "mysterious-sport",
   "metadata": {},
   "outputs": [
    {
     "name": "stdout",
     "output_type": "stream",
     "text": [
      "ADF Statistic: -8.311394347344411\n",
      "p-value: 3.78050429631799e-13\n"
     ]
    }
   ],
   "source": [
    "target_diff = target.diff()\n",
    "\n",
    "ad_fuller_result = adfuller(target_diff[1:])\n",
    "\n",
    "print(f'ADF Statistic: {ad_fuller_result[0]}')\n",
    "print(f'p-value: {ad_fuller_result[1]}')"
   ]
  },
  {
   "cell_type": "code",
   "execution_count": 6,
   "id": "august-physics",
   "metadata": {},
   "outputs": [],
   "source": [
    "def optimize_SARIMAX(endog: Union[pd.Series, list], exog: Union[pd.Series, list], order_list: list, d: int, D: int, s: int) -> pd.DataFrame:\n",
    "    \n",
    "    results = []\n",
    "    \n",
    "    for order in tqdm_notebook(order_list):\n",
    "        try: \n",
    "            model = SARIMAX(\n",
    "                endog,\n",
    "                exog,\n",
    "                order=(order[0], d, order[1]),\n",
    "                seasonal_order=(order[2], D, order[3], s),\n",
    "                simple_differencing=False).fit(disp=False)\n",
    "        except:\n",
    "            continue\n",
    "            \n",
    "        aic = model.aic\n",
    "        results.append([order, aic])\n",
    "        \n",
    "    result_df = pd.DataFrame(results)\n",
    "    result_df.columns = ['(p,q,P,Q)', 'AIC']\n",
    "    \n",
    "    #Sort in ascending order, lower AIC is better\n",
    "    result_df = result_df.sort_values(by='AIC', ascending=True).reset_index(drop=True)\n",
    "    \n",
    "    return result_df"
   ]
  },
  {
   "cell_type": "code",
   "execution_count": 7,
   "id": "featured-atlantic",
   "metadata": {},
   "outputs": [],
   "source": [
    "p = range(0, 5, 1)\n",
    "d = 1\n",
    "q = range(0, 5, 1)\n",
    "P = range(0, 3, 1)\n",
    "D = 0\n",
    "Q = range(0, 3, 1)\n",
    "s = 365\n",
    "\n",
    "parameters = product(p, q, P, Q)\n",
    "parameters_list = list(parameters)"
   ]
  },
  {
   "cell_type": "code",
   "execution_count": 8,
   "id": "graduate-captain",
   "metadata": {},
   "outputs": [
    {
     "data": {
      "application/vnd.jupyter.widget-view+json": {
       "model_id": "73707d97d1d54c309142fdb379e9dca4",
       "version_major": 2,
       "version_minor": 0
      },
      "text/plain": [
       "  0%|          | 0/225 [00:00<?, ?it/s]"
      ]
     },
     "metadata": {},
     "output_type": "display_data"
    },
    {
     "ename": "MemoryError",
     "evalue": "Unable to allocate 822. MiB for an array with shape (732, 732, 201) and data type float64",
     "output_type": "error",
     "traceback": [
      "\u001b[1;31m---------------------------------------------------------------------------\u001b[0m",
      "\u001b[1;31mMemoryError\u001b[0m                               Traceback (most recent call last)",
      "File \u001b[1;32mstatsmodels\\tsa\\statespace\\_kalman_smoother.pyx:1015\u001b[0m, in \u001b[0;36mstatsmodels.tsa.statespace._kalman_smoother.dKalmanSmoother.allocate_arrays\u001b[1;34m()\u001b[0m\n",
      "\u001b[1;31mMemoryError\u001b[0m: Unable to allocate 822. MiB for an array with shape (732, 732, 201) and data type float64"
     ]
    },
    {
     "ename": "",
     "evalue": "",
     "output_type": "error",
     "traceback": [
      "\u001b[1;31mCanceled future for execute_request message before replies were done"
     ]
    },
    {
     "ename": "",
     "evalue": "",
     "output_type": "error",
     "traceback": [
      "\u001b[1;31m在目前儲存格或上一個儲存格中執行程式碼時，Kernel 已損毀。請檢閱儲存格中的程式碼，找出失敗的可能原因。如需詳細資訊，請按一下<a href='https://aka.ms/vscodeJupyterKernelCrash'>這裡</a>。檢視 Jupyter <a href='command:jupyter.viewOutput'>記錄</a>，以取得進一步的詳細資料。"
     ]
    }
   ],
   "source": [
    "target_train = target[:200]\n",
    "exog_train = exog[:200]\n",
    "\n",
    "result_df = optimize_SARIMAX(target_train, exog_train, parameters_list, d, D, s)\n",
    "result_df"
   ]
  },
  {
   "cell_type": "code",
   "execution_count": 28,
   "id": "southeast-auction",
   "metadata": {},
   "outputs": [
    {
     "name": "stdout",
     "output_type": "stream",
     "text": [
      "                               SARIMAX Results                                \n",
      "==============================================================================\n",
      "Dep. Variable:                  Close   No. Observations:                 2151\n",
      "Model:               SARIMAX(3, 1, 3)   Log Likelihood              -13484.530\n",
      "Date:                Sun, 30 Apr 2023   AIC                          26995.060\n",
      "Time:                        01:44:59   BIC                          27068.812\n",
      "Sample:                             0   HQIC                         27022.041\n",
      "                               - 2151                                         \n",
      "Covariance Type:                  opg                                         \n",
      "==================================================================================\n",
      "                     coef    std err          z      P>|z|      [0.025      0.975]\n",
      "----------------------------------------------------------------------------------\n",
      "Open              -0.6050      0.004   -142.394      0.000      -0.613      -0.597\n",
      "High               0.6945      0.005    135.740      0.000       0.684       0.705\n",
      "Low                0.6169      0.005    124.442      0.000       0.607       0.627\n",
      "Volume          5.528e-09   7.87e-10      7.025      0.000    3.99e-09    7.07e-09\n",
      "Coin_timestamp  1.766e-05   8.05e-06      2.193      0.028    1.88e-06    3.34e-05\n",
      "CoinScore        -22.0986   1.24e-06  -1.79e+07      0.000     -22.099     -22.099\n",
      "ar.L1             -1.4594      0.003   -420.683      0.000      -1.466      -1.453\n",
      "ar.L2             -1.0724      0.006   -185.960      0.000      -1.084      -1.061\n",
      "ar.L3             -0.3753      0.006    -58.764      0.000      -0.388      -0.363\n",
      "ma.L1              1.0210      0.005    193.913      0.000       1.011       1.031\n",
      "ma.L2              0.5411      0.006     84.148      0.000       0.529       0.554\n",
      "ma.L3              0.0614      0.002     28.283      0.000       0.057       0.066\n",
      "sigma2           1.65e+04   3.45e-07   4.79e+10      0.000    1.65e+04    1.65e+04\n",
      "===================================================================================\n",
      "Ljung-Box (L1) (Q):                   0.00   Jarque-Bera (JB):             48776.91\n",
      "Prob(Q):                              0.99   Prob(JB):                         0.00\n",
      "Heteroskedasticity (H):             154.79   Skew:                            -0.27\n",
      "Prob(H) (two-sided):                  0.00   Kurtosis:                        26.33\n",
      "===================================================================================\n",
      "\n",
      "Warnings:\n",
      "[1] Covariance matrix calculated using the outer product of gradients (complex-step).\n",
      "[2] Covariance matrix is singular or near-singular, with condition number 8.55e+24. Standard errors may be unstable.\n"
     ]
    }
   ],
   "source": [
    "best_model = SARIMAX(target_train, exog_train, order=(3,1,3), seasonal_order=(0,0,0,7), simple_differencing=False)\n",
    "best_model_fit = best_model.fit(disp=False)\n",
    "\n",
    "print(best_model_fit.summary())"
   ]
  },
  {
   "cell_type": "code",
   "execution_count": 29,
   "id": "forward-collectible",
   "metadata": {},
   "outputs": [],
   "source": [
    "def recursive_forecast(endog: Union[pd.Series, list], exog: Union[pd.Series, list], train_len: int, horizon: int, window: int, method: str) -> list:\n",
    "    \n",
    "    total_len = train_len + horizon\n",
    "\n",
    "    if method == 'last':\n",
    "        pred_last_value = []\n",
    "        \n",
    "        for i in range(train_len, total_len, window):\n",
    "            last_value = endog[:i].iloc[-1]\n",
    "            pred_last_value.extend(last_value for _ in range(window))\n",
    "            \n",
    "        return pred_last_value\n",
    "    \n",
    "    elif method == 'SARIMAX':\n",
    "        pred_SARIMAX = []\n",
    "        \n",
    "        for i in range(train_len, total_len, window):\n",
    "            model = SARIMAX(endog[:i], exog[:i], order=(3,1,3), seasonal_order=(0,0,0,7), simple_differencing=False)\n",
    "            res = model.fit(disp=False)\n",
    "            predictions = res.get_prediction(exog=exog)\n",
    "            oos_pred = predictions.predicted_mean.iloc[-window:]\n",
    "            pred_SARIMAX.extend(oos_pred)\n",
    "            \n",
    "        return pred_SARIMAX"
   ]
  },
  {
   "cell_type": "code",
   "execution_count": 30,
   "id": "vanilla-missouri",
   "metadata": {},
   "outputs": [
    {
     "data": {
      "text/html": [
       "<div>\n",
       "<style scoped>\n",
       "    .dataframe tbody tr th:only-of-type {\n",
       "        vertical-align: middle;\n",
       "    }\n",
       "\n",
       "    .dataframe tbody tr th {\n",
       "        vertical-align: top;\n",
       "    }\n",
       "\n",
       "    .dataframe thead th {\n",
       "        text-align: right;\n",
       "    }\n",
       "</style>\n",
       "<table border=\"1\" class=\"dataframe\">\n",
       "  <thead>\n",
       "    <tr style=\"text-align: right;\">\n",
       "      <th></th>\n",
       "      <th>actual</th>\n",
       "      <th>pred_SARIMAX</th>\n",
       "    </tr>\n",
       "  </thead>\n",
       "  <tbody>\n",
       "    <tr>\n",
       "      <th>3066</th>\n",
       "      <td>24188.84375</td>\n",
       "      <td>24768.773977</td>\n",
       "    </tr>\n",
       "    <tr>\n",
       "      <th>3067</th>\n",
       "      <td>23947.49219</td>\n",
       "      <td>23891.057892</td>\n",
       "    </tr>\n",
       "    <tr>\n",
       "      <th>3068</th>\n",
       "      <td>23198.12695</td>\n",
       "      <td>24443.585731</td>\n",
       "    </tr>\n",
       "    <tr>\n",
       "      <th>3069</th>\n",
       "      <td>23175.37500</td>\n",
       "      <td>23356.189465</td>\n",
       "    </tr>\n",
       "    <tr>\n",
       "      <th>3070</th>\n",
       "      <td>23561.21289</td>\n",
       "      <td>22893.682834</td>\n",
       "    </tr>\n",
       "    <tr>\n",
       "      <th>3071</th>\n",
       "      <td>23522.87109</td>\n",
       "      <td>23640.721608</td>\n",
       "    </tr>\n",
       "    <tr>\n",
       "      <th>3072</th>\n",
       "      <td>23433.81641</td>\n",
       "      <td>23565.520908</td>\n",
       "    </tr>\n",
       "  </tbody>\n",
       "</table>\n",
       "</div>"
      ],
      "text/plain": [
       "           actual  pred_SARIMAX\n",
       "3066  24188.84375  24768.773977\n",
       "3067  23947.49219  23891.057892\n",
       "3068  23198.12695  24443.585731\n",
       "3069  23175.37500  23356.189465\n",
       "3070  23561.21289  22893.682834\n",
       "3071  23522.87109  23640.721608\n",
       "3072  23433.81641  23565.520908"
      ]
     },
     "execution_count": 30,
     "metadata": {},
     "output_type": "execute_result"
    }
   ],
   "source": [
    "target_train = target[:3066]\n",
    "target_test = target[3066:]\n",
    "\n",
    "pred_df = pd.DataFrame({'actual': target_test})\n",
    "\n",
    "TRAIN_LEN = len(target_train)\n",
    "HORIZON = len(target_test)\n",
    "WINDOW = 1\n",
    "\n",
    "pred_SARIMAX = recursive_forecast(target, exog, TRAIN_LEN, HORIZON, WINDOW, 'SARIMAX')\n",
    "\n",
    "pred_df['pred_SARIMAX'] = pred_SARIMAX\n",
    "\n",
    "pred_df"
   ]
  },
  {
   "cell_type": "code",
   "execution_count": 31,
   "id": "accepted-satisfaction",
   "metadata": {},
   "outputs": [
    {
     "data": {
      "text/plain": [
       "425.67469182453505"
      ]
     },
     "execution_count": 31,
     "metadata": {},
     "output_type": "execute_result"
    }
   ],
   "source": [
    "mean_absolute_error(pred_df.actual, pred_df.pred_SARIMAX)"
   ]
  }
 ],
 "metadata": {
  "kernelspec": {
   "display_name": "Python 3 (ipykernel)",
   "language": "python",
   "name": "python3"
  },
  "language_info": {
   "codemirror_mode": {
    "name": "ipython",
    "version": 3
   },
   "file_extension": ".py",
   "mimetype": "text/x-python",
   "name": "python",
   "nbconvert_exporter": "python",
   "pygments_lexer": "ipython3",
   "version": "3.10.9"
  }
 },
 "nbformat": 4,
 "nbformat_minor": 5
}
