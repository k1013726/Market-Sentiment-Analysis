{
 "cells": [
  {
   "attachments": {},
   "cell_type": "markdown",
   "metadata": {},
   "source": [
    "## 篩選比特幣資料 2022年"
   ]
  },
  {
   "cell_type": "code",
   "execution_count": 1,
   "metadata": {},
   "outputs": [],
   "source": [
    "import pandas as pd"
   ]
  },
  {
   "cell_type": "code",
   "execution_count": 12,
   "metadata": {},
   "outputs": [],
   "source": [
    "df=pd.read_csv('data/BTC-USD.csv')\n",
    "mask=[]\n",
    "for i in range(df.shape[0]):\n",
    "    mask.append((df['Date'][i].split('/')[0])=='2022')\n",
    "    "
   ]
  },
  {
   "cell_type": "code",
   "execution_count": 14,
   "metadata": {},
   "outputs": [],
   "source": [
    "df2=df[mask]\n",
    "df2.to_csv('data/BTC-2022.csv')"
   ]
  },
  {
   "attachments": {},
   "cell_type": "markdown",
   "metadata": {},
   "source": [
    "##  合併資料"
   ]
  },
  {
   "cell_type": "code",
   "execution_count": 22,
   "metadata": {},
   "outputs": [
    {
     "data": {
      "text/html": [
       "<div>\n",
       "<style scoped>\n",
       "    .dataframe tbody tr th:only-of-type {\n",
       "        vertical-align: middle;\n",
       "    }\n",
       "\n",
       "    .dataframe tbody tr th {\n",
       "        vertical-align: top;\n",
       "    }\n",
       "\n",
       "    .dataframe thead th {\n",
       "        text-align: right;\n",
       "    }\n",
       "</style>\n",
       "<table border=\"1\" class=\"dataframe\">\n",
       "  <thead>\n",
       "    <tr style=\"text-align: right;\">\n",
       "      <th></th>\n",
       "      <th>Date</th>\n",
       "      <th>Open</th>\n",
       "      <th>High</th>\n",
       "      <th>Low</th>\n",
       "      <th>Close</th>\n",
       "      <th>Volume</th>\n",
       "      <th>ScorePositive</th>\n",
       "      <th>ScoreNegative</th>\n",
       "      <th>ScoreNeutral</th>\n",
       "    </tr>\n",
       "  </thead>\n",
       "  <tbody>\n",
       "    <tr>\n",
       "      <th>0</th>\n",
       "      <td>2022/1/1</td>\n",
       "      <td>46311.74609</td>\n",
       "      <td>47827.31250</td>\n",
       "      <td>46288.48438</td>\n",
       "      <td>47686.81250</td>\n",
       "      <td>2.458267e+10</td>\n",
       "      <td>0.035623</td>\n",
       "      <td>0.955734</td>\n",
       "      <td>0.008644</td>\n",
       "    </tr>\n",
       "    <tr>\n",
       "      <th>1</th>\n",
       "      <td>2022/1/2</td>\n",
       "      <td>47680.92578</td>\n",
       "      <td>47881.40625</td>\n",
       "      <td>46856.93750</td>\n",
       "      <td>47345.21875</td>\n",
       "      <td>2.795157e+10</td>\n",
       "      <td>0.035266</td>\n",
       "      <td>0.946176</td>\n",
       "      <td>0.008557</td>\n",
       "    </tr>\n",
       "    <tr>\n",
       "      <th>2</th>\n",
       "      <td>2022/1/3</td>\n",
       "      <td>47343.54297</td>\n",
       "      <td>47510.72656</td>\n",
       "      <td>45835.96484</td>\n",
       "      <td>46458.11719</td>\n",
       "      <td>3.307163e+10</td>\n",
       "      <td>0.163539</td>\n",
       "      <td>0.575673</td>\n",
       "      <td>0.260787</td>\n",
       "    </tr>\n",
       "    <tr>\n",
       "      <th>3</th>\n",
       "      <td>2022/1/4</td>\n",
       "      <td>46458.85156</td>\n",
       "      <td>47406.54688</td>\n",
       "      <td>45752.46484</td>\n",
       "      <td>45897.57422</td>\n",
       "      <td>4.249468e+10</td>\n",
       "      <td>0.260760</td>\n",
       "      <td>0.270590</td>\n",
       "      <td>0.468649</td>\n",
       "    </tr>\n",
       "    <tr>\n",
       "      <th>4</th>\n",
       "      <td>2022/1/5</td>\n",
       "      <td>45899.35938</td>\n",
       "      <td>46929.04688</td>\n",
       "      <td>42798.22266</td>\n",
       "      <td>43569.00391</td>\n",
       "      <td>3.685108e+10</td>\n",
       "      <td>0.321027</td>\n",
       "      <td>0.456918</td>\n",
       "      <td>0.222055</td>\n",
       "    </tr>\n",
       "  </tbody>\n",
       "</table>\n",
       "</div>"
      ],
      "text/plain": [
       "       Date         Open         High          Low        Close        Volume  \\\n",
       "0  2022/1/1  46311.74609  47827.31250  46288.48438  47686.81250  2.458267e+10   \n",
       "1  2022/1/2  47680.92578  47881.40625  46856.93750  47345.21875  2.795157e+10   \n",
       "2  2022/1/3  47343.54297  47510.72656  45835.96484  46458.11719  3.307163e+10   \n",
       "3  2022/1/4  46458.85156  47406.54688  45752.46484  45897.57422  4.249468e+10   \n",
       "4  2022/1/5  45899.35938  46929.04688  42798.22266  43569.00391  3.685108e+10   \n",
       "\n",
       "   ScorePositive  ScoreNegative  ScoreNeutral  \n",
       "0       0.035623       0.955734      0.008644  \n",
       "1       0.035266       0.946176      0.008557  \n",
       "2       0.163539       0.575673      0.260787  \n",
       "3       0.260760       0.270590      0.468649  \n",
       "4       0.321027       0.456918      0.222055  "
      ]
     },
     "execution_count": 22,
     "metadata": {},
     "output_type": "execute_result"
    }
   ],
   "source": [
    "import pandas as pd\n",
    "from glob import glob\n",
    " \n",
    "files =['data/BTC-2022.csv','data/CionScore_final.csv']\n",
    " \n",
    "df_all= pd.concat((pd.read_csv(file) for file in files), axis='columns').drop(['Unnamed: 0','CoinDate','Adj Close'],axis=1)\n",
    "df_all.to_csv('Data/BTC_final.csv')\n",
    "df_all.head()"
   ]
  }
 ],
 "metadata": {
  "kernelspec": {
   "display_name": "Python 3",
   "language": "python",
   "name": "python3"
  },
  "language_info": {
   "codemirror_mode": {
    "name": "ipython",
    "version": 3
   },
   "file_extension": ".py",
   "mimetype": "text/x-python",
   "name": "python",
   "nbconvert_exporter": "python",
   "pygments_lexer": "ipython3",
   "version": "3.10.9"
  },
  "orig_nbformat": 4
 },
 "nbformat": 4,
 "nbformat_minor": 2
}
