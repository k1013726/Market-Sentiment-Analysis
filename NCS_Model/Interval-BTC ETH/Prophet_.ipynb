{
 "cells": [
  {
   "cell_type": "code",
   "execution_count": 7,
   "metadata": {},
   "outputs": [],
   "source": [
    "# import libraries\n",
    "import pandas as pd\n",
    "from prophet import Prophet\n",
    "from sklearn.metrics import mean_squared_error,mean_absolute_error,mean_absolute_percentage_error\n",
    "import matplotlib.pyplot as plt\n",
    "import numpy as np\n",
    "from datetime import datetime\n",
    "import matplotlib.dates as mdates"
   ]
  },
  {
   "cell_type": "code",
   "execution_count": 19,
   "metadata": {},
   "outputs": [],
   "source": [
    "def  Expected_Revenue(actual_prices,predicted_prices):\n",
    "    print(len(predicted_prices) - 1)\n",
    "    predicted_changes = [predicted_prices[i + 1] - predicted_prices[i] for i in range(len(predicted_prices) - 1)]\n",
    "    expected_revenue = 0\n",
    "    for i in range(6):  # Assuming a 7-day test period\n",
    "        if predicted_changes[i] > 0:  # Buy signal\n",
    "            expected_revenue += (actual_prices[i + 1] - actual_prices[i])\n",
    "        elif predicted_changes[i] < 0:  # Sell signal\n",
    "            expected_revenue += (actual_prices[i] - actual_prices[i + 1])\n",
    "    return expected_revenue"
   ]
  },
  {
   "cell_type": "code",
   "execution_count": 20,
   "metadata": {},
   "outputs": [],
   "source": [
    "# load dataset\n",
    "file_list=['BTC-all.csv','BTC-N2Y.csv','BTC-N4Y.csv']\n",
    "\n",
    "# file_list=['ETH-all.csv','ETH-N2Y.csv','ETH-N4Y.csv']\n",
    "\n",
    "spilt_list=[0.3,0.2,0.1,7]\n",
    "\n",
    "files_list=list()\n",
    "spilts_list=list()\n",
    "Classifiers_list=list()\n",
    "\n",
    "train_mae=list()\n",
    "train_mape=list()\n",
    "train_rmse=list()\n",
    "test_mae=list()\n",
    "test_mape=list()\n",
    "test_rmse=list()\n",
    "\n",
    "Expected_revenues=list()"
   ]
  },
  {
   "cell_type": "code",
   "execution_count": 21,
   "metadata": {},
   "outputs": [
    {
     "name": "stdout",
     "output_type": "stream",
     "text": [
      "(2275, 2) (975, 2)\n"
     ]
    },
    {
     "name": "stderr",
     "output_type": "stream",
     "text": [
      "15:51:36 - cmdstanpy - INFO - Chain [1] start processing\n",
      "15:51:37 - cmdstanpy - INFO - Chain [1] done processing\n"
     ]
    },
    {
     "name": "stdout",
     "output_type": "stream",
     "text": [
      "974\n"
     ]
    },
    {
     "ename": "KeyError",
     "evalue": "1",
     "output_type": "error",
     "traceback": [
      "\u001b[1;31m---------------------------------------------------------------------------\u001b[0m",
      "\u001b[1;31mValueError\u001b[0m                                Traceback (most recent call last)",
      "File \u001b[1;32mc:\\Users\\nptu\\AppData\\Local\\Programs\\Python\\Python310\\lib\\site-packages\\pandas\\core\\indexes\\range.py:391\u001b[0m, in \u001b[0;36mRangeIndex.get_loc\u001b[1;34m(self, key, method, tolerance)\u001b[0m\n\u001b[0;32m    390\u001b[0m \u001b[39mtry\u001b[39;00m:\n\u001b[1;32m--> 391\u001b[0m     \u001b[39mreturn\u001b[39;00m \u001b[39mself\u001b[39;49m\u001b[39m.\u001b[39;49m_range\u001b[39m.\u001b[39;49mindex(new_key)\n\u001b[0;32m    392\u001b[0m \u001b[39mexcept\u001b[39;00m \u001b[39mValueError\u001b[39;00m \u001b[39mas\u001b[39;00m err:\n",
      "\u001b[1;31mValueError\u001b[0m: 1 is not in range",
      "\nThe above exception was the direct cause of the following exception:\n",
      "\u001b[1;31mKeyError\u001b[0m                                  Traceback (most recent call last)",
      "Cell \u001b[1;32mIn[21], line 29\u001b[0m\n\u001b[0;32m     26\u001b[0m train_forecast\u001b[39m=\u001b[39mforecast[\u001b[39m\"\u001b[39m\u001b[39myhat\u001b[39m\u001b[39m\"\u001b[39m][:train_spilt]\n\u001b[0;32m     27\u001b[0m test_forecast\u001b[39m=\u001b[39mforecast[\u001b[39m\"\u001b[39m\u001b[39myhat\u001b[39m\u001b[39m\"\u001b[39m][train_spilt:]\n\u001b[1;32m---> 29\u001b[0m Expected_revenues\u001b[39m.\u001b[39mappend(Expected_Revenue(test_df[\u001b[39m'\u001b[39;49m\u001b[39my\u001b[39;49m\u001b[39m'\u001b[39;49m],test_forecast))\n\u001b[0;32m     31\u001b[0m train_mae\u001b[39m.\u001b[39mappend(mean_absolute_error(train_df[\u001b[39m'\u001b[39m\u001b[39my\u001b[39m\u001b[39m'\u001b[39m], train_forecast))\n\u001b[0;32m     32\u001b[0m train_mape\u001b[39m.\u001b[39mappend(mean_squared_error(train_df[\u001b[39m'\u001b[39m\u001b[39my\u001b[39m\u001b[39m'\u001b[39m], train_forecast)\u001b[39m*\u001b[39m\u001b[39m*\u001b[39m\u001b[39m0.5\u001b[39m)\n",
      "Cell \u001b[1;32mIn[19], line 3\u001b[0m, in \u001b[0;36mExpected_Revenue\u001b[1;34m(actual_prices, predicted_prices)\u001b[0m\n\u001b[0;32m      1\u001b[0m \u001b[39mdef\u001b[39;00m  \u001b[39mExpected_Revenue\u001b[39m(actual_prices,predicted_prices):\n\u001b[0;32m      2\u001b[0m     \u001b[39mprint\u001b[39m(\u001b[39mlen\u001b[39m(predicted_prices) \u001b[39m-\u001b[39m \u001b[39m1\u001b[39m)\n\u001b[1;32m----> 3\u001b[0m     predicted_changes \u001b[39m=\u001b[39m [predicted_prices[i \u001b[39m+\u001b[39m \u001b[39m1\u001b[39m] \u001b[39m-\u001b[39m predicted_prices[i] \u001b[39mfor\u001b[39;00m i \u001b[39min\u001b[39;00m \u001b[39mrange\u001b[39m(\u001b[39mlen\u001b[39m(predicted_prices) \u001b[39m-\u001b[39m \u001b[39m1\u001b[39m)]\n\u001b[0;32m      4\u001b[0m     expected_revenue \u001b[39m=\u001b[39m \u001b[39m0\u001b[39m\n\u001b[0;32m      5\u001b[0m     \u001b[39mfor\u001b[39;00m i \u001b[39min\u001b[39;00m \u001b[39mrange\u001b[39m(\u001b[39m6\u001b[39m):  \u001b[39m# Assuming a 7-day test period\u001b[39;00m\n",
      "Cell \u001b[1;32mIn[19], line 3\u001b[0m, in \u001b[0;36m<listcomp>\u001b[1;34m(.0)\u001b[0m\n\u001b[0;32m      1\u001b[0m \u001b[39mdef\u001b[39;00m  \u001b[39mExpected_Revenue\u001b[39m(actual_prices,predicted_prices):\n\u001b[0;32m      2\u001b[0m     \u001b[39mprint\u001b[39m(\u001b[39mlen\u001b[39m(predicted_prices) \u001b[39m-\u001b[39m \u001b[39m1\u001b[39m)\n\u001b[1;32m----> 3\u001b[0m     predicted_changes \u001b[39m=\u001b[39m [predicted_prices[i \u001b[39m+\u001b[39;49m \u001b[39m1\u001b[39;49m] \u001b[39m-\u001b[39m predicted_prices[i] \u001b[39mfor\u001b[39;00m i \u001b[39min\u001b[39;00m \u001b[39mrange\u001b[39m(\u001b[39mlen\u001b[39m(predicted_prices) \u001b[39m-\u001b[39m \u001b[39m1\u001b[39m)]\n\u001b[0;32m      4\u001b[0m     expected_revenue \u001b[39m=\u001b[39m \u001b[39m0\u001b[39m\n\u001b[0;32m      5\u001b[0m     \u001b[39mfor\u001b[39;00m i \u001b[39min\u001b[39;00m \u001b[39mrange\u001b[39m(\u001b[39m6\u001b[39m):  \u001b[39m# Assuming a 7-day test period\u001b[39;00m\n",
      "File \u001b[1;32mc:\\Users\\nptu\\AppData\\Local\\Programs\\Python\\Python310\\lib\\site-packages\\pandas\\core\\series.py:981\u001b[0m, in \u001b[0;36mSeries.__getitem__\u001b[1;34m(self, key)\u001b[0m\n\u001b[0;32m    978\u001b[0m     \u001b[39mreturn\u001b[39;00m \u001b[39mself\u001b[39m\u001b[39m.\u001b[39m_values[key]\n\u001b[0;32m    980\u001b[0m \u001b[39melif\u001b[39;00m key_is_scalar:\n\u001b[1;32m--> 981\u001b[0m     \u001b[39mreturn\u001b[39;00m \u001b[39mself\u001b[39;49m\u001b[39m.\u001b[39;49m_get_value(key)\n\u001b[0;32m    983\u001b[0m \u001b[39mif\u001b[39;00m is_hashable(key):\n\u001b[0;32m    984\u001b[0m     \u001b[39m# Otherwise index.get_value will raise InvalidIndexError\u001b[39;00m\n\u001b[0;32m    985\u001b[0m     \u001b[39mtry\u001b[39;00m:\n\u001b[0;32m    986\u001b[0m         \u001b[39m# For labels that don't resolve as scalars like tuples and frozensets\u001b[39;00m\n",
      "File \u001b[1;32mc:\\Users\\nptu\\AppData\\Local\\Programs\\Python\\Python310\\lib\\site-packages\\pandas\\core\\series.py:1089\u001b[0m, in \u001b[0;36mSeries._get_value\u001b[1;34m(self, label, takeable)\u001b[0m\n\u001b[0;32m   1086\u001b[0m     \u001b[39mreturn\u001b[39;00m \u001b[39mself\u001b[39m\u001b[39m.\u001b[39m_values[label]\n\u001b[0;32m   1088\u001b[0m \u001b[39m# Similar to Index.get_value, but we do not fall back to positional\u001b[39;00m\n\u001b[1;32m-> 1089\u001b[0m loc \u001b[39m=\u001b[39m \u001b[39mself\u001b[39;49m\u001b[39m.\u001b[39;49mindex\u001b[39m.\u001b[39;49mget_loc(label)\n\u001b[0;32m   1090\u001b[0m \u001b[39mreturn\u001b[39;00m \u001b[39mself\u001b[39m\u001b[39m.\u001b[39mindex\u001b[39m.\u001b[39m_get_values_for_loc(\u001b[39mself\u001b[39m, loc, label)\n",
      "File \u001b[1;32mc:\\Users\\nptu\\AppData\\Local\\Programs\\Python\\Python310\\lib\\site-packages\\pandas\\core\\indexes\\range.py:393\u001b[0m, in \u001b[0;36mRangeIndex.get_loc\u001b[1;34m(self, key, method, tolerance)\u001b[0m\n\u001b[0;32m    391\u001b[0m         \u001b[39mreturn\u001b[39;00m \u001b[39mself\u001b[39m\u001b[39m.\u001b[39m_range\u001b[39m.\u001b[39mindex(new_key)\n\u001b[0;32m    392\u001b[0m     \u001b[39mexcept\u001b[39;00m \u001b[39mValueError\u001b[39;00m \u001b[39mas\u001b[39;00m err:\n\u001b[1;32m--> 393\u001b[0m         \u001b[39mraise\u001b[39;00m \u001b[39mKeyError\u001b[39;00m(key) \u001b[39mfrom\u001b[39;00m \u001b[39merr\u001b[39;00m\n\u001b[0;32m    394\u001b[0m \u001b[39mself\u001b[39m\u001b[39m.\u001b[39m_check_indexing_error(key)\n\u001b[0;32m    395\u001b[0m \u001b[39mraise\u001b[39;00m \u001b[39mKeyError\u001b[39;00m(key)\n",
      "\u001b[1;31mKeyError\u001b[0m: 1"
     ]
    }
   ],
   "source": [
    "for file in file_list:\n",
    "    for splits in spilt_list:\n",
    "        path ='data/'+file\n",
    "        files_list.append(file)\n",
    "        spilts_list.append(splits)\n",
    "        Classifiers_list.append('Prophet')\n",
    "\n",
    "        df = pd.read_csv(path)\n",
    "        df=df[['Adj Close','Date']]\n",
    "        df.rename(columns={'Adj Close': 'y','Date':'ds'}, inplace=True)\n",
    "\n",
    "        test_spilt=int(df.shape[0]*0.3)\n",
    "        train_spilt=df.shape[0]-test_spilt\n",
    "\n",
    "        train_df,test_df=df[:train_spilt],df[train_spilt:]\n",
    "        print(train_df.shape,test_df.shape)\n",
    "\n",
    "        m = Prophet()\n",
    "        m.fit(train_df)\n",
    "\n",
    "        future = m.make_future_dataframe(periods=(test_df.shape[0]))\n",
    "\n",
    "\n",
    "        forecast = m.predict(future)\n",
    "\n",
    "        train_forecast=forecast[\"yhat\"][:train_spilt]\n",
    "        test_forecast=forecast[\"yhat\"][train_spilt:]\n",
    "        \n",
    "        Expected_revenues.append(Expected_Revenue(test_df['y'],test_forecast))\n",
    "        \n",
    "        train_mae.append(mean_absolute_error(train_df['y'], train_forecast))\n",
    "        train_mape.append(mean_squared_error(train_df['y'], train_forecast)**0.5)\n",
    "        train_rmse.append(mean_absolute_percentage_error(train_df['y'], train_forecast))\n",
    "        test_mae.append(mean_absolute_error(test_df['y'], test_forecast))\n",
    "        test_mape.append(mean_squared_error(test_df['y'], test_forecast)**0.5)\n",
    "        test_rmse.append(mean_absolute_percentage_error(test_df['y'], test_forecast))\n",
    "     \n"
   ]
  },
  {
   "cell_type": "code",
   "execution_count": null,
   "metadata": {},
   "outputs": [],
   "source": [
    "Summary={'Data':files_list,'Classifier':Classifiers_list,'Test Split':spilts_list,\n",
    "            'train_mae':train_mae,\n",
    "            'train_mape':train_mape,\n",
    "            'train_rmse':train_rmse,          \n",
    "            'test_mae':test_mae,\n",
    "            'test_mape':test_mape,\n",
    "            'test_rmse':test_rmse,\n",
    "            'Expected_Revenue':Expected_revenues\n",
    "         }\n",
    "\n",
    "df_Summary = pd.DataFrame(Summary)\n",
    "df_Summary.to_excel(\"BTC-Prophet Summary.xlsx\")  "
   ]
  },
  {
   "cell_type": "code",
   "execution_count": 6,
   "metadata": {},
   "outputs": [],
   "source": [
    "# fig2 = m.plot_components(forecast)\n"
   ]
  }
 ],
 "metadata": {
  "kernelspec": {
   "display_name": "Python 3",
   "language": "python",
   "name": "python3"
  },
  "language_info": {
   "codemirror_mode": {
    "name": "ipython",
    "version": 3
   },
   "file_extension": ".py",
   "mimetype": "text/x-python",
   "name": "python",
   "nbconvert_exporter": "python",
   "pygments_lexer": "ipython3",
   "version": "3.10.9"
  },
  "orig_nbformat": 4
 },
 "nbformat": 4,
 "nbformat_minor": 2
}
