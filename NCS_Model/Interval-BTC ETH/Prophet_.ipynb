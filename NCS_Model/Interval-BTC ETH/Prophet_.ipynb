{
 "cells": [
  {
   "cell_type": "code",
   "execution_count": 84,
   "metadata": {},
   "outputs": [],
   "source": [
    "# import libraries\n",
    "import pandas as pd\n",
    "from prophet import Prophet\n",
    "from sklearn.metrics import mean_squared_error,mean_absolute_error,mean_absolute_percentage_error\n",
    "import numpy as np\n",
    "from datetime import datetime\n",
    "import matplotlib.dates as mdates\n",
    "from matplotlib import pyplot"
   ]
  },
  {
   "cell_type": "code",
   "execution_count": 85,
   "metadata": {},
   "outputs": [],
   "source": [
    "def  Actual_Revenue(actual_prices:list(),predicted_prices:list()):\n",
    "    predicted_len=(len(predicted_prices) - 1)\n",
    "    predicted_changes = [predicted_prices[i + 1] - predicted_prices[i] for i in range(predicted_len)]\n",
    "    expected_revenue=0\n",
    "    actual_revenue=actual_prices[-1]-actual_prices[0]\n",
    "\n",
    "    for i in range(len(predicted_prices) - 1):  # Assuming a 7-day test period\n",
    "        if predicted_changes[i] > 0:  # Buy signal\n",
    "            expected_revenue += predicted_changes[i]\n",
    "\n",
    "    return expected_revenue/predicted_len,actual_revenue/predicted_len\n",
    "\n",
    "def  Expected_Revenue(actual_prices:list(),predicted_prices:list()):\n",
    "    predicted_len=(len(predicted_prices) - 1)\n",
    "    predicted_changes = [predicted_prices[i + 1] - predicted_prices[i] for i in range(predicted_len)]\n",
    "    expected_revenue=0\n",
    "    for i in range(len(predicted_prices)-1):  # Assuming a 7-day test period\n",
    "        if predicted_changes[i] > 0:  # Buy signal\n",
    "            expected_revenue += (actual_prices[i + 1] - actual_prices[i])\n",
    "        elif predicted_changes[i] < 0:  # Sell signal\n",
    "            expected_revenue += (actual_prices[i] - actual_prices[i + 1])\n",
    "    return expected_revenue/predicted_len"
   ]
  },
  {
   "cell_type": "code",
   "execution_count": 86,
   "metadata": {},
   "outputs": [],
   "source": [
    "# load dataset\n",
    "file_list=['BTC-all.csv','BTC-N2Y.csv','BTC-N4Y.csv']\n",
    "# file_list=['BTC-all.csv']\n",
    "# file_list=['ETH-all.csv','ETH-N2Y.csv','ETH-N4Y.csv']\n",
    "\n",
    "spilt_list=[0.3,0.2,0.1,7]\n",
    "# spilt_list=[7]\n",
    "\n",
    "\n",
    "files_list=list()\n",
    "spilts_list=list()\n",
    "Classifiers_list=list()\n",
    "\n",
    "train_mae=list()\n",
    "train_mape=list()\n",
    "train_rmse=list()\n",
    "test_mae=list()\n",
    "test_mape=list()\n",
    "test_rmse=list()\n",
    "\n",
    "Expected_revenues=list()\n",
    "Actual_revenue=list()\n",
    "Expected_total_revenues=list()"
   ]
  },
  {
   "cell_type": "code",
   "execution_count": 87,
   "metadata": {},
   "outputs": [
    {
     "name": "stdout",
     "output_type": "stream",
     "text": [
      "BTC-all.csv\n",
      "0.3\n"
     ]
    },
    {
     "name": "stderr",
     "output_type": "stream",
     "text": [
      "15:46:03 - cmdstanpy - INFO - Chain [1] start processing\n",
      "15:46:03 - cmdstanpy - INFO - Chain [1] done processing\n"
     ]
    },
    {
     "name": "stdout",
     "output_type": "stream",
     "text": [
      "------------------------------------------------------------\n",
      "[1456.4174482229585]\n",
      "[23835.689076684925]\n",
      "BTC-all.csv\n",
      "0.2\n"
     ]
    },
    {
     "name": "stderr",
     "output_type": "stream",
     "text": [
      "15:46:04 - cmdstanpy - INFO - Chain [1] start processing\n",
      "15:46:05 - cmdstanpy - INFO - Chain [1] done processing\n"
     ]
    },
    {
     "name": "stdout",
     "output_type": "stream",
     "text": [
      "------------------------------------------------------------\n",
      "[1456.4174482229585, 4357.766340356405]\n",
      "[23835.689076684925, 64671.480227356646]\n",
      "BTC-all.csv\n",
      "0.1\n"
     ]
    },
    {
     "name": "stderr",
     "output_type": "stream",
     "text": [
      "15:46:06 - cmdstanpy - INFO - Chain [1] start processing\n",
      "15:46:06 - cmdstanpy - INFO - Chain [1] done processing\n"
     ]
    },
    {
     "name": "stdout",
     "output_type": "stream",
     "text": [
      "------------------------------------------------------------\n",
      "[1456.4174482229585, 4357.766340356405, 4450.04674310948]\n",
      "[23835.689076684925, 64671.480227356646, 9044.064280047884]\n",
      "BTC-all.csv\n",
      "7\n"
     ]
    },
    {
     "name": "stderr",
     "output_type": "stream",
     "text": [
      "15:46:07 - cmdstanpy - INFO - Chain [1] start processing\n",
      "15:46:08 - cmdstanpy - INFO - Chain [1] done processing\n",
      "15:46:09 - cmdstanpy - INFO - Chain [1] start processing\n"
     ]
    },
    {
     "name": "stdout",
     "output_type": "stream",
     "text": [
      "------------------------------------------------------------\n",
      "[1456.4174482229585, 4357.766340356405, 4450.04674310948, 5139.648359778404]\n",
      "[23835.689076684925, 64671.480227356646, 9044.064280047884, 13733.445221316044]\n",
      "BTC-N2Y.csv\n",
      "0.3\n"
     ]
    },
    {
     "name": "stderr",
     "output_type": "stream",
     "text": [
      "15:46:09 - cmdstanpy - INFO - Chain [1] done processing\n",
      "15:46:10 - cmdstanpy - INFO - Chain [1] start processing\n"
     ]
    },
    {
     "name": "stdout",
     "output_type": "stream",
     "text": [
      "------------------------------------------------------------\n",
      "[1456.4174482229585, 4357.766340356405, 4450.04674310948, 5139.648359778404, 4553.914255600728]\n",
      "[23835.689076684925, 64671.480227356646, 9044.064280047884, 13733.445221316044, 73760.98104193523]\n",
      "BTC-N2Y.csv\n",
      "0.2\n"
     ]
    },
    {
     "name": "stderr",
     "output_type": "stream",
     "text": [
      "15:46:10 - cmdstanpy - INFO - Chain [1] done processing\n"
     ]
    },
    {
     "name": "stdout",
     "output_type": "stream",
     "text": [
      "------------------------------------------------------------\n",
      "[1456.4174482229585, 4357.766340356405, 4450.04674310948, 5139.648359778404, 4553.914255600728, 4269.729441029571]\n",
      "[23835.689076684925, 64671.480227356646, 9044.064280047884, 13733.445221316044, 73760.98104193523, 22753.44198325953]\n",
      "BTC-N2Y.csv\n",
      "0.1\n"
     ]
    },
    {
     "name": "stderr",
     "output_type": "stream",
     "text": [
      "15:46:11 - cmdstanpy - INFO - Chain [1] start processing\n",
      "15:46:11 - cmdstanpy - INFO - Chain [1] done processing\n"
     ]
    },
    {
     "name": "stdout",
     "output_type": "stream",
     "text": [
      "------------------------------------------------------------\n",
      "[1456.4174482229585, 4357.766340356405, 4450.04674310948, 5139.648359778404, 4553.914255600728, 4269.729441029571, 4460.37056647803]\n",
      "[23835.689076684925, 64671.480227356646, 9044.064280047884, 13733.445221316044, 73760.98104193523, 22753.44198325953, 22115.161820252895]\n",
      "BTC-N2Y.csv\n",
      "7\n"
     ]
    },
    {
     "name": "stderr",
     "output_type": "stream",
     "text": [
      "15:46:12 - cmdstanpy - INFO - Chain [1] start processing\n",
      "15:46:13 - cmdstanpy - INFO - Chain [1] done processing\n",
      "15:46:13 - cmdstanpy - INFO - Chain [1] start processing\n"
     ]
    },
    {
     "name": "stdout",
     "output_type": "stream",
     "text": [
      "------------------------------------------------------------\n",
      "[1456.4174482229585, 4357.766340356405, 4450.04674310948, 5139.648359778404, 4553.914255600728, 4269.729441029571, 4460.37056647803, 5342.42655242778]\n",
      "[23835.689076684925, 64671.480227356646, 9044.064280047884, 13733.445221316044, 73760.98104193523, 22753.44198325953, 22115.161820252895, 10665.210711919908]\n",
      "BTC-N4Y.csv\n",
      "0.3\n"
     ]
    },
    {
     "name": "stderr",
     "output_type": "stream",
     "text": [
      "15:46:14 - cmdstanpy - INFO - Chain [1] done processing\n",
      "15:46:14 - cmdstanpy - INFO - Chain [1] start processing\n"
     ]
    },
    {
     "name": "stdout",
     "output_type": "stream",
     "text": [
      "------------------------------------------------------------\n",
      "[1456.4174482229585, 4357.766340356405, 4450.04674310948, 5139.648359778404, 4553.914255600728, 4269.729441029571, 4460.37056647803, 5342.42655242778, 4250.47675295296]\n",
      "[23835.689076684925, 64671.480227356646, 9044.064280047884, 13733.445221316044, 73760.98104193523, 22753.44198325953, 22115.161820252895, 10665.210711919908, 27833.048907443226]\n",
      "BTC-N4Y.csv\n",
      "0.2\n"
     ]
    },
    {
     "name": "stderr",
     "output_type": "stream",
     "text": [
      "15:46:15 - cmdstanpy - INFO - Chain [1] done processing\n",
      "15:46:15 - cmdstanpy - INFO - Chain [1] start processing\n"
     ]
    },
    {
     "name": "stdout",
     "output_type": "stream",
     "text": [
      "------------------------------------------------------------\n",
      "[1456.4174482229585, 4357.766340356405, 4450.04674310948, 5139.648359778404, 4553.914255600728, 4269.729441029571, 4460.37056647803, 5342.42655242778, 4250.47675295296, 2836.0644041462906]\n",
      "[23835.689076684925, 64671.480227356646, 9044.064280047884, 13733.445221316044, 73760.98104193523, 22753.44198325953, 22115.161820252895, 10665.210711919908, 27833.048907443226, 33093.64742791214]\n",
      "BTC-N4Y.csv\n",
      "0.1\n"
     ]
    },
    {
     "name": "stderr",
     "output_type": "stream",
     "text": [
      "15:46:16 - cmdstanpy - INFO - Chain [1] done processing\n",
      "15:46:16 - cmdstanpy - INFO - Chain [1] start processing\n"
     ]
    },
    {
     "name": "stdout",
     "output_type": "stream",
     "text": [
      "------------------------------------------------------------\n",
      "[1456.4174482229585, 4357.766340356405, 4450.04674310948, 5139.648359778404, 4553.914255600728, 4269.729441029571, 4460.37056647803, 5342.42655242778, 4250.47675295296, 2836.0644041462906, 3404.6890350666176]\n",
      "[23835.689076684925, 64671.480227356646, 9044.064280047884, 13733.445221316044, 73760.98104193523, 22753.44198325953, 22115.161820252895, 10665.210711919908, 27833.048907443226, 33093.64742791214, 20014.77367876271]\n",
      "BTC-N4Y.csv\n",
      "7\n"
     ]
    },
    {
     "name": "stderr",
     "output_type": "stream",
     "text": [
      "15:46:17 - cmdstanpy - INFO - Chain [1] done processing\n"
     ]
    },
    {
     "name": "stdout",
     "output_type": "stream",
     "text": [
      "------------------------------------------------------------\n",
      "[1456.4174482229585, 4357.766340356405, 4450.04674310948, 5139.648359778404, 4553.914255600728, 4269.729441029571, 4460.37056647803, 5342.42655242778, 4250.47675295296, 2836.0644041462906, 3404.6890350666176, 2746.576958411601]\n",
      "[23835.689076684925, 64671.480227356646, 9044.064280047884, 13733.445221316044, 73760.98104193523, 22753.44198325953, 22115.161820252895, 10665.210711919908, 27833.048907443226, 33093.64742791214, 20014.77367876271, 2171.1973684924924]\n"
     ]
    }
   ],
   "source": [
    "for file in file_list:\n",
    "    for splits in spilt_list:\n",
    "        #dataset\n",
    "        print(file)\n",
    "        print(str(splits),end='\\n')\n",
    "        \n",
    "        path ='data/'+file\n",
    "        files_list.append(file)\n",
    "        spilts_list.append(splits)\n",
    "        Classifiers_list.append('Prophet')\n",
    "\n",
    "        df = pd.read_csv(path)\n",
    "        df=df[['Adj Close','Date']]\n",
    "        df.rename(columns={'Adj Close': 'y','Date':'ds'}, inplace=True)\n",
    "\n",
    "        if splits==7:\n",
    "            train_spilt=int(len(df)-splits)\n",
    "        else:\n",
    "            train_spilt=len(df)-int(len(df)*splits)\n",
    "        train_df,test_df=df[:train_spilt],df[train_spilt:]\n",
    "        \n",
    "\n",
    "        # m = Prophet(interval_width=0.95, daily_seasonality=True)\n",
    "        m = Prophet()\n",
    "        m.fit(train_df)\n",
    "        future = m.make_future_dataframe(periods=(test_df.shape[0]),freq=\"D\")\n",
    "\n",
    "\n",
    "        forecast = m.predict(future)\n",
    "\n",
    "        train_forecast=forecast[\"yhat\"][:train_spilt]\n",
    "        test_forecast=forecast[\"yhat\"][train_spilt:]\n",
    "        \n",
    "        \n",
    "        Er,Ar=Actual_Revenue(list(test_df['y']),list(test_forecast)) \n",
    "        Expected_revenues.append(Er)\n",
    "        Actual_revenue.append(Ar)\n",
    "        Expected_total_revenues.append(Expected_Revenue(list(test_df['y']),list(test_forecast)))\n",
    "        \n",
    "        \n",
    "        print('-'*60)\n",
    "       \n",
    "        train_mae.append(mean_absolute_error(train_df['y'], train_forecast))\n",
    "        train_rmse.append(mean_squared_error(train_df['y'], train_forecast)**0.5)\n",
    "        train_mape.append(mean_absolute_percentage_error(train_df['y'], train_forecast))\n",
    "        \n",
    "        test_mae.append(mean_absolute_error(test_df['y'], test_forecast))\n",
    "        test_rmse.append(mean_squared_error(test_df['y'], test_forecast)**0.5)\n",
    "        test_mape.append(mean_absolute_percentage_error(test_df['y'], test_forecast))\n",
    "        print(train_rmse)\n",
    "        print(test_rmse)\n",
    "     \n"
   ]
  },
  {
   "cell_type": "code",
   "execution_count": 88,
   "metadata": {},
   "outputs": [],
   "source": [
    "Summary={'Data':files_list,'Classifier':Classifiers_list,'Test Split':spilts_list,\n",
    "            'train_mae':train_mae,\n",
    "            'train_mape':train_mape,\n",
    "            'train_rmse':train_rmse,          \n",
    "            'test_mae':test_mae,\n",
    "            'test_mape':test_mape,\n",
    "            'test_rmse':test_rmse,\n",
    "            'Expected_Revenues':Expected_revenues,\n",
    "            'Actual_Revenue':Actual_revenue,\n",
    "            'Expected_total_revenues':Expected_total_revenues\n",
    "         }\n",
    "\n",
    "df_Summary = pd.DataFrame(Summary)\n",
    "df_Summary.to_excel(\"實驗結果/BTC-Prophet Summary NS.xlsx\",index=False)  "
   ]
  },
  {
   "cell_type": "code",
   "execution_count": 89,
   "metadata": {},
   "outputs": [],
   "source": [
    "# fig2 = m.plot_components(forecast)\n"
   ]
  }
 ],
 "metadata": {
  "kernelspec": {
   "display_name": "Python 3",
   "language": "python",
   "name": "python3"
  },
  "language_info": {
   "codemirror_mode": {
    "name": "ipython",
    "version": 3
   },
   "file_extension": ".py",
   "mimetype": "text/x-python",
   "name": "python",
   "nbconvert_exporter": "python",
   "pygments_lexer": "ipython3",
   "version": "3.10.9"
  },
  "orig_nbformat": 4
 },
 "nbformat": 4,
 "nbformat_minor": 2
}
