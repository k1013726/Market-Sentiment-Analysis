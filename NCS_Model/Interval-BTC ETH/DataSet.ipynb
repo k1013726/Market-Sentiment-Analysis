{
 "cells": [
  {
   "cell_type": "code",
   "execution_count": 1,
   "id": "1ec3a50a",
   "metadata": {},
   "outputs": [],
   "source": [
    "import yfinance as yf \n",
    "import datetime as dt\n"
   ]
  },
  {
   "cell_type": "code",
   "execution_count": 2,
   "id": "22e1da77",
   "metadata": {},
   "outputs": [
    {
     "name": "stdout",
     "output_type": "stream",
     "text": [
      "[*********************100%***********************]  1 of 1 completed\n"
     ]
    },
    {
     "data": {
      "text/html": [
       "<div>\n",
       "<style scoped>\n",
       "    .dataframe tbody tr th:only-of-type {\n",
       "        vertical-align: middle;\n",
       "    }\n",
       "\n",
       "    .dataframe tbody tr th {\n",
       "        vertical-align: top;\n",
       "    }\n",
       "\n",
       "    .dataframe thead th {\n",
       "        text-align: right;\n",
       "    }\n",
       "</style>\n",
       "<table border=\"1\" class=\"dataframe\">\n",
       "  <thead>\n",
       "    <tr style=\"text-align: right;\">\n",
       "      <th></th>\n",
       "      <th>Open</th>\n",
       "      <th>High</th>\n",
       "      <th>Low</th>\n",
       "      <th>Close</th>\n",
       "      <th>Adj Close</th>\n",
       "      <th>Volume</th>\n",
       "    </tr>\n",
       "    <tr>\n",
       "      <th>Date</th>\n",
       "      <th></th>\n",
       "      <th></th>\n",
       "      <th></th>\n",
       "      <th></th>\n",
       "      <th></th>\n",
       "      <th></th>\n",
       "    </tr>\n",
       "  </thead>\n",
       "  <tbody>\n",
       "    <tr>\n",
       "      <th>2023-08-06</th>\n",
       "      <td>1834.845215</td>\n",
       "      <td>1836.248901</td>\n",
       "      <td>1824.986694</td>\n",
       "      <td>1827.462036</td>\n",
       "      <td>1827.462036</td>\n",
       "      <td>2963395076</td>\n",
       "    </tr>\n",
       "    <tr>\n",
       "      <th>2023-08-07</th>\n",
       "      <td>1827.239502</td>\n",
       "      <td>1842.522583</td>\n",
       "      <td>1804.716675</td>\n",
       "      <td>1826.938843</td>\n",
       "      <td>1826.938843</td>\n",
       "      <td>5837881974</td>\n",
       "    </tr>\n",
       "    <tr>\n",
       "      <th>2023-08-08</th>\n",
       "      <td>1826.931030</td>\n",
       "      <td>1873.847168</td>\n",
       "      <td>1824.430054</td>\n",
       "      <td>1855.807373</td>\n",
       "      <td>1855.807373</td>\n",
       "      <td>5812855406</td>\n",
       "    </tr>\n",
       "    <tr>\n",
       "      <th>2023-08-09</th>\n",
       "      <td>1855.779419</td>\n",
       "      <td>1869.736572</td>\n",
       "      <td>1845.489746</td>\n",
       "      <td>1854.297607</td>\n",
       "      <td>1854.297607</td>\n",
       "      <td>5870081833</td>\n",
       "    </tr>\n",
       "    <tr>\n",
       "      <th>2023-08-10</th>\n",
       "      <td>1854.348267</td>\n",
       "      <td>1863.310913</td>\n",
       "      <td>1845.442261</td>\n",
       "      <td>1850.753418</td>\n",
       "      <td>1850.753418</td>\n",
       "      <td>3760304518</td>\n",
       "    </tr>\n",
       "  </tbody>\n",
       "</table>\n",
       "</div>"
      ],
      "text/plain": [
       "                   Open         High          Low        Close    Adj Close  \\\n",
       "Date                                                                          \n",
       "2023-08-06  1834.845215  1836.248901  1824.986694  1827.462036  1827.462036   \n",
       "2023-08-07  1827.239502  1842.522583  1804.716675  1826.938843  1826.938843   \n",
       "2023-08-08  1826.931030  1873.847168  1824.430054  1855.807373  1855.807373   \n",
       "2023-08-09  1855.779419  1869.736572  1845.489746  1854.297607  1854.297607   \n",
       "2023-08-10  1854.348267  1863.310913  1845.442261  1850.753418  1850.753418   \n",
       "\n",
       "                Volume  \n",
       "Date                    \n",
       "2023-08-06  2963395076  \n",
       "2023-08-07  5837881974  \n",
       "2023-08-08  5812855406  \n",
       "2023-08-09  5870081833  \n",
       "2023-08-10  3760304518  "
      ]
     },
     "execution_count": 2,
     "metadata": {},
     "output_type": "execute_result"
    }
   ],
   "source": [
    "# https://finance.yahoo.com/most-active\n",
    "# https://finance.yahoo.com/crypto/\n",
    "symbol = \"ETH-USD\"\n",
    "# Read data\n",
    "start =dt.date(2019, 11, 9)\n",
    "end = dt.date(2023, 8, 11)\n",
    "\n",
    "df = yf.download(symbol,end=end,start=start)\n",
    "df.tail()"
   ]
  },
  {
   "cell_type": "code",
   "execution_count": 3,
   "id": "410b3d5d",
   "metadata": {},
   "outputs": [
    {
     "data": {
      "text/html": [
       "<div>\n",
       "<style scoped>\n",
       "    .dataframe tbody tr th:only-of-type {\n",
       "        vertical-align: middle;\n",
       "    }\n",
       "\n",
       "    .dataframe tbody tr th {\n",
       "        vertical-align: top;\n",
       "    }\n",
       "\n",
       "    .dataframe thead th {\n",
       "        text-align: right;\n",
       "    }\n",
       "</style>\n",
       "<table border=\"1\" class=\"dataframe\">\n",
       "  <thead>\n",
       "    <tr style=\"text-align: right;\">\n",
       "      <th></th>\n",
       "      <th>Open</th>\n",
       "      <th>High</th>\n",
       "      <th>Low</th>\n",
       "      <th>Close</th>\n",
       "      <th>Adj Close</th>\n",
       "      <th>Volume</th>\n",
       "    </tr>\n",
       "    <tr>\n",
       "      <th>Date</th>\n",
       "      <th></th>\n",
       "      <th></th>\n",
       "      <th></th>\n",
       "      <th></th>\n",
       "      <th></th>\n",
       "      <th></th>\n",
       "    </tr>\n",
       "  </thead>\n",
       "  <tbody>\n",
       "    <tr>\n",
       "      <th>2019-11-09</th>\n",
       "      <td>184.311722</td>\n",
       "      <td>185.838531</td>\n",
       "      <td>183.902237</td>\n",
       "      <td>185.028717</td>\n",
       "      <td>185.028717</td>\n",
       "      <td>7277418704</td>\n",
       "    </tr>\n",
       "    <tr>\n",
       "      <th>2019-11-10</th>\n",
       "      <td>184.943359</td>\n",
       "      <td>190.920609</td>\n",
       "      <td>184.686783</td>\n",
       "      <td>189.477280</td>\n",
       "      <td>189.477280</td>\n",
       "      <td>8752784211</td>\n",
       "    </tr>\n",
       "    <tr>\n",
       "      <th>2019-11-11</th>\n",
       "      <td>189.502930</td>\n",
       "      <td>190.338425</td>\n",
       "      <td>185.086319</td>\n",
       "      <td>185.489639</td>\n",
       "      <td>185.489639</td>\n",
       "      <td>7877424106</td>\n",
       "    </tr>\n",
       "    <tr>\n",
       "      <th>2019-11-12</th>\n",
       "      <td>185.564835</td>\n",
       "      <td>187.948029</td>\n",
       "      <td>184.191055</td>\n",
       "      <td>186.843414</td>\n",
       "      <td>186.843414</td>\n",
       "      <td>7792186666</td>\n",
       "    </tr>\n",
       "    <tr>\n",
       "      <th>2019-11-13</th>\n",
       "      <td>186.942444</td>\n",
       "      <td>189.331879</td>\n",
       "      <td>185.937943</td>\n",
       "      <td>188.258743</td>\n",
       "      <td>188.258743</td>\n",
       "      <td>7343173596</td>\n",
       "    </tr>\n",
       "  </tbody>\n",
       "</table>\n",
       "</div>"
      ],
      "text/plain": [
       "                  Open        High         Low       Close   Adj Close  \\\n",
       "Date                                                                     \n",
       "2019-11-09  184.311722  185.838531  183.902237  185.028717  185.028717   \n",
       "2019-11-10  184.943359  190.920609  184.686783  189.477280  189.477280   \n",
       "2019-11-11  189.502930  190.338425  185.086319  185.489639  185.489639   \n",
       "2019-11-12  185.564835  187.948029  184.191055  186.843414  186.843414   \n",
       "2019-11-13  186.942444  189.331879  185.937943  188.258743  188.258743   \n",
       "\n",
       "                Volume  \n",
       "Date                    \n",
       "2019-11-09  7277418704  \n",
       "2019-11-10  8752784211  \n",
       "2019-11-11  7877424106  \n",
       "2019-11-12  7792186666  \n",
       "2019-11-13  7343173596  "
      ]
     },
     "execution_count": 3,
     "metadata": {},
     "output_type": "execute_result"
    }
   ],
   "source": [
    "df.head()"
   ]
  },
  {
   "cell_type": "code",
   "execution_count": 4,
   "id": "a29466a8",
   "metadata": {},
   "outputs": [
    {
     "data": {
      "text/plain": [
       "(1371, 6)"
      ]
     },
     "execution_count": 4,
     "metadata": {},
     "output_type": "execute_result"
    }
   ],
   "source": [
    "df.shape"
   ]
  },
  {
   "cell_type": "code",
   "execution_count": 5,
   "id": "b435a397",
   "metadata": {},
   "outputs": [],
   "source": [
    "df.to_csv(\"data/ETH-N2Y.csv\")"
   ]
  }
 ],
 "metadata": {
  "kernelspec": {
   "display_name": "Python 3",
   "language": "python",
   "name": "python3"
  },
  "language_info": {
   "codemirror_mode": {
    "name": "ipython",
    "version": 3
   },
   "file_extension": ".py",
   "mimetype": "text/x-python",
   "name": "python",
   "nbconvert_exporter": "python",
   "pygments_lexer": "ipython3",
   "version": "3.10.9"
  },
  "vscode": {
   "interpreter": {
    "hash": "beedbe2faf2f7048d727558d0bc3221e7eba2a0b921cac4d4771b2feb8f74b30"
   }
  }
 },
 "nbformat": 4,
 "nbformat_minor": 5
}
