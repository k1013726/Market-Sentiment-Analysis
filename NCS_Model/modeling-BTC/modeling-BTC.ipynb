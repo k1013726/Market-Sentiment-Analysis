{
 "cells": [
  {
   "cell_type": "code",
   "execution_count": 85,
   "id": "31319bd5",
   "metadata": {},
   "outputs": [],
   "source": [
    "import numpy as np\n",
    "import pandas as pd\n",
    "import tensorflow as tf\n",
    "import matplotlib.pyplot as plt\n",
    "import datetime\n",
    "from tensorflow.keras import Model, Sequential\n",
    "\n",
    "from tensorflow.keras.optimizers import Adam\n",
    "from tensorflow.keras.callbacks import EarlyStopping\n",
    "from tensorflow.keras.losses import MeanSquaredError\n",
    "from tensorflow.keras.metrics import MeanAbsoluteError,RootMeanSquaredError\n",
    "\n",
    "\n",
    "from tensorflow.keras.layers import Dense, Conv1D, LSTM, Lambda, Reshape, RNN, LSTMCell\n",
    "\n",
    "import warnings\n",
    "warnings.filterwarnings('ignore')"
   ]
  },
  {
   "cell_type": "code",
   "execution_count": 86,
   "id": "54a6df59",
   "metadata": {},
   "outputs": [
    {
     "name": "stdout",
     "output_type": "stream",
     "text": [
      "(2246, 1) (642, 1) (294, 1)\n"
     ]
    }
   ],
   "source": [
    "drop_list=[\"Date\",\"Open\",\"High\",\"Low\",\"Close\",\"Volume\",\"SMA_7\",\"SMA_14\",\"EMA_7\",\"EMA_14\",\"RSI\",\"Stoch_RSI\",\"Upper_BB\",\"Lower_BB\",\"MACD\"]\n",
    "# drop_list=[\"Date\",\"Open\",\"High\",\"Low\",\"Close\",\"Volume\",\"SMA_14\",\"EMA_14\"]\n",
    "train_df = pd.read_csv('data/train.csv').drop(drop_list,axis=1)\n",
    "val_df = pd.read_csv('data/val.csv').drop(drop_list,axis=1)\n",
    "test_df = pd.read_csv('data/test.csv').drop(drop_list,axis=1)\n",
    "\n",
    "print(train_df.shape, val_df.shape, test_df.shape)"
   ]
  },
  {
   "attachments": {},
   "cell_type": "markdown",
   "id": "4622a938",
   "metadata": {},
   "source": [
    "## `DataWindow` class "
   ]
  },
  {
   "cell_type": "code",
   "execution_count": 87,
   "id": "f27ee7b0",
   "metadata": {},
   "outputs": [],
   "source": [
    "class DataWindow():\n",
    "    def __init__(self, input_width, label_width, shift, \n",
    "                 train_df=train_df, val_df=val_df, test_df=test_df, \n",
    "                 label_columns=None):\n",
    "        \n",
    "        self.train_df = train_df\n",
    "        self.val_df = val_df\n",
    "        self.test_df = test_df\n",
    "        \n",
    "        self.label_columns = label_columns\n",
    "        if label_columns is not None:\n",
    "            self.label_columns_indices = {name: i for i, name in enumerate(label_columns)}\n",
    "        self.column_indices = {name: i for i, name in enumerate(train_df.columns)}\n",
    "        \n",
    "        self.input_width = input_width\n",
    "        self.label_width = label_width\n",
    "        self.shift = shift\n",
    "        \n",
    "        self.total_window_size = input_width + shift\n",
    "        \n",
    "        self.input_slice = slice(0, input_width)\n",
    "        self.input_indices = np.arange(self.total_window_size)[self.input_slice]\n",
    "        \n",
    "        self.label_start = self.total_window_size - self.label_width\n",
    "        self.labels_slice = slice(self.label_start, None)\n",
    "        self.label_indices = np.arange(self.total_window_size)[self.labels_slice]\n",
    "    \n",
    "    def split_to_inputs_labels(self, features):\n",
    "        inputs = features[:, self.input_slice, :]\n",
    "        labels = features[:, self.labels_slice, :]\n",
    "        if self.label_columns is not None:\n",
    "            labels = tf.stack(\n",
    "                [labels[:,:,self.column_indices[name]] for name in self.label_columns],\n",
    "                axis=-1\n",
    "            )\n",
    "        inputs.set_shape([None, self.input_width, None])\n",
    "        labels.set_shape([None, self.label_width, None])\n",
    "        \n",
    "        return inputs, labels\n",
    "    \n",
    "        \n",
    "    def make_dataset(self, data):\n",
    "        data = np.array(data, dtype=np.float32)\n",
    "        ds = tf.keras.preprocessing.timeseries_dataset_from_array(\n",
    "            data=data,\n",
    "            targets=None,\n",
    "            sequence_length=self.total_window_size,\n",
    "            sequence_stride=1,\n",
    "            shuffle=True,\n",
    "            batch_size=64\n",
    "        )\n",
    "        \n",
    "        ds = ds.map(self.split_to_inputs_labels)\n",
    "        return ds\n",
    "    \n",
    "    @property\n",
    "    def train(self):\n",
    "        return self.make_dataset(self.train_df)\n",
    "    \n",
    "    @property\n",
    "    def val(self):\n",
    "        return self.make_dataset(self.val_df)\n",
    "    \n",
    "    @property\n",
    "    def test(self):\n",
    "        return self.make_dataset(self.test_df)\n",
    "    \n",
    "    @property\n",
    "    def sample_batch(self):\n",
    "        result = getattr(self, '_sample_batch', None)\n",
    "        if result is None:\n",
    "            result = next(iter(self.train))\n",
    "            self._sample_batch = result\n",
    "        return result"
   ]
  },
  {
   "cell_type": "code",
   "execution_count": 88,
   "id": "2b2af6bb",
   "metadata": {},
   "outputs": [],
   "source": [
    "def compile_and_fit(model, window, patience=3, max_epochs=100):\n",
    "    early_stopping = EarlyStopping(monitor='val_loss',\n",
    "                                   patience=patience,\n",
    "                                   mode='min')\n",
    "    \n",
    "    model.compile(loss=MeanSquaredError(),\n",
    "                  optimizer=Adam(),\n",
    "                  metrics=[MeanAbsoluteError()])\n",
    "        # RootMeanSquaredError\n",
    "        # MeanAbsoluteError\n",
    "    history = model.fit(window.train,\n",
    "                       epochs=max_epochs,\n",
    "                       validation_data=window.val,\n",
    "                       callbacks=[early_stopping]\n",
    "                       )\n",
    "    \n",
    "    return history"
   ]
  },
  {
   "cell_type": "code",
   "execution_count": 89,
   "id": "4891ddc7",
   "metadata": {},
   "outputs": [],
   "source": [
    "column_indices = {name: i for i, name in enumerate(train_df.columns)}"
   ]
  },
  {
   "cell_type": "code",
   "execution_count": 90,
   "id": "1f24f0b3",
   "metadata": {},
   "outputs": [],
   "source": [
    "multi_window = DataWindow(input_width=7, label_width=7, shift=1,label_columns=['Adj Close'])"
   ]
  },
  {
   "cell_type": "code",
   "execution_count": 91,
   "id": "605f438f",
   "metadata": {},
   "outputs": [],
   "source": [
    "Train_performance = {}\n",
    "Test_performance = {}"
   ]
  },
  {
   "attachments": {},
   "cell_type": "markdown",
   "id": "e8fa723c",
   "metadata": {},
   "source": [
    "## LSTM model "
   ]
  },
  {
   "cell_type": "code",
   "execution_count": 92,
   "id": "c4928aee",
   "metadata": {
    "collapsed": true
   },
   "outputs": [
    {
     "name": "stdout",
     "output_type": "stream",
     "text": [
      "Epoch 1/100\n",
      "35/35 [==============================] - 3s 24ms/step - loss: 10598707.0000 - mean_absolute_error: 1780.5065 - val_loss: 8864349.0000 - val_mean_absolute_error: 2278.5359\n",
      "Epoch 2/100\n",
      "35/35 [==============================] - 1s 19ms/step - loss: 177064.9688 - mean_absolute_error: 201.0220 - val_loss: 4192812.2500 - val_mean_absolute_error: 1467.7018\n",
      "Epoch 3/100\n",
      "35/35 [==============================] - 1s 18ms/step - loss: 135560.4531 - mean_absolute_error: 180.1354 - val_loss: 4292253.0000 - val_mean_absolute_error: 1595.0016\n",
      "Epoch 4/100\n",
      "35/35 [==============================] - 1s 18ms/step - loss: 134341.7500 - mean_absolute_error: 183.3598 - val_loss: 3736388.2500 - val_mean_absolute_error: 1425.2275\n",
      "Epoch 5/100\n",
      "35/35 [==============================] - 1s 18ms/step - loss: 133473.6094 - mean_absolute_error: 174.5506 - val_loss: 3634758.2500 - val_mean_absolute_error: 1374.7208\n",
      "Epoch 6/100\n",
      "35/35 [==============================] - 1s 17ms/step - loss: 123301.8281 - mean_absolute_error: 170.3064 - val_loss: 3633789.5000 - val_mean_absolute_error: 1400.8118\n",
      "Epoch 7/100\n",
      "35/35 [==============================] - 1s 18ms/step - loss: 140514.6719 - mean_absolute_error: 184.9509 - val_loss: 4540931.5000 - val_mean_absolute_error: 1579.6593\n",
      "Epoch 8/100\n",
      "35/35 [==============================] - 1s 18ms/step - loss: 131994.0625 - mean_absolute_error: 176.3374 - val_loss: 4013095.0000 - val_mean_absolute_error: 1485.6903\n",
      "Epoch 9/100\n",
      "35/35 [==============================] - 1s 18ms/step - loss: 132916.9375 - mean_absolute_error: 179.3581 - val_loss: 4391138.0000 - val_mean_absolute_error: 1494.7955\n",
      "{'LSTM': [133875.90625, 175.7948760986328]}\n",
      "{'LSTM': [662406.5625, 569.802001953125]}\n"
     ]
    }
   ],
   "source": [
    "lstm_model = Sequential([\n",
    "    LSTM(150, return_sequences=True, activation='relu'),\n",
    "    LSTM(150, activation='relu'),\n",
    "    Dense(150, activation='relu'),\n",
    "    Dense(1),\n",
    "])\n",
    "\n",
    "history = compile_and_fit(lstm_model, multi_window)\n",
    "\n",
    "Train_performance['LSTM'] = lstm_model.evaluate(multi_window.train, verbose=0)\n",
    "Test_performance['LSTM'] = lstm_model.evaluate(multi_window.test, verbose=0)\n",
    "print(Train_performance)\n",
    "print(Test_performance)"
   ]
  },
  {
   "cell_type": "code",
   "execution_count": 93,
   "id": "20f258ea",
   "metadata": {},
   "outputs": [
    {
     "name": "stdout",
     "output_type": "stream",
     "text": [
      "10/10 [==============================] - 0s 2ms/step\n"
     ]
    },
    {
     "data": {
      "text/plain": [
       "(294, 1)"
      ]
     },
     "execution_count": 93,
     "metadata": {},
     "output_type": "execute_result"
    }
   ],
   "source": [
    "test_predict=lstm_model.predict(test_df)\n",
    "test_predict.shape"
   ]
  },
  {
   "cell_type": "code",
   "execution_count": 96,
   "id": "536cb924",
   "metadata": {},
   "outputs": [
    {
     "data": {
      "text/plain": [
       "array([[477.6893 ],\n",
       "       [479.64304],\n",
       "       [492.88318],\n",
       "       [447.2148 ],\n",
       "       [445.9901 ],\n",
       "       [434.10187],\n",
       "       [435.6735 ],\n",
       "       [443.49045],\n",
       "       [427.89883],\n",
       "       [430.643  ]], dtype=float32)"
      ]
     },
     "execution_count": 96,
     "metadata": {},
     "output_type": "execute_result"
    }
   ],
   "source": [
    "test_predict[:10]"
   ]
  },
  {
   "cell_type": "code",
   "execution_count": 100,
   "id": "d0e02135",
   "metadata": {},
   "outputs": [
    {
     "name": "stdout",
     "output_type": "stream",
     "text": [
      "541956525.6364158\n"
     ]
    }
   ],
   "source": [
    "from sklearn.metrics import mean_squared_error\n",
    "mse = mean_squared_error(test_df, predict_df)\n",
    "print(mse)"
   ]
  },
  {
   "cell_type": "code",
   "execution_count": 21,
   "id": "13c21a93",
   "metadata": {},
   "outputs": [
    {
     "data": {
      "image/png": "[encoded data removed]",
      "text/plain": [
       "<IPython.core.display.Image object>"
      ]
     },
     "execution_count": 21,
     "metadata": {},
     "output_type": "execute_result"
    }
   ],
   "source": [
    "from keras.utils import plot_model\n",
    "# tf.keras.utils.plot_model(lstm_model, to_file='Functional_API_model.png')\n",
    "tf.keras.utils.plot_model(lstm_model)"
   ]
  },
  {
   "cell_type": "code",
   "execution_count": 101,
   "id": "6e833c13",
   "metadata": {},
   "outputs": [
    {
     "data": {
      "image/png": "[encoded data removed]",
      "text/plain": [
       "<Figure size 640x480 with 1 Axes>"
      ]
     },
     "metadata": {},
     "output_type": "display_data"
    }
   ],
   "source": [
    "mae_Train = [v[1] for v in Train_performance.values()]\n",
    "mae_test = [v[1] for v in Test_performance.values()]\n",
    "\n",
    "x = np.arange(len(Test_performance))\n",
    "\n",
    "fig, ax = plt.subplots()\n",
    "ax.bar(x - 0.15, mae_Train, width=0.25, color='black', edgecolor='black', label='Train')\n",
    "ax.bar(x + 0.15, mae_test, width=0.25, color='white', edgecolor='black', hatch='/', label='Test')\n",
    "ax.set_ylabel('Mean absolute error')\n",
    "ax.set_xlabel('Models')\n",
    "\n",
    "for index, value in enumerate(mae_Train):\n",
    "    plt.text(x=index - 0.15, y=value, s=str(round(value, 4)), ha='center')\n",
    "    \n",
    "for index, value in enumerate(mae_test):\n",
    "    plt.text(x=index + 0.15, y=value, s=str(round(value, 4)), ha='center')\n",
    "\n",
    "# plt.ylim(0, 0.33)\n",
    "plt.xticks(ticks=x, labels=Test_performance.keys())\n",
    "plt.legend(loc='best')\n",
    "plt.tight_layout()\n",
    "\n",
    "plt.savefig('figures/BTC-MA_7.png', dpi=300)"
   ]
  }
 ],
 "metadata": {
  "kernelspec": {
   "display_name": "Python 3 (ipykernel)",
   "language": "python",
   "name": "python3"
  },
  "language_info": {
   "codemirror_mode": {
    "name": "ipython",
    "version": 3
   },
   "file_extension": ".py",
   "mimetype": "text/x-python",
   "name": "python",
   "nbconvert_exporter": "python",
   "pygments_lexer": "ipython3",
   "version": "3.10.9"
  }
 },
 "nbformat": 4,
 "nbformat_minor": 5
}
