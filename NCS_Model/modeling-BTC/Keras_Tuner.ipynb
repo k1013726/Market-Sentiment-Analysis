{
  "cells": [
    {
      "cell_type": "markdown",
      "metadata": {
        "id": "qFdPvlXBOdUN"
      },
      "source": [
        "# Keras Tuner"
      ]
    },
    {
      "cell_type": "markdown",
      "metadata": {
        "id": "xHxb-dlhMIzW"
      },
      "source": [
        "- 分享於[ithome鐵人賽](https://ithelp.ithome.com.tw/articles/10265801)文章的實作範例。\n",
        "- [Keras Tuner](https://keras.io/keras_tuner/)是 Keras 團隊的一個模組，可自動執行神經網絡的超參數調整\n",
        "- 為了進行比較，首先使用預先選擇的超參數訓練基線模型，然後使用調整後的超參數重做該過程。\n",
        "- 範例改寫自[Tensorflow 提供的官方教學](https://colab.research.google.com/github/tensorflow/docs/blob/master/site/en/tutorials/keras/keras_tuner.ipynb#scrollTo=sKwLOzKpFGAj)。"
      ]
    },
    {
      "cell_type": "markdown",
      "metadata": {
        "id": "_3pTFGlJNlXW"
      },
      "source": [
        "- 建立 Baseline model"
      ]
    },
    {
      "cell_type": "code",
      "execution_count": 12,
      "metadata": {},
      "outputs": [],
      "source": [
        "from tensorflow import keras\n",
        "import pandas as pd"
      ]
    },
    {
      "cell_type": "code",
      "execution_count": 13,
      "metadata": {},
      "outputs": [
        {
          "name": "stdout",
          "output_type": "stream",
          "text": [
            "(2227, 14) (955, 14) (2227,) (955,)\n"
          ]
        }
      ],
      "source": [
        "BTC_all = pd.read_csv('BTC-all.csv').drop('Date',axis=1)\n",
        "BTC_all.head()\n",
        "\n",
        "n = len(BTC_all)\n",
        "y_train,y_val= BTC_all['Adj Close'][:int(n*0.7)],BTC_all['Adj Close'][int(n*0.7):]\n",
        "x_train,x_val = BTC_all.drop('Adj Close',axis=1)[:int(n*0.7)],BTC_all.drop('Adj Close',axis=1)[int(n*0.7):]\n",
        "print(x_train.shape,x_val.shape,y_train.shape,y_val.shape)"
      ]
    },
    {
      "cell_type": "code",
      "execution_count": 14,
      "metadata": {},
      "outputs": [
        {
          "data": {
            "text/html": [
              "<div>\n",
              "<style scoped>\n",
              "    .dataframe tbody tr th:only-of-type {\n",
              "        vertical-align: middle;\n",
              "    }\n",
              "\n",
              "    .dataframe tbody tr th {\n",
              "        vertical-align: top;\n",
              "    }\n",
              "\n",
              "    .dataframe thead th {\n",
              "        text-align: right;\n",
              "    }\n",
              "</style>\n",
              "<table border=\"1\" class=\"dataframe\">\n",
              "  <thead>\n",
              "    <tr style=\"text-align: right;\">\n",
              "      <th></th>\n",
              "      <th>Open</th>\n",
              "      <th>High</th>\n",
              "      <th>Low</th>\n",
              "      <th>Close</th>\n",
              "      <th>Volume</th>\n",
              "      <th>SMA_7</th>\n",
              "      <th>SMA_14</th>\n",
              "      <th>EMA_7</th>\n",
              "      <th>EMA_14</th>\n",
              "      <th>RSI</th>\n",
              "      <th>Stoch_RSI</th>\n",
              "      <th>Upper_BB</th>\n",
              "      <th>Lower_BB</th>\n",
              "      <th>MACD</th>\n",
              "    </tr>\n",
              "  </thead>\n",
              "  <tbody>\n",
              "    <tr>\n",
              "      <th>0</th>\n",
              "      <td>391.691986</td>\n",
              "      <td>411.697998</td>\n",
              "      <td>391.324005</td>\n",
              "      <td>400.869995</td>\n",
              "      <td>38491500</td>\n",
              "      <td>373.094291</td>\n",
              "      <td>360.392931</td>\n",
              "      <td>376.986690</td>\n",
              "      <td>371.799589</td>\n",
              "      <td>54.529605</td>\n",
              "      <td>0.991932</td>\n",
              "      <td>422.829855</td>\n",
              "      <td>317.231348</td>\n",
              "      <td>-10.737706</td>\n",
              "    </tr>\n",
              "    <tr>\n",
              "      <th>1</th>\n",
              "      <td>400.954987</td>\n",
              "      <td>402.226990</td>\n",
              "      <td>388.765991</td>\n",
              "      <td>394.773010</td>\n",
              "      <td>25267100</td>\n",
              "      <td>379.070435</td>\n",
              "      <td>361.189933</td>\n",
              "      <td>381.434329</td>\n",
              "      <td>374.911777</td>\n",
              "      <td>53.565092</td>\n",
              "      <td>0.965996</td>\n",
              "      <td>419.691379</td>\n",
              "      <td>318.689724</td>\n",
              "      <td>-8.196223</td>\n",
              "    </tr>\n",
              "    <tr>\n",
              "      <th>2</th>\n",
              "      <td>394.518005</td>\n",
              "      <td>398.807007</td>\n",
              "      <td>373.070007</td>\n",
              "      <td>382.556000</td>\n",
              "      <td>26990000</td>\n",
              "      <td>381.574720</td>\n",
              "      <td>361.724505</td>\n",
              "      <td>381.714797</td>\n",
              "      <td>375.945126</td>\n",
              "      <td>52.336359</td>\n",
              "      <td>0.932954</td>\n",
              "      <td>416.279522</td>\n",
              "      <td>319.914682</td>\n",
              "      <td>-7.086205</td>\n",
              "    </tr>\n",
              "    <tr>\n",
              "      <th>3</th>\n",
              "      <td>382.756012</td>\n",
              "      <td>385.477997</td>\n",
              "      <td>375.389008</td>\n",
              "      <td>383.757996</td>\n",
              "      <td>13600700</td>\n",
              "      <td>384.745575</td>\n",
              "      <td>363.456362</td>\n",
              "      <td>382.225665</td>\n",
              "      <td>376.999326</td>\n",
              "      <td>58.314477</td>\n",
              "      <td>1.000000</td>\n",
              "      <td>413.813751</td>\n",
              "      <td>320.804254</td>\n",
              "      <td>-6.039892</td>\n",
              "    </tr>\n",
              "    <tr>\n",
              "      <th>4</th>\n",
              "      <td>383.976013</td>\n",
              "      <td>395.157990</td>\n",
              "      <td>378.971008</td>\n",
              "      <td>391.441986</td>\n",
              "      <td>11416800</td>\n",
              "      <td>388.908857</td>\n",
              "      <td>367.926076</td>\n",
              "      <td>384.529977</td>\n",
              "      <td>378.944982</td>\n",
              "      <td>75.469711</td>\n",
              "      <td>1.000000</td>\n",
              "      <td>415.589314</td>\n",
              "      <td>320.454790</td>\n",
              "      <td>-4.538333</td>\n",
              "    </tr>\n",
              "  </tbody>\n",
              "</table>\n",
              "</div>"
            ],
            "text/plain": [
              "         Open        High         Low       Close    Volume       SMA_7  \\\n",
              "0  391.691986  411.697998  391.324005  400.869995  38491500  373.094291   \n",
              "1  400.954987  402.226990  388.765991  394.773010  25267100  379.070435   \n",
              "2  394.518005  398.807007  373.070007  382.556000  26990000  381.574720   \n",
              "3  382.756012  385.477997  375.389008  383.757996  13600700  384.745575   \n",
              "4  383.976013  395.157990  378.971008  391.441986  11416800  388.908857   \n",
              "\n",
              "       SMA_14       EMA_7      EMA_14        RSI  Stoch_RSI    Upper_BB  \\\n",
              "0  360.392931  376.986690  371.799589  54.529605   0.991932  422.829855   \n",
              "1  361.189933  381.434329  374.911777  53.565092   0.965996  419.691379   \n",
              "2  361.724505  381.714797  375.945126  52.336359   0.932954  416.279522   \n",
              "3  363.456362  382.225665  376.999326  58.314477   1.000000  413.813751   \n",
              "4  367.926076  384.529977  378.944982  75.469711   1.000000  415.589314   \n",
              "\n",
              "     Lower_BB       MACD  \n",
              "0  317.231348 -10.737706  \n",
              "1  318.689724  -8.196223  \n",
              "2  319.914682  -7.086205  \n",
              "3  320.804254  -6.039892  \n",
              "4  320.454790  -4.538333  "
            ]
          },
          "execution_count": 14,
          "metadata": {},
          "output_type": "execute_result"
        }
      ],
      "source": [
        "x_train.head()"
      ]
    },
    {
      "cell_type": "code",
      "execution_count": 15,
      "metadata": {},
      "outputs": [],
      "source": [
        "(img_train, label_train), (img_test, label_test) = keras.datasets.fashion_mnist.load_data()\n",
        "\n",
        "# Normalize\n",
        "img_train = img_train.astype('float32') / 255.0\n",
        "img_test = img_test.astype('float32') / 255.0"
      ]
    },
    {
      "cell_type": "code",
      "execution_count": 16,
      "metadata": {},
      "outputs": [
        {
          "data": {
            "text/plain": [
              "(60000, 28, 28)"
            ]
          },
          "execution_count": 16,
          "metadata": {},
          "output_type": "execute_result"
        }
      ],
      "source": [
        "img_train.shape"
      ]
    },
    {
      "cell_type": "code",
      "execution_count": 11,
      "metadata": {
        "id": "fmWlClw3K8as"
      },
      "outputs": [
        {
          "ename": "ValueError",
          "evalue": "This model has not yet been built. Build the model first by calling `build()` or by calling the model on a batch of data.",
          "output_type": "error",
          "traceback": [
            "\u001b[1;31m---------------------------------------------------------------------------\u001b[0m",
            "\u001b[1;31mValueError\u001b[0m                                Traceback (most recent call last)",
            "Cell \u001b[1;32mIn[11], line 12\u001b[0m\n\u001b[0;32m      6\u001b[0m \u001b[39m# baseline_model.add(keras.layers.Dense(10, activation='softmax'))\u001b[39;00m\n\u001b[0;32m      7\u001b[0m baseline_model\u001b[39m.\u001b[39mcompile(\n\u001b[0;32m      8\u001b[0m     optimizer \u001b[39m=\u001b[39m keras\u001b[39m.\u001b[39moptimizers\u001b[39m.\u001b[39mAdam(learning_rate\u001b[39m=\u001b[39m\u001b[39m0.001\u001b[39m),\n\u001b[0;32m      9\u001b[0m     loss \u001b[39m=\u001b[39m keras\u001b[39m.\u001b[39mlosses\u001b[39m.\u001b[39mSparseCategoricalCrossentropy(),\n\u001b[0;32m     10\u001b[0m     metrics \u001b[39m=\u001b[39m [\u001b[39m'\u001b[39m\u001b[39maccuracy\u001b[39m\u001b[39m'\u001b[39m]\n\u001b[0;32m     11\u001b[0m     )\n\u001b[1;32m---> 12\u001b[0m baseline_model\u001b[39m.\u001b[39;49msummary()\n",
            "File \u001b[1;32mc:\\Users\\nptu\\AppData\\Local\\Programs\\Python\\Python310\\lib\\site-packages\\keras\\engine\\training.py:3229\u001b[0m, in \u001b[0;36mModel.summary\u001b[1;34m(self, line_length, positions, print_fn, expand_nested, show_trainable, layer_range)\u001b[0m\n\u001b[0;32m   3198\u001b[0m \u001b[39m\u001b[39m\u001b[39m\"\"\"Prints a string summary of the network.\u001b[39;00m\n\u001b[0;32m   3199\u001b[0m \n\u001b[0;32m   3200\u001b[0m \u001b[39mArgs:\u001b[39;00m\n\u001b[1;32m   (...)\u001b[0m\n\u001b[0;32m   3226\u001b[0m \u001b[39m    ValueError: if `summary()` is called before the model is built.\u001b[39;00m\n\u001b[0;32m   3227\u001b[0m \u001b[39m\"\"\"\u001b[39;00m\n\u001b[0;32m   3228\u001b[0m \u001b[39mif\u001b[39;00m \u001b[39mnot\u001b[39;00m \u001b[39mself\u001b[39m\u001b[39m.\u001b[39mbuilt:\n\u001b[1;32m-> 3229\u001b[0m     \u001b[39mraise\u001b[39;00m \u001b[39mValueError\u001b[39;00m(\n\u001b[0;32m   3230\u001b[0m         \u001b[39m\"\u001b[39m\u001b[39mThis model has not yet been built. \u001b[39m\u001b[39m\"\u001b[39m\n\u001b[0;32m   3231\u001b[0m         \u001b[39m\"\u001b[39m\u001b[39mBuild the model first by calling `build()` or by calling \u001b[39m\u001b[39m\"\u001b[39m\n\u001b[0;32m   3232\u001b[0m         \u001b[39m\"\u001b[39m\u001b[39mthe model on a batch of data.\u001b[39m\u001b[39m\"\u001b[39m\n\u001b[0;32m   3233\u001b[0m     )\n\u001b[0;32m   3234\u001b[0m layer_utils\u001b[39m.\u001b[39mprint_summary(\n\u001b[0;32m   3235\u001b[0m     \u001b[39mself\u001b[39m,\n\u001b[0;32m   3236\u001b[0m     line_length\u001b[39m=\u001b[39mline_length,\n\u001b[1;32m   (...)\u001b[0m\n\u001b[0;32m   3241\u001b[0m     layer_range\u001b[39m=\u001b[39mlayer_range,\n\u001b[0;32m   3242\u001b[0m )\n",
            "\u001b[1;31mValueError\u001b[0m: This model has not yet been built. Build the model first by calling `build()` or by calling the model on a batch of data."
          ]
        }
      ],
      "source": [
        "baseline_model = keras.Sequential()\n",
        "baseline_model.add(keras.layers.Flatten(input_shape=(None, 14)))\n",
        "# baseline_model.add(keras.layers.Dense(units=512, activation='relu', name='dense_1'))\n",
        "baseline_model.add(keras.layers.Dense(units=512, activation='relu', name='dense_1'))\n",
        "baseline_model.add(keras.layers.Dropout(0.2))\n",
        "# baseline_model.add(keras.layers.Dense(10, activation='softmax'))\n",
        "baseline_model.compile(\n",
        "    optimizer = keras.optimizers.Adam(learning_rate=0.001),\n",
        "    loss = keras.losses.SparseCategoricalCrossentropy(),\n",
        "    metrics = ['accuracy']\n",
        "    )\n",
        "baseline_model.summary()"
      ]
    },
    {
      "cell_type": "code",
      "execution_count": 7,
      "metadata": {
        "id": "NHVWtgmbKwJ4"
      },
      "outputs": [
        {
          "name": "stdout",
          "output_type": "stream",
          "text": [
            "Epoch 1/10\n"
          ]
        },
        {
          "ename": "ValueError",
          "evalue": "in user code:\n\n    File \"c:\\Users\\nptu\\AppData\\Local\\Programs\\Python\\Python310\\lib\\site-packages\\keras\\engine\\training.py\", line 1284, in train_function  *\n        return step_function(self, iterator)\n    File \"c:\\Users\\nptu\\AppData\\Local\\Programs\\Python\\Python310\\lib\\site-packages\\keras\\engine\\training.py\", line 1268, in step_function  **\n        outputs = model.distribute_strategy.run(run_step, args=(data,))\n    File \"c:\\Users\\nptu\\AppData\\Local\\Programs\\Python\\Python310\\lib\\site-packages\\keras\\engine\\training.py\", line 1249, in run_step  **\n        outputs = model.train_step(data)\n    File \"c:\\Users\\nptu\\AppData\\Local\\Programs\\Python\\Python310\\lib\\site-packages\\keras\\engine\\training.py\", line 1050, in train_step\n        y_pred = self(x, training=True)\n    File \"c:\\Users\\nptu\\AppData\\Local\\Programs\\Python\\Python310\\lib\\site-packages\\keras\\utils\\traceback_utils.py\", line 70, in error_handler\n        raise e.with_traceback(filtered_tb) from None\n    File \"c:\\Users\\nptu\\AppData\\Local\\Programs\\Python\\Python310\\lib\\site-packages\\keras\\engine\\input_spec.py\", line 298, in assert_input_compatibility\n        raise ValueError(\n\n    ValueError: Input 0 of layer \"sequential\" is incompatible with the layer: expected shape=(None, 1, 14), found shape=(None, 14)\n",
          "output_type": "error",
          "traceback": [
            "\u001b[1;31m---------------------------------------------------------------------------\u001b[0m",
            "\u001b[1;31mValueError\u001b[0m                                Traceback (most recent call last)",
            "Cell \u001b[1;32mIn[7], line 2\u001b[0m\n\u001b[0;32m      1\u001b[0m \u001b[39m# 訓練及評估模型\u001b[39;00m\n\u001b[1;32m----> 2\u001b[0m baseline_model\u001b[39m.\u001b[39;49mfit(x_train, y_train, epochs\u001b[39m=\u001b[39;49m\u001b[39m10\u001b[39;49m, validation_split\u001b[39m=\u001b[39;49m\u001b[39m0.2\u001b[39;49m)\n\u001b[0;32m      3\u001b[0m baseline_eval_dict \u001b[39m=\u001b[39m baseline_model\u001b[39m.\u001b[39mevaluate(x_val, y_val, return_dict\u001b[39m=\u001b[39m\u001b[39mTrue\u001b[39;00m)\n",
            "File \u001b[1;32mc:\\Users\\nptu\\AppData\\Local\\Programs\\Python\\Python310\\lib\\site-packages\\keras\\utils\\traceback_utils.py:70\u001b[0m, in \u001b[0;36mfilter_traceback.<locals>.error_handler\u001b[1;34m(*args, **kwargs)\u001b[0m\n\u001b[0;32m     67\u001b[0m     filtered_tb \u001b[39m=\u001b[39m _process_traceback_frames(e\u001b[39m.\u001b[39m__traceback__)\n\u001b[0;32m     68\u001b[0m     \u001b[39m# To get the full stack trace, call:\u001b[39;00m\n\u001b[0;32m     69\u001b[0m     \u001b[39m# `tf.debugging.disable_traceback_filtering()`\u001b[39;00m\n\u001b[1;32m---> 70\u001b[0m     \u001b[39mraise\u001b[39;00m e\u001b[39m.\u001b[39mwith_traceback(filtered_tb) \u001b[39mfrom\u001b[39;00m \u001b[39mNone\u001b[39m\n\u001b[0;32m     71\u001b[0m \u001b[39mfinally\u001b[39;00m:\n\u001b[0;32m     72\u001b[0m     \u001b[39mdel\u001b[39;00m filtered_tb\n",
            "File \u001b[1;32m~\\AppData\\Local\\Temp\\__autograph_generated_fileek3xt88s.py:15\u001b[0m, in \u001b[0;36mouter_factory.<locals>.inner_factory.<locals>.tf__train_function\u001b[1;34m(iterator)\u001b[0m\n\u001b[0;32m     13\u001b[0m \u001b[39mtry\u001b[39;00m:\n\u001b[0;32m     14\u001b[0m     do_return \u001b[39m=\u001b[39m \u001b[39mTrue\u001b[39;00m\n\u001b[1;32m---> 15\u001b[0m     retval_ \u001b[39m=\u001b[39m ag__\u001b[39m.\u001b[39mconverted_call(ag__\u001b[39m.\u001b[39mld(step_function), (ag__\u001b[39m.\u001b[39mld(\u001b[39mself\u001b[39m), ag__\u001b[39m.\u001b[39mld(iterator)), \u001b[39mNone\u001b[39;00m, fscope)\n\u001b[0;32m     16\u001b[0m \u001b[39mexcept\u001b[39;00m:\n\u001b[0;32m     17\u001b[0m     do_return \u001b[39m=\u001b[39m \u001b[39mFalse\u001b[39;00m\n",
            "\u001b[1;31mValueError\u001b[0m: in user code:\n\n    File \"c:\\Users\\nptu\\AppData\\Local\\Programs\\Python\\Python310\\lib\\site-packages\\keras\\engine\\training.py\", line 1284, in train_function  *\n        return step_function(self, iterator)\n    File \"c:\\Users\\nptu\\AppData\\Local\\Programs\\Python\\Python310\\lib\\site-packages\\keras\\engine\\training.py\", line 1268, in step_function  **\n        outputs = model.distribute_strategy.run(run_step, args=(data,))\n    File \"c:\\Users\\nptu\\AppData\\Local\\Programs\\Python\\Python310\\lib\\site-packages\\keras\\engine\\training.py\", line 1249, in run_step  **\n        outputs = model.train_step(data)\n    File \"c:\\Users\\nptu\\AppData\\Local\\Programs\\Python\\Python310\\lib\\site-packages\\keras\\engine\\training.py\", line 1050, in train_step\n        y_pred = self(x, training=True)\n    File \"c:\\Users\\nptu\\AppData\\Local\\Programs\\Python\\Python310\\lib\\site-packages\\keras\\utils\\traceback_utils.py\", line 70, in error_handler\n        raise e.with_traceback(filtered_tb) from None\n    File \"c:\\Users\\nptu\\AppData\\Local\\Programs\\Python\\Python310\\lib\\site-packages\\keras\\engine\\input_spec.py\", line 298, in assert_input_compatibility\n        raise ValueError(\n\n    ValueError: Input 0 of layer \"sequential\" is incompatible with the layer: expected shape=(None, 1, 14), found shape=(None, 14)\n"
          ]
        }
      ],
      "source": [
        "# 訓練及評估模型\n",
        "baseline_model.fit(x_train, y_train, epochs=10, validation_split=0.2)\n",
        "baseline_eval_dict = baseline_model.evaluate(x_val, y_val, return_dict=True)"
      ]
    },
    {
      "cell_type": "markdown",
      "metadata": {
        "id": "iaeRk4u0Ntdo"
      },
      "source": [
        "- 建立顯示結果的輔助函數，以便稍後進行比較。"
      ]
    },
    {
      "cell_type": "code",
      "execution_count": null,
      "metadata": {
        "id": "sXtbuNewMoIR"
      },
      "outputs": [],
      "source": [
        "def print_results(model, model_name, eval_dict):\n",
        "  print(f'\\n{model_name}:')\n",
        "  print(f'number of units in 1st Dense layer: {model.get_layer(\"dense_1\").units}')\n",
        "  print(f'learning rate for the optimizer: {model.optimizer.lr.numpy()}')\n",
        "\n",
        "  for key,value in eval_dict.items():\n",
        "    print(f'{key}: {value}')\n",
        "\n",
        "# Print results for baseline model\n",
        "print_results(baseline_model, 'BASELINE MODEL', baseline_eval_dict)"
      ]
    },
    {
      "cell_type": "markdown",
      "metadata": {
        "id": "7oyczDXqtWjI"
      },
      "source": [
        "## Keras Tuner\n"
      ]
    },
    {
      "cell_type": "markdown",
      "metadata": {
        "id": "Vfcx9rJyOAM_"
      },
      "source": [
        "要使用 Keras Tuner 執行超調，您需要：\n",
        "\n",
        "- 定義模型\n",
        "- 選擇要調整的超參數\n",
        "- 定義其搜索空間\n",
        "- 定義搜索策略"
      ]
    },
    {
      "cell_type": "code",
      "execution_count": null,
      "metadata": {
        "id": "hpMLpbt9jcO6"
      },
      "outputs": [],
      "source": [
        "!pip install -q -U keras-tuner"
      ]
    },
    {
      "cell_type": "code",
      "execution_count": null,
      "metadata": {
        "id": "_leAIdFKAxAD"
      },
      "outputs": [],
      "source": [
        "# Import required packages\n",
        "import tensorflow as tf\n",
        "import kerastuner as kt"
      ]
    },
    {
      "cell_type": "markdown",
      "metadata": {
        "id": "QMguQBX2OaP0"
      },
      "source": [
        "### 定義模型"
      ]
    },
    {
      "cell_type": "markdown",
      "metadata": {
        "id": "ZrLR-Y1xPCsW"
      },
      "source": [
        "- 當您構建用於超調的模型時，除了模型架構之外，您還定義了超參數搜索空間。您為超調設置的模型稱為`HyperModel`。\n",
        "\n",
        "- 您可以通過兩種方法定義超模型：\n",
        "    - 通過使用模型構建器功能。\n",
        "    - 通過`HyperModel`繼承 `Keras Tuner API`的類別。\n",
        "- 另外兩個預定義的HyperModel類 - [HyperXception](https://keras-team.github.io/keras-tuner/documentation/hypermodels/#hyperxception-class)和[HyperResNet](https://keras-team.github.io/keras-tuner/documentation/hypermodels/#hyperresnet-class)可用於計算機視覺應用程序。\n",
        "\n",
        "- 本範例由模型構建器函數來定義圖像分類模型。"
      ]
    },
    {
      "cell_type": "markdown",
      "metadata": {
        "id": "n1E8RgotQPpy"
      },
      "source": [
        "\n",
        "- `Int()`用來定義密集單元的搜索空間的最小值和最大值。\n",
        "\n",
        "- `Choice()`用於設定學習率。"
      ]
    },
    {
      "cell_type": "code",
      "execution_count": null,
      "metadata": {
        "id": "T-kTctU1OdGp"
      },
      "outputs": [],
      "source": [
        "def model_builder(hp):\n",
        "\n",
        "  model = keras.Sequential()\n",
        "  model.add(keras.layers.Flatten(input_shape=(28, 28)))\n",
        "\n",
        "  # 設定搜索值範圍\n",
        "  hp_units = hp.Int('units', min_value=32, max_value=512, step=32)\n",
        "\n",
        "  model.add(\n",
        "      keras.layers.Dense(\n",
        "          units=hp_units,\n",
        "          activation='relu',\n",
        "          name='dense_kt1'\n",
        "          )\n",
        "      )\n",
        "\n",
        "  model.add(keras.layers.Dropout(0.2))\n",
        "  model.add(keras.layers.Dense(10, activation='softmax'))\n",
        "\n",
        "  # 設定學習率範圍 0.01, 0.001, or 0.0001\n",
        "  hp_learning_rate = hp.Choice('learning_rate', values=[1e-2, 1e-3, 1e-4])\n",
        "\n",
        "  model.compile(\n",
        "      optimizer=keras.optimizers.Adam(learning_rate=hp_learning_rate),\n",
        "      loss=keras.losses.SparseCategoricalCrossentropy(),\n",
        "      metrics=['accuracy']\n",
        "      )\n",
        "  return model"
      ]
    },
    {
      "cell_type": "markdown",
      "metadata": {
        "id": "sqNTZ-Y6R--7"
      },
      "source": [
        "### 實例化 Tuner 並執行超調"
      ]
    },
    {
      "cell_type": "markdown",
      "metadata": {
        "id": "w7CSs6k0SbDl"
      },
      "source": [
        "- 參數設定參閱[官方文件](https://keras.io/api/keras_tuner/tuners/hyperband/)"
      ]
    },
    {
      "cell_type": "code",
      "execution_count": null,
      "metadata": {
        "id": "oichQFly6Y46"
      },
      "outputs": [],
      "source": [
        "# Instantiate the tuner\n",
        "tuner = kt.Hyperband(\n",
        "    model_builder,\n",
        "    objective='val_accuracy',\n",
        "    max_epochs=10,\n",
        "    factor=3,\n",
        "    directory='kt_dir',\n",
        "    project_name='kt_hyperband'\n",
        "    )"
      ]
    },
    {
      "cell_type": "code",
      "execution_count": null,
      "metadata": {
        "id": "JmkJOPp5WkiG"
      },
      "outputs": [],
      "source": [
        "# Display hypertuning settings\n",
        "tuner.search_space_summary()"
      ]
    },
    {
      "cell_type": "markdown",
      "metadata": {
        "id": "dHO0AbwMTNFv"
      },
      "source": [
        "定義了一個 [EarlyStopping](https://www.tensorflow.org/api_docs/python/tf/keras/callbacks/EarlyStopping)，當驗證的loss在5個epoch沒改善時停止訓練。"
      ]
    },
    {
      "cell_type": "code",
      "execution_count": null,
      "metadata": {
        "id": "WT9IkS9NEjLc"
      },
      "outputs": [],
      "source": [
        "stop_early = tf.keras.callbacks.EarlyStopping(monitor='val_loss', patience=5)"
      ]
    },
    {
      "cell_type": "markdown",
      "metadata": {
        "id": "8JCEuUfUTs7x"
      },
      "source": [
        "執行調參，需要些時間。"
      ]
    },
    {
      "cell_type": "code",
      "execution_count": null,
      "metadata": {
        "id": "dSBQcTHF9cKt"
      },
      "outputs": [],
      "source": [
        "# Perform hypertuning\n",
        "tuner.search(img_train, label_train, epochs=10, validation_split=0.2, callbacks=[stop_early])"
      ]
    },
    {
      "cell_type": "markdown",
      "metadata": {
        "id": "sv55ZTJ5T-Xy"
      },
      "source": [
        "您可以使用[get_best_hyperparameters()](https://keras-team.github.io/keras-tuner/documentation/tuners/#get_best_hyperparameters-method) 方法獲得性能最佳的模型。"
      ]
    },
    {
      "cell_type": "code",
      "execution_count": null,
      "metadata": {
        "id": "iG0zIuP5WuTI"
      },
      "outputs": [],
      "source": [
        "# Get the optimal hyperparameters from the results\n",
        "best_hps=tuner.get_best_hyperparameters()[0]\n",
        "\n",
        "print(f\"\"\"\n",
        "The hyperparameter search is complete. The optimal number of units in the first densely-connected\n",
        "layer is {best_hps.get('units')} and the optimal learning rate for the optimizer\n",
        "is {best_hps.get('learning_rate')}.\n",
        "\"\"\")"
      ]
    },
    {
      "cell_type": "markdown",
      "metadata": {
        "id": "YdrTDztMUKyI"
      },
      "source": [
        "## 建立與訓練模型"
      ]
    },
    {
      "cell_type": "markdown",
      "metadata": {
        "id": "KVaYP46IUU4O"
      },
      "source": [
        "現在最佳模型儲存在`best_hps`中，即可進行自動調參後的套用作業。"
      ]
    },
    {
      "cell_type": "code",
      "execution_count": null,
      "metadata": {
        "id": "McO82AXOuxXh"
      },
      "outputs": [],
      "source": [
        "# Build the model with the optimal hyperparameters\n",
        "h_model = tuner.hypermodel.build(best_hps)\n",
        "h_model.summary()"
      ]
    },
    {
      "cell_type": "code",
      "execution_count": null,
      "metadata": {
        "id": "l64WP7Rau1lm"
      },
      "outputs": [],
      "source": [
        "# Train the hypertuned model\n",
        "h_model.fit(img_train, label_train, epochs=10, validation_split=0.2)"
      ]
    },
    {
      "cell_type": "code",
      "execution_count": null,
      "metadata": {
        "id": "9E0BTp9Ealjb"
      },
      "outputs": [],
      "source": [
        "# Evaluate the hypertuned model against the test set\n",
        "h_eval_dict = h_model.evaluate(img_test, label_test, return_dict=True)"
      ]
    },
    {
      "cell_type": "code",
      "execution_count": null,
      "metadata": {
        "id": "BjVYPOw6MH5d"
      },
      "outputs": [],
      "source": [
        "# Print results of the baseline and hypertuned model\n",
        "print_results(baseline_model, 'BASELINE MODEL', baseline_eval_dict)\n",
        "print_results(h_model, 'HYPERTUNED MODEL', h_eval_dict)"
      ]
    },
    {
      "cell_type": "markdown",
      "metadata": {
        "id": "MtuJ7oOHXjSx"
      },
      "source": [
        "## 參考\n",
        "- [Tensorflow 提供的官方教學](https://colab.research.google.com/github/tensorflow/docs/blob/master/site/en/tutorials/keras/keras_tuner.ipynb#scrollTo=sKwLOzKpFGAj)。\n",
        "- [Keras Tuner](https://keras.io/keras_tuner/)"
      ]
    }
  ],
  "metadata": {
    "accelerator": "GPU",
    "colab": {
      "name": "Keras_Tuner-鐵人賽分享.ipynb",
      "private_outputs": true,
      "provenance": []
    },
    "kernelspec": {
      "display_name": "Python 3",
      "name": "python3"
    },
    "language_info": {
      "codemirror_mode": {
        "name": "ipython",
        "version": 3
      },
      "file_extension": ".py",
      "mimetype": "text/x-python",
      "name": "python",
      "nbconvert_exporter": "python",
      "pygments_lexer": "ipython3",
      "version": "3.10.9"
    }
  },
  "nbformat": 4,
  "nbformat_minor": 0
}
