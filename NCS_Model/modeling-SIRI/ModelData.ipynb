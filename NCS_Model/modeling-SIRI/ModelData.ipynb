{
 "cells": [
  {
   "cell_type": "code",
   "execution_count": 9,
   "id": "1ec3a50a",
   "metadata": {},
   "outputs": [],
   "source": [
    "import datetime\n",
    "\n",
    "import numpy as np\n",
    "import pandas as pd\n",
    "import seaborn as sns\n",
    "import tensorflow as tf\n",
    "import matplotlib.pyplot as plt\n",
    "import datetime \n",
    "\n",
    "from tensorflow.keras import Model, Sequential\n",
    "\n",
    "from tensorflow.keras.optimizers import Adam\n",
    "from tensorflow.keras.callbacks import EarlyStopping\n",
    "from tensorflow.keras.losses import MeanSquaredError\n",
    "from tensorflow.keras.metrics import MeanAbsoluteError\n",
    "\n",
    "from tensorflow.keras.layers import Dense, Conv1D, LSTM, Lambda, Reshape, RNN, LSTMCell\n",
    "\n",
    "#Yahoo!Finance 模組\n",
    "import yfinance as yf \n",
    "import datetime as dt\n",
    "import warnings\n",
    "warnings.filterwarnings('ignore')"
   ]
  },
  {
   "cell_type": "code",
   "execution_count": 10,
   "id": "70fb627d",
   "metadata": {},
   "outputs": [],
   "source": [
    "plt.rcParams['figure.figsize'] = (10, 7.5)\n",
    "plt.rcParams['axes.grid'] = False"
   ]
  },
  {
   "cell_type": "code",
   "execution_count": 11,
   "id": "dbdf5e43",
   "metadata": {},
   "outputs": [
    {
     "name": "stdout",
     "output_type": "stream",
     "text": [
      "2.12.0\n"
     ]
    }
   ],
   "source": [
    "print(tf.__version__)"
   ]
  },
  {
   "cell_type": "code",
   "execution_count": 12,
   "id": "d3095fa5",
   "metadata": {},
   "outputs": [],
   "source": [
    "tf.random.set_seed(42)\n",
    "np.random.seed(42)"
   ]
  },
  {
   "cell_type": "code",
   "execution_count": 13,
   "id": "22e1da77",
   "metadata": {},
   "outputs": [
    {
     "name": "stdout",
     "output_type": "stream",
     "text": [
      "[*********************100%***********************]  1 of 1 completed\n",
      "[*********************100%***********************]  1 of 1 completed\n"
     ]
    },
    {
     "data": {
      "text/html": [
       "<div>\n",
       "<style scoped>\n",
       "    .dataframe tbody tr th:only-of-type {\n",
       "        vertical-align: middle;\n",
       "    }\n",
       "\n",
       "    .dataframe tbody tr th {\n",
       "        vertical-align: top;\n",
       "    }\n",
       "\n",
       "    .dataframe thead th {\n",
       "        text-align: right;\n",
       "    }\n",
       "</style>\n",
       "<table border=\"1\" class=\"dataframe\">\n",
       "  <thead>\n",
       "    <tr style=\"text-align: right;\">\n",
       "      <th></th>\n",
       "      <th>Open</th>\n",
       "      <th>High</th>\n",
       "      <th>Low</th>\n",
       "      <th>Close</th>\n",
       "      <th>Adj Close</th>\n",
       "      <th>Volume</th>\n",
       "    </tr>\n",
       "    <tr>\n",
       "      <th>Date</th>\n",
       "      <th></th>\n",
       "      <th></th>\n",
       "      <th></th>\n",
       "      <th></th>\n",
       "      <th></th>\n",
       "      <th></th>\n",
       "    </tr>\n",
       "  </thead>\n",
       "  <tbody>\n",
       "    <tr>\n",
       "      <th>2023-06-26</th>\n",
       "      <td>3.83</td>\n",
       "      <td>3.95</td>\n",
       "      <td>3.80</td>\n",
       "      <td>3.91</td>\n",
       "      <td>3.91</td>\n",
       "      <td>10996000</td>\n",
       "    </tr>\n",
       "    <tr>\n",
       "      <th>2023-06-27</th>\n",
       "      <td>3.92</td>\n",
       "      <td>4.32</td>\n",
       "      <td>3.89</td>\n",
       "      <td>4.09</td>\n",
       "      <td>4.09</td>\n",
       "      <td>39288300</td>\n",
       "    </tr>\n",
       "    <tr>\n",
       "      <th>2023-06-28</th>\n",
       "      <td>4.14</td>\n",
       "      <td>4.29</td>\n",
       "      <td>4.11</td>\n",
       "      <td>4.27</td>\n",
       "      <td>4.27</td>\n",
       "      <td>21406200</td>\n",
       "    </tr>\n",
       "    <tr>\n",
       "      <th>2023-06-29</th>\n",
       "      <td>4.30</td>\n",
       "      <td>4.33</td>\n",
       "      <td>4.16</td>\n",
       "      <td>4.33</td>\n",
       "      <td>4.33</td>\n",
       "      <td>15686800</td>\n",
       "    </tr>\n",
       "    <tr>\n",
       "      <th>2023-06-30</th>\n",
       "      <td>4.37</td>\n",
       "      <td>4.55</td>\n",
       "      <td>4.32</td>\n",
       "      <td>4.53</td>\n",
       "      <td>4.53</td>\n",
       "      <td>17128200</td>\n",
       "    </tr>\n",
       "  </tbody>\n",
       "</table>\n",
       "</div>"
      ],
      "text/plain": [
       "            Open  High   Low  Close  Adj Close    Volume\n",
       "Date                                                    \n",
       "2023-06-26  3.83  3.95  3.80   3.91       3.91  10996000\n",
       "2023-06-27  3.92  4.32  3.89   4.09       4.09  39288300\n",
       "2023-06-28  4.14  4.29  4.11   4.27       4.27  21406200\n",
       "2023-06-29  4.30  4.33  4.16   4.33       4.33  15686800\n",
       "2023-06-30  4.37  4.55  4.32   4.53       4.53  17128200"
      ]
     },
     "execution_count": 13,
     "metadata": {},
     "output_type": "execute_result"
    }
   ],
   "source": [
    "# https://finance.yahoo.com/most-active\n",
    "# https://finance.yahoo.com/crypto/\n",
    "symbol = \"SIRI\"\n",
    "# Read data\n",
    "# start =dt.date(2018, 1, 1)\n",
    "end = dt.date(2023, 7, 1)\n",
    "\n",
    "\n",
    "df = yf.download(symbol,end=end)\n",
    "df_Indicators= yf.download(symbol)\n",
    "df.tail()"
   ]
  },
  {
   "cell_type": "code",
   "execution_count": 14,
   "id": "410b3d5d",
   "metadata": {},
   "outputs": [
    {
     "data": {
      "text/plain": [
       "(7265, 6)"
      ]
     },
     "execution_count": 14,
     "metadata": {},
     "output_type": "execute_result"
    }
   ],
   "source": [
    "df_Indicators.shape"
   ]
  },
  {
   "cell_type": "code",
   "execution_count": 15,
   "id": "febdb0c5",
   "metadata": {},
   "outputs": [
    {
     "data": {
      "text/html": [
       "<div>\n",
       "<style scoped>\n",
       "    .dataframe tbody tr th:only-of-type {\n",
       "        vertical-align: middle;\n",
       "    }\n",
       "\n",
       "    .dataframe tbody tr th {\n",
       "        vertical-align: top;\n",
       "    }\n",
       "\n",
       "    .dataframe thead th {\n",
       "        text-align: right;\n",
       "    }\n",
       "</style>\n",
       "<table border=\"1\" class=\"dataframe\">\n",
       "  <thead>\n",
       "    <tr style=\"text-align: right;\">\n",
       "      <th></th>\n",
       "      <th>Open</th>\n",
       "      <th>High</th>\n",
       "      <th>Low</th>\n",
       "      <th>Close</th>\n",
       "      <th>Adj Close</th>\n",
       "      <th>Volume</th>\n",
       "      <th>SMA_7</th>\n",
       "      <th>SMA_14</th>\n",
       "      <th>EMA_7</th>\n",
       "      <th>EMA_14</th>\n",
       "      <th>RSI</th>\n",
       "      <th>Stoch_RSI</th>\n",
       "      <th>Upper_BB</th>\n",
       "      <th>Lower_BB</th>\n",
       "      <th>MACD</th>\n",
       "    </tr>\n",
       "    <tr>\n",
       "      <th>Date</th>\n",
       "      <th></th>\n",
       "      <th></th>\n",
       "      <th></th>\n",
       "      <th></th>\n",
       "      <th></th>\n",
       "      <th></th>\n",
       "      <th></th>\n",
       "      <th></th>\n",
       "      <th></th>\n",
       "      <th></th>\n",
       "      <th></th>\n",
       "      <th></th>\n",
       "      <th></th>\n",
       "      <th></th>\n",
       "      <th></th>\n",
       "    </tr>\n",
       "  </thead>\n",
       "  <tbody>\n",
       "    <tr>\n",
       "      <th>1994-10-20</th>\n",
       "      <td>3.625</td>\n",
       "      <td>3.625</td>\n",
       "      <td>3.625</td>\n",
       "      <td>3.625</td>\n",
       "      <td>3.197361</td>\n",
       "      <td>900</td>\n",
       "      <td>3.244612</td>\n",
       "      <td>3.256425</td>\n",
       "      <td>3.246758</td>\n",
       "      <td>3.304232</td>\n",
       "      <td>35.714299</td>\n",
       "      <td>0.608295</td>\n",
       "      <td>3.768174</td>\n",
       "      <td>2.973847</td>\n",
       "      <td>-0.171166</td>\n",
       "    </tr>\n",
       "    <tr>\n",
       "      <th>1994-10-21</th>\n",
       "      <td>3.875</td>\n",
       "      <td>3.875</td>\n",
       "      <td>3.875</td>\n",
       "      <td>3.875</td>\n",
       "      <td>3.417869</td>\n",
       "      <td>2000</td>\n",
       "      <td>3.260363</td>\n",
       "      <td>3.256425</td>\n",
       "      <td>3.289546</td>\n",
       "      <td>3.319626</td>\n",
       "      <td>50.000000</td>\n",
       "      <td>1.000000</td>\n",
       "      <td>3.737662</td>\n",
       "      <td>2.982308</td>\n",
       "      <td>-0.148606</td>\n",
       "    </tr>\n",
       "    <tr>\n",
       "      <th>1994-10-24</th>\n",
       "      <td>3.875</td>\n",
       "      <td>4.125</td>\n",
       "      <td>3.875</td>\n",
       "      <td>4.125</td>\n",
       "      <td>3.638376</td>\n",
       "      <td>27300</td>\n",
       "      <td>3.323365</td>\n",
       "      <td>3.287926</td>\n",
       "      <td>3.376769</td>\n",
       "      <td>3.362715</td>\n",
       "      <td>64.285701</td>\n",
       "      <td>1.000000</td>\n",
       "      <td>3.710884</td>\n",
       "      <td>2.998061</td>\n",
       "      <td>-0.111647</td>\n",
       "    </tr>\n",
       "    <tr>\n",
       "      <th>1994-10-25</th>\n",
       "      <td>4.000</td>\n",
       "      <td>4.000</td>\n",
       "      <td>4.000</td>\n",
       "      <td>4.000</td>\n",
       "      <td>3.528122</td>\n",
       "      <td>1200</td>\n",
       "      <td>3.370617</td>\n",
       "      <td>3.307614</td>\n",
       "      <td>3.414612</td>\n",
       "      <td>3.385033</td>\n",
       "      <td>58.620711</td>\n",
       "      <td>0.850192</td>\n",
       "      <td>3.710884</td>\n",
       "      <td>2.998061</td>\n",
       "      <td>-0.090213</td>\n",
       "    </tr>\n",
       "    <tr>\n",
       "      <th>1994-10-26</th>\n",
       "      <td>4.125</td>\n",
       "      <td>4.125</td>\n",
       "      <td>4.125</td>\n",
       "      <td>4.125</td>\n",
       "      <td>3.638376</td>\n",
       "      <td>100</td>\n",
       "      <td>3.433619</td>\n",
       "      <td>3.323365</td>\n",
       "      <td>3.470559</td>\n",
       "      <td>3.419163</td>\n",
       "      <td>57.142859</td>\n",
       "      <td>0.811111</td>\n",
       "      <td>3.710884</td>\n",
       "      <td>2.998061</td>\n",
       "      <td>-0.063596</td>\n",
       "    </tr>\n",
       "  </tbody>\n",
       "</table>\n",
       "</div>"
      ],
      "text/plain": [
       "             Open   High    Low  Close  Adj Close  Volume     SMA_7    SMA_14  \\\n",
       "Date                                                                            \n",
       "1994-10-20  3.625  3.625  3.625  3.625   3.197361     900  3.244612  3.256425   \n",
       "1994-10-21  3.875  3.875  3.875  3.875   3.417869    2000  3.260363  3.256425   \n",
       "1994-10-24  3.875  4.125  3.875  4.125   3.638376   27300  3.323365  3.287926   \n",
       "1994-10-25  4.000  4.000  4.000  4.000   3.528122    1200  3.370617  3.307614   \n",
       "1994-10-26  4.125  4.125  4.125  4.125   3.638376     100  3.433619  3.323365   \n",
       "\n",
       "               EMA_7    EMA_14        RSI  Stoch_RSI  Upper_BB  Lower_BB  \\\n",
       "Date                                                                       \n",
       "1994-10-20  3.246758  3.304232  35.714299   0.608295  3.768174  2.973847   \n",
       "1994-10-21  3.289546  3.319626  50.000000   1.000000  3.737662  2.982308   \n",
       "1994-10-24  3.376769  3.362715  64.285701   1.000000  3.710884  2.998061   \n",
       "1994-10-25  3.414612  3.385033  58.620711   0.850192  3.710884  2.998061   \n",
       "1994-10-26  3.470559  3.419163  57.142859   0.811111  3.710884  2.998061   \n",
       "\n",
       "                MACD  \n",
       "Date                  \n",
       "1994-10-20 -0.171166  \n",
       "1994-10-21 -0.148606  \n",
       "1994-10-24 -0.111647  \n",
       "1994-10-25 -0.090213  \n",
       "1994-10-26 -0.063596  "
      ]
     },
     "execution_count": 15,
     "metadata": {},
     "output_type": "execute_result"
    }
   ],
   "source": [
    "def SMA(close,n):   \n",
    "    return close.rolling(window=n).mean()\n",
    "\n",
    "def WMA(close, n):\n",
    "    weights = np.array(range(1, n+1))\n",
    "    sum_weights = np.sum(weights)\n",
    "\n",
    "    res = close.rolling(window=n).apply(lambda x: np.sum(weights*x) / sum_weights, raw=False)\n",
    "    return res\n",
    "\n",
    "def EMA(close, n):    \n",
    "    res=close.ewm(span=n,min_periods=n).mean()\n",
    "    return res\n",
    "\n",
    "def RSI(close, n):\n",
    "    # RSI\n",
    "    change = close.diff(1)\n",
    "    df[\"Gain\"] = change.mask(change < 0, 0)\n",
    "    df[\"Loss\"] = abs(change.mask(change > 0, 0))\n",
    "    df[\"AVG_Gain\"] = df.Gain.rolling(n).mean()\n",
    "    df[\"AVG_Loss\"] = df.Loss.rolling(n).mean()\n",
    "    df[\"RS\"] = df[\"AVG_Gain\"] / df[\"AVG_Loss\"]\n",
    "    df[\"RSI\"] = 100 - (100 / (1 + df[\"RS\"]))\n",
    "    return df[\"RSI\"]\n",
    "\n",
    "\n",
    "def Stoch_RSI(close, n):\n",
    "    #Stochastic RSI\n",
    "    RSI=df[\"RSI\"]\n",
    "    LL_RSI = RSI.rolling(n).min()\n",
    "    HH_RSI = RSI.rolling(n).max()         \n",
    "    return (RSI - LL_RSI) / (HH_RSI - LL_RSI)\n",
    "\n",
    "def BB(close, n):\n",
    "    MA = pd.Series(close.rolling(n).mean())\n",
    "    STD = pd.Series(close.rolling(n).std())\n",
    "    bb1 = MA + 2 * STD\n",
    "    df[\"Upper Bollinger Band\"] = pd.Series(bb1)\n",
    "    bb2 = MA - 2 * STD\n",
    "    df[\"Lower Bollinger Band\"] = pd.Series(bb2)\n",
    "    return df[\"Upper Bollinger Band\"],df[\"Lower Bollinger Band\"]\n",
    "\n",
    "def MACD(close):\n",
    "    df['EMA12'] = close.ewm(span=12, adjust=False).mean() \n",
    "    df['EMA26'] = close.ewm(span=26, adjust= False).mean() \n",
    "    return df['EMA12'] - df['EMA26'] \n",
    "\n",
    "\n",
    "# 指標副程式(資料,天數)\n",
    "df_Indicators['SMA_7']=SMA(df['Adj Close'],7)\n",
    "df_Indicators['SMA_14']=SMA(df['Adj Close'],14)\n",
    "\n",
    "df_Indicators['EMA_7']=EMA(df['Adj Close'],7)\n",
    "df_Indicators['EMA_14']=EMA(df['Adj Close'],14)\n",
    "\n",
    "df_Indicators['RSI']=RSI(df['Adj Close'],14)\n",
    "\n",
    "\n",
    "df_Indicators['Stoch_RSI']=Stoch_RSI(df['Adj Close'],14)\n",
    "\n",
    "df_Indicators['Upper_BB']=BB(df['Adj Close'],20)[0]\n",
    "df_Indicators['Lower_BB']=BB(df['Adj Close'],20)[1]\n",
    "\n",
    "df_Indicators['MACD']=MACD(df['Adj Close'])\n",
    "df_Indicators= df_Indicators.dropna()\n",
    "df_Indicators.head()"
   ]
  },
  {
   "cell_type": "code",
   "execution_count": 8,
   "id": "ea4306b1",
   "metadata": {},
   "outputs": [
    {
     "data": {
      "text/plain": [
       "(7224, 15)"
      ]
     },
     "execution_count": 8,
     "metadata": {},
     "output_type": "execute_result"
    }
   ],
   "source": [
    "df_Indicators.shape"
   ]
  },
  {
   "cell_type": "code",
   "execution_count": 16,
   "id": "7aade41e",
   "metadata": {},
   "outputs": [],
   "source": [
    "df_Indicators.to_csv('SIRI-all.csv')"
   ]
  },
  {
   "cell_type": "code",
   "execution_count": 66,
   "id": "0dc3cea9",
   "metadata": {},
   "outputs": [],
   "source": [
    "# from sklearn.preprocessing import MinMaxScaler\n",
    "# scaler = MinMaxScaler()\n",
    "# scaler.fit(df_Indicators)\n",
    "# df_Indicators[df_Indicators.columns] = scaler.transform(df_Indicators[df_Indicators.columns])\n",
    "# df_Indicators.to_csv('ETH-all Standardization.csv')"
   ]
  },
  {
   "cell_type": "code",
   "execution_count": 18,
   "id": "a1d612ee",
   "metadata": {},
   "outputs": [
    {
     "data": {
      "text/plain": [
       "((5056, 15), (1445, 15), (723, 15))"
      ]
     },
     "execution_count": 18,
     "metadata": {},
     "output_type": "execute_result"
    }
   ],
   "source": [
    "n = len(df_Indicators)\n",
    "train_df = df_Indicators[0:int(n*0.7)]\n",
    "val_df = df_Indicators[int(n*0.7):int(n*0.9)]\n",
    "test_df = df_Indicators[int(n*0.9):]\n",
    "\n",
    "train_df.shape, val_df.shape, test_df.shape"
   ]
  },
  {
   "cell_type": "code",
   "execution_count": 68,
   "id": "5e33af51",
   "metadata": {},
   "outputs": [],
   "source": [
    "#將值縮限在0~1之間，加速訓練時間\n",
    "from sklearn.preprocessing import MinMaxScaler\n",
    "\n",
    "scaler = MinMaxScaler()\n",
    "scaler.fit(train_df)\n",
    "\n",
    "train_df[train_df.columns] = scaler.transform(train_df[train_df.columns])\n",
    "val_df[val_df.columns] = scaler.transform(val_df[val_df.columns])\n",
    "test_df[test_df.columns] = scaler.transform(test_df[test_df.columns])"
   ]
  },
  {
   "cell_type": "code",
   "execution_count": 19,
   "id": "afe3045e",
   "metadata": {},
   "outputs": [],
   "source": [
    "train_df.to_csv('data/train.csv')\n",
    "val_df.to_csv('data/val.csv')\n",
    "test_df.to_csv('data/test.csv')"
   ]
  }
 ],
 "metadata": {
  "kernelspec": {
   "display_name": "Python 3",
   "language": "python",
   "name": "python3"
  },
  "language_info": {
   "codemirror_mode": {
    "name": "ipython",
    "version": 3
   },
   "file_extension": ".py",
   "mimetype": "text/x-python",
   "name": "python",
   "nbconvert_exporter": "python",
   "pygments_lexer": "ipython3",
   "version": "3.10.9"
  },
  "vscode": {
   "interpreter": {
    "hash": "beedbe2faf2f7048d727558d0bc3221e7eba2a0b921cac4d4771b2feb8f74b30"
   }
  }
 },
 "nbformat": 4,
 "nbformat_minor": 5
}
