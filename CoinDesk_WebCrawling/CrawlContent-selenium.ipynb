{
 "cells": [
  {
   "cell_type": "code",
   "execution_count": 1,
   "metadata": {},
   "outputs": [],
   "source": [
    "# 載入需要的套件\n",
    "from bs4 import BeautifulSoup\n",
    "import requests\n",
    "import pandas as pd\n",
    "from selenium import webdriver\n",
    "from selenium.webdriver.common.by import By\n",
    "import time\n",
    "from selenium.webdriver.chrome.options import Options\n",
    "import random\n",
    "from selenium.webdriver.support.wait import WebDriverWait\n",
    "from selenium.webdriver.support import expected_conditions as EC\n",
    "\n",
    "import random"
   ]
  },
  {
   "cell_type": "code",
   "execution_count": null,
   "metadata": {},
   "outputs": [],
   "source": [
    "from selenium.webdriver.chrome.options import Options\n",
    "\n",
    "opts = Options()\n",
    "opts.add_argument(\"--incognito\")  # 使用無痕模式。用 selenium開瀏覽器已經很乾淨了，但疑心病重的可以用一下\n",
    "ua = \"Mozilla/5.0 (Windows NT 10.0; WOW64; rv:53.0) Gecko/20100101 Firefox/53.0\"\n",
    "opts.add_argument(\"user-agent={}\".format(ua))  \n",
    "\n",
    "\n",
    "\n",
    "df = pd.read_csv('Data_URL\\CoinURL_final.csv')\n",
    "driver = webdriver.Chrome('chromedriver.exe',chrome_options=opts)\n",
    "CoinText=[]\n",
    "for url in range(len(df['CoinURL'])):\n",
    "    try:\n",
    "        driver.implicitly_wait(15)\n",
    "        driver.refresh()        \n",
    "        driver.get(\"https://www.coindesk.com\"+df['CoinURL'][url]) # 更改網址以前往不同網頁\n",
    "        soup = BeautifulSoup(driver.page_source, 'html5lib')\n",
    "        allnode_of_a = soup.find_all(\"div\",class_='common-textstyles__StyledWrapper-sc-18pd49k-0 eSbCkN')\n",
    "\n",
    "\n",
    "        result=[\"\".join([_.getText() for _ in allnode_of_a])]\n",
    "        CoinText+=result\n",
    "        print('T'+str(url))\n",
    "    except:\n",
    "        driver.refresh()\n",
    "        driver.get(\"https://www.coindesk.com\"+df['CoinURL'][url]) # 更改網址以前往不同網頁\n",
    "        driver.implicitly_wait(15)\n",
    "        soup = BeautifulSoup(driver.page_source, 'html5lib')\n",
    "        allnode_of_a = soup.find_all(\"div\",class_='common-textstyles__StyledWrapper-sc-18pd49k-0 eSbCkN')\n",
    "        result=[\"\".join([_.getText() for _ in allnode_of_a])]\n",
    "        CoinText+=result\n",
    "        print('F'+str(url))\n",
    "    if ((url%100)==0) &(url>0):\n",
    "        driver.close() \n",
    "        lo={'CoinText':CoinText,'CoinDate':df['CoinDate'][16402:url+1]}\n",
    "        df_N = pd.DataFrame(lo)\n",
    "        df_N.to_csv('CoinText_'+str(url)+'.csv')\n",
    "        df_N.to_csv('CoinText_final.csv')\n",
    "        driver = webdriver.Chrome('chromedriver.exe',chrome_options=opts)\n",
    "\n",
    "lo={'CoinText':CoinText,'CoinDate':df['CoinDate']}\n",
    "df_N = pd.DataFrame(lo)\n",
    "df_N.to_csv('CoinText_final.csv')\n",
    "\n",
    "driver.close() # 關閉瀏覽器視窗"
   ]
  }
 ],
 "metadata": {
  "kernelspec": {
   "display_name": "Python 3",
   "language": "python",
   "name": "python3"
  },
  "language_info": {
   "codemirror_mode": {
    "name": "ipython",
    "version": 3
   },
   "file_extension": ".py",
   "mimetype": "text/x-python",
   "name": "python",
   "nbconvert_exporter": "python",
   "pygments_lexer": "ipython3",
   "version": "3.10.9"
  },
  "orig_nbformat": 4
 },
 "nbformat": 4,
 "nbformat_minor": 2
}
