{
 "cells": [
  {
   "attachments": {},
   "cell_type": "markdown",
   "metadata": {},
   "source": [
    "### 爬取CoinDesk 文章超連結"
   ]
  },
  {
   "cell_type": "code",
   "execution_count": 1,
   "metadata": {},
   "outputs": [],
   "source": [
    "# 載入需要的套件\n",
    "from bs4 import BeautifulSoup\n",
    "import requests\n",
    "import pandas as pd\n",
    "from selenium import webdriver\n",
    "from selenium.webdriver.common.by import By\n",
    "import time\n",
    "from selenium.webdriver.chrome.options import Options\n",
    "import random\n",
    "from selenium.webdriver.support.wait import WebDriverWait\n",
    "from selenium.webdriver.support import expected_conditions as EC\n",
    "import random"
   ]
  },
  {
   "cell_type": "code",
   "execution_count": 2,
   "metadata": {},
   "outputs": [
    {
     "name": "stderr",
     "output_type": "stream",
     "text": [
      "C:\\Users\\nptu\\AppData\\Local\\Temp\\ipykernel_6132\\1068585807.py:15: DeprecationWarning: executable_path has been deprecated, please pass in a Service object\n",
      "  driver = webdriver.Chrome('chromedriver.exe',chrome_options=opts)\n",
      "C:\\Users\\nptu\\AppData\\Local\\Temp\\ipykernel_6132\\1068585807.py:15: DeprecationWarning: use options instead of chrome_options\n",
      "  driver = webdriver.Chrome('chromedriver.exe',chrome_options=opts)\n"
     ]
    },
    {
     "name": "stdout",
     "output_type": "stream",
     "text": [
      "100 times done\n",
      "200 times done\n",
      "300 times done\n",
      "400 times done\n",
      "500 times done\n",
      "600 times done\n",
      "700 times done\n",
      "800 times done\n",
      "900 times done\n",
      "1000 times done\n",
      "1100 times done\n",
      "1200 times done\n",
      "1300 times done\n",
      "1400 times done\n",
      "1500 times done\n",
      "1600 times done\n",
      "1700 times done\n",
      "1800 times done\n",
      "1900 times done\n",
      "2000 times done\n",
      "2100 times done\n",
      "2200 times done\n",
      "2300 times done\n",
      "2400 times done\n",
      "2500 times done\n",
      "2600 times done\n",
      "2700 times done\n",
      "2800 times done\n",
      "2900 times done\n",
      "3000 times done\n",
      "3100 times done\n",
      "3200 times done\n",
      "3300 times done\n",
      "3400 times done\n"
     ]
    }
   ],
   "source": [
    "#瀏覽器設定，無痕、Fake Agent\n",
    "opts = Options()\n",
    "opts.add_argument(\"--incognito\")\n",
    "ua = \"Mozilla/5.0 (Windows NT 10.0; WOW64; rv:53.0) Gecko/20100101 Firefox/53.0\"\n",
    "opts.add_argument(\"user-agent={}\".format(ua))\n",
    "\n",
    "\n",
    "# CoinURL:爬取到的網址\n",
    "CoinURL=[]\n",
    "\n",
    "# CoinType:爬取到文章類型\n",
    "CoinType=[]\n",
    "\n",
    "#設定使用瀏覽器、最大化\n",
    "driver = webdriver.Chrome('chromedriver.exe',chrome_options=opts)\n",
    "driver.get(\"https://www.coindesk.com/search?s=bitcoin&sort=1\")\n",
    "driver.maximize_window()\n",
    "\n",
    "\n",
    "for i in range(3500): \n",
    "    driver.implicitly_wait(6) \n",
    "    soup = BeautifulSoup(driver.page_source, 'html5lib')   \n",
    "    allnode_of_a = soup.find_all(\"a\",class_='Box-sc-1hpkeeg-0 hBnhmi')\n",
    "    result = [_.get(\"href\") for _ in allnode_of_a]\n",
    "    # Context_type=[_.split('/')[1] for _ in result]\n",
    "    CoinURL=CoinURL+result\n",
    "    # CoinType=CoinType+Context_type\n",
    "\n",
    "\n",
    "    driver.execute_script(\"window.scrollBy(0, 2500);\")\n",
    "\n",
    "    #使用按鍵到下一頁\n",
    "    if i ==1:Next=driver.find_element(By.XPATH,'//*[@id=\"queryly_advanced_container\"]/div[5]/div[2]/button[5]/h6')\n",
    "    else:Next=driver.find_element(By.XPATH,'//*[@id=\"queryly_advanced_container\"]/div[5]/div[2]/button[4]/h6')\n",
    "    time.sleep(random.randrange(5))\n",
    "    driver.execute_script(\"arguments[0].click();\", Next)\n",
    "\n",
    "    if (i%100==0) & (i>0) :\n",
    "        lo={'CoinURL':CoinURL}\n",
    "        df = pd.DataFrame(lo)\n",
    "        df.to_csv('Data_URL/CoinURL-'+str(i)+'.csv')\n",
    "        print(str(i)+' times done')\n",
    "\n",
    "lo={'CoinURL':CoinURL}\n",
    "df = pd.DataFrame(lo)\n",
    "df.to_csv('Data_URL/CoinURL.csv')\n",
    "\n",
    "# 關閉瀏覽器視窗\n",
    "driver.close() \n"
   ]
  }
 ],
 "metadata": {
  "kernelspec": {
   "display_name": "Python 3",
   "language": "python",
   "name": "python3"
  },
  "language_info": {
   "codemirror_mode": {
    "name": "ipython",
    "version": 3
   },
   "file_extension": ".py",
   "mimetype": "text/x-python",
   "name": "python",
   "nbconvert_exporter": "python",
   "pygments_lexer": "ipython3",
   "version": "3.10.9"
  },
  "orig_nbformat": 4
 },
 "nbformat": 4,
 "nbformat_minor": 2
}
