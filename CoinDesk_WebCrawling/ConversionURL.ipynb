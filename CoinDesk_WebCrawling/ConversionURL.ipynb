{
 "cells": [
  {
   "cell_type": "code",
   "execution_count": 1,
   "metadata": {},
   "outputs": [],
   "source": [
    "# 載入需要的套件\n",
    "from bs4 import BeautifulSoup\n",
    "import requests\n",
    "import pandas as pd\n",
    "from selenium import webdriver\n",
    "from selenium.webdriver.common.by import By\n",
    "import time\n",
    "from selenium.webdriver.chrome.options import Options\n",
    "import random\n"
   ]
  },
  {
   "attachments": {},
   "cell_type": "markdown",
   "metadata": {},
   "source": [
    "## 處理爬取後的網址"
   ]
  },
  {
   "cell_type": "code",
   "execution_count": 2,
   "metadata": {},
   "outputs": [
    {
     "data": {
      "text/html": [
       "<div>\n",
       "<style scoped>\n",
       "    .dataframe tbody tr th:only-of-type {\n",
       "        vertical-align: middle;\n",
       "    }\n",
       "\n",
       "    .dataframe tbody tr th {\n",
       "        vertical-align: top;\n",
       "    }\n",
       "\n",
       "    .dataframe thead th {\n",
       "        text-align: right;\n",
       "    }\n",
       "</style>\n",
       "<table border=\"1\" class=\"dataframe\">\n",
       "  <thead>\n",
       "    <tr style=\"text-align: right;\">\n",
       "      <th></th>\n",
       "      <th>CoinURL</th>\n",
       "    </tr>\n",
       "  </thead>\n",
       "  <tbody>\n",
       "    <tr>\n",
       "      <th>0</th>\n",
       "      <td>/markets</td>\n",
       "    </tr>\n",
       "    <tr>\n",
       "      <th>1</th>\n",
       "      <td>/markets/2023/05/29/dogecoin-chart-pattern-sug...</td>\n",
       "    </tr>\n",
       "    <tr>\n",
       "      <th>2</th>\n",
       "      <td>/markets</td>\n",
       "    </tr>\n",
       "    <tr>\n",
       "      <th>3</th>\n",
       "      <td>/markets/2023/05/29/bitcoins-short-term-holder...</td>\n",
       "    </tr>\n",
       "    <tr>\n",
       "      <th>4</th>\n",
       "      <td>/podcasts/</td>\n",
       "    </tr>\n",
       "    <tr>\n",
       "      <th>...</th>\n",
       "      <td>...</td>\n",
       "    </tr>\n",
       "    <tr>\n",
       "      <th>69787</th>\n",
       "      <td>/tech/2013/04/24/butterfly-labs-jalapeno-aims-...</td>\n",
       "    </tr>\n",
       "    <tr>\n",
       "      <th>69788</th>\n",
       "      <td>/markets</td>\n",
       "    </tr>\n",
       "    <tr>\n",
       "      <th>69789</th>\n",
       "      <td>/markets/2013/04/23/alt-currency-firm-bizx-nab...</td>\n",
       "    </tr>\n",
       "    <tr>\n",
       "      <th>69790</th>\n",
       "      <td>/markets</td>\n",
       "    </tr>\n",
       "    <tr>\n",
       "      <th>69791</th>\n",
       "      <td>/markets/2013/04/23/mt-gox-ceo-on-bitcoins-fut...</td>\n",
       "    </tr>\n",
       "  </tbody>\n",
       "</table>\n",
       "<p>69792 rows × 1 columns</p>\n",
       "</div>"
      ],
      "text/plain": [
       "                                                 CoinURL\n",
       "0                                               /markets\n",
       "1      /markets/2023/05/29/dogecoin-chart-pattern-sug...\n",
       "2                                               /markets\n",
       "3      /markets/2023/05/29/bitcoins-short-term-holder...\n",
       "4                                             /podcasts/\n",
       "...                                                  ...\n",
       "69787  /tech/2013/04/24/butterfly-labs-jalapeno-aims-...\n",
       "69788                                           /markets\n",
       "69789  /markets/2013/04/23/alt-currency-firm-bizx-nab...\n",
       "69790                                           /markets\n",
       "69791  /markets/2013/04/23/mt-gox-ceo-on-bitcoins-fut...\n",
       "\n",
       "[69792 rows x 1 columns]"
      ]
     },
     "execution_count": 2,
     "metadata": {},
     "output_type": "execute_result"
    }
   ],
   "source": [
    "df=pd.read_csv('Data_URL\\CoinURL.csv').drop('Unnamed: 0',axis=1)\n",
    "df"
   ]
  },
  {
   "cell_type": "code",
   "execution_count": 9,
   "metadata": {},
   "outputs": [
    {
     "data": {
      "text/html": [
       "<div>\n",
       "<style scoped>\n",
       "    .dataframe tbody tr th:only-of-type {\n",
       "        vertical-align: middle;\n",
       "    }\n",
       "\n",
       "    .dataframe tbody tr th {\n",
       "        vertical-align: top;\n",
       "    }\n",
       "\n",
       "    .dataframe thead th {\n",
       "        text-align: right;\n",
       "    }\n",
       "</style>\n",
       "<table border=\"1\" class=\"dataframe\">\n",
       "  <thead>\n",
       "    <tr style=\"text-align: right;\">\n",
       "      <th></th>\n",
       "      <th>CoinType</th>\n",
       "      <th>CoinDate</th>\n",
       "      <th>CoinURL</th>\n",
       "    </tr>\n",
       "  </thead>\n",
       "  <tbody>\n",
       "    <tr>\n",
       "      <th>0</th>\n",
       "      <td>layer2</td>\n",
       "      <td>2022/01/19</td>\n",
       "      <td>/layer2/2022/01/19/the-right-and-wrong-way-to-...</td>\n",
       "    </tr>\n",
       "    <tr>\n",
       "      <th>1</th>\n",
       "      <td>business</td>\n",
       "      <td>2022/12/30</td>\n",
       "      <td>/business/2022/12/30/crypto-asset-manager-valk...</td>\n",
       "    </tr>\n",
       "    <tr>\n",
       "      <th>2</th>\n",
       "      <td>business</td>\n",
       "      <td>2022/12/30</td>\n",
       "      <td>/business/2022/12/30/bitcoin-miners-got-crushe...</td>\n",
       "    </tr>\n",
       "    <tr>\n",
       "      <th>3</th>\n",
       "      <td>business</td>\n",
       "      <td>2022/12/30</td>\n",
       "      <td>/business/2022/12/30/blackrock-gives-bankrupt-...</td>\n",
       "    </tr>\n",
       "    <tr>\n",
       "      <th>4</th>\n",
       "      <td>layer2</td>\n",
       "      <td>2022/12/30</td>\n",
       "      <td>/layer2/2022/12/30/5-lessons-from-2022-that-ch...</td>\n",
       "    </tr>\n",
       "  </tbody>\n",
       "</table>\n",
       "</div>"
      ],
      "text/plain": [
       "   CoinType    CoinDate                                            CoinURL\n",
       "0    layer2  2022/01/19  /layer2/2022/01/19/the-right-and-wrong-way-to-...\n",
       "1  business  2022/12/30  /business/2022/12/30/crypto-asset-manager-valk...\n",
       "2  business  2022/12/30  /business/2022/12/30/bitcoin-miners-got-crushe...\n",
       "3  business  2022/12/30  /business/2022/12/30/blackrock-gives-bankrupt-...\n",
       "4    layer2  2022/12/30  /layer2/2022/12/30/5-lessons-from-2022-that-ch..."
      ]
     },
     "execution_count": 9,
     "metadata": {},
     "output_type": "execute_result"
    }
   ],
   "source": [
    "n_type=[]\n",
    "n_url=[]\n",
    "n_date=[]\n",
    "Nlist=['newsletter','coindesk']\n",
    "\n",
    "for i in range(len(df)):\n",
    "    if type(df['CoinURL'][i])==str:\n",
    "        Ctype=df['CoinURL'][i].split('/')\n",
    "        if (len(Ctype)>4)& (not(Ctype[1] in Nlist)):#\n",
    "            if (Ctype[2]=='2022')|(Ctype[2]=='2021')|(Ctype[2]=='2020')|(Ctype[2]=='2019')|(Ctype[2]=='2018'):\n",
    "                n_type.append(Ctype[1])\n",
    "                n_url.append(df['CoinURL'][i])\n",
    "                n_date.append(f'{Ctype[2]}/{Ctype[3]}/{Ctype[4]}')\n",
    "\n",
    "\n",
    "\n",
    "lo={'CoinType':n_type,'CoinDate':n_date,'CoinURL':n_url}\n",
    "df_2 = pd.DataFrame(lo)\n",
    "df_2.head()"
   ]
  },
  {
   "cell_type": "code",
   "execution_count": 10,
   "metadata": {},
   "outputs": [
    {
     "data": {
      "text/plain": [
       "array(['layer2', 'business', 'markets', 'tech', 'consensus-magazine',\n",
       "       'policy', 'web3', 'company-news', 'learn', 'events',\n",
       "       'most-influential'], dtype=object)"
      ]
     },
     "execution_count": 10,
     "metadata": {},
     "output_type": "execute_result"
    }
   ],
   "source": [
    "df_2['CoinType'].unique()"
   ]
  },
  {
   "cell_type": "code",
   "execution_count": 11,
   "metadata": {},
   "outputs": [],
   "source": [
    "df_2.to_csv('Data_URL\\CoinURL_final.csv')"
   ]
  }
 ],
 "metadata": {
  "kernelspec": {
   "display_name": "Python 3",
   "language": "python",
   "name": "python3"
  },
  "language_info": {
   "codemirror_mode": {
    "name": "ipython",
    "version": 3
   },
   "file_extension": ".py",
   "mimetype": "text/x-python",
   "name": "python",
   "nbconvert_exporter": "python",
   "pygments_lexer": "ipython3",
   "version": "3.10.9"
  },
  "orig_nbformat": 4
 },
 "nbformat": 4,
 "nbformat_minor": 2
}
