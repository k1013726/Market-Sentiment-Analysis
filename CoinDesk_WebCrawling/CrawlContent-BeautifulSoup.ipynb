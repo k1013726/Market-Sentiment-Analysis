{
 "cells": [
  {
   "cell_type": "code",
   "execution_count": 2,
   "metadata": {},
   "outputs": [],
   "source": [
    "# 載入需要的套件\n",
    "from bs4 import BeautifulSoup\n",
    "import requests\n",
    "import pandas as pd\n",
    "from selenium import webdriver\n",
    "from selenium.webdriver.common.by import By\n",
    "import time\n",
    "from selenium.webdriver.chrome.options import Options\n",
    "import random\n",
    "from selenium.webdriver.support.wait import WebDriverWait\n",
    "from selenium.webdriver.support import expected_conditions as EC\n",
    "\n",
    "import random"
   ]
  },
  {
   "cell_type": "code",
   "execution_count": 1,
   "metadata": {},
   "outputs": [
    {
     "ename": "NameError",
     "evalue": "name 'pd' is not defined",
     "output_type": "error",
     "traceback": [
      "\u001b[1;31m---------------------------------------------------------------------------\u001b[0m",
      "\u001b[1;31mNameError\u001b[0m                                 Traceback (most recent call last)",
      "Cell \u001b[1;32mIn[1], line 1\u001b[0m\n\u001b[1;32m----> 1\u001b[0m df \u001b[39m=\u001b[39m pd\u001b[39m.\u001b[39mread_csv(\u001b[39m'\u001b[39m\u001b[39mData_URL\u001b[39m\u001b[39m\\\u001b[39m\u001b[39mCoinURL_final.csv\u001b[39m\u001b[39m'\u001b[39m)\n\u001b[0;32m      2\u001b[0m CoinText\u001b[39m=\u001b[39m[]\n\u001b[0;32m      3\u001b[0m \u001b[39mfor\u001b[39;00m url \u001b[39min\u001b[39;00m \u001b[39mrange\u001b[39m(\u001b[39mlen\u001b[39m(df[\u001b[39m'\u001b[39m\u001b[39mCoinURL\u001b[39m\u001b[39m'\u001b[39m])):\n",
      "\u001b[1;31mNameError\u001b[0m: name 'pd' is not defined"
     ]
    }
   ],
   "source": [
    "df = pd.read_csv('Data_URL\\CoinURL_final.csv')\n",
    "CoinText=[]\n",
    "for url in range(len(df['CoinURL'])):\n",
    "    time.sleep(random.randint(3,9))\n",
    "    response = requests.get(\"https://www.coindesk.com\"+df['CoinURL'][url])\n",
    "    soup = BeautifulSoup(response.text, \"html.parser\")\n",
    "    \n",
    "    allnode_of_a = soup.find_all(\"div\",class_='common-textstyles__StyledWrapper-sc-18pd49k-0 eSbCkN')\n",
    "    result=[\"\".join([_.getText() for _ in allnode_of_a])]\n",
    "    CoinText+=result\n",
    "    print('T'+str(url))\n",
    "\n",
    "    if ((url%100)==0) &(url>0):\n",
    "        lo={'CoinText':CoinText,'CoinDate':df['CoinDate'][0:url+1]}\n",
    "        df_N = pd.DataFrame(lo)\n",
    "        df_N.to_csv('CoinText_'+str(url)+'.csv')\n",
    "        df_N.to_csv('CoinText_final.csv')\n",
    "\n",
    "lo={'CoinText':CoinText,'CoinDate':df['CoinDate']}\n",
    "df_N = pd.DataFrame(lo)\n",
    "df_N.to_csv('CoinText_final.csv')\n"
   ]
  }
 ],
 "metadata": {
  "kernelspec": {
   "display_name": "Python 3",
   "language": "python",
   "name": "python3"
  },
  "language_info": {
   "codemirror_mode": {
    "name": "ipython",
    "version": 3
   },
   "file_extension": ".py",
   "mimetype": "text/x-python",
   "name": "python",
   "nbconvert_exporter": "python",
   "pygments_lexer": "ipython3",
   "version": "3.10.9"
  },
  "orig_nbformat": 4
 },
 "nbformat": 4,
 "nbformat_minor": 2
}
