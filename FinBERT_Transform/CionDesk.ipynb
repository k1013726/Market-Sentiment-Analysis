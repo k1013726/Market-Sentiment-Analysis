{
 "cells": [
  {
   "attachments": {},
   "cell_type": "markdown",
   "metadata": {},
   "source": [
    "## 網頁爬取CoinDesk文章"
   ]
  },
  {
   "cell_type": "code",
   "execution_count": 17,
   "metadata": {},
   "outputs": [],
   "source": [
    "# 載入需要的套件\n",
    "from bs4 import BeautifulSoup\n",
    "import requests\n",
    "import pandas as pd\n",
    "from selenium import webdriver\n",
    "from selenium.webdriver.common.by import By\n",
    "import time\n",
    "from selenium.webdriver.chrome.options import Options\n",
    "import random\n"
   ]
  },
  {
   "attachments": {},
   "cell_type": "markdown",
   "metadata": {},
   "source": [
    "## 爬取文章內連結"
   ]
  },
  {
   "cell_type": "code",
   "execution_count": 22,
   "metadata": {},
   "outputs": [
    {
     "name": "stderr",
     "output_type": "stream",
     "text": [
      "C:\\Users\\nptu\\AppData\\Local\\Temp\\ipykernel_11184\\2466462473.py:15: DeprecationWarning: executable_path has been deprecated, please pass in a Service object\n",
      "  driver = webdriver.Chrome('chromedriver.exe',chrome_options=opts)\n",
      "C:\\Users\\nptu\\AppData\\Local\\Temp\\ipykernel_11184\\2466462473.py:15: DeprecationWarning: use options instead of chrome_options\n",
      "  driver = webdriver.Chrome('chromedriver.exe',chrome_options=opts)\n"
     ]
    },
    {
     "name": "stdout",
     "output_type": "stream",
     "text": [
      "100 times done\n",
      "200 times done\n",
      "300 times done\n",
      "400 times done\n",
      "500 times done\n",
      "600 times done\n",
      "700 times done\n",
      "800 times done\n",
      "900 times done\n"
     ]
    }
   ],
   "source": [
    "#瀏覽器設定，無痕、Fake Agent\n",
    "opts = Options()\n",
    "opts.add_argument(\"--incognito\")\n",
    "ua = \"Mozilla/5.0 (Windows NT 10.0; WOW64; rv:53.0) Gecko/20100101 Firefox/53.0\"\n",
    "opts.add_argument(\"user-agent={}\".format(ua))\n",
    "\n",
    "\n",
    "# CoinURL:爬取到的網址\n",
    "CoinURL=[]\n",
    "\n",
    "# CoinType:爬取到文章類型\n",
    "CoinType=[]\n",
    "\n",
    "#設定使用瀏覽器、最大化\n",
    "driver = webdriver.Chrome('chromedriver.exe',chrome_options=opts)\n",
    "driver.get(\"https://www.coindesk.com/search?s=bitcoin&sort=1\")\n",
    "driver.maximize_window()\n",
    "\n",
    "\n",
    "for i in range(1000): \n",
    "    driver.implicitly_wait(6) \n",
    "    soup = BeautifulSoup(driver.page_source, 'html5lib')   \n",
    "    allnode_of_a = soup.find_all(\"a\",class_='Box-sc-1hpkeeg-0 hBnhmi')\n",
    "    result = [_.get(\"href\") for _ in allnode_of_a]\n",
    "    # Context_type=[_.split('/')[1] for _ in result]\n",
    "    CoinURL=CoinURL+result\n",
    "    # CoinType=CoinType+Context_type\n",
    "\n",
    "\n",
    "    driver.execute_script(\"window.scrollBy(0, 2500);\")\n",
    "\n",
    "    #使用按鍵到下一頁\n",
    "    if i ==1:Next=driver.find_element(By.XPATH,'//*[@id=\"queryly_advanced_container\"]/div[5]/div[2]/button[5]/h6')\n",
    "    else:Next=driver.find_element(By.XPATH,'//*[@id=\"queryly_advanced_container\"]/div[5]/div[2]/button[4]/h6')\n",
    "    time.sleep(random.randrange(5))\n",
    "    driver.execute_script(\"arguments[0].click();\", Next)\n",
    "\n",
    "    if (i%100==0) & (i>0) :\n",
    "        lo={'CoinURL':CoinURL}\n",
    "        df = pd.DataFrame(lo)\n",
    "        df.to_csv('Data_URL/CoinURL-'+str(i)+'.csv')\n",
    "        print(str(i)+' times done')\n",
    "\n",
    "lo={'CoinURL':CoinURL}\n",
    "df = pd.DataFrame(lo)\n",
    "df.to_csv('Data_URL/CoinURL.csv')\n",
    "\n",
    "# 關閉瀏覽器視窗\n",
    "driver.close() \n"
   ]
  },
  {
   "attachments": {},
   "cell_type": "markdown",
   "metadata": {},
   "source": [
    "## 在網址取得後，爬取文章內容"
   ]
  },
  {
   "cell_type": "code",
   "execution_count": 14,
   "metadata": {},
   "outputs": [
    {
     "name": "stderr",
     "output_type": "stream",
     "text": [
      "C:\\Users\\nptu\\AppData\\Local\\Temp\\ipykernel_16084\\3838285511.py:11: DeprecationWarning: executable_path has been deprecated, please pass in a Service object\n",
      "  driver = webdriver.Chrome('chromedriver.exe',chrome_options=opts)\n",
      "C:\\Users\\nptu\\AppData\\Local\\Temp\\ipykernel_16084\\3838285511.py:11: DeprecationWarning: use options instead of chrome_options\n",
      "  driver = webdriver.Chrome('chromedriver.exe',chrome_options=opts)\n"
     ]
    },
    {
     "name": "stdout",
     "output_type": "stream",
     "text": [
      "16402\n",
      "16403\n",
      "16404\n",
      "16405\n",
      "16406\n",
      "16407\n",
      "16408\n",
      "16409\n",
      "16410\n",
      "16411\n",
      "16412\n",
      "16413\n",
      "16414\n",
      "16415\n",
      "16416\n",
      "16417\n",
      "16418\n",
      "16419\n",
      "16420\n",
      "16421\n",
      "16422\n",
      "16423\n",
      "16424\n",
      "16425\n",
      "16426\n",
      "16427\n",
      "16428\n",
      "16429\n",
      "16430\n",
      "16431\n",
      "16432\n",
      "16433\n",
      "16434\n",
      "16435\n"
     ]
    }
   ],
   "source": [
    "from selenium.webdriver.chrome.options import Options\n",
    "\n",
    "opts = Options()\n",
    "opts.add_argument(\"--incognito\")  # 使用無痕模式。用 selenium開瀏覽器已經很乾淨了，但疑心病重的可以用一下\n",
    "ua = \"Mozilla/5.0 (Windows NT 10.0; WOW64; rv:53.0) Gecko/20100101 Firefox/53.0\"\n",
    "opts.add_argument(\"user-agent={}\".format(ua))  \n",
    "\n",
    "\n",
    "\n",
    "df = pd.read_csv('../DataSet/CoinURL_final.csv')\n",
    "driver = webdriver.Chrome('chromedriver.exe',chrome_options=opts)\n",
    "CoinText=[]\n",
    "dataa=len(df['CoinURL'])\n",
    "for url in range(16402,16436):\n",
    "    try:\n",
    "        driver.get(\"https://www.coindesk.com\"+df['CoinURL'][url]) # 更改網址以前往不同網頁\n",
    "        driver.implicitly_wait(6)\n",
    "        soup = BeautifulSoup(driver.page_source, 'html5lib')\n",
    "        allnode_of_a = soup.find_all(\"div\",class_='common-textstyles__StyledWrapper-sc-18pd49k-0 eSbCkN')\n",
    "        result=[\"\".join([_.getText() for _ in allnode_of_a])]\n",
    "        CoinText+=result\n",
    "        print(url)        \n",
    "    except:\n",
    "        driver.refresh()\n",
    "        driver.implicitly_wait(15)\n",
    "        soup = BeautifulSoup(driver.page_source, 'html5lib')\n",
    "        allnode_of_a = soup.find_all(\"div\",class_='common-textstyles__StyledWrapper-sc-18pd49k-0 eSbCkN')\n",
    "        result=[\"\".join([_.getText() for _ in allnode_of_a])]\n",
    "        CoinText+=result\n",
    "        print(url)\n",
    "    if ((url%100)==0) &(url>0):\n",
    "        driver.close() \n",
    "        lo={'CoinText':CoinText,'CoinDate':df['CoinDate'][16402:url+1]}\n",
    "        df_N = pd.DataFrame(lo)\n",
    "        df_N.to_csv('CoinText_'+str(url)+'.csv')\n",
    "        df_N.to_csv('CoinText_final.csv')\n",
    "        driver = webdriver.Chrome('chromedriver.exe',chrome_options=opts)\n",
    "\n",
    "lo={'CoinText':CoinText,'CoinDate':df['CoinDate'][16402:url+1]}\n",
    "df_N = pd.DataFrame(lo)\n",
    "df_N.to_csv('CoinText_final.csv')\n",
    "\n",
    "driver.close() # 關閉瀏覽器視窗"
   ]
  },
  {
   "cell_type": "code",
   "execution_count": 12,
   "metadata": {},
   "outputs": [
    {
     "data": {
      "text/plain": [
       "'/markets/2014/10/01/digitaltangible-expands-crypto-20-gold-trading-platform-to-asia/'"
      ]
     },
     "execution_count": 12,
     "metadata": {},
     "output_type": "execute_result"
    }
   ],
   "source": [
    "df = pd.read_csv('../DataSet/CoinURL_final.csv')\n",
    "df['CoinURL'][16435]"
   ]
  }
 ],
 "metadata": {
  "kernelspec": {
   "display_name": "Python 3",
   "language": "python",
   "name": "python3"
  },
  "language_info": {
   "codemirror_mode": {
    "name": "ipython",
    "version": 3
   },
   "file_extension": ".py",
   "mimetype": "text/x-python",
   "name": "python",
   "nbconvert_exporter": "python",
   "pygments_lexer": "ipython3",
   "version": "3.10.9"
  },
  "orig_nbformat": 4
 },
 "nbformat": 4,
 "nbformat_minor": 2
}
