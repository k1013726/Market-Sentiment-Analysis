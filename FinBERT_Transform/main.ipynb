{
 "cells": [
  {
   "cell_type": "code",
   "execution_count": 1,
   "metadata": {},
   "outputs": [],
   "source": [
    "import pandas as pd\n",
    "from glob import glob\n",
    "import datetime\n",
    "import torch\n",
    "from transformers import AutoTokenizer, AutoModelForSequenceClassification"
   ]
  },
  {
   "cell_type": "code",
   "execution_count": 2,
   "metadata": {},
   "outputs": [
    {
     "data": {
      "text/plain": [
       "(3482, 2)"
      ]
     },
     "execution_count": 2,
     "metadata": {},
     "output_type": "execute_result"
    }
   ],
   "source": [
    "df=pd.read_csv('../CoinDesk_WebCrawling/CoinText_final.csv')\n",
    "df=df.drop('Unnamed: 0',axis=1)\n",
    "df.shape"
   ]
  },
  {
   "cell_type": "code",
   "execution_count": 3,
   "metadata": {},
   "outputs": [
    {
     "data": {
      "text/html": [
       "<div>\n",
       "<style scoped>\n",
       "    .dataframe tbody tr th:only-of-type {\n",
       "        vertical-align: middle;\n",
       "    }\n",
       "\n",
       "    .dataframe tbody tr th {\n",
       "        vertical-align: top;\n",
       "    }\n",
       "\n",
       "    .dataframe thead th {\n",
       "        text-align: right;\n",
       "    }\n",
       "</style>\n",
       "<table border=\"1\" class=\"dataframe\">\n",
       "  <thead>\n",
       "    <tr style=\"text-align: right;\">\n",
       "      <th></th>\n",
       "      <th>CoinText</th>\n",
       "      <th>CoinDate</th>\n",
       "    </tr>\n",
       "  </thead>\n",
       "  <tbody>\n",
       "    <tr>\n",
       "      <th>0</th>\n",
       "      <td>Crypto asset manager Valkyrie Investments want...</td>\n",
       "      <td>2022/12/30</td>\n",
       "    </tr>\n",
       "    <tr>\n",
       "      <th>1</th>\n",
       "      <td>The mining industry started 2022 off strong wi...</td>\n",
       "      <td>2022/12/30</td>\n",
       "    </tr>\n",
       "    <tr>\n",
       "      <th>2</th>\n",
       "      <td>Investment giant BlackRock (BLK) has committed...</td>\n",
       "      <td>2022/12/30</td>\n",
       "    </tr>\n",
       "    <tr>\n",
       "      <th>3</th>\n",
       "      <td>Noted growth investor Cathie Wood's ARK Invest...</td>\n",
       "      <td>2022/12/30</td>\n",
       "    </tr>\n",
       "    <tr>\n",
       "      <th>4</th>\n",
       "      <td>Good morning. Here’s what’s happening:Prices: ...</td>\n",
       "      <td>2022/12/30</td>\n",
       "    </tr>\n",
       "  </tbody>\n",
       "</table>\n",
       "</div>"
      ],
      "text/plain": [
       "                                            CoinText    CoinDate\n",
       "0  Crypto asset manager Valkyrie Investments want...  2022/12/30\n",
       "1  The mining industry started 2022 off strong wi...  2022/12/30\n",
       "2  Investment giant BlackRock (BLK) has committed...  2022/12/30\n",
       "3  Noted growth investor Cathie Wood's ARK Invest...  2022/12/30\n",
       "4  Good morning. Here’s what’s happening:Prices: ...  2022/12/30"
      ]
     },
     "execution_count": 3,
     "metadata": {},
     "output_type": "execute_result"
    }
   ],
   "source": [
    "df.head()"
   ]
  },
  {
   "attachments": {},
   "cell_type": "markdown",
   "metadata": {},
   "source": [
    "## 情緒分數轉換"
   ]
  },
  {
   "cell_type": "code",
   "execution_count": 6,
   "metadata": {},
   "outputs": [
    {
     "name": "stdout",
     "output_type": "stream",
     "text": [
      "100\n",
      "200\n",
      "300\n"
     ]
    }
   ],
   "source": [
    "# 讀取檔案\n",
    "files = glob('../CoinDesk_WebCrawling/CoinText_final.csv')\n",
    "\n",
    "# 合併檔案\n",
    "df = pd.concat((pd.read_csv(file, usecols=['CoinDate','CoinText'], dtype={ 'CoinDate': str, 'CoinText':str}) for file in files))\n",
    "df.reset_index()\n",
    "\n",
    "# 建立日期迴圈\n",
    "start = datetime.datetime.strptime(\"2022/1/01\", \"%Y/%m/%d\")\n",
    "end = datetime.datetime.strptime(\"2022/12/31\", \"%Y/%m/%d\")\n",
    "date_generated = pd.date_range(start, end)\n",
    "\n",
    "\n",
    "# 載入模型和tokenizer\n",
    "tokenizer = AutoTokenizer.from_pretrained(\"ProsusAI/finbert\")\n",
    "model = AutoModelForSequenceClassification.from_pretrained(\"ProsusAI/finbert\")\n",
    "\n",
    "#建立情緒分數清單\n",
    "CoinDate_n=[]\n",
    "ScorePositive=[]\n",
    "ScoreNegative=[]\n",
    "ScoreNeutral=[]\n",
    "\n",
    "positive_score=0\n",
    "negative_score=0\n",
    "neutral_score=0\n",
    "i=0\n",
    "\n",
    "# 設定要分類的標籤\n",
    "labels = ['positive', 'negative', 'neutral']\n",
    "\n",
    "\n",
    "\n",
    "for context_date in date_generated:\n",
    "    #篩選時間\n",
    "    mask1 = (df[\"CoinDate\"] == str(context_date.strftime(\"%Y/%m/%d\")))\n",
    "    if len(df[mask1])==0:      \n",
    "        ScorePositive.append(ScorePositive[-1]*0.99)\n",
    "        ScoreNegative.append(ScoreNegative[-1]*0.99)\n",
    "        ScoreNeutral.append(ScoreNeutral[-1]*0.99)\n",
    "\n",
    "        CoinDate_n.append(context_date.strftime(\"%Y/%m/%d\"))\n",
    "    else:\n",
    "        for Context in df[mask1]['CoinText']:\n",
    "            # 將文本轉換為tokens並加入特殊tokens\n",
    "            inputs = tokenizer(str(Context), return_tensors='pt', padding=True, truncation=True)\n",
    "\n",
    "            # 進行預測\n",
    "            outputs = model(**inputs)\n",
    "            predicted_scores = torch.softmax(outputs.logits, dim=1)\n",
    "    \n",
    "            \n",
    "\n",
    "            positive_score+=float(predicted_scores[0][0])\n",
    "            negative_score+=float(predicted_scores[0][1])\n",
    "            neutral_score+=float(predicted_scores[0][2])\n",
    "\n",
    "\n",
    "        CoinDate_n.append(context_date.strftime(\"%Y/%m/%d\"))\n",
    "        ScorePositive.append(positive_score/len(df[mask1]))\n",
    "        ScoreNegative.append(negative_score/len(df[mask1]))\n",
    "        ScoreNeutral.append(neutral_score/len(df[mask1]))\n",
    "        positive_score=0\n",
    "        negative_score=0\n",
    "        neutral_score=0\n",
    "\n",
    "    i+=1\n",
    "    if ((i%100)==0) &(i>0):\n",
    "        lo={'CoinDate':CoinDate_n,'ScorePositive':ScorePositive,'ScoreNegative':ScoreNegative,'ScoreNeutral':ScoreNeutral}\n",
    "        dfz = pd.DataFrame(lo)\n",
    "        dfz.to_csv('Data_score/CionScore_'+str(i)+'.csv')\n",
    "        print(str(i))\n",
    "\n",
    "\n",
    "lo={'CoinDate':CoinDate_n,'ScorePositive':ScorePositive,'ScoreNegative':ScoreNegative,'ScoreNeutral':ScoreNeutral}\n",
    "dfz = pd.DataFrame(lo)\n",
    "dfz.to_csv('Data_score/CionScore_final.csv')"
   ]
  }
 ],
 "metadata": {
  "kernelspec": {
   "display_name": "Python 3",
   "language": "python",
   "name": "python3"
  },
  "language_info": {
   "codemirror_mode": {
    "name": "ipython",
    "version": 3
   },
   "file_extension": ".py",
   "mimetype": "text/x-python",
   "name": "python",
   "nbconvert_exporter": "python",
   "pygments_lexer": "ipython3",
   "version": "3.10.9"
  },
  "orig_nbformat": 4,
  "vscode": {
   "interpreter": {
    "hash": "beedbe2faf2f7048d727558d0bc3221e7eba2a0b921cac4d4771b2feb8f74b30"
   }
  }
 },
 "nbformat": 4,
 "nbformat_minor": 2
}
