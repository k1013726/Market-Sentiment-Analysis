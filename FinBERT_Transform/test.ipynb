{
 "cells": [
  {
   "cell_type": "code",
   "execution_count": 11,
   "metadata": {},
   "outputs": [],
   "source": [
    "from bs4 import BeautifulSoup\n",
    "import requests\n",
    "import pandas as pd\n",
    "from glob import glob\n",
    "import datetime\n",
    "import torch\n",
    "from transformers import AutoTokenizer, AutoModelForSequenceClassification"
   ]
  },
  {
   "cell_type": "code",
   "execution_count": 14,
   "metadata": {},
   "outputs": [
    {
     "data": {
      "text/html": [
       "<div>\n",
       "<style scoped>\n",
       "    .dataframe tbody tr th:only-of-type {\n",
       "        vertical-align: middle;\n",
       "    }\n",
       "\n",
       "    .dataframe tbody tr th {\n",
       "        vertical-align: top;\n",
       "    }\n",
       "\n",
       "    .dataframe thead th {\n",
       "        text-align: right;\n",
       "    }\n",
       "</style>\n",
       "<table border=\"1\" class=\"dataframe\">\n",
       "  <thead>\n",
       "    <tr style=\"text-align: right;\">\n",
       "      <th></th>\n",
       "      <th>CoinText</th>\n",
       "      <th>CoinDate</th>\n",
       "    </tr>\n",
       "  </thead>\n",
       "  <tbody>\n",
       "    <tr>\n",
       "      <th>0</th>\n",
       "      <td>Crypto asset manager Valkyrie Investments want...</td>\n",
       "      <td>2022/12/30</td>\n",
       "    </tr>\n",
       "    <tr>\n",
       "      <th>1</th>\n",
       "      <td>The mining industry started 2022 off strong wi...</td>\n",
       "      <td>2022/12/30</td>\n",
       "    </tr>\n",
       "    <tr>\n",
       "      <th>2</th>\n",
       "      <td>Investment giant BlackRock (BLK) has committed...</td>\n",
       "      <td>2022/12/30</td>\n",
       "    </tr>\n",
       "    <tr>\n",
       "      <th>3</th>\n",
       "      <td>Noted growth investor Cathie Wood's ARK Invest...</td>\n",
       "      <td>2022/12/30</td>\n",
       "    </tr>\n",
       "    <tr>\n",
       "      <th>4</th>\n",
       "      <td>Good morning. Here’s what’s happening:Prices: ...</td>\n",
       "      <td>2022/12/30</td>\n",
       "    </tr>\n",
       "  </tbody>\n",
       "</table>\n",
       "</div>"
      ],
      "text/plain": [
       "                                            CoinText    CoinDate\n",
       "0  Crypto asset manager Valkyrie Investments want...  2022/12/30\n",
       "1  The mining industry started 2022 off strong wi...  2022/12/30\n",
       "2  Investment giant BlackRock (BLK) has committed...  2022/12/30\n",
       "3  Noted growth investor Cathie Wood's ARK Invest...  2022/12/30\n",
       "4  Good morning. Here’s what’s happening:Prices: ...  2022/12/30"
      ]
     },
     "execution_count": 14,
     "metadata": {},
     "output_type": "execute_result"
    }
   ],
   "source": [
    "df=pd.read_csv('CoinText_final.csv')\n",
    "df=df.drop('Unnamed: 0',axis=1)\n",
    "df.head()"
   ]
  },
  {
   "cell_type": "code",
   "execution_count": 15,
   "metadata": {},
   "outputs": [
    {
     "data": {
      "text/plain": [
       "\"Last Tuesday, bitcoin (BTC) hit an all-time high measured in rubles (RUB). Does that really mean anything?Price feeds don’t tell the full story when comparing asset prices across different currencies, especially when one of those currencies is issued by a country facing financial sanctions for invading Ukraine (and the other is magic internet money).A quick look at USD/RUB tells most of the story. One U.S. dollar was worth 84 rubles on Friday, Feb. 25 and over 114 rubles on Tuesday, March 1. With that type of devaluation, you might reasonably expect many assets priced in rubles to hit all-time highs soon, especially if the trend continues.However, the ruble losing 37% of its U.S. dollar value would explain something around a 37% gain in “bitcoin in ruble” (USD and its stablecoin equivalents represent the most used trading pair for bitcoin, so this is an OK assumption). It wouldn’t immediately explain why bitcoin gained more than 55% (from 3.2 million to 4.9 million rubles); the excess gain suggests there was some other demand factor at play. Plus, the USD price of bitcoin is still more than 50% off of all-time highs.Depending on which parts of Crypto Twitter you frequent, on your familiarity with the history of cryptocurrency, your political leanings, your general level of cynicism or your insistence on being a Luddite, you might have one of two different hypotheses about what is going on:Between the two, the latter is more likely than the former. Anecdotal stories and “what-ifs” suggest masses can pile into bitcoin to preserve wealth as their countries go to war, while Bitcoin’s transparent ledger is not going to do Vladimir Putin’s government any favors in avoiding sanctions (as we mentioned in last week’s newsletter).These conversations are fun to have, but it may not be regular people either. This is a global asset after all.Let’s see what the data says.Unlike the ruble, the Ukrainian hryvnia (UAH) hasn’t lost too much value in U.S. dollar terms. But, according to data from Kaiko, bitcoin traded at a 6% premium to USD on Binance’s UAH market following Russia’s invasion of Ukraine on Feb. 24, which suggests a demand surge.Additional data from Binance shows the volume of the BTC/RUB trading pair spiked more than 240% above the 30-day trailing average in RUB terms on Feb. 28 and more than 400% on Feb. 24.With these two data points in mind, it makes sense to then look at the types of bitcoin holders that may have emerged to figure out if these are new holders or something different. Noelle Acheson (former CoinDesker and former author of Crypto Long & Short) posted a great tweet thread outlining the exercise that she, I and a lot of people in the industry went through last week. It’s long, but it's certainly worth reading in full if you have time. I'll summarize here.First, we consider the number of bitcoin addresses that are holding ≥ $1. There was an uptick from 34,564,788 to 35,035,127 from Feb. 27 to March 1. Digging in further here, the number of Bitcoin addresses that were holding > 1,000 bitcoin also ticked up from 2,121 to 2,257 over the same period. While the general growth in addresses supports the idea that regular people are coming into Bitcoin, the growth in addresses with > 1,000 BTC (> $40 million) does not.Digging a bit deeper here. Glassnode has an unreleased metric in its product offering called the “Wallet Cohort Trend Accumulation Score,'' which breaks down the size of wallets which are accumulating bitcoin. According to their most recent chart on Feb. 27, smaller holders have been the most aggressive in accumulating bitcoin.So that’s great, regular people are getting bitcoin. But how do we explain the increase in the amount of larger addresses? From Noelle’s tweet thread:The corresponding data is shown below and this view is generally corroborated across the industry.All of this supports what bitcoiners have been saying for a while now – bitcoin is not being used by warmongers to avoid sanctions (for now). Instead, I think it is more likely that it is being used by regular people hoping to preserve wealth as war rages on.However, there isn’t a consensus yet. Citigroup (C) analysts said the following, citing a chart showing bitcoin purchases in RUB rising in absolute bitcoin terms to around 450 BTC:This is a good point. People like making money even in the face of tragedy (just check out the spike in donations to Ukraine after the government confirmed, and then unconfirmed, an airdrop of new tokens to donors). In the end, this could just be traders taking positions in anticipation of increased demand.Time will tell.\""
      ]
     },
     "execution_count": 15,
     "metadata": {},
     "output_type": "execute_result"
    }
   ],
   "source": []
  },
  {
   "cell_type": "code",
   "execution_count": 18,
   "metadata": {},
   "outputs": [
    {
     "name": "stdout",
     "output_type": "stream",
     "text": [
      "neutral is 0.6768796443939209\n"
     ]
    }
   ],
   "source": [
    "# 載入模型和tokenizer\n",
    "tokenizer = AutoTokenizer.from_pretrained(\"ProsusAI/finbert\")\n",
    "model = AutoModelForSequenceClassification.from_pretrained(\"ProsusAI/finbert\")\n",
    "\n",
    "# 設定要分類的標籤\n",
    "labels = ['positive', 'negative', 'neutral']\n",
    "\n",
    "\n",
    "# 將文本轉換為tokens並加入特殊tokens\n",
    "inputs = tokenizer(str(df['CoinText'][96]), return_tensors='pt', padding=True, truncation=True)\n",
    "\n",
    "# 進行預測\n",
    "outputs = model(**inputs)\n",
    "predicted_scores = torch.softmax(outputs.logits, dim=1)\n",
    "\n",
    "# 挑選預測中得分最高的情緒類別\n",
    "max_score_idx = torch.argmax(predicted_scores)\n",
    "max_score_label = labels[max_score_idx]\n",
    "max_score = predicted_scores[0][max_score_idx]\n",
    "print(f'{max_score_label} is {max_score}')"
   ]
  }
 ],
 "metadata": {
  "kernelspec": {
   "display_name": "Python 3",
   "language": "python",
   "name": "python3"
  },
  "language_info": {
   "codemirror_mode": {
    "name": "ipython",
    "version": 3
   },
   "file_extension": ".py",
   "mimetype": "text/x-python",
   "name": "python",
   "nbconvert_exporter": "python",
   "pygments_lexer": "ipython3",
   "version": "3.10.9"
  },
  "orig_nbformat": 4
 },
 "nbformat": 4,
 "nbformat_minor": 2
}
