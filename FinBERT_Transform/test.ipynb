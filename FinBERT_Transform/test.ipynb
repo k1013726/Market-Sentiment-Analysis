{
 "cells": [
  {
   "cell_type": "code",
   "execution_count": 1,
   "metadata": {},
   "outputs": [],
   "source": [
    "from bs4 import BeautifulSoup\n",
    "import requests\n",
    "import pandas as pd\n",
    "from glob import glob\n",
    "import datetime\n",
    "import torch\n",
    "from transformers import AutoTokenizer, AutoModelForSequenceClassification"
   ]
  },
  {
   "cell_type": "code",
   "execution_count": 2,
   "metadata": {},
   "outputs": [
    {
     "data": {
      "text/html": [
       "<div>\n",
       "<style scoped>\n",
       "    .dataframe tbody tr th:only-of-type {\n",
       "        vertical-align: middle;\n",
       "    }\n",
       "\n",
       "    .dataframe tbody tr th {\n",
       "        vertical-align: top;\n",
       "    }\n",
       "\n",
       "    .dataframe thead th {\n",
       "        text-align: right;\n",
       "    }\n",
       "</style>\n",
       "<table border=\"1\" class=\"dataframe\">\n",
       "  <thead>\n",
       "    <tr style=\"text-align: right;\">\n",
       "      <th></th>\n",
       "      <th>CoinText</th>\n",
       "      <th>CoinDate</th>\n",
       "    </tr>\n",
       "  </thead>\n",
       "  <tbody>\n",
       "    <tr>\n",
       "      <th>0</th>\n",
       "      <td>Crypto asset manager Valkyrie Investments want...</td>\n",
       "      <td>2022/12/30</td>\n",
       "    </tr>\n",
       "    <tr>\n",
       "      <th>1</th>\n",
       "      <td>The mining industry started 2022 off strong wi...</td>\n",
       "      <td>2022/12/30</td>\n",
       "    </tr>\n",
       "    <tr>\n",
       "      <th>2</th>\n",
       "      <td>Investment giant BlackRock (BLK) has committed...</td>\n",
       "      <td>2022/12/30</td>\n",
       "    </tr>\n",
       "    <tr>\n",
       "      <th>3</th>\n",
       "      <td>Noted growth investor Cathie Wood's ARK Invest...</td>\n",
       "      <td>2022/12/30</td>\n",
       "    </tr>\n",
       "    <tr>\n",
       "      <th>4</th>\n",
       "      <td>Good morning. Here’s what’s happening:Prices: ...</td>\n",
       "      <td>2022/12/30</td>\n",
       "    </tr>\n",
       "  </tbody>\n",
       "</table>\n",
       "</div>"
      ],
      "text/plain": [
       "                                            CoinText    CoinDate\n",
       "0  Crypto asset manager Valkyrie Investments want...  2022/12/30\n",
       "1  The mining industry started 2022 off strong wi...  2022/12/30\n",
       "2  Investment giant BlackRock (BLK) has committed...  2022/12/30\n",
       "3  Noted growth investor Cathie Wood's ARK Invest...  2022/12/30\n",
       "4  Good morning. Here’s what’s happening:Prices: ...  2022/12/30"
      ]
     },
     "execution_count": 2,
     "metadata": {},
     "output_type": "execute_result"
    }
   ],
   "source": [
    "df=pd.read_csv('CoinText_final.csv')\n",
    "df=df.drop('Unnamed: 0',axis=1)\n",
    "df.head()"
   ]
  },
  {
   "cell_type": "code",
   "execution_count": 3,
   "metadata": {},
   "outputs": [
    {
     "name": "stdout",
     "output_type": "stream",
     "text": [
      "neutral is 0.6768796443939209\n"
     ]
    }
   ],
   "source": [
    "# 載入模型和tokenizer\n",
    "tokenizer = AutoTokenizer.from_pretrained(\"ProsusAI/finbert\")\n",
    "model = AutoModelForSequenceClassification.from_pretrained(\"ProsusAI/finbert\")\n",
    "\n",
    "# 設定要分類的標籤\n",
    "labels = ['positive', 'negative', 'neutral']\n",
    "\n",
    "\n",
    "# 將文本轉換為tokens並加入特殊tokens\n",
    "inputs = tokenizer(str(df['CoinText'][96]), return_tensors='pt', padding=True, truncation=True)\n",
    "\n",
    "# 進行預測\n",
    "outputs = model(**inputs)\n",
    "predicted_scores = torch.softmax(outputs.logits, dim=1)\n",
    "\n",
    "# 挑選預測中得分最高的情緒類別\n",
    "max_score_idx = torch.argmax(predicted_scores)\n",
    "max_score_label = labels[max_score_idx]\n",
    "max_score = predicted_scores[0][max_score_idx]\n",
    "print(f'{max_score_label} is {max_score}')"
   ]
  },
  {
   "cell_type": "code",
   "execution_count": 10,
   "metadata": {},
   "outputs": [
    {
     "name": "stdout",
     "output_type": "stream",
     "text": [
      "0.6768796443939209\n"
     ]
    }
   ],
   "source": [
    "\n",
    "print(float(predicted_scores[0][2]))"
   ]
  }
 ],
 "metadata": {
  "kernelspec": {
   "display_name": "Python 3",
   "language": "python",
   "name": "python3"
  },
  "language_info": {
   "codemirror_mode": {
    "name": "ipython",
    "version": 3
   },
   "file_extension": ".py",
   "mimetype": "text/x-python",
   "name": "python",
   "nbconvert_exporter": "python",
   "pygments_lexer": "ipython3",
   "version": "3.10.9"
  },
  "orig_nbformat": 4
 },
 "nbformat": 4,
 "nbformat_minor": 2
}
