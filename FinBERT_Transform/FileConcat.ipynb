{
 "cells": [
  {
   "cell_type": "code",
   "execution_count": null,
   "metadata": {},
   "outputs": [],
   "source": [
    "import pandas as pd\n",
    "from glob import glob\n",
    " \n",
    "files =['CionScore_final.csv','Data_final/BTC-USD.csv']\n",
    " \n",
    "df = pd.concat((pd.read_csv(file) for file in files), axis='columns').drop(['Date','Adj Close','Unnamed: 0'],axis=1)\n",
    "df.to_csv('Data_final/BTC_final.csv')\n",
    "df.head()"
   ]
  }
 ],
 "metadata": {
  "language_info": {
   "name": "python"
  },
  "orig_nbformat": 4
 },
 "nbformat": 4,
 "nbformat_minor": 2
}
