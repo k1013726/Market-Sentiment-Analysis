{
 "cells": [
  {
   "cell_type": "code",
   "execution_count": 1,
   "metadata": {},
   "outputs": [],
   "source": [
    "# 載入需要的套件\n",
    "from bs4 import BeautifulSoup\n",
    "import requests\n",
    "import pandas as pd\n",
    "from selenium import webdriver\n",
    "from selenium.webdriver.common.by import By\n",
    "import time\n",
    "from selenium.webdriver.chrome.options import Options\n",
    "import random\n"
   ]
  },
  {
   "attachments": {},
   "cell_type": "markdown",
   "metadata": {},
   "source": [
    "## 處理爬取後的網址"
   ]
  },
  {
   "cell_type": "code",
   "execution_count": 2,
   "metadata": {},
   "outputs": [
    {
     "data": {
      "text/html": [
       "<div>\n",
       "<style scoped>\n",
       "    .dataframe tbody tr th:only-of-type {\n",
       "        vertical-align: middle;\n",
       "    }\n",
       "\n",
       "    .dataframe tbody tr th {\n",
       "        vertical-align: top;\n",
       "    }\n",
       "\n",
       "    .dataframe thead th {\n",
       "        text-align: right;\n",
       "    }\n",
       "</style>\n",
       "<table border=\"1\" class=\"dataframe\">\n",
       "  <thead>\n",
       "    <tr style=\"text-align: right;\">\n",
       "      <th></th>\n",
       "      <th>CoinURL</th>\n",
       "    </tr>\n",
       "  </thead>\n",
       "  <tbody>\n",
       "    <tr>\n",
       "      <th>0</th>\n",
       "      <td>/data</td>\n",
       "    </tr>\n",
       "    <tr>\n",
       "      <th>1</th>\n",
       "      <td>/podcasts/</td>\n",
       "    </tr>\n",
       "    <tr>\n",
       "      <th>2</th>\n",
       "      <td>/podcasts/coindesk-podcast-network/headlines-t...</td>\n",
       "    </tr>\n",
       "    <tr>\n",
       "      <th>3</th>\n",
       "      <td>/podcasts/</td>\n",
       "    </tr>\n",
       "    <tr>\n",
       "      <th>4</th>\n",
       "      <td>/podcasts/coindesk-podcast-network/new-york-at...</td>\n",
       "    </tr>\n",
       "    <tr>\n",
       "      <th>...</th>\n",
       "      <td>...</td>\n",
       "    </tr>\n",
       "    <tr>\n",
       "      <th>19906</th>\n",
       "      <td>/business/2021/09/08/staking-giant-lido-expand...</td>\n",
       "    </tr>\n",
       "    <tr>\n",
       "      <th>19907</th>\n",
       "      <td>/podcasts/</td>\n",
       "    </tr>\n",
       "    <tr>\n",
       "      <th>19908</th>\n",
       "      <td>/podcasts/the-breakdown-with-nlw/the-sec-threa...</td>\n",
       "    </tr>\n",
       "    <tr>\n",
       "      <th>19909</th>\n",
       "      <td>/tv/all-about-bitcoin</td>\n",
       "    </tr>\n",
       "    <tr>\n",
       "      <th>19910</th>\n",
       "      <td>/tv/all-about-bitcoin/all-about-bitcoin-septem...</td>\n",
       "    </tr>\n",
       "  </tbody>\n",
       "</table>\n",
       "<p>19911 rows × 1 columns</p>\n",
       "</div>"
      ],
      "text/plain": [
       "                                                 CoinURL\n",
       "0                                                  /data\n",
       "1                                             /podcasts/\n",
       "2      /podcasts/coindesk-podcast-network/headlines-t...\n",
       "3                                             /podcasts/\n",
       "4      /podcasts/coindesk-podcast-network/new-york-at...\n",
       "...                                                  ...\n",
       "19906  /business/2021/09/08/staking-giant-lido-expand...\n",
       "19907                                         /podcasts/\n",
       "19908  /podcasts/the-breakdown-with-nlw/the-sec-threa...\n",
       "19909                              /tv/all-about-bitcoin\n",
       "19910  /tv/all-about-bitcoin/all-about-bitcoin-septem...\n",
       "\n",
       "[19911 rows x 1 columns]"
      ]
     },
     "execution_count": 2,
     "metadata": {},
     "output_type": "execute_result"
    }
   ],
   "source": [
    "df=pd.read_csv('Data_URL\\CoinURL.csv').drop('Unnamed: 0',axis=1)\n",
    "df"
   ]
  },
  {
   "cell_type": "code",
   "execution_count": 32,
   "metadata": {},
   "outputs": [
    {
     "data": {
      "text/html": [
       "<div>\n",
       "<style scoped>\n",
       "    .dataframe tbody tr th:only-of-type {\n",
       "        vertical-align: middle;\n",
       "    }\n",
       "\n",
       "    .dataframe tbody tr th {\n",
       "        vertical-align: top;\n",
       "    }\n",
       "\n",
       "    .dataframe thead th {\n",
       "        text-align: right;\n",
       "    }\n",
       "</style>\n",
       "<table border=\"1\" class=\"dataframe\">\n",
       "  <thead>\n",
       "    <tr style=\"text-align: right;\">\n",
       "      <th></th>\n",
       "      <th>CoinType</th>\n",
       "      <th>CoinDate</th>\n",
       "      <th>CoinURL</th>\n",
       "    </tr>\n",
       "  </thead>\n",
       "  <tbody>\n",
       "    <tr>\n",
       "      <th>0</th>\n",
       "      <td>layer2</td>\n",
       "      <td>2022/01/19</td>\n",
       "      <td>/layer2/2022/01/19/the-right-and-wrong-way-to-...</td>\n",
       "    </tr>\n",
       "    <tr>\n",
       "      <th>1</th>\n",
       "      <td>business</td>\n",
       "      <td>2022/12/30</td>\n",
       "      <td>/business/2022/12/30/crypto-asset-manager-valk...</td>\n",
       "    </tr>\n",
       "    <tr>\n",
       "      <th>2</th>\n",
       "      <td>business</td>\n",
       "      <td>2022/12/30</td>\n",
       "      <td>/business/2022/12/30/bitcoin-miners-got-crushe...</td>\n",
       "    </tr>\n",
       "    <tr>\n",
       "      <th>3</th>\n",
       "      <td>business</td>\n",
       "      <td>2022/12/30</td>\n",
       "      <td>/business/2022/12/30/blackrock-gives-bankrupt-...</td>\n",
       "    </tr>\n",
       "    <tr>\n",
       "      <th>4</th>\n",
       "      <td>layer2</td>\n",
       "      <td>2022/12/30</td>\n",
       "      <td>/layer2/2022/12/30/5-lessons-from-2022-that-ch...</td>\n",
       "    </tr>\n",
       "  </tbody>\n",
       "</table>\n",
       "</div>"
      ],
      "text/plain": [
       "   CoinType    CoinDate                                            CoinURL\n",
       "0    layer2  2022/01/19  /layer2/2022/01/19/the-right-and-wrong-way-to-...\n",
       "1  business  2022/12/30  /business/2022/12/30/crypto-asset-manager-valk...\n",
       "2  business  2022/12/30  /business/2022/12/30/bitcoin-miners-got-crushe...\n",
       "3  business  2022/12/30  /business/2022/12/30/blackrock-gives-bankrupt-...\n",
       "4    layer2  2022/12/30  /layer2/2022/12/30/5-lessons-from-2022-that-ch..."
      ]
     },
     "execution_count": 32,
     "metadata": {},
     "output_type": "execute_result"
    }
   ],
   "source": [
    "n_type=[]\n",
    "n_url=[]\n",
    "n_date=[]\n",
    "Nlist=['newsletter','coindesk']\n",
    "\n",
    "for i in range(len(df)):\n",
    "    if type(df['CoinURL'][i])==str:\n",
    "        Ctype=df['CoinURL'][i].split('/')\n",
    "        if (len(Ctype)>4)& (not(Ctype[1] in Nlist)):#\n",
    "            if (Ctype[2]=='2022'):\n",
    "                n_type.append(Ctype[1])\n",
    "                n_url.append(df['CoinURL'][i])\n",
    "                n_date.append(f'{Ctype[2]}/{Ctype[3]}/{Ctype[4]}')\n",
    "\n",
    "\n",
    "\n",
    "lo={'CoinType':n_type,'CoinDate':n_date,'CoinURL':n_url}\n",
    "df_2 = pd.DataFrame(lo)\n",
    "df_2.head()"
   ]
  },
  {
   "cell_type": "code",
   "execution_count": 33,
   "metadata": {},
   "outputs": [
    {
     "data": {
      "text/plain": [
       "array(['layer2', 'business', 'markets', 'tech', 'consensus-magazine',\n",
       "       'policy', 'web3'], dtype=object)"
      ]
     },
     "execution_count": 33,
     "metadata": {},
     "output_type": "execute_result"
    }
   ],
   "source": [
    "df_2['CoinType'].unique()"
   ]
  },
  {
   "cell_type": "code",
   "execution_count": 35,
   "metadata": {},
   "outputs": [],
   "source": [
    "df_2.to_csv('Data_URL\\CoinURL_final.csv')"
   ]
  },
  {
   "cell_type": "code",
   "execution_count": 29,
   "metadata": {},
   "outputs": [
    {
     "data": {
      "text/html": [
       "<div>\n",
       "<style scoped>\n",
       "    .dataframe tbody tr th:only-of-type {\n",
       "        vertical-align: middle;\n",
       "    }\n",
       "\n",
       "    .dataframe tbody tr th {\n",
       "        vertical-align: top;\n",
       "    }\n",
       "\n",
       "    .dataframe thead th {\n",
       "        text-align: right;\n",
       "    }\n",
       "</style>\n",
       "<table border=\"1\" class=\"dataframe\">\n",
       "  <thead>\n",
       "    <tr style=\"text-align: right;\">\n",
       "      <th></th>\n",
       "      <th>CoinType</th>\n",
       "      <th>CoinDate</th>\n",
       "      <th>CoinURL</th>\n",
       "    </tr>\n",
       "  </thead>\n",
       "  <tbody>\n",
       "    <tr>\n",
       "      <th>2657</th>\n",
       "      <td>coindesk</td>\n",
       "      <td>2022/04/22</td>\n",
       "      <td>/coindesk/2022/04/22/kevin-oleary-on-clean-bit...</td>\n",
       "    </tr>\n",
       "    <tr>\n",
       "      <th>2677</th>\n",
       "      <td>coindesk</td>\n",
       "      <td>2022/04/21</td>\n",
       "      <td>/coindesk/2022/04/21/the-risks-behind-luna-ust...</td>\n",
       "    </tr>\n",
       "    <tr>\n",
       "      <th>3056</th>\n",
       "      <td>coindesk</td>\n",
       "      <td>2022/03/17</td>\n",
       "      <td>/coindesk/2022/03/17/the-fight-against-inflati...</td>\n",
       "    </tr>\n",
       "  </tbody>\n",
       "</table>\n",
       "</div>"
      ],
      "text/plain": [
       "      CoinType    CoinDate                                            CoinURL\n",
       "2657  coindesk  2022/04/22  /coindesk/2022/04/22/kevin-oleary-on-clean-bit...\n",
       "2677  coindesk  2022/04/21  /coindesk/2022/04/21/the-risks-behind-luna-ust...\n",
       "3056  coindesk  2022/03/17  /coindesk/2022/03/17/the-fight-against-inflati..."
      ]
     },
     "execution_count": 29,
     "metadata": {},
     "output_type": "execute_result"
    }
   ],
   "source": [
    "df_2[df_2['CoinType']=='coindesk']"
   ]
  }
 ],
 "metadata": {
  "kernelspec": {
   "display_name": "Python 3",
   "language": "python",
   "name": "python3"
  },
  "language_info": {
   "codemirror_mode": {
    "name": "ipython",
    "version": 3
   },
   "file_extension": ".py",
   "mimetype": "text/x-python",
   "name": "python",
   "nbconvert_exporter": "python",
   "pygments_lexer": "ipython3",
   "version": "3.10.9"
  },
  "orig_nbformat": 4
 },
 "nbformat": 4,
 "nbformat_minor": 2
}
