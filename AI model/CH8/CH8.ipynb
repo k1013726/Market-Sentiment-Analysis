{
 "cells": [
  {
   "cell_type": "markdown",
   "metadata": {},
   "source": [
    "## McCulloch-Pitts Model"
   ]
  },
  {
   "cell_type": "code",
   "execution_count": 1,
   "metadata": {},
   "outputs": [
    {
     "name": "stdout",
     "output_type": "stream",
     "text": [
      "輸出: 1\n"
     ]
    }
   ],
   "source": [
    "def mcculloch_pitts(inputs, weights, threshold):\n",
    "    # 檢查輸入數量是否和權重數量相同\n",
    "    if len(inputs) != len(weights):\n",
    "        raise ValueError(\"輸入和權重的數量應該相同\")\n",
    "\n",
    "    # 計算加權和\n",
    "    weighted_sum = sum([i * w for i, w in zip(inputs, weights)])\n",
    "\n",
    "    # 決定是否激活神經元\n",
    "    if weighted_sum >= threshold:\n",
    "        return 1  # 激活狀態\n",
    "    else:\n",
    "        return 0  # 非激活狀態\n",
    "\n",
    "# 定義輸入、權重和閾值\n",
    "inputs = [1, 0, 1]\n",
    "weights = [0.5, -0.5, 0.8]\n",
    "threshold = 0.2\n",
    "\n",
    "# 使用模型計算輸出\n",
    "output = mcculloch_pitts(inputs, weights, threshold)\n",
    "print(\"輸出:\", output)\n"
   ]
  },
  {
   "cell_type": "markdown",
   "metadata": {},
   "source": [
    "## Competitive Learning"
   ]
  },
  {
   "cell_type": "code",
   "execution_count": 5,
   "metadata": {},
   "outputs": [
    {
     "name": "stdout",
     "output_type": "stream",
     "text": [
      "Winning neuron index: 1\n",
      "Updated weights: [[0.12498833 0.34383235 0.48869103]\n",
      " [0.88936488 0.93922351 0.73147079]\n",
      " [0.77514145 0.02247269 0.60057614]\n",
      " [0.17174847 0.34130536 0.48491625]\n",
      " [0.34959177 0.8198021  0.49721554]]\n"
     ]
    }
   ],
   "source": [
    "import numpy as np\n",
    "\n",
    "# 初始化神經元的權重和偏差\n",
    "num_neurons = 5\n",
    "input_size = 3\n",
    "learning_rate = 0.1\n",
    "\n",
    "# 隨機初始化權重和偏差\n",
    "weights = np.random.rand(num_neurons, input_size)\n",
    "bias = np.random.rand(num_neurons)\n",
    "\n",
    "# 定義競爭學習的訓練函數\n",
    "def competitive_learning(input_vector):\n",
    "    global weights, bias\n",
    "\n",
    "    # 計算輸入向量和每個神經元之間的相似度\n",
    "    similarity = np.dot(weights, input_vector) + bias\n",
    "\n",
    "    # 找出最大相似度的神經元的索引\n",
    "    winning_neuron_idx = np.argmax(similarity)\n",
    "\n",
    "    # 更新勝出神經元的權重，增加對輸入的響應\n",
    "    weights[winning_neuron_idx] += learning_rate * (input_vector - weights[winning_neuron_idx])\n",
    "\n",
    "    return winning_neuron_idx\n",
    "\n",
    "# 測試一個輸入向量\n",
    "input_vector = np.array([0.2, 0.4, 0.6])\n",
    "\n",
    "# 進行競爭學習\n",
    "winning_neuron_index = competitive_learning(input_vector)\n",
    "print(\"Winning neuron index:\", winning_neuron_index)\n",
    "print(\"Updated weights:\", weights)\n"
   ]
  },
  {
   "cell_type": "markdown",
   "metadata": {},
   "source": [
    "## Two Layered Recurrent Networks for Competitive Learning"
   ]
  },
  {
   "cell_type": "code",
   "execution_count": 4,
   "metadata": {},
   "outputs": [
    {
     "name": "stdout",
     "output_type": "stream",
     "text": [
      "Epoch 1/10\n",
      "1/1 [==============================] - 1s 711ms/step - loss: 0.3473\n",
      "Epoch 2/10\n",
      "1/1 [==============================] - 0s 4ms/step - loss: 0.3450\n",
      "Epoch 3/10\n",
      "1/1 [==============================] - 0s 4ms/step - loss: 0.3427\n",
      "Epoch 4/10\n",
      "1/1 [==============================] - 0s 7ms/step - loss: 0.3403\n",
      "Epoch 5/10\n",
      "1/1 [==============================] - 0s 3ms/step - loss: 0.3380\n",
      "Epoch 6/10\n",
      "1/1 [==============================] - 0s 7ms/step - loss: 0.3357\n",
      "Epoch 7/10\n",
      "1/1 [==============================] - 0s 6ms/step - loss: 0.3334\n",
      "Epoch 8/10\n",
      "1/1 [==============================] - 0s 10ms/step - loss: 0.3312\n",
      "Epoch 9/10\n",
      "1/1 [==============================] - 0s 8ms/step - loss: 0.3289\n",
      "Epoch 10/10\n",
      "1/1 [==============================] - 0s 6ms/step - loss: 0.3267\n",
      "1/1 [==============================] - 0s 62ms/step\n",
      "RMSE: 0.5695910164848083\n"
     ]
    }
   ],
   "source": [
    "import tensorflow as tf\n",
    "import numpy as np\n",
    "from sklearn.metrics import mean_squared_error\n",
    "\n",
    "# 定義競爭層神經元數量和輸入維度\n",
    "input_dim = 10\n",
    "comp_neurons = 5\n",
    "\n",
    "# 假設 test_data 是你的測試數據\n",
    "test_data = np.random.rand(10, input_dim)\n",
    "\n",
    "\n",
    "\n",
    "# 定義輸入層\n",
    "inputs = tf.keras.Input(shape=(input_dim,))\n",
    "competition_layer = tf.keras.layers.Dense(comp_neurons, activation='softmax')(inputs)\n",
    "\n",
    "# 定義反饋層\n",
    "feedback_layer = tf.keras.layers.Dense(input_dim)(competition_layer)\n",
    "\n",
    "# 定義整個模型\n",
    "model = tf.keras.Model(inputs=inputs, outputs=feedback_layer)\n",
    "\n",
    "# 編譯模型\n",
    "model.compile(optimizer='adam', loss='mean_squared_error')\n",
    "\n",
    "# 訓練模型\n",
    "model.fit(test_data, test_data, epochs=10, batch_size=32)\n",
    "\n",
    "# 使用模型進行預測\n",
    "predictions = model.predict(test_data)\n",
    "\n",
    "# 計算均方根誤差（RMSE）\n",
    "rmse = np.sqrt(mean_squared_error(test_data, predictions))\n",
    "\n",
    "# 輸出 RMSE\n",
    "print(\"RMSE:\", rmse)\n",
    "\n"
   ]
  }
 ],
 "metadata": {
  "kernelspec": {
   "display_name": "Python 3",
   "language": "python",
   "name": "python3"
  },
  "language_info": {
   "codemirror_mode": {
    "name": "ipython",
    "version": 3
   },
   "file_extension": ".py",
   "mimetype": "text/x-python",
   "name": "python",
   "nbconvert_exporter": "python",
   "pygments_lexer": "ipython3",
   "version": "3.10.9"
  }
 },
 "nbformat": 4,
 "nbformat_minor": 2
}
