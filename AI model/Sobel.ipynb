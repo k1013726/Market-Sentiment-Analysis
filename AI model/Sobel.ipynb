{
 "cells": [
  {
   "cell_type": "code",
   "execution_count": 2,
   "metadata": {},
   "outputs": [],
   "source": [
    "import cv2 \n",
    "from matplotlib import pyplot as plt\n",
    "\n",
    "def main():  \n",
    "    # 讀取影像\n",
    "    gray_img = cv2.imread(\"./figure/125075.jpg\", 0)\n",
    "   \n",
    "    kernel_size =5\n",
    "    x = cv2.Sobel(gray_img, cv2.CV_16S, 1, 0, ksize=kernel_size) \n",
    "    y = cv2.Sobel(gray_img, cv2.CV_16S, 0, 1, ksize=kernel_size)\n",
    "\n",
    "    # 轉換為影像原本儲存的格式 uint8\n",
    "    absX = cv2.convertScaleAbs(x) \n",
    "    absY = cv2.convertScaleAbs(y)\n",
    "\n",
    "    # 將兩個軸向的測邊結果相加，形成完整輪廓\n",
    "    dst = cv2.addWeighted(absX, 0.5, absX,0.5,0)\n",
    "\n",
    "    \n",
    "    cv2.imwrite('figure/SobelOperator.jpg',dst)\n",
    "    cv2.waitKey(0)\n",
    "    cv2.destroyAllWindows()\n",
    "\n",
    "\n",
    "if __name__ == \"__main__\":\n",
    "    main()"
   ]
  },
  {
   "cell_type": "code",
   "execution_count": 3,
   "metadata": {},
   "outputs": [],
   "source": [
    "import cv2\n",
    "img = cv2.imread('./figure/125075.jpg')\n",
    "\n",
    "result=cv2.blur(img,(10,10))\n",
    "cv2.imwrite('figure/Averaging.jpg',result)\n",
    "\n",
    "cv2.waitKey(0)\n",
    "cv2.destroyAllWindows()\n",
    "\n"
   ]
  },
  {
   "cell_type": "code",
   "execution_count": 4,
   "metadata": {},
   "outputs": [],
   "source": [
    "import cv2\n",
    "img = cv2.imread('./figure/125075.jpg')\n",
    "\n",
    "result=cv2.medianBlur(img,9)\n",
    "\n",
    "cv2.imwrite('figure/medianBlur.jpg',result)\n",
    "\n",
    "cv2.waitKey(0)\n",
    "cv2.destroyAllWindows()\n",
    "\n"
   ]
  }
 ],
 "metadata": {
  "kernelspec": {
   "display_name": "Python 3",
   "language": "python",
   "name": "python3"
  },
  "language_info": {
   "codemirror_mode": {
    "name": "ipython",
    "version": 3
   },
   "file_extension": ".py",
   "mimetype": "text/x-python",
   "name": "python",
   "nbconvert_exporter": "python",
   "pygments_lexer": "ipython3",
   "version": "3.8.10"
  },
  "orig_nbformat": 4
 },
 "nbformat": 4,
 "nbformat_minor": 2
}
