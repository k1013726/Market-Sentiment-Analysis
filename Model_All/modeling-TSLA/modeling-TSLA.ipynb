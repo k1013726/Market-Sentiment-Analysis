{
 "cells": [
  {
   "cell_type": "code",
   "execution_count": 1,
   "id": "31319bd5",
   "metadata": {},
   "outputs": [],
   "source": [
    "import numpy as np\n",
    "import pandas as pd\n",
    "import tensorflow as tf\n",
    "import matplotlib.pyplot as plt\n",
    "\n",
    "from tensorflow.keras import Model, Sequential\n",
    "\n",
    "from tensorflow.keras.optimizers import Adam\n",
    "from tensorflow.keras.callbacks import EarlyStopping\n",
    "from tensorflow.keras.losses import MeanSquaredError\n",
    "from tensorflow.keras.metrics import MeanAbsoluteError\n",
    "\n",
    "from tensorflow.keras.layers import Dense, Conv1D, LSTM, Lambda, Reshape, RNN, LSTMCell\n",
    "\n",
    "import warnings\n",
    "warnings.filterwarnings('ignore')"
   ]
  },
  {
   "cell_type": "code",
   "execution_count": 2,
   "id": "2abcdc06",
   "metadata": {},
   "outputs": [],
   "source": [
    "plt.rcParams['figure.figsize'] = (10, 7.5)\n",
    "plt.rcParams['axes.grid'] = False"
   ]
  },
  {
   "cell_type": "code",
   "execution_count": 3,
   "id": "ad6c82f6",
   "metadata": {},
   "outputs": [
    {
     "name": "stdout",
     "output_type": "stream",
     "text": [
      "2.12.0\n"
     ]
    }
   ],
   "source": [
    "print(tf.__version__)"
   ]
  },
  {
   "cell_type": "code",
   "execution_count": 4,
   "id": "8c933563",
   "metadata": {},
   "outputs": [],
   "source": [
    "tf.random.set_seed(42)\n",
    "np.random.seed(42)"
   ]
  },
  {
   "cell_type": "code",
   "execution_count": 5,
   "id": "54a6df59",
   "metadata": {},
   "outputs": [
    {
     "name": "stdout",
     "output_type": "stream",
     "text": [
      "(352, 15) (100, 15) (24, 15)\n"
     ]
    }
   ],
   "source": [
    "train_df = pd.read_csv('data/train.csv').drop('Date',axis=1)\n",
    "val_df = pd.read_csv('data/val.csv').drop('Date',axis=1)\n",
    "test_df = pd.read_csv('data/test.csv').drop('Date',axis=1)\n",
    "\n",
    "print(train_df.shape, val_df.shape, test_df.shape)"
   ]
  },
  {
   "attachments": {},
   "cell_type": "markdown",
   "id": "4622a938",
   "metadata": {},
   "source": [
    "## `DataWindow` class "
   ]
  },
  {
   "cell_type": "code",
   "execution_count": 6,
   "id": "f27ee7b0",
   "metadata": {},
   "outputs": [],
   "source": [
    "class DataWindow():\n",
    "    def __init__(self, input_width, label_width, shift, \n",
    "                 train_df=train_df, val_df=val_df, test_df=test_df, \n",
    "                 label_columns=None):\n",
    "        \n",
    "        self.train_df = train_df\n",
    "        self.val_df = val_df\n",
    "        self.test_df = test_df\n",
    "        \n",
    "        self.label_columns = label_columns\n",
    "        if label_columns is not None:\n",
    "            self.label_columns_indices = {name: i for i, name in enumerate(label_columns)}\n",
    "        self.column_indices = {name: i for i, name in enumerate(train_df.columns)}\n",
    "        \n",
    "        self.input_width = input_width\n",
    "        self.label_width = label_width\n",
    "        self.shift = shift\n",
    "        \n",
    "        self.total_window_size = input_width + shift\n",
    "        \n",
    "        self.input_slice = slice(0, input_width)\n",
    "        self.input_indices = np.arange(self.total_window_size)[self.input_slice]\n",
    "        \n",
    "        self.label_start = self.total_window_size - self.label_width\n",
    "        self.labels_slice = slice(self.label_start, None)\n",
    "        self.label_indices = np.arange(self.total_window_size)[self.labels_slice]\n",
    "    \n",
    "    def split_to_inputs_labels(self, features):\n",
    "        inputs = features[:, self.input_slice, :]\n",
    "        labels = features[:, self.labels_slice, :]\n",
    "        if self.label_columns is not None:\n",
    "            labels = tf.stack(\n",
    "                [labels[:,:,self.column_indices[name]] for name in self.label_columns],\n",
    "                axis=-1\n",
    "            )\n",
    "        inputs.set_shape([None, self.input_width, None])\n",
    "        labels.set_shape([None, self.label_width, None])\n",
    "        \n",
    "        return inputs, labels\n",
    "    \n",
    "    def plot(self, model=None, plot_col='Adj Close', max_subplots=3):\n",
    "        inputs, labels = self.sample_batch\n",
    "        \n",
    "        plt.figure(figsize=(12, 8))\n",
    "        plot_col_index = self.column_indices[plot_col]\n",
    "        max_n = min(max_subplots, len(inputs))\n",
    "        \n",
    "        for n in range(max_n):\n",
    "            plt.subplot(3, 1, n+1)\n",
    "            plt.ylabel(f'{plot_col} [scaled]')\n",
    "            plt.plot(self.input_indices, inputs[n, :, plot_col_index],\n",
    "                     label='Inputs', marker='.', zorder=-10)\n",
    "\n",
    "            if self.label_columns:\n",
    "              label_col_index = self.label_columns_indices.get(plot_col, None)\n",
    "            else:\n",
    "              label_col_index = plot_col_index\n",
    "\n",
    "            if label_col_index is None:\n",
    "              continue\n",
    "\n",
    "            plt.scatter(self.label_indices, labels[n, :, label_col_index],\n",
    "                        edgecolors='k', marker='s', label='Labels', c='green', s=64)\n",
    "            if model is not None:\n",
    "              predictions = model(inputs)\n",
    "              plt.scatter(self.label_indices, predictions[n, :, label_col_index],\n",
    "                          marker='X', edgecolors='k', label='Predictions',\n",
    "                          c='red', s=64)\n",
    "\n",
    "            if n == 0:\n",
    "              plt.legend()\n",
    "\n",
    "        plt.xlabel('Time (h)')\n",
    "        \n",
    "    def make_dataset(self, data):\n",
    "        data = np.array(data, dtype=np.float32)\n",
    "        ds = tf.keras.preprocessing.timeseries_dataset_from_array(\n",
    "            data=data,\n",
    "            targets=None,\n",
    "            sequence_length=self.total_window_size,\n",
    "            sequence_stride=1,\n",
    "            shuffle=True,\n",
    "            batch_size=32\n",
    "        )\n",
    "        \n",
    "        ds = ds.map(self.split_to_inputs_labels)\n",
    "        return ds\n",
    "    \n",
    "    @property\n",
    "    def train(self):\n",
    "        return self.make_dataset(self.train_df)\n",
    "    \n",
    "    @property\n",
    "    def val(self):\n",
    "        return self.make_dataset(self.val_df)\n",
    "    \n",
    "    @property\n",
    "    def test(self):\n",
    "        return self.make_dataset(self.test_df)\n",
    "    \n",
    "    @property\n",
    "    def sample_batch(self):\n",
    "        result = getattr(self, '_sample_batch', None)\n",
    "        if result is None:\n",
    "            result = next(iter(self.train))\n",
    "            self._sample_batch = result\n",
    "        return result"
   ]
  },
  {
   "cell_type": "code",
   "execution_count": 7,
   "id": "2b2af6bb",
   "metadata": {},
   "outputs": [],
   "source": [
    "def compile_and_fit(model, window, patience=3, max_epochs=1000):\n",
    "    early_stopping = EarlyStopping(monitor='val_loss',\n",
    "                                   patience=patience,\n",
    "                                   mode='min')\n",
    "    \n",
    "    model.compile(loss=MeanSquaredError(),\n",
    "                  optimizer=Adam(),\n",
    "                  metrics=[MeanAbsoluteError()])\n",
    "    \n",
    "    history = model.fit(window.train,\n",
    "                       epochs=max_epochs,\n",
    "                       validation_data=window.val,\n",
    "                       callbacks=[early_stopping])\n",
    "    \n",
    "    return history"
   ]
  },
  {
   "cell_type": "code",
   "execution_count": 8,
   "id": "4891ddc7",
   "metadata": {},
   "outputs": [],
   "source": [
    "column_indices = {name: i for i, name in enumerate(train_df.columns)}"
   ]
  },
  {
   "attachments": {},
   "cell_type": "markdown",
   "id": "3e95f4b1",
   "metadata": {},
   "source": [
    "## Baseline models "
   ]
  },
  {
   "cell_type": "code",
   "execution_count": 9,
   "id": "1f24f0b3",
   "metadata": {},
   "outputs": [],
   "source": [
    "multi_window = DataWindow(input_width=7, label_width=7, shift=7, label_columns=['Adj Close'])"
   ]
  },
  {
   "attachments": {},
   "cell_type": "markdown",
   "id": "e8f3a328",
   "metadata": {},
   "source": [
    "### Repeat last value "
   ]
  },
  {
   "cell_type": "code",
   "execution_count": 10,
   "id": "187dab3c",
   "metadata": {},
   "outputs": [],
   "source": [
    "class MultiStepLastBaseline(Model):\n",
    "    def __init__(self, label_index=None):\n",
    "        super().__init__()\n",
    "        self.label_index = label_index\n",
    "        \n",
    "    def call(self, inputs):\n",
    "        if self.label_index is None:\n",
    "            return tf.tile(inputs[:, -1:, :], [1, 7, 1])\n",
    "        return tf.tile(inputs[:, -1:, self.label_index:], [1, 7, 1])"
   ]
  },
  {
   "cell_type": "code",
   "execution_count": 11,
   "id": "605f438f",
   "metadata": {},
   "outputs": [
    {
     "name": "stdout",
     "output_type": "stream",
     "text": [
      "3/3 [==============================] - 0s 6ms/step - loss: 0.0868 - mean_absolute_error: 0.2041\n"
     ]
    }
   ],
   "source": [
    "baseline_last = MultiStepLastBaseline(label_index=column_indices['Adj Close'])\n",
    "\n",
    "baseline_last.compile(loss=MeanSquaredError(), metrics=[MeanAbsoluteError()])\n",
    "\n",
    "val_performance = {}\n",
    "performance = {}\n",
    "\n",
    "val_performance['Baseline - Last'] = baseline_last.evaluate(multi_window.val)\n",
    "performance['Baseline - Last'] = baseline_last.evaluate(multi_window.test, verbose=0)"
   ]
  },
  {
   "attachments": {},
   "cell_type": "markdown",
   "id": "dea618c7",
   "metadata": {},
   "source": [
    "### Repeat last day "
   ]
  },
  {
   "cell_type": "code",
   "execution_count": 12,
   "id": "8177a5d8",
   "metadata": {},
   "outputs": [],
   "source": [
    "class RepeatBaseline(Model):\n",
    "    def __init__(self, label_index=None):\n",
    "        super().__init__()\n",
    "        self.label_index = label_index\n",
    "        \n",
    "    def call(self, inputs):\n",
    "        return inputs[:, :, self.label_index:]"
   ]
  },
  {
   "cell_type": "code",
   "execution_count": 13,
   "id": "b9655925",
   "metadata": {},
   "outputs": [
    {
     "name": "stdout",
     "output_type": "stream",
     "text": [
      "3/3 [==============================] - 0s 3ms/step - loss: 0.0878 - mean_absolute_error: 0.2083\n"
     ]
    }
   ],
   "source": [
    "baseline_repeat = RepeatBaseline(label_index=column_indices['Adj Close'])\n",
    "\n",
    "baseline_repeat.compile(loss=MeanSquaredError(), metrics=[MeanAbsoluteError()])\n",
    "\n",
    "val_performance['Baseline - Repeat'] = baseline_repeat.evaluate(multi_window.val)\n",
    "performance['Baseline - Repeat'] = baseline_repeat.evaluate(multi_window.test, verbose=0)"
   ]
  },
  {
   "attachments": {},
   "cell_type": "markdown",
   "id": "bb1367ac",
   "metadata": {},
   "source": [
    "## Linear model "
   ]
  },
  {
   "cell_type": "code",
   "execution_count": 14,
   "id": "2b1e7274",
   "metadata": {
    "collapsed": true
   },
   "outputs": [
    {
     "name": "stdout",
     "output_type": "stream",
     "text": [
      "Epoch 1/1000\n",
      "11/11 [==============================] - 1s 18ms/step - loss: 0.2830 - mean_absolute_error: 0.4967 - val_loss: 0.0235 - val_mean_absolute_error: 0.1404\n",
      "Epoch 2/1000\n",
      "11/11 [==============================] - 0s 9ms/step - loss: 0.1922 - mean_absolute_error: 0.4049 - val_loss: 0.0122 - val_mean_absolute_error: 0.0995\n",
      "Epoch 3/1000\n",
      "11/11 [==============================] - 0s 9ms/step - loss: 0.1248 - mean_absolute_error: 0.3191 - val_loss: 0.0055 - val_mean_absolute_error: 0.0633\n",
      "Epoch 4/1000\n",
      "11/11 [==============================] - 0s 8ms/step - loss: 0.0759 - mean_absolute_error: 0.2429 - val_loss: 0.0026 - val_mean_absolute_error: 0.0426\n",
      "Epoch 5/1000\n",
      "11/11 [==============================] - 0s 7ms/step - loss: 0.0453 - mean_absolute_error: 0.1796 - val_loss: 0.0023 - val_mean_absolute_error: 0.0389\n",
      "Epoch 6/1000\n",
      "11/11 [==============================] - 0s 8ms/step - loss: 0.0276 - mean_absolute_error: 0.1330 - val_loss: 0.0035 - val_mean_absolute_error: 0.0484\n",
      "Epoch 7/1000\n",
      "11/11 [==============================] - 0s 7ms/step - loss: 0.0179 - mean_absolute_error: 0.1028 - val_loss: 0.0051 - val_mean_absolute_error: 0.0605\n",
      "Epoch 8/1000\n",
      "11/11 [==============================] - 0s 8ms/step - loss: 0.0135 - mean_absolute_error: 0.0871 - val_loss: 0.0067 - val_mean_absolute_error: 0.0708\n",
      "3/3 [==============================] - 0s 2ms/step - loss: 0.0067 - mean_absolute_error: 0.0708\n"
     ]
    }
   ],
   "source": [
    "label_index = column_indices['Adj Close']\n",
    "num_features = train_df.shape[1]\n",
    "\n",
    "linear = Sequential([\n",
    "    Dense(1, kernel_initializer=tf.initializers.zeros)\n",
    "])\n",
    "\n",
    "history = compile_and_fit(linear, multi_window)\n",
    "\n",
    "val_performance['Linear'] = linear.evaluate(multi_window.val)\n",
    "performance['Linear'] = linear.evaluate(multi_window.test, verbose=0)"
   ]
  },
  {
   "attachments": {},
   "cell_type": "markdown",
   "id": "8337bfb5",
   "metadata": {},
   "source": [
    "## Dense model "
   ]
  },
  {
   "cell_type": "code",
   "execution_count": 15,
   "id": "5f7610a2",
   "metadata": {
    "collapsed": true
   },
   "outputs": [
    {
     "name": "stdout",
     "output_type": "stream",
     "text": [
      "Epoch 1/1000\n",
      "11/11 [==============================] - 1s 24ms/step - loss: 0.2765 - mean_absolute_error: 0.4895 - val_loss: 0.0137 - val_mean_absolute_error: 0.1082\n",
      "Epoch 2/1000\n",
      "11/11 [==============================] - 0s 9ms/step - loss: 0.0940 - mean_absolute_error: 0.2590 - val_loss: 0.0197 - val_mean_absolute_error: 0.1309\n",
      "Epoch 3/1000\n",
      "11/11 [==============================] - 0s 9ms/step - loss: 0.0283 - mean_absolute_error: 0.1426 - val_loss: 0.0315 - val_mean_absolute_error: 0.1706\n",
      "Epoch 4/1000\n",
      "11/11 [==============================] - 0s 8ms/step - loss: 0.0143 - mean_absolute_error: 0.0945 - val_loss: 0.0112 - val_mean_absolute_error: 0.0935\n",
      "Epoch 5/1000\n",
      "11/11 [==============================] - 0s 8ms/step - loss: 0.0139 - mean_absolute_error: 0.0905 - val_loss: 0.0196 - val_mean_absolute_error: 0.1319\n",
      "Epoch 6/1000\n",
      "11/11 [==============================] - 0s 8ms/step - loss: 0.0119 - mean_absolute_error: 0.0870 - val_loss: 0.0181 - val_mean_absolute_error: 0.1262\n",
      "Epoch 7/1000\n",
      "11/11 [==============================] - 0s 8ms/step - loss: 0.0114 - mean_absolute_error: 0.0827 - val_loss: 0.0156 - val_mean_absolute_error: 0.1165\n",
      "3/3 [==============================] - 0s 4ms/step - loss: 0.0156 - mean_absolute_error: 0.1165\n"
     ]
    }
   ],
   "source": [
    "dense = Sequential([\n",
    "    Dense(64, activation='relu'),\n",
    "    Dense(64, activation='relu'),\n",
    "    Dense(1, kernel_initializer=tf.initializers.zeros),\n",
    "])\n",
    "\n",
    "history = compile_and_fit(dense, multi_window)\n",
    "\n",
    "val_performance['Dense'] = dense.evaluate(multi_window.val)\n",
    "performance['Dense'] = dense.evaluate(multi_window.test, verbose=0)"
   ]
  },
  {
   "attachments": {},
   "cell_type": "markdown",
   "id": "e8fa723c",
   "metadata": {},
   "source": [
    "## LSTM model "
   ]
  },
  {
   "cell_type": "code",
   "execution_count": 16,
   "id": "c4928aee",
   "metadata": {
    "collapsed": true
   },
   "outputs": [
    {
     "name": "stdout",
     "output_type": "stream",
     "text": [
      "Epoch 1/1000\n",
      "11/11 [==============================] - 3s 84ms/step - loss: 0.2995 - mean_absolute_error: 0.5116 - val_loss: 0.0277 - val_mean_absolute_error: 0.1521\n",
      "Epoch 2/1000\n",
      "11/11 [==============================] - 0s 14ms/step - loss: 0.1929 - mean_absolute_error: 0.3981 - val_loss: 0.0100 - val_mean_absolute_error: 0.0812\n",
      "Epoch 3/1000\n",
      "11/11 [==============================] - 0s 14ms/step - loss: 0.0772 - mean_absolute_error: 0.2226 - val_loss: 0.0325 - val_mean_absolute_error: 0.1393\n",
      "Epoch 4/1000\n",
      "11/11 [==============================] - 0s 9ms/step - loss: 0.0617 - mean_absolute_error: 0.2035 - val_loss: 0.0394 - val_mean_absolute_error: 0.1540\n",
      "Epoch 5/1000\n",
      "11/11 [==============================] - 0s 12ms/step - loss: 0.0507 - mean_absolute_error: 0.1796 - val_loss: 0.0193 - val_mean_absolute_error: 0.1113\n",
      "3/3 [==============================] - 0s 3ms/step - loss: 0.0193 - mean_absolute_error: 0.1113\n"
     ]
    }
   ],
   "source": [
    "lstm_model = Sequential([\n",
    "    LSTM(32, return_sequences=True),\n",
    "    Dense(1, kernel_initializer=tf.initializers.zeros),\n",
    "])\n",
    "\n",
    "history = compile_and_fit(lstm_model, multi_window)\n",
    "\n",
    "val_performance['LSTM'] = lstm_model.evaluate(multi_window.val)\n",
    "performance['LSTM'] = lstm_model.evaluate(multi_window.test, verbose=0)"
   ]
  },
  {
   "attachments": {},
   "cell_type": "markdown",
   "id": "c18fa073",
   "metadata": {},
   "source": [
    "## CNN model "
   ]
  },
  {
   "cell_type": "code",
   "execution_count": 17,
   "id": "788d85d3",
   "metadata": {},
   "outputs": [],
   "source": [
    "KERNEL_WIDTH = 3\n",
    "LABEL_WIDTH = 7\n",
    "INPUT_WIDTH = LABEL_WIDTH + KERNEL_WIDTH - 1\n",
    "\n",
    "cnn_multi_window = DataWindow(input_width=INPUT_WIDTH, label_width=LABEL_WIDTH, shift=7, label_columns=['Adj Close'])"
   ]
  },
  {
   "cell_type": "code",
   "execution_count": 18,
   "id": "bbe66a09",
   "metadata": {
    "collapsed": true
   },
   "outputs": [
    {
     "name": "stdout",
     "output_type": "stream",
     "text": [
      "Epoch 1/1000\n",
      "11/11 [==============================] - 2s 39ms/step - loss: 0.2918 - mean_absolute_error: 0.5044 - val_loss: 0.0217 - val_mean_absolute_error: 0.1358\n",
      "Epoch 2/1000\n",
      "11/11 [==============================] - 0s 8ms/step - loss: 0.1349 - mean_absolute_error: 0.3292 - val_loss: 0.0027 - val_mean_absolute_error: 0.0412\n",
      "Epoch 3/1000\n",
      "11/11 [==============================] - 0s 9ms/step - loss: 0.0253 - mean_absolute_error: 0.1309 - val_loss: 0.0233 - val_mean_absolute_error: 0.1426\n",
      "Epoch 4/1000\n",
      "11/11 [==============================] - 0s 8ms/step - loss: 0.0175 - mean_absolute_error: 0.1065 - val_loss: 0.0049 - val_mean_absolute_error: 0.0570\n",
      "Epoch 5/1000\n",
      "11/11 [==============================] - 0s 9ms/step - loss: 0.0155 - mean_absolute_error: 0.0927 - val_loss: 0.0057 - val_mean_absolute_error: 0.0615\n",
      "3/3 [==============================] - 0s 6ms/step - loss: 0.0057 - mean_absolute_error: 0.0615\n"
     ]
    }
   ],
   "source": [
    "cnn_model = Sequential([\n",
    "    Conv1D(32, activation='relu', kernel_size=(KERNEL_WIDTH)),\n",
    "    Dense(units=32, activation='relu'),\n",
    "    Dense(1, kernel_initializer=tf.initializers.zeros),\n",
    "])\n",
    "\n",
    "history = compile_and_fit(cnn_model, cnn_multi_window)\n",
    "\n",
    "val_performance['CNN'] = cnn_model.evaluate(cnn_multi_window.val)\n",
    "performance['CNN'] = cnn_model.evaluate(cnn_multi_window.test, verbose=0)"
   ]
  },
  {
   "attachments": {},
   "cell_type": "markdown",
   "id": "5ea84ea1",
   "metadata": {},
   "source": [
    "## CNN + LSTM model "
   ]
  },
  {
   "cell_type": "code",
   "execution_count": 19,
   "id": "73eab43f",
   "metadata": {
    "collapsed": true
   },
   "outputs": [
    {
     "name": "stdout",
     "output_type": "stream",
     "text": [
      "Epoch 1/1000\n",
      "11/11 [==============================] - 3s 57ms/step - loss: 0.2954 - mean_absolute_error: 0.5079 - val_loss: 0.0238 - val_mean_absolute_error: 0.1403\n",
      "Epoch 2/1000\n",
      "11/11 [==============================] - 0s 12ms/step - loss: 0.1554 - mean_absolute_error: 0.3456 - val_loss: 0.0111 - val_mean_absolute_error: 0.0885\n",
      "Epoch 3/1000\n",
      "11/11 [==============================] - 0s 12ms/step - loss: 0.0520 - mean_absolute_error: 0.1832 - val_loss: 0.0783 - val_mean_absolute_error: 0.2375\n",
      "Epoch 4/1000\n",
      "11/11 [==============================] - 0s 11ms/step - loss: 0.0479 - mean_absolute_error: 0.1804 - val_loss: 0.0424 - val_mean_absolute_error: 0.1765\n",
      "Epoch 5/1000\n",
      "11/11 [==============================] - 0s 11ms/step - loss: 0.0363 - mean_absolute_error: 0.1504 - val_loss: 0.0285 - val_mean_absolute_error: 0.1449\n",
      "3/3 [==============================] - 0s 6ms/step - loss: 0.0285 - mean_absolute_error: 0.1449\n"
     ]
    }
   ],
   "source": [
    "cnn_lstm_model = Sequential([\n",
    "    Conv1D(32, activation='relu', kernel_size=(KERNEL_WIDTH)),\n",
    "    LSTM(32, return_sequences=True),\n",
    "    Dense(1, kernel_initializer=tf.initializers.zeros),\n",
    "])\n",
    "\n",
    "history = compile_and_fit(cnn_lstm_model, cnn_multi_window)\n",
    "\n",
    "val_performance['CNN + LSTM'] = cnn_lstm_model.evaluate(cnn_multi_window.val)\n",
    "performance['CNN + LSTM'] = cnn_lstm_model.evaluate(cnn_multi_window.test, verbose=0)"
   ]
  },
  {
   "attachments": {},
   "cell_type": "markdown",
   "id": "de1e02db",
   "metadata": {},
   "source": [
    "## Autoregressive LSTM "
   ]
  },
  {
   "cell_type": "code",
   "execution_count": 20,
   "id": "92a1013a",
   "metadata": {},
   "outputs": [],
   "source": [
    "class AutoRegressive(Model):\n",
    "    def __init__(self, units, out_steps):\n",
    "        super().__init__()\n",
    "        self.out_steps = out_steps\n",
    "        self.units = units\n",
    "        self.lstm_cell = LSTMCell(units)\n",
    "        self.lstm_rnn = RNN(self.lstm_cell, return_state=True)\n",
    "        self.dense = Dense(train_df.shape[1])\n",
    "        \n",
    "    def warmup(self, inputs):\n",
    "        x, *state = self.lstm_rnn(inputs)\n",
    "        prediction = self.dense(x)\n",
    "                \n",
    "        return prediction, state\n",
    "    \n",
    "    def call(self, inputs, training=None):\n",
    "        predictions = []\n",
    "        prediction, state = self.warmup(inputs)\n",
    "        \n",
    "        predictions.append(prediction)\n",
    "        \n",
    "        for n in range(1, self.out_steps):\n",
    "            x = prediction\n",
    "            x, state = self.lstm_cell(x, states=state, training=training)\n",
    "            \n",
    "            prediction = self.dense(x)\n",
    "            predictions.append(prediction)\n",
    "        \n",
    "        predictions = tf.stack(predictions)\n",
    "        predictions = tf.transpose(predictions, [1, 0, 2])\n",
    "        \n",
    "        return predictions"
   ]
  },
  {
   "cell_type": "code",
   "execution_count": 21,
   "id": "2c28e672",
   "metadata": {
    "collapsed": true
   },
   "outputs": [
    {
     "name": "stdout",
     "output_type": "stream",
     "text": [
      "Epoch 1/1000\n",
      "11/11 [==============================] - 4s 44ms/step - loss: 0.3322 - mean_absolute_error: 0.5299 - val_loss: 0.0344 - val_mean_absolute_error: 0.1502\n",
      "Epoch 2/1000\n",
      "11/11 [==============================] - 0s 19ms/step - loss: 0.1793 - mean_absolute_error: 0.3621 - val_loss: 0.0290 - val_mean_absolute_error: 0.1337\n",
      "Epoch 3/1000\n",
      "11/11 [==============================] - 0s 11ms/step - loss: 0.0762 - mean_absolute_error: 0.2111 - val_loss: 0.0487 - val_mean_absolute_error: 0.1887\n",
      "Epoch 4/1000\n",
      "11/11 [==============================] - 0s 11ms/step - loss: 0.0361 - mean_absolute_error: 0.1493 - val_loss: 0.0365 - val_mean_absolute_error: 0.1621\n",
      "Epoch 5/1000\n",
      "11/11 [==============================] - 0s 10ms/step - loss: 0.0226 - mean_absolute_error: 0.1184 - val_loss: 0.0283 - val_mean_absolute_error: 0.1413\n",
      "Epoch 6/1000\n",
      "11/11 [==============================] - 0s 11ms/step - loss: 0.0184 - mean_absolute_error: 0.1066 - val_loss: 0.0214 - val_mean_absolute_error: 0.1185\n",
      "Epoch 7/1000\n",
      "11/11 [==============================] - 0s 9ms/step - loss: 0.0156 - mean_absolute_error: 0.0966 - val_loss: 0.0157 - val_mean_absolute_error: 0.1001\n",
      "Epoch 8/1000\n",
      "11/11 [==============================] - 0s 8ms/step - loss: 0.0134 - mean_absolute_error: 0.0894 - val_loss: 0.0124 - val_mean_absolute_error: 0.0875\n",
      "Epoch 9/1000\n",
      "11/11 [==============================] - 0s 7ms/step - loss: 0.0123 - mean_absolute_error: 0.0856 - val_loss: 0.0104 - val_mean_absolute_error: 0.0792\n",
      "Epoch 10/1000\n",
      "11/11 [==============================] - 0s 8ms/step - loss: 0.0114 - mean_absolute_error: 0.0827 - val_loss: 0.0095 - val_mean_absolute_error: 0.0755\n",
      "Epoch 11/1000\n",
      "11/11 [==============================] - 0s 7ms/step - loss: 0.0107 - mean_absolute_error: 0.0809 - val_loss: 0.0086 - val_mean_absolute_error: 0.0716\n",
      "Epoch 12/1000\n",
      "11/11 [==============================] - 0s 8ms/step - loss: 0.0100 - mean_absolute_error: 0.0776 - val_loss: 0.0078 - val_mean_absolute_error: 0.0681\n",
      "Epoch 13/1000\n",
      "11/11 [==============================] - 0s 7ms/step - loss: 0.0098 - mean_absolute_error: 0.0764 - val_loss: 0.0075 - val_mean_absolute_error: 0.0670\n",
      "Epoch 14/1000\n",
      "11/11 [==============================] - 0s 7ms/step - loss: 0.0092 - mean_absolute_error: 0.0739 - val_loss: 0.0077 - val_mean_absolute_error: 0.0683\n",
      "Epoch 15/1000\n",
      "11/11 [==============================] - 0s 8ms/step - loss: 0.0087 - mean_absolute_error: 0.0722 - val_loss: 0.0073 - val_mean_absolute_error: 0.0660\n",
      "Epoch 16/1000\n",
      "11/11 [==============================] - 0s 7ms/step - loss: 0.0083 - mean_absolute_error: 0.0708 - val_loss: 0.0072 - val_mean_absolute_error: 0.0659\n",
      "Epoch 17/1000\n",
      "11/11 [==============================] - 0s 7ms/step - loss: 0.0088 - mean_absolute_error: 0.0731 - val_loss: 0.0065 - val_mean_absolute_error: 0.0614\n",
      "Epoch 18/1000\n",
      "11/11 [==============================] - 0s 7ms/step - loss: 0.0086 - mean_absolute_error: 0.0711 - val_loss: 0.0063 - val_mean_absolute_error: 0.0597\n",
      "Epoch 19/1000\n",
      "11/11 [==============================] - 0s 10ms/step - loss: 0.0090 - mean_absolute_error: 0.0740 - val_loss: 0.0065 - val_mean_absolute_error: 0.0615\n",
      "Epoch 20/1000\n",
      "11/11 [==============================] - 0s 10ms/step - loss: 0.0081 - mean_absolute_error: 0.0688 - val_loss: 0.0069 - val_mean_absolute_error: 0.0641\n",
      "Epoch 21/1000\n",
      "11/11 [==============================] - 0s 7ms/step - loss: 0.0078 - mean_absolute_error: 0.0682 - val_loss: 0.0067 - val_mean_absolute_error: 0.0631\n",
      "3/3 [==============================] - 0s 3ms/step - loss: 0.0067 - mean_absolute_error: 0.0631\n"
     ]
    }
   ],
   "source": [
    "AR_LSTM = AutoRegressive(units=32, out_steps=7)\n",
    "\n",
    "history = compile_and_fit(AR_LSTM, multi_window)\n",
    "\n",
    "val_performance['AR - LSTM'] = AR_LSTM.evaluate(multi_window.val)\n",
    "performance['AR - LSTM'] = AR_LSTM.evaluate(multi_window.test, verbose=0)"
   ]
  },
  {
   "cell_type": "code",
   "execution_count": 22,
   "id": "00865b74",
   "metadata": {},
   "outputs": [
    {
     "name": "stdout",
     "output_type": "stream",
     "text": [
      "Epoch 1/1000\n",
      "11/11 [==============================] - 2s 41ms/step - loss: 0.3013 - mean_absolute_error: 0.5137 - val_loss: 0.0256 - val_mean_absolute_error: 0.1467\n",
      "Epoch 2/1000\n",
      "11/11 [==============================] - 0s 7ms/step - loss: 0.1761 - mean_absolute_error: 0.3739 - val_loss: 0.0092 - val_mean_absolute_error: 0.0811\n",
      "Epoch 3/1000\n",
      "11/11 [==============================] - 0s 6ms/step - loss: 0.0563 - mean_absolute_error: 0.1892 - val_loss: 0.0908 - val_mean_absolute_error: 0.2610\n",
      "Epoch 4/1000\n",
      "11/11 [==============================] - 0s 7ms/step - loss: 0.0508 - mean_absolute_error: 0.1850 - val_loss: 0.0556 - val_mean_absolute_error: 0.2057\n",
      "Epoch 5/1000\n",
      "11/11 [==============================] - 0s 12ms/step - loss: 0.0389 - mean_absolute_error: 0.1577 - val_loss: 0.0346 - val_mean_absolute_error: 0.1623\n",
      "3/3 [==============================] - 0s 2ms/step - loss: 0.0346 - mean_absolute_error: 0.1623\n"
     ]
    }
   ],
   "source": [
    "cnn_lstm_model = Sequential([\n",
    "    Conv1D(32, activation='relu', kernel_size=(KERNEL_WIDTH)),\n",
    "    LSTM(32, return_sequences=True),\n",
    "    Dense(1, kernel_initializer=tf.initializers.zeros),\n",
    "])\n",
    "\n",
    "history = compile_and_fit(cnn_lstm_model, cnn_multi_window)\n",
    "\n",
    "val_performance['CNN + LSTM'] = cnn_lstm_model.evaluate(cnn_multi_window.val)\n",
    "performance['CNN + LSTM'] = cnn_lstm_model.evaluate(cnn_multi_window.test, verbose=0)"
   ]
  },
  {
   "cell_type": "code",
   "execution_count": 23,
   "id": "6e833c13",
   "metadata": {},
   "outputs": [
    {
     "data": {
      "image/png": "[encoded data removed]",
      "text/plain": [
       "<Figure size 1000x750 with 1 Axes>"
      ]
     },
     "metadata": {},
     "output_type": "display_data"
    }
   ],
   "source": [
    "mae_val = [v[1] for v in val_performance.values()]\n",
    "mae_test = [v[1] for v in performance.values()]\n",
    "\n",
    "x = np.arange(len(performance))\n",
    "\n",
    "fig, ax = plt.subplots()\n",
    "ax.bar(x - 0.15, mae_val, width=0.25, color='black', edgecolor='black', label='Validation')\n",
    "ax.bar(x + 0.15, mae_test, width=0.25, color='white', edgecolor='black', hatch='/', label='Test')\n",
    "ax.set_ylabel('Mean absolute error')\n",
    "ax.set_xlabel('Models')\n",
    "\n",
    "for index, value in enumerate(mae_val):\n",
    "    plt.text(x=index - 0.15, y=value+value*0.07, s=str(round(value, 3)), ha='center')\n",
    "    \n",
    "for index, value in enumerate(mae_test):\n",
    "    plt.text(x=index + 0.15, y=value+value*0.07, s=str(round(value, 3)), ha='center')\n",
    "\n",
    "# plt.ylim(0, 0.33)\n",
    "plt.xticks(ticks=x, labels=performance.keys())\n",
    "plt.legend(loc='best')\n",
    "plt.tight_layout()\n",
    "\n",
    "plt.savefig('figures/CH18_F14_peixeiro.png', dpi=300)"
   ]
  },
  {
   "cell_type": "code",
   "execution_count": null,
   "id": "e03c0e77",
   "metadata": {},
   "outputs": [],
   "source": []
  }
 ],
 "metadata": {
  "kernelspec": {
   "display_name": "Python 3 (ipykernel)",
   "language": "python",
   "name": "python3"
  },
  "language_info": {
   "codemirror_mode": {
    "name": "ipython",
    "version": 3
   },
   "file_extension": ".py",
   "mimetype": "text/x-python",
   "name": "python",
   "nbconvert_exporter": "python",
   "pygments_lexer": "ipython3",
   "version": "3.10.9"
  }
 },
 "nbformat": 4,
 "nbformat_minor": 5
}
