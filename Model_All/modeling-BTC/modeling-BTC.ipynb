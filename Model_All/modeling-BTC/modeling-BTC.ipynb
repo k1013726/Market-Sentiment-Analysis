{
 "cells": [
  {
   "cell_type": "code",
   "execution_count": 13,
   "id": "31319bd5",
   "metadata": {},
   "outputs": [],
   "source": [
    "import numpy as np\n",
    "import pandas as pd\n",
    "import tensorflow as tf\n",
    "import matplotlib.pyplot as plt\n",
    "\n",
    "from tensorflow.keras import Model, Sequential\n",
    "\n",
    "from tensorflow.keras.optimizers import Adam\n",
    "from tensorflow.keras.callbacks import EarlyStopping\n",
    "from tensorflow.keras.losses import MeanSquaredError\n",
    "from tensorflow.keras.metrics import MeanAbsoluteError\n",
    "\n",
    "from tensorflow.keras.layers import Dense, Conv1D, LSTM, Lambda, Reshape, RNN, LSTMCell\n",
    "\n",
    "import warnings\n",
    "warnings.filterwarnings('ignore')"
   ]
  },
  {
   "cell_type": "code",
   "execution_count": 14,
   "id": "2abcdc06",
   "metadata": {},
   "outputs": [],
   "source": [
    "plt.rcParams['figure.figsize'] = (10, 7.5)\n",
    "plt.rcParams['axes.grid'] = False"
   ]
  },
  {
   "cell_type": "code",
   "execution_count": 15,
   "id": "ad6c82f6",
   "metadata": {},
   "outputs": [
    {
     "name": "stdout",
     "output_type": "stream",
     "text": [
      "2.12.0\n"
     ]
    }
   ],
   "source": [
    "print(tf.__version__)"
   ]
  },
  {
   "cell_type": "code",
   "execution_count": 16,
   "id": "8c933563",
   "metadata": {},
   "outputs": [],
   "source": [
    "tf.random.set_seed(42)\n",
    "np.random.seed(42)"
   ]
  },
  {
   "cell_type": "code",
   "execution_count": 17,
   "id": "54a6df59",
   "metadata": {},
   "outputs": [
    {
     "name": "stdout",
     "output_type": "stream",
     "text": [
      "(2242, 15) (641, 15) (294, 15)\n"
     ]
    }
   ],
   "source": [
    "train_df = pd.read_csv('data/train.csv').drop('Date',axis=1)\n",
    "val_df = pd.read_csv('data/val.csv').drop('Date',axis=1)\n",
    "test_df = pd.read_csv('data/test.csv').drop('Date',axis=1)\n",
    "\n",
    "print(train_df.shape, val_df.shape, test_df.shape)"
   ]
  },
  {
   "attachments": {},
   "cell_type": "markdown",
   "id": "4622a938",
   "metadata": {},
   "source": [
    "## `DataWindow` class "
   ]
  },
  {
   "cell_type": "code",
   "execution_count": 18,
   "id": "f27ee7b0",
   "metadata": {},
   "outputs": [],
   "source": [
    "class DataWindow():\n",
    "    def __init__(self, input_width, label_width, shift, \n",
    "                 train_df=train_df, val_df=val_df, test_df=test_df, \n",
    "                 label_columns=None):\n",
    "        \n",
    "        self.train_df = train_df\n",
    "        self.val_df = val_df\n",
    "        self.test_df = test_df\n",
    "        \n",
    "        self.label_columns = label_columns\n",
    "        if label_columns is not None:\n",
    "            self.label_columns_indices = {name: i for i, name in enumerate(label_columns)}\n",
    "        self.column_indices = {name: i for i, name in enumerate(train_df.columns)}\n",
    "        \n",
    "        self.input_width = input_width\n",
    "        self.label_width = label_width\n",
    "        self.shift = shift\n",
    "        \n",
    "        self.total_window_size = input_width + shift\n",
    "        \n",
    "        self.input_slice = slice(0, input_width)\n",
    "        self.input_indices = np.arange(self.total_window_size)[self.input_slice]\n",
    "        \n",
    "        self.label_start = self.total_window_size - self.label_width\n",
    "        self.labels_slice = slice(self.label_start, None)\n",
    "        self.label_indices = np.arange(self.total_window_size)[self.labels_slice]\n",
    "    \n",
    "    def split_to_inputs_labels(self, features):\n",
    "        inputs = features[:, self.input_slice, :]\n",
    "        labels = features[:, self.labels_slice, :]\n",
    "        if self.label_columns is not None:\n",
    "            labels = tf.stack(\n",
    "                [labels[:,:,self.column_indices[name]] for name in self.label_columns],\n",
    "                axis=-1\n",
    "            )\n",
    "        inputs.set_shape([None, self.input_width, None])\n",
    "        labels.set_shape([None, self.label_width, None])\n",
    "        \n",
    "        return inputs, labels\n",
    "    \n",
    "    def plot(self, model=None, plot_col='Adj Close', max_subplots=3):\n",
    "        inputs, labels = self.sample_batch\n",
    "        \n",
    "        plt.figure(figsize=(12, 8))\n",
    "        plot_col_index = self.column_indices[plot_col]\n",
    "        max_n = min(max_subplots, len(inputs))\n",
    "        \n",
    "        for n in range(max_n):\n",
    "            plt.subplot(3, 1, n+1)\n",
    "            plt.ylabel(f'{plot_col} [scaled]')\n",
    "            plt.plot(self.input_indices, inputs[n, :, plot_col_index],\n",
    "                     label='Inputs', marker='.', zorder=-10)\n",
    "\n",
    "            if self.label_columns:\n",
    "              label_col_index = self.label_columns_indices.get(plot_col, None)\n",
    "            else:\n",
    "              label_col_index = plot_col_index\n",
    "\n",
    "            if label_col_index is None:\n",
    "              continue\n",
    "\n",
    "            plt.scatter(self.label_indices, labels[n, :, label_col_index],\n",
    "                        edgecolors='k', marker='s', label='Labels', c='green', s=64)\n",
    "            if model is not None:\n",
    "              predictions = model(inputs)\n",
    "              plt.scatter(self.label_indices, predictions[n, :, label_col_index],\n",
    "                          marker='X', edgecolors='k', label='Predictions',\n",
    "                          c='red', s=64)\n",
    "\n",
    "            if n == 0:\n",
    "              plt.legend()\n",
    "\n",
    "        plt.xlabel('Time (h)')\n",
    "        \n",
    "    def make_dataset(self, data):\n",
    "        data = np.array(data, dtype=np.float32)\n",
    "        ds = tf.keras.preprocessing.timeseries_dataset_from_array(\n",
    "            data=data,\n",
    "            targets=None,\n",
    "            sequence_length=self.total_window_size,\n",
    "            sequence_stride=1,\n",
    "            shuffle=True,\n",
    "            batch_size=32\n",
    "        )\n",
    "        \n",
    "        ds = ds.map(self.split_to_inputs_labels)\n",
    "        return ds\n",
    "    \n",
    "    @property\n",
    "    def train(self):\n",
    "        return self.make_dataset(self.train_df)\n",
    "    \n",
    "    @property\n",
    "    def val(self):\n",
    "        return self.make_dataset(self.val_df)\n",
    "    \n",
    "    @property\n",
    "    def test(self):\n",
    "        return self.make_dataset(self.test_df)\n",
    "    \n",
    "    @property\n",
    "    def sample_batch(self):\n",
    "        result = getattr(self, '_sample_batch', None)\n",
    "        if result is None:\n",
    "            result = next(iter(self.train))\n",
    "            self._sample_batch = result\n",
    "        return result"
   ]
  },
  {
   "cell_type": "code",
   "execution_count": 19,
   "id": "2b2af6bb",
   "metadata": {},
   "outputs": [],
   "source": [
    "def compile_and_fit(model, window, patience=3, max_epochs=1000):\n",
    "    early_stopping = EarlyStopping(monitor='val_loss',\n",
    "                                   patience=patience,\n",
    "                                   mode='min')\n",
    "    \n",
    "    model.compile(loss=MeanSquaredError(),\n",
    "                  optimizer=Adam(),\n",
    "                  metrics=[MeanAbsoluteError()])\n",
    "    \n",
    "    history = model.fit(window.train,\n",
    "                       epochs=max_epochs,\n",
    "                       validation_data=window.val,\n",
    "                       callbacks=[early_stopping])\n",
    "    \n",
    "    return history"
   ]
  },
  {
   "cell_type": "code",
   "execution_count": 20,
   "id": "4891ddc7",
   "metadata": {},
   "outputs": [],
   "source": [
    "column_indices = {name: i for i, name in enumerate(train_df.columns)}"
   ]
  },
  {
   "attachments": {},
   "cell_type": "markdown",
   "id": "3e95f4b1",
   "metadata": {},
   "source": [
    "## Baseline models "
   ]
  },
  {
   "cell_type": "code",
   "execution_count": 21,
   "id": "1f24f0b3",
   "metadata": {},
   "outputs": [],
   "source": [
    "multi_window = DataWindow(input_width=7, label_width=7, shift=7, label_columns=['Adj Close'])"
   ]
  },
  {
   "attachments": {},
   "cell_type": "markdown",
   "id": "e8f3a328",
   "metadata": {},
   "source": [
    "### Repeat last value "
   ]
  },
  {
   "cell_type": "code",
   "execution_count": 22,
   "id": "187dab3c",
   "metadata": {},
   "outputs": [],
   "source": [
    "class MultiStepLastBaseline(Model):\n",
    "    def __init__(self, label_index=None):\n",
    "        super().__init__()\n",
    "        self.label_index = label_index\n",
    "        \n",
    "    def call(self, inputs):\n",
    "        if self.label_index is None:\n",
    "            return tf.tile(inputs[:, -1:, :], [1, 7, 1])\n",
    "        return tf.tile(inputs[:, -1:, self.label_index:], [1, 7, 1])"
   ]
  },
  {
   "cell_type": "code",
   "execution_count": 23,
   "id": "605f438f",
   "metadata": {},
   "outputs": [
    {
     "name": "stdout",
     "output_type": "stream",
     "text": [
      "20/20 [==============================] - 0s 3ms/step - loss: 1.1682 - mean_absolute_error: 0.7310\n"
     ]
    }
   ],
   "source": [
    "baseline_last = MultiStepLastBaseline(label_index=column_indices['Adj Close'])\n",
    "\n",
    "baseline_last.compile(loss=MeanSquaredError(), metrics=[MeanAbsoluteError()])\n",
    "\n",
    "val_performance = {}\n",
    "performance = {}\n",
    "\n",
    "val_performance['Baseline - Last'] = baseline_last.evaluate(multi_window.val)\n",
    "performance['Baseline - Last'] = baseline_last.evaluate(multi_window.test, verbose=0)"
   ]
  },
  {
   "attachments": {},
   "cell_type": "markdown",
   "id": "dea618c7",
   "metadata": {},
   "source": [
    "### Repeat last day "
   ]
  },
  {
   "cell_type": "code",
   "execution_count": 24,
   "id": "8177a5d8",
   "metadata": {},
   "outputs": [],
   "source": [
    "class RepeatBaseline(Model):\n",
    "    def __init__(self, label_index=None):\n",
    "        super().__init__()\n",
    "        self.label_index = label_index\n",
    "        \n",
    "    def call(self, inputs):\n",
    "        return inputs[:, :, self.label_index:]"
   ]
  },
  {
   "cell_type": "code",
   "execution_count": 25,
   "id": "b9655925",
   "metadata": {},
   "outputs": [
    {
     "name": "stdout",
     "output_type": "stream",
     "text": [
      "20/20 [==============================] - 0s 2ms/step - loss: 1.1829 - mean_absolute_error: 0.7521\n"
     ]
    }
   ],
   "source": [
    "baseline_repeat = RepeatBaseline(label_index=column_indices['Adj Close'])\n",
    "\n",
    "baseline_repeat.compile(loss=MeanSquaredError(), metrics=[MeanAbsoluteError()])\n",
    "\n",
    "val_performance['Baseline - Repeat'] = baseline_repeat.evaluate(multi_window.val)\n",
    "performance['Baseline - Repeat'] = baseline_repeat.evaluate(multi_window.test, verbose=0)"
   ]
  },
  {
   "attachments": {},
   "cell_type": "markdown",
   "id": "bb1367ac",
   "metadata": {},
   "source": [
    "## Linear model "
   ]
  },
  {
   "cell_type": "code",
   "execution_count": 26,
   "id": "2b1e7274",
   "metadata": {
    "collapsed": true
   },
   "outputs": [
    {
     "name": "stdout",
     "output_type": "stream",
     "text": [
      "Epoch 1/1000\n",
      "70/70 [==============================] - 1s 5ms/step - loss: 0.0373 - mean_absolute_error: 0.1377 - val_loss: 0.6057 - val_mean_absolute_error: 0.7162\n",
      "Epoch 2/1000\n",
      "70/70 [==============================] - 0s 5ms/step - loss: 0.0061 - mean_absolute_error: 0.0642 - val_loss: 0.2106 - val_mean_absolute_error: 0.3935\n",
      "Epoch 3/1000\n",
      "70/70 [==============================] - 0s 3ms/step - loss: 0.0031 - mean_absolute_error: 0.0427 - val_loss: 0.1028 - val_mean_absolute_error: 0.2526\n",
      "Epoch 4/1000\n",
      "70/70 [==============================] - 0s 4ms/step - loss: 0.0022 - mean_absolute_error: 0.0320 - val_loss: 0.0715 - val_mean_absolute_error: 0.2023\n",
      "Epoch 5/1000\n",
      "70/70 [==============================] - 0s 3ms/step - loss: 0.0020 - mean_absolute_error: 0.0275 - val_loss: 0.0640 - val_mean_absolute_error: 0.1905\n",
      "Epoch 6/1000\n",
      "70/70 [==============================] - 0s 4ms/step - loss: 0.0019 - mean_absolute_error: 0.0256 - val_loss: 0.0618 - val_mean_absolute_error: 0.1876\n",
      "Epoch 7/1000\n",
      "70/70 [==============================] - 0s 3ms/step - loss: 0.0019 - mean_absolute_error: 0.0245 - val_loss: 0.0614 - val_mean_absolute_error: 0.1870\n",
      "Epoch 8/1000\n",
      "70/70 [==============================] - 0s 4ms/step - loss: 0.0019 - mean_absolute_error: 0.0240 - val_loss: 0.0592 - val_mean_absolute_error: 0.1844\n",
      "Epoch 9/1000\n",
      "70/70 [==============================] - 0s 3ms/step - loss: 0.0018 - mean_absolute_error: 0.0238 - val_loss: 0.0593 - val_mean_absolute_error: 0.1842\n",
      "Epoch 10/1000\n",
      "70/70 [==============================] - 0s 4ms/step - loss: 0.0018 - mean_absolute_error: 0.0235 - val_loss: 0.0588 - val_mean_absolute_error: 0.1836\n",
      "Epoch 11/1000\n",
      "70/70 [==============================] - 0s 4ms/step - loss: 0.0018 - mean_absolute_error: 0.0235 - val_loss: 0.0589 - val_mean_absolute_error: 0.1835\n",
      "Epoch 12/1000\n",
      "70/70 [==============================] - 0s 4ms/step - loss: 0.0018 - mean_absolute_error: 0.0234 - val_loss: 0.0579 - val_mean_absolute_error: 0.1822\n",
      "Epoch 13/1000\n",
      "70/70 [==============================] - 0s 4ms/step - loss: 0.0018 - mean_absolute_error: 0.0234 - val_loss: 0.0576 - val_mean_absolute_error: 0.1816\n",
      "Epoch 14/1000\n",
      "70/70 [==============================] - 0s 4ms/step - loss: 0.0017 - mean_absolute_error: 0.0234 - val_loss: 0.0567 - val_mean_absolute_error: 0.1805\n",
      "Epoch 15/1000\n",
      "70/70 [==============================] - 0s 4ms/step - loss: 0.0017 - mean_absolute_error: 0.0235 - val_loss: 0.0568 - val_mean_absolute_error: 0.1804\n",
      "Epoch 16/1000\n",
      "70/70 [==============================] - 0s 4ms/step - loss: 0.0017 - mean_absolute_error: 0.0235 - val_loss: 0.0566 - val_mean_absolute_error: 0.1800\n",
      "Epoch 17/1000\n",
      "70/70 [==============================] - 0s 3ms/step - loss: 0.0017 - mean_absolute_error: 0.0234 - val_loss: 0.0564 - val_mean_absolute_error: 0.1796\n",
      "Epoch 18/1000\n",
      "70/70 [==============================] - 0s 4ms/step - loss: 0.0017 - mean_absolute_error: 0.0235 - val_loss: 0.0560 - val_mean_absolute_error: 0.1790\n",
      "Epoch 19/1000\n",
      "70/70 [==============================] - 0s 3ms/step - loss: 0.0017 - mean_absolute_error: 0.0236 - val_loss: 0.0555 - val_mean_absolute_error: 0.1784\n",
      "Epoch 20/1000\n",
      "70/70 [==============================] - 0s 4ms/step - loss: 0.0017 - mean_absolute_error: 0.0236 - val_loss: 0.0556 - val_mean_absolute_error: 0.1783\n",
      "Epoch 21/1000\n",
      "70/70 [==============================] - 0s 3ms/step - loss: 0.0017 - mean_absolute_error: 0.0235 - val_loss: 0.0552 - val_mean_absolute_error: 0.1777\n",
      "Epoch 22/1000\n",
      "70/70 [==============================] - 0s 3ms/step - loss: 0.0017 - mean_absolute_error: 0.0235 - val_loss: 0.0552 - val_mean_absolute_error: 0.1775\n",
      "Epoch 23/1000\n",
      "70/70 [==============================] - 0s 4ms/step - loss: 0.0017 - mean_absolute_error: 0.0236 - val_loss: 0.0549 - val_mean_absolute_error: 0.1771\n",
      "Epoch 24/1000\n",
      "70/70 [==============================] - 0s 4ms/step - loss: 0.0017 - mean_absolute_error: 0.0236 - val_loss: 0.0548 - val_mean_absolute_error: 0.1769\n",
      "Epoch 25/1000\n",
      "70/70 [==============================] - 0s 3ms/step - loss: 0.0017 - mean_absolute_error: 0.0236 - val_loss: 0.0549 - val_mean_absolute_error: 0.1768\n",
      "Epoch 26/1000\n",
      "70/70 [==============================] - 0s 4ms/step - loss: 0.0017 - mean_absolute_error: 0.0236 - val_loss: 0.0548 - val_mean_absolute_error: 0.1766\n",
      "Epoch 27/1000\n",
      "70/70 [==============================] - 0s 3ms/step - loss: 0.0017 - mean_absolute_error: 0.0236 - val_loss: 0.0551 - val_mean_absolute_error: 0.1771\n",
      "Epoch 28/1000\n",
      "70/70 [==============================] - 0s 4ms/step - loss: 0.0017 - mean_absolute_error: 0.0236 - val_loss: 0.0544 - val_mean_absolute_error: 0.1759\n",
      "Epoch 29/1000\n",
      "70/70 [==============================] - 0s 3ms/step - loss: 0.0017 - mean_absolute_error: 0.0236 - val_loss: 0.0540 - val_mean_absolute_error: 0.1754\n",
      "Epoch 30/1000\n",
      "70/70 [==============================] - 0s 4ms/step - loss: 0.0017 - mean_absolute_error: 0.0235 - val_loss: 0.0540 - val_mean_absolute_error: 0.1753\n",
      "Epoch 31/1000\n",
      "70/70 [==============================] - 0s 4ms/step - loss: 0.0017 - mean_absolute_error: 0.0235 - val_loss: 0.0542 - val_mean_absolute_error: 0.1756\n",
      "Epoch 32/1000\n",
      "70/70 [==============================] - 0s 3ms/step - loss: 0.0017 - mean_absolute_error: 0.0236 - val_loss: 0.0537 - val_mean_absolute_error: 0.1749\n",
      "Epoch 33/1000\n",
      "70/70 [==============================] - 0s 4ms/step - loss: 0.0017 - mean_absolute_error: 0.0235 - val_loss: 0.0536 - val_mean_absolute_error: 0.1746\n",
      "Epoch 34/1000\n",
      "70/70 [==============================] - 0s 4ms/step - loss: 0.0017 - mean_absolute_error: 0.0235 - val_loss: 0.0541 - val_mean_absolute_error: 0.1754\n",
      "Epoch 35/1000\n",
      "70/70 [==============================] - 0s 4ms/step - loss: 0.0017 - mean_absolute_error: 0.0235 - val_loss: 0.0536 - val_mean_absolute_error: 0.1746\n",
      "Epoch 36/1000\n",
      "70/70 [==============================] - 0s 3ms/step - loss: 0.0017 - mean_absolute_error: 0.0235 - val_loss: 0.0537 - val_mean_absolute_error: 0.1748\n",
      "20/20 [==============================] - 0s 3ms/step - loss: 0.0537 - mean_absolute_error: 0.1748\n"
     ]
    }
   ],
   "source": [
    "label_index = column_indices['Adj Close']\n",
    "num_features = train_df.shape[1]\n",
    "\n",
    "linear = Sequential([\n",
    "    Dense(1, kernel_initializer=tf.initializers.zeros)\n",
    "])\n",
    "\n",
    "history = compile_and_fit(linear, multi_window)\n",
    "\n",
    "val_performance['Linear'] = linear.evaluate(multi_window.val)\n",
    "performance['Linear'] = linear.evaluate(multi_window.test, verbose=0)"
   ]
  },
  {
   "attachments": {},
   "cell_type": "markdown",
   "id": "8337bfb5",
   "metadata": {},
   "source": [
    "## Dense model "
   ]
  },
  {
   "cell_type": "code",
   "execution_count": 27,
   "id": "5f7610a2",
   "metadata": {
    "collapsed": true
   },
   "outputs": [
    {
     "name": "stdout",
     "output_type": "stream",
     "text": [
      "Epoch 1/1000\n",
      "70/70 [==============================] - 1s 7ms/step - loss: 0.0244 - mean_absolute_error: 0.0954 - val_loss: 0.0714 - val_mean_absolute_error: 0.2025\n",
      "Epoch 2/1000\n",
      "70/70 [==============================] - 0s 4ms/step - loss: 0.0018 - mean_absolute_error: 0.0238 - val_loss: 0.0920 - val_mean_absolute_error: 0.2377\n",
      "Epoch 3/1000\n",
      "70/70 [==============================] - 0s 4ms/step - loss: 0.0016 - mean_absolute_error: 0.0224 - val_loss: 0.0807 - val_mean_absolute_error: 0.2203\n",
      "Epoch 4/1000\n",
      "70/70 [==============================] - 0s 4ms/step - loss: 0.0016 - mean_absolute_error: 0.0222 - val_loss: 0.0716 - val_mean_absolute_error: 0.2063\n",
      "20/20 [==============================] - 0s 3ms/step - loss: 0.0716 - mean_absolute_error: 0.2063\n"
     ]
    }
   ],
   "source": [
    "dense = Sequential([\n",
    "    Dense(64, activation='relu'),\n",
    "    Dense(64, activation='relu'),\n",
    "    Dense(1, kernel_initializer=tf.initializers.zeros),\n",
    "])\n",
    "\n",
    "history = compile_and_fit(dense, multi_window)\n",
    "\n",
    "val_performance['Dense'] = dense.evaluate(multi_window.val)\n",
    "performance['Dense'] = dense.evaluate(multi_window.test, verbose=0)"
   ]
  },
  {
   "attachments": {},
   "cell_type": "markdown",
   "id": "e8fa723c",
   "metadata": {},
   "source": [
    "## LSTM model "
   ]
  },
  {
   "cell_type": "code",
   "execution_count": 28,
   "id": "c4928aee",
   "metadata": {
    "collapsed": true
   },
   "outputs": [
    {
     "name": "stdout",
     "output_type": "stream",
     "text": [
      "Epoch 1/1000\n",
      "70/70 [==============================] - 3s 14ms/step - loss: 0.0361 - mean_absolute_error: 0.1289 - val_loss: 2.0187 - val_mean_absolute_error: 1.2971\n",
      "Epoch 2/1000\n",
      "70/70 [==============================] - 1s 7ms/step - loss: 0.0067 - mean_absolute_error: 0.0517 - val_loss: 1.2589 - val_mean_absolute_error: 0.9833\n",
      "Epoch 3/1000\n",
      "70/70 [==============================] - 1s 7ms/step - loss: 0.0034 - mean_absolute_error: 0.0376 - val_loss: 1.0661 - val_mean_absolute_error: 0.8940\n",
      "Epoch 4/1000\n",
      "70/70 [==============================] - 1s 7ms/step - loss: 0.0024 - mean_absolute_error: 0.0304 - val_loss: 0.9714 - val_mean_absolute_error: 0.8512\n",
      "Epoch 5/1000\n",
      "70/70 [==============================] - 1s 7ms/step - loss: 0.0019 - mean_absolute_error: 0.0255 - val_loss: 0.8874 - val_mean_absolute_error: 0.8063\n",
      "Epoch 6/1000\n",
      "70/70 [==============================] - 1s 7ms/step - loss: 0.0017 - mean_absolute_error: 0.0233 - val_loss: 0.8622 - val_mean_absolute_error: 0.7948\n",
      "Epoch 7/1000\n",
      "70/70 [==============================] - 1s 7ms/step - loss: 0.0016 - mean_absolute_error: 0.0226 - val_loss: 0.8292 - val_mean_absolute_error: 0.7763\n",
      "Epoch 8/1000\n",
      "70/70 [==============================] - 1s 9ms/step - loss: 0.0016 - mean_absolute_error: 0.0222 - val_loss: 0.8258 - val_mean_absolute_error: 0.7757\n",
      "Epoch 9/1000\n",
      "70/70 [==============================] - 1s 8ms/step - loss: 0.0016 - mean_absolute_error: 0.0224 - val_loss: 0.8068 - val_mean_absolute_error: 0.7643\n",
      "Epoch 10/1000\n",
      "70/70 [==============================] - 1s 7ms/step - loss: 0.0016 - mean_absolute_error: 0.0220 - val_loss: 0.8116 - val_mean_absolute_error: 0.7693\n",
      "Epoch 11/1000\n",
      "70/70 [==============================] - 1s 7ms/step - loss: 0.0016 - mean_absolute_error: 0.0219 - val_loss: 0.7768 - val_mean_absolute_error: 0.7461\n",
      "Epoch 12/1000\n",
      "70/70 [==============================] - 1s 7ms/step - loss: 0.0016 - mean_absolute_error: 0.0219 - val_loss: 0.7951 - val_mean_absolute_error: 0.7604\n",
      "Epoch 13/1000\n",
      "70/70 [==============================] - 1s 8ms/step - loss: 0.0016 - mean_absolute_error: 0.0218 - val_loss: 0.7682 - val_mean_absolute_error: 0.7416\n",
      "Epoch 14/1000\n",
      "70/70 [==============================] - 1s 7ms/step - loss: 0.0016 - mean_absolute_error: 0.0222 - val_loss: 0.8145 - val_mean_absolute_error: 0.7758\n",
      "Epoch 15/1000\n",
      "70/70 [==============================] - 0s 7ms/step - loss: 0.0015 - mean_absolute_error: 0.0217 - val_loss: 0.7573 - val_mean_absolute_error: 0.7348\n",
      "Epoch 16/1000\n",
      "70/70 [==============================] - 1s 9ms/step - loss: 0.0016 - mean_absolute_error: 0.0222 - val_loss: 0.7726 - val_mean_absolute_error: 0.7470\n",
      "Epoch 17/1000\n",
      "70/70 [==============================] - 0s 6ms/step - loss: 0.0015 - mean_absolute_error: 0.0215 - val_loss: 0.7894 - val_mean_absolute_error: 0.7583\n",
      "Epoch 18/1000\n",
      "70/70 [==============================] - 1s 7ms/step - loss: 0.0015 - mean_absolute_error: 0.0219 - val_loss: 0.7875 - val_mean_absolute_error: 0.7573\n",
      "20/20 [==============================] - 0s 3ms/step - loss: 0.7875 - mean_absolute_error: 0.7573\n"
     ]
    }
   ],
   "source": [
    "lstm_model = Sequential([\n",
    "    LSTM(32, return_sequences=True),\n",
    "    Dense(1, kernel_initializer=tf.initializers.zeros),\n",
    "])\n",
    "\n",
    "history = compile_and_fit(lstm_model, multi_window)\n",
    "\n",
    "val_performance['LSTM'] = lstm_model.evaluate(multi_window.val)\n",
    "performance['LSTM'] = lstm_model.evaluate(multi_window.test, verbose=0)"
   ]
  },
  {
   "attachments": {},
   "cell_type": "markdown",
   "id": "c18fa073",
   "metadata": {},
   "source": [
    "## CNN model "
   ]
  },
  {
   "cell_type": "code",
   "execution_count": 29,
   "id": "788d85d3",
   "metadata": {},
   "outputs": [],
   "source": [
    "KERNEL_WIDTH = 3\n",
    "LABEL_WIDTH = 7\n",
    "INPUT_WIDTH = LABEL_WIDTH + KERNEL_WIDTH - 1\n",
    "\n",
    "cnn_multi_window = DataWindow(input_width=INPUT_WIDTH, label_width=LABEL_WIDTH, shift=7, label_columns=['Adj Close'])"
   ]
  },
  {
   "cell_type": "code",
   "execution_count": 30,
   "id": "bbe66a09",
   "metadata": {
    "collapsed": true
   },
   "outputs": [
    {
     "name": "stdout",
     "output_type": "stream",
     "text": [
      "Epoch 1/1000\n",
      "70/70 [==============================] - 1s 7ms/step - loss: 0.0221 - mean_absolute_error: 0.0923 - val_loss: 0.0716 - val_mean_absolute_error: 0.2018\n",
      "Epoch 2/1000\n",
      "70/70 [==============================] - 0s 5ms/step - loss: 0.0021 - mean_absolute_error: 0.0267 - val_loss: 0.0843 - val_mean_absolute_error: 0.2200\n",
      "Epoch 3/1000\n",
      "70/70 [==============================] - 0s 4ms/step - loss: 0.0018 - mean_absolute_error: 0.0237 - val_loss: 0.0809 - val_mean_absolute_error: 0.2166\n",
      "Epoch 4/1000\n",
      "70/70 [==============================] - 0s 4ms/step - loss: 0.0017 - mean_absolute_error: 0.0229 - val_loss: 0.0771 - val_mean_absolute_error: 0.2125\n",
      "20/20 [==============================] - 0s 3ms/step - loss: 0.0771 - mean_absolute_error: 0.2125\n"
     ]
    }
   ],
   "source": [
    "cnn_model = Sequential([\n",
    "    Conv1D(32, activation='relu', kernel_size=(KERNEL_WIDTH)),\n",
    "    Dense(units=32, activation='relu'),\n",
    "    Dense(1, kernel_initializer=tf.initializers.zeros),\n",
    "])\n",
    "\n",
    "history = compile_and_fit(cnn_model, cnn_multi_window)\n",
    "\n",
    "val_performance['CNN'] = cnn_model.evaluate(cnn_multi_window.val)\n",
    "performance['CNN'] = cnn_model.evaluate(cnn_multi_window.test, verbose=0)"
   ]
  },
  {
   "attachments": {},
   "cell_type": "markdown",
   "id": "5ea84ea1",
   "metadata": {},
   "source": [
    "## CNN + LSTM model "
   ]
  },
  {
   "cell_type": "code",
   "execution_count": 31,
   "id": "73eab43f",
   "metadata": {
    "collapsed": true
   },
   "outputs": [
    {
     "name": "stdout",
     "output_type": "stream",
     "text": [
      "Epoch 1/1000\n",
      "70/70 [==============================] - 4s 17ms/step - loss: 0.0314 - mean_absolute_error: 0.1153 - val_loss: 2.0744 - val_mean_absolute_error: 1.3123\n",
      "Epoch 2/1000\n",
      "70/70 [==============================] - 1s 8ms/step - loss: 0.0037 - mean_absolute_error: 0.0353 - val_loss: 1.7357 - val_mean_absolute_error: 1.1771\n",
      "Epoch 3/1000\n",
      "70/70 [==============================] - 1s 7ms/step - loss: 0.0022 - mean_absolute_error: 0.0278 - val_loss: 1.6507 - val_mean_absolute_error: 1.1406\n",
      "Epoch 4/1000\n",
      "70/70 [==============================] - 1s 7ms/step - loss: 0.0019 - mean_absolute_error: 0.0249 - val_loss: 1.5792 - val_mean_absolute_error: 1.1124\n",
      "Epoch 5/1000\n",
      "70/70 [==============================] - 1s 8ms/step - loss: 0.0017 - mean_absolute_error: 0.0234 - val_loss: 1.5322 - val_mean_absolute_error: 1.0958\n",
      "Epoch 6/1000\n",
      "70/70 [==============================] - 1s 8ms/step - loss: 0.0017 - mean_absolute_error: 0.0236 - val_loss: 1.4762 - val_mean_absolute_error: 1.0699\n",
      "Epoch 7/1000\n",
      "70/70 [==============================] - 1s 8ms/step - loss: 0.0016 - mean_absolute_error: 0.0228 - val_loss: 1.4445 - val_mean_absolute_error: 1.0591\n",
      "Epoch 8/1000\n",
      "70/70 [==============================] - 1s 7ms/step - loss: 0.0017 - mean_absolute_error: 0.0234 - val_loss: 1.4456 - val_mean_absolute_error: 1.0632\n",
      "Epoch 9/1000\n",
      "70/70 [==============================] - 1s 8ms/step - loss: 0.0016 - mean_absolute_error: 0.0228 - val_loss: 1.3742 - val_mean_absolute_error: 1.0258\n",
      "Epoch 10/1000\n",
      "70/70 [==============================] - 1s 8ms/step - loss: 0.0016 - mean_absolute_error: 0.0231 - val_loss: 1.4005 - val_mean_absolute_error: 1.0441\n",
      "Epoch 11/1000\n",
      "70/70 [==============================] - 1s 8ms/step - loss: 0.0016 - mean_absolute_error: 0.0231 - val_loss: 1.3283 - val_mean_absolute_error: 1.0058\n",
      "Epoch 12/1000\n",
      "70/70 [==============================] - 1s 7ms/step - loss: 0.0015 - mean_absolute_error: 0.0222 - val_loss: 1.3429 - val_mean_absolute_error: 1.0181\n",
      "Epoch 13/1000\n",
      "70/70 [==============================] - 1s 8ms/step - loss: 0.0015 - mean_absolute_error: 0.0222 - val_loss: 1.2908 - val_mean_absolute_error: 0.9904\n",
      "Epoch 14/1000\n",
      "70/70 [==============================] - 1s 8ms/step - loss: 0.0015 - mean_absolute_error: 0.0223 - val_loss: 1.3132 - val_mean_absolute_error: 1.0067\n",
      "Epoch 15/1000\n",
      "70/70 [==============================] - 1s 7ms/step - loss: 0.0015 - mean_absolute_error: 0.0217 - val_loss: 1.3087 - val_mean_absolute_error: 1.0082\n",
      "Epoch 16/1000\n",
      "70/70 [==============================] - 1s 8ms/step - loss: 0.0015 - mean_absolute_error: 0.0215 - val_loss: 1.2441 - val_mean_absolute_error: 0.9727\n",
      "Epoch 17/1000\n",
      "70/70 [==============================] - 1s 7ms/step - loss: 0.0015 - mean_absolute_error: 0.0224 - val_loss: 1.2532 - val_mean_absolute_error: 0.9803\n",
      "Epoch 18/1000\n",
      "70/70 [==============================] - 1s 8ms/step - loss: 0.0014 - mean_absolute_error: 0.0216 - val_loss: 1.2608 - val_mean_absolute_error: 0.9891\n",
      "Epoch 19/1000\n",
      "70/70 [==============================] - 1s 8ms/step - loss: 0.0015 - mean_absolute_error: 0.0223 - val_loss: 1.2127 - val_mean_absolute_error: 0.9619\n",
      "Epoch 20/1000\n",
      "70/70 [==============================] - 1s 7ms/step - loss: 0.0015 - mean_absolute_error: 0.0220 - val_loss: 1.1886 - val_mean_absolute_error: 0.9509\n",
      "Epoch 21/1000\n",
      "70/70 [==============================] - 1s 8ms/step - loss: 0.0015 - mean_absolute_error: 0.0226 - val_loss: 1.1994 - val_mean_absolute_error: 0.9601\n",
      "Epoch 22/1000\n",
      "70/70 [==============================] - 1s 7ms/step - loss: 0.0014 - mean_absolute_error: 0.0207 - val_loss: 1.2161 - val_mean_absolute_error: 0.9719\n",
      "Epoch 23/1000\n",
      "70/70 [==============================] - 1s 8ms/step - loss: 0.0014 - mean_absolute_error: 0.0215 - val_loss: 1.2073 - val_mean_absolute_error: 0.9693\n",
      "20/20 [==============================] - 0s 4ms/step - loss: 1.2073 - mean_absolute_error: 0.9693\n"
     ]
    }
   ],
   "source": [
    "cnn_lstm_model = Sequential([\n",
    "    Conv1D(32, activation='relu', kernel_size=(KERNEL_WIDTH)),\n",
    "    LSTM(32, return_sequences=True),\n",
    "    Dense(1, kernel_initializer=tf.initializers.zeros),\n",
    "])\n",
    "\n",
    "history = compile_and_fit(cnn_lstm_model, cnn_multi_window)\n",
    "\n",
    "val_performance['CNN + LSTM'] = cnn_lstm_model.evaluate(cnn_multi_window.val)\n",
    "performance['CNN + LSTM'] = cnn_lstm_model.evaluate(cnn_multi_window.test, verbose=0)"
   ]
  },
  {
   "attachments": {},
   "cell_type": "markdown",
   "id": "de1e02db",
   "metadata": {},
   "source": [
    "## Autoregressive LSTM "
   ]
  },
  {
   "cell_type": "code",
   "execution_count": 32,
   "id": "92a1013a",
   "metadata": {},
   "outputs": [],
   "source": [
    "class AutoRegressive(Model):\n",
    "    def __init__(self, units, out_steps):\n",
    "        super().__init__()\n",
    "        self.out_steps = out_steps\n",
    "        self.units = units\n",
    "        self.lstm_cell = LSTMCell(units)\n",
    "        self.lstm_rnn = RNN(self.lstm_cell, return_state=True)\n",
    "        self.dense = Dense(train_df.shape[1])\n",
    "        \n",
    "    def warmup(self, inputs):\n",
    "        x, *state = self.lstm_rnn(inputs)\n",
    "        prediction = self.dense(x)\n",
    "                \n",
    "        return prediction, state\n",
    "    \n",
    "    def call(self, inputs, training=None):\n",
    "        predictions = []\n",
    "        prediction, state = self.warmup(inputs)\n",
    "        \n",
    "        predictions.append(prediction)\n",
    "        \n",
    "        for n in range(1, self.out_steps):\n",
    "            x = prediction\n",
    "            x, state = self.lstm_cell(x, states=state, training=training)\n",
    "            \n",
    "            prediction = self.dense(x)\n",
    "            predictions.append(prediction)\n",
    "        \n",
    "        predictions = tf.stack(predictions)\n",
    "        predictions = tf.transpose(predictions, [1, 0, 2])\n",
    "        \n",
    "        return predictions"
   ]
  },
  {
   "cell_type": "code",
   "execution_count": 33,
   "id": "2c28e672",
   "metadata": {
    "collapsed": true
   },
   "outputs": [
    {
     "name": "stdout",
     "output_type": "stream",
     "text": [
      "Epoch 1/1000\n",
      "70/70 [==============================] - 4s 14ms/step - loss: 0.0219 - mean_absolute_error: 0.0920 - val_loss: 1.8543 - val_mean_absolute_error: 1.2270\n",
      "Epoch 2/1000\n",
      "70/70 [==============================] - 1s 8ms/step - loss: 0.0024 - mean_absolute_error: 0.0330 - val_loss: 1.5379 - val_mean_absolute_error: 1.0955\n",
      "Epoch 3/1000\n",
      "70/70 [==============================] - 1s 8ms/step - loss: 0.0018 - mean_absolute_error: 0.0274 - val_loss: 1.4582 - val_mean_absolute_error: 1.0642\n",
      "Epoch 4/1000\n",
      "70/70 [==============================] - 1s 8ms/step - loss: 0.0015 - mean_absolute_error: 0.0244 - val_loss: 1.3395 - val_mean_absolute_error: 1.0126\n",
      "Epoch 5/1000\n",
      "70/70 [==============================] - 1s 9ms/step - loss: 0.0015 - mean_absolute_error: 0.0238 - val_loss: 1.3052 - val_mean_absolute_error: 1.0012\n",
      "Epoch 6/1000\n",
      "70/70 [==============================] - 1s 8ms/step - loss: 0.0017 - mean_absolute_error: 0.0258 - val_loss: 1.3304 - val_mean_absolute_error: 1.0148\n",
      "Epoch 7/1000\n",
      "70/70 [==============================] - 1s 8ms/step - loss: 0.0013 - mean_absolute_error: 0.0214 - val_loss: 1.2758 - val_mean_absolute_error: 0.9914\n",
      "Epoch 8/1000\n",
      "70/70 [==============================] - 1s 8ms/step - loss: 0.0014 - mean_absolute_error: 0.0222 - val_loss: 1.2241 - val_mean_absolute_error: 0.9629\n",
      "Epoch 9/1000\n",
      "70/70 [==============================] - 1s 8ms/step - loss: 0.0014 - mean_absolute_error: 0.0220 - val_loss: 1.2272 - val_mean_absolute_error: 0.9647\n",
      "Epoch 10/1000\n",
      "70/70 [==============================] - 1s 7ms/step - loss: 0.0013 - mean_absolute_error: 0.0210 - val_loss: 1.2372 - val_mean_absolute_error: 0.9731\n",
      "Epoch 11/1000\n",
      "70/70 [==============================] - 1s 8ms/step - loss: 0.0013 - mean_absolute_error: 0.0210 - val_loss: 1.1998 - val_mean_absolute_error: 0.9500\n",
      "Epoch 12/1000\n",
      "70/70 [==============================] - 1s 8ms/step - loss: 0.0012 - mean_absolute_error: 0.0201 - val_loss: 1.1984 - val_mean_absolute_error: 0.9536\n",
      "Epoch 13/1000\n",
      "70/70 [==============================] - 1s 9ms/step - loss: 0.0012 - mean_absolute_error: 0.0200 - val_loss: 1.2175 - val_mean_absolute_error: 0.9661\n",
      "Epoch 14/1000\n",
      "70/70 [==============================] - 1s 9ms/step - loss: 0.0012 - mean_absolute_error: 0.0196 - val_loss: 1.1963 - val_mean_absolute_error: 0.9550\n",
      "Epoch 15/1000\n",
      "70/70 [==============================] - 1s 7ms/step - loss: 0.0012 - mean_absolute_error: 0.0199 - val_loss: 1.1924 - val_mean_absolute_error: 0.9553\n",
      "Epoch 16/1000\n",
      "70/70 [==============================] - 1s 9ms/step - loss: 0.0011 - mean_absolute_error: 0.0192 - val_loss: 1.1214 - val_mean_absolute_error: 0.9150\n",
      "Epoch 17/1000\n",
      "70/70 [==============================] - 1s 8ms/step - loss: 0.0012 - mean_absolute_error: 0.0200 - val_loss: 1.1472 - val_mean_absolute_error: 0.9289\n",
      "Epoch 18/1000\n",
      "70/70 [==============================] - 1s 8ms/step - loss: 0.0012 - mean_absolute_error: 0.0197 - val_loss: 1.1456 - val_mean_absolute_error: 0.9276\n",
      "Epoch 19/1000\n",
      "70/70 [==============================] - 1s 8ms/step - loss: 0.0012 - mean_absolute_error: 0.0201 - val_loss: 1.1518 - val_mean_absolute_error: 0.9280\n",
      "20/20 [==============================] - 0s 5ms/step - loss: 1.1518 - mean_absolute_error: 0.9280\n"
     ]
    }
   ],
   "source": [
    "AR_LSTM = AutoRegressive(units=32, out_steps=7)\n",
    "\n",
    "history = compile_and_fit(AR_LSTM, multi_window)\n",
    "\n",
    "val_performance['AR - LSTM'] = AR_LSTM.evaluate(multi_window.val)\n",
    "performance['AR - LSTM'] = AR_LSTM.evaluate(multi_window.test, verbose=0)"
   ]
  },
  {
   "cell_type": "code",
   "execution_count": 34,
   "id": "00865b74",
   "metadata": {},
   "outputs": [
    {
     "name": "stdout",
     "output_type": "stream",
     "text": [
      "Epoch 1/1000\n",
      "70/70 [==============================] - 4s 14ms/step - loss: 0.0310 - mean_absolute_error: 0.1146 - val_loss: 2.1063 - val_mean_absolute_error: 1.3272\n",
      "Epoch 2/1000\n",
      "70/70 [==============================] - 1s 8ms/step - loss: 0.0037 - mean_absolute_error: 0.0361 - val_loss: 1.7596 - val_mean_absolute_error: 1.1823\n",
      "Epoch 3/1000\n",
      "70/70 [==============================] - 1s 8ms/step - loss: 0.0023 - mean_absolute_error: 0.0274 - val_loss: 1.6646 - val_mean_absolute_error: 1.1433\n",
      "Epoch 4/1000\n",
      "70/70 [==============================] - 1s 7ms/step - loss: 0.0019 - mean_absolute_error: 0.0245 - val_loss: 1.5831 - val_mean_absolute_error: 1.1112\n",
      "Epoch 5/1000\n",
      "70/70 [==============================] - 1s 7ms/step - loss: 0.0018 - mean_absolute_error: 0.0237 - val_loss: 1.5378 - val_mean_absolute_error: 1.0950\n",
      "Epoch 6/1000\n",
      "70/70 [==============================] - 1s 8ms/step - loss: 0.0018 - mean_absolute_error: 0.0244 - val_loss: 1.5000 - val_mean_absolute_error: 1.0785\n",
      "Epoch 7/1000\n",
      "70/70 [==============================] - 0s 7ms/step - loss: 0.0018 - mean_absolute_error: 0.0237 - val_loss: 1.4220 - val_mean_absolute_error: 1.0439\n",
      "Epoch 8/1000\n",
      "70/70 [==============================] - 0s 7ms/step - loss: 0.0017 - mean_absolute_error: 0.0235 - val_loss: 1.3810 - val_mean_absolute_error: 1.0245\n",
      "Epoch 9/1000\n",
      "70/70 [==============================] - 1s 8ms/step - loss: 0.0018 - mean_absolute_error: 0.0238 - val_loss: 1.3656 - val_mean_absolute_error: 1.0203\n",
      "Epoch 10/1000\n",
      "70/70 [==============================] - 1s 9ms/step - loss: 0.0017 - mean_absolute_error: 0.0234 - val_loss: 1.3555 - val_mean_absolute_error: 1.0204\n",
      "Epoch 11/1000\n",
      "70/70 [==============================] - 0s 7ms/step - loss: 0.0016 - mean_absolute_error: 0.0224 - val_loss: 1.3534 - val_mean_absolute_error: 1.0241\n",
      "Epoch 12/1000\n",
      "70/70 [==============================] - 1s 7ms/step - loss: 0.0016 - mean_absolute_error: 0.0226 - val_loss: 1.3331 - val_mean_absolute_error: 1.0145\n",
      "Epoch 13/1000\n",
      "70/70 [==============================] - 1s 7ms/step - loss: 0.0018 - mean_absolute_error: 0.0234 - val_loss: 1.3167 - val_mean_absolute_error: 1.0055\n",
      "Epoch 14/1000\n",
      "70/70 [==============================] - 1s 8ms/step - loss: 0.0016 - mean_absolute_error: 0.0222 - val_loss: 1.2964 - val_mean_absolute_error: 0.9974\n",
      "Epoch 15/1000\n",
      "70/70 [==============================] - 1s 8ms/step - loss: 0.0016 - mean_absolute_error: 0.0228 - val_loss: 1.2402 - val_mean_absolute_error: 0.9657\n",
      "Epoch 16/1000\n",
      "70/70 [==============================] - 1s 7ms/step - loss: 0.0016 - mean_absolute_error: 0.0224 - val_loss: 1.2630 - val_mean_absolute_error: 0.9816\n",
      "Epoch 17/1000\n",
      "70/70 [==============================] - 1s 7ms/step - loss: 0.0015 - mean_absolute_error: 0.0221 - val_loss: 1.2294 - val_mean_absolute_error: 0.9664\n",
      "Epoch 18/1000\n",
      "70/70 [==============================] - 1s 7ms/step - loss: 0.0015 - mean_absolute_error: 0.0220 - val_loss: 1.2365 - val_mean_absolute_error: 0.9738\n",
      "Epoch 19/1000\n",
      "70/70 [==============================] - 0s 6ms/step - loss: 0.0016 - mean_absolute_error: 0.0226 - val_loss: 1.1868 - val_mean_absolute_error: 0.9445\n",
      "Epoch 20/1000\n",
      "70/70 [==============================] - 1s 7ms/step - loss: 0.0015 - mean_absolute_error: 0.0218 - val_loss: 1.1855 - val_mean_absolute_error: 0.9493\n",
      "Epoch 21/1000\n",
      "70/70 [==============================] - 1s 7ms/step - loss: 0.0015 - mean_absolute_error: 0.0221 - val_loss: 1.1904 - val_mean_absolute_error: 0.9564\n",
      "Epoch 22/1000\n",
      "70/70 [==============================] - 1s 7ms/step - loss: 0.0015 - mean_absolute_error: 0.0224 - val_loss: 1.1437 - val_mean_absolute_error: 0.9280\n",
      "Epoch 23/1000\n",
      "70/70 [==============================] - 1s 7ms/step - loss: 0.0016 - mean_absolute_error: 0.0231 - val_loss: 1.1434 - val_mean_absolute_error: 0.9294\n",
      "Epoch 24/1000\n",
      "70/70 [==============================] - 1s 7ms/step - loss: 0.0015 - mean_absolute_error: 0.0216 - val_loss: 1.1260 - val_mean_absolute_error: 0.9216\n",
      "Epoch 25/1000\n",
      "70/70 [==============================] - 1s 7ms/step - loss: 0.0015 - mean_absolute_error: 0.0219 - val_loss: 1.1203 - val_mean_absolute_error: 0.9217\n",
      "Epoch 26/1000\n",
      "70/70 [==============================] - 0s 7ms/step - loss: 0.0015 - mean_absolute_error: 0.0222 - val_loss: 1.1358 - val_mean_absolute_error: 0.9358\n",
      "Epoch 27/1000\n",
      "70/70 [==============================] - 1s 7ms/step - loss: 0.0015 - mean_absolute_error: 0.0219 - val_loss: 1.1555 - val_mean_absolute_error: 0.9500\n",
      "Epoch 28/1000\n",
      "70/70 [==============================] - 1s 7ms/step - loss: 0.0014 - mean_absolute_error: 0.0219 - val_loss: 1.1107 - val_mean_absolute_error: 0.9252\n",
      "Epoch 29/1000\n",
      "70/70 [==============================] - 1s 7ms/step - loss: 0.0014 - mean_absolute_error: 0.0213 - val_loss: 1.1538 - val_mean_absolute_error: 0.9525\n",
      "Epoch 30/1000\n",
      "70/70 [==============================] - 1s 7ms/step - loss: 0.0014 - mean_absolute_error: 0.0215 - val_loss: 1.1016 - val_mean_absolute_error: 0.9242\n",
      "Epoch 31/1000\n",
      "70/70 [==============================] - 1s 7ms/step - loss: 0.0014 - mean_absolute_error: 0.0218 - val_loss: 1.1472 - val_mean_absolute_error: 0.9497\n",
      "Epoch 32/1000\n",
      "70/70 [==============================] - 1s 7ms/step - loss: 0.0013 - mean_absolute_error: 0.0207 - val_loss: 1.1655 - val_mean_absolute_error: 0.9636\n",
      "Epoch 33/1000\n",
      "70/70 [==============================] - 1s 7ms/step - loss: 0.0013 - mean_absolute_error: 0.0206 - val_loss: 1.1637 - val_mean_absolute_error: 0.9615\n",
      "20/20 [==============================] - 0s 5ms/step - loss: 1.1637 - mean_absolute_error: 0.9615\n"
     ]
    }
   ],
   "source": [
    "cnn_lstm_model = Sequential([\n",
    "    Conv1D(32, activation='relu', kernel_size=(KERNEL_WIDTH)),\n",
    "    LSTM(32, return_sequences=True),\n",
    "    Dense(1, kernel_initializer=tf.initializers.zeros),\n",
    "])\n",
    "\n",
    "history = compile_and_fit(cnn_lstm_model, cnn_multi_window)\n",
    "\n",
    "val_performance['CNN + LSTM'] = cnn_lstm_model.evaluate(cnn_multi_window.val)\n",
    "performance['CNN + LSTM'] = cnn_lstm_model.evaluate(cnn_multi_window.test, verbose=0)"
   ]
  },
  {
   "cell_type": "code",
   "execution_count": 35,
   "id": "6e833c13",
   "metadata": {},
   "outputs": [
    {
     "data": {
      "image/png": "[encoded data removed]",
      "text/plain": [
       "<Figure size 1000x750 with 1 Axes>"
      ]
     },
     "metadata": {},
     "output_type": "display_data"
    }
   ],
   "source": [
    "mae_val = [v[1] for v in val_performance.values()]\n",
    "mae_test = [v[1] for v in performance.values()]\n",
    "\n",
    "x = np.arange(len(performance))\n",
    "\n",
    "fig, ax = plt.subplots()\n",
    "ax.bar(x - 0.15, mae_val, width=0.25, color='black', edgecolor='black', label='Validation')\n",
    "ax.bar(x + 0.15, mae_test, width=0.25, color='white', edgecolor='black', hatch='/', label='Test')\n",
    "ax.set_ylabel('Mean absolute error')\n",
    "ax.set_xlabel('Models')\n",
    "\n",
    "for index, value in enumerate(mae_val):\n",
    "    plt.text(x=index - 0.15, y=value+0.05, s=str(round(value, 3)), ha='center')\n",
    "    \n",
    "for index, value in enumerate(mae_test):\n",
    "    plt.text(x=index + 0.15, y=value+0.025, s=str(round(value, 3)), ha='center')\n",
    "\n",
    "# plt.ylim(0, 0.33)\n",
    "plt.xticks(ticks=x, labels=performance.keys())\n",
    "plt.legend(loc='best')\n",
    "plt.tight_layout()\n",
    "\n",
    "plt.savefig('figures/CH18_F14_peixeiro.png', dpi=300)"
   ]
  },
  {
   "cell_type": "code",
   "execution_count": null,
   "id": "e03c0e77",
   "metadata": {},
   "outputs": [],
   "source": []
  }
 ],
 "metadata": {
  "kernelspec": {
   "display_name": "Python 3 (ipykernel)",
   "language": "python",
   "name": "python3"
  },
  "language_info": {
   "codemirror_mode": {
    "name": "ipython",
    "version": 3
   },
   "file_extension": ".py",
   "mimetype": "text/x-python",
   "name": "python",
   "nbconvert_exporter": "python",
   "pygments_lexer": "ipython3",
   "version": "3.10.9"
  }
 },
 "nbformat": 4,
 "nbformat_minor": 5
}
