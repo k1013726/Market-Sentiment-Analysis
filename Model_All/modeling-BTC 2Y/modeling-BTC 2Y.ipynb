{
 "cells": [
  {
   "cell_type": "code",
   "execution_count": 1,
   "id": "31319bd5",
   "metadata": {},
   "outputs": [],
   "source": [
    "import numpy as np\n",
    "import pandas as pd\n",
    "import tensorflow as tf\n",
    "import matplotlib.pyplot as plt\n",
    "\n",
    "from tensorflow.keras import Model, Sequential\n",
    "\n",
    "from tensorflow.keras.optimizers import Adam\n",
    "from tensorflow.keras.callbacks import EarlyStopping\n",
    "from tensorflow.keras.losses import MeanSquaredError\n",
    "from tensorflow.keras.metrics import MeanAbsoluteError\n",
    "\n",
    "from tensorflow.keras.layers import Dense, Conv1D, LSTM, Lambda, Reshape, RNN, LSTMCell\n",
    "\n",
    "import warnings\n",
    "warnings.filterwarnings('ignore')"
   ]
  },
  {
   "cell_type": "code",
   "execution_count": 2,
   "id": "2abcdc06",
   "metadata": {},
   "outputs": [],
   "source": [
    "plt.rcParams['figure.figsize'] = (10, 7.5)\n",
    "plt.rcParams['axes.grid'] = False"
   ]
  },
  {
   "cell_type": "code",
   "execution_count": 3,
   "id": "ad6c82f6",
   "metadata": {},
   "outputs": [
    {
     "name": "stdout",
     "output_type": "stream",
     "text": [
      "2.12.0\n"
     ]
    }
   ],
   "source": [
    "print(tf.__version__)"
   ]
  },
  {
   "cell_type": "code",
   "execution_count": 4,
   "id": "8c933563",
   "metadata": {},
   "outputs": [],
   "source": [
    "tf.random.set_seed(42)\n",
    "np.random.seed(42)"
   ]
  },
  {
   "cell_type": "code",
   "execution_count": 5,
   "id": "54a6df59",
   "metadata": {},
   "outputs": [
    {
     "name": "stdout",
     "output_type": "stream",
     "text": [
      "(511, 15) (146, 15) (47, 15)\n"
     ]
    }
   ],
   "source": [
    "train_df = pd.read_csv('data/train.csv').drop('Date',axis=1)\n",
    "val_df = pd.read_csv('data/val.csv').drop('Date',axis=1)\n",
    "test_df = pd.read_csv('data/test.csv').drop('Date',axis=1)\n",
    "\n",
    "print(train_df.shape, val_df.shape, test_df.shape)"
   ]
  },
  {
   "cell_type": "code",
   "execution_count": 6,
   "id": "c6ecab33",
   "metadata": {},
   "outputs": [
    {
     "data": {
      "text/html": [
       "<div>\n",
       "<style scoped>\n",
       "    .dataframe tbody tr th:only-of-type {\n",
       "        vertical-align: middle;\n",
       "    }\n",
       "\n",
       "    .dataframe tbody tr th {\n",
       "        vertical-align: top;\n",
       "    }\n",
       "\n",
       "    .dataframe thead th {\n",
       "        text-align: right;\n",
       "    }\n",
       "</style>\n",
       "<table border=\"1\" class=\"dataframe\">\n",
       "  <thead>\n",
       "    <tr style=\"text-align: right;\">\n",
       "      <th></th>\n",
       "      <th>Open</th>\n",
       "      <th>High</th>\n",
       "      <th>Low</th>\n",
       "      <th>Close</th>\n",
       "      <th>Adj Close</th>\n",
       "      <th>Volume</th>\n",
       "      <th>SMA_7</th>\n",
       "      <th>SMA_14</th>\n",
       "      <th>EMA_7</th>\n",
       "      <th>EMA_14</th>\n",
       "      <th>RSI</th>\n",
       "      <th>Stoch_RSI</th>\n",
       "      <th>Upper_BB</th>\n",
       "      <th>Lower_BB</th>\n",
       "      <th>MACD</th>\n",
       "    </tr>\n",
       "  </thead>\n",
       "  <tbody>\n",
       "    <tr>\n",
       "      <th>0</th>\n",
       "      <td>0.315963</td>\n",
       "      <td>0.310705</td>\n",
       "      <td>0.317946</td>\n",
       "      <td>0.319157</td>\n",
       "      <td>0.319157</td>\n",
       "      <td>0.064434</td>\n",
       "      <td>0.306098</td>\n",
       "      <td>0.332838</td>\n",
       "      <td>0.316790</td>\n",
       "      <td>0.327075</td>\n",
       "      <td>0.452657</td>\n",
       "      <td>0.668763</td>\n",
       "      <td>0.353842</td>\n",
       "      <td>0.359191</td>\n",
       "      <td>0.345692</td>\n",
       "    </tr>\n",
       "    <tr>\n",
       "      <th>1</th>\n",
       "      <td>0.319190</td>\n",
       "      <td>0.329837</td>\n",
       "      <td>0.324101</td>\n",
       "      <td>0.343654</td>\n",
       "      <td>0.343654</td>\n",
       "      <td>0.092630</td>\n",
       "      <td>0.312375</td>\n",
       "      <td>0.332512</td>\n",
       "      <td>0.326433</td>\n",
       "      <td>0.331283</td>\n",
       "      <td>0.476904</td>\n",
       "      <td>0.794436</td>\n",
       "      <td>0.350655</td>\n",
       "      <td>0.360462</td>\n",
       "      <td>0.366879</td>\n",
       "    </tr>\n",
       "    <tr>\n",
       "      <th>2</th>\n",
       "      <td>0.344066</td>\n",
       "      <td>0.347136</td>\n",
       "      <td>0.351019</td>\n",
       "      <td>0.357384</td>\n",
       "      <td>0.357384</td>\n",
       "      <td>0.084282</td>\n",
       "      <td>0.320394</td>\n",
       "      <td>0.333672</td>\n",
       "      <td>0.337342</td>\n",
       "      <td>0.336945</td>\n",
       "      <td>0.540000</td>\n",
       "      <td>1.000000</td>\n",
       "      <td>0.346514</td>\n",
       "      <td>0.363040</td>\n",
       "      <td>0.391496</td>\n",
       "    </tr>\n",
       "    <tr>\n",
       "      <th>3</th>\n",
       "      <td>0.357522</td>\n",
       "      <td>0.363782</td>\n",
       "      <td>0.360018</td>\n",
       "      <td>0.377811</td>\n",
       "      <td>0.377811</td>\n",
       "      <td>0.076679</td>\n",
       "      <td>0.330721</td>\n",
       "      <td>0.335341</td>\n",
       "      <td>0.350996</td>\n",
       "      <td>0.344850</td>\n",
       "      <td>0.559219</td>\n",
       "      <td>1.000000</td>\n",
       "      <td>0.352486</td>\n",
       "      <td>0.359697</td>\n",
       "      <td>0.422232</td>\n",
       "    </tr>\n",
       "    <tr>\n",
       "      <th>4</th>\n",
       "      <td>0.378650</td>\n",
       "      <td>0.461519</td>\n",
       "      <td>0.387694</td>\n",
       "      <td>0.416192</td>\n",
       "      <td>0.416192</td>\n",
       "      <td>0.360494</td>\n",
       "      <td>0.349668</td>\n",
       "      <td>0.341625</td>\n",
       "      <td>0.371518</td>\n",
       "      <td>0.357337</td>\n",
       "      <td>0.728010</td>\n",
       "      <td>1.000000</td>\n",
       "      <td>0.367451</td>\n",
       "      <td>0.349285</td>\n",
       "      <td>0.467356</td>\n",
       "    </tr>\n",
       "  </tbody>\n",
       "</table>\n",
       "</div>"
      ],
      "text/plain": [
       "       Open      High       Low     Close  Adj Close    Volume     SMA_7  \\\n",
       "0  0.315963  0.310705  0.317946  0.319157   0.319157  0.064434  0.306098   \n",
       "1  0.319190  0.329837  0.324101  0.343654   0.343654  0.092630  0.312375   \n",
       "2  0.344066  0.347136  0.351019  0.357384   0.357384  0.084282  0.320394   \n",
       "3  0.357522  0.363782  0.360018  0.377811   0.377811  0.076679  0.330721   \n",
       "4  0.378650  0.461519  0.387694  0.416192   0.416192  0.360494  0.349668   \n",
       "\n",
       "     SMA_14     EMA_7    EMA_14       RSI  Stoch_RSI  Upper_BB  Lower_BB  \\\n",
       "0  0.332838  0.316790  0.327075  0.452657   0.668763  0.353842  0.359191   \n",
       "1  0.332512  0.326433  0.331283  0.476904   0.794436  0.350655  0.360462   \n",
       "2  0.333672  0.337342  0.336945  0.540000   1.000000  0.346514  0.363040   \n",
       "3  0.335341  0.350996  0.344850  0.559219   1.000000  0.352486  0.359697   \n",
       "4  0.341625  0.371518  0.357337  0.728010   1.000000  0.367451  0.349285   \n",
       "\n",
       "       MACD  \n",
       "0  0.345692  \n",
       "1  0.366879  \n",
       "2  0.391496  \n",
       "3  0.422232  \n",
       "4  0.467356  "
      ]
     },
     "execution_count": 6,
     "metadata": {},
     "output_type": "execute_result"
    }
   ],
   "source": [
    "train_df.head()"
   ]
  },
  {
   "attachments": {},
   "cell_type": "markdown",
   "id": "4622a938",
   "metadata": {},
   "source": [
    "## `DataWindow` class "
   ]
  },
  {
   "cell_type": "code",
   "execution_count": 7,
   "id": "f27ee7b0",
   "metadata": {},
   "outputs": [],
   "source": [
    "class DataWindow():\n",
    "    def __init__(self, input_width, label_width, shift, \n",
    "                 train_df=train_df, val_df=val_df, test_df=test_df, \n",
    "                 label_columns=None):\n",
    "        \n",
    "        self.train_df = train_df\n",
    "        self.val_df = val_df\n",
    "        self.test_df = test_df\n",
    "        \n",
    "        self.label_columns = label_columns\n",
    "        if label_columns is not None:\n",
    "            self.label_columns_indices = {name: i for i, name in enumerate(label_columns)}\n",
    "        self.column_indices = {name: i for i, name in enumerate(train_df.columns)}\n",
    "        \n",
    "        self.input_width = input_width\n",
    "        self.label_width = label_width\n",
    "        self.shift = shift\n",
    "        \n",
    "        self.total_window_size = input_width + shift\n",
    "        \n",
    "        self.input_slice = slice(0, input_width)\n",
    "        self.input_indices = np.arange(self.total_window_size)[self.input_slice]\n",
    "        \n",
    "        self.label_start = self.total_window_size - self.label_width\n",
    "        self.labels_slice = slice(self.label_start, None)\n",
    "        self.label_indices = np.arange(self.total_window_size)[self.labels_slice]\n",
    "    \n",
    "    def split_to_inputs_labels(self, features):\n",
    "        inputs = features[:, self.input_slice, :]\n",
    "        labels = features[:, self.labels_slice, :]\n",
    "        if self.label_columns is not None:\n",
    "            labels = tf.stack(\n",
    "                [labels[:,:,self.column_indices[name]] for name in self.label_columns],\n",
    "                axis=-1\n",
    "            )\n",
    "        inputs.set_shape([None, self.input_width, None])\n",
    "        labels.set_shape([None, self.label_width, None])\n",
    "        \n",
    "        return inputs, labels\n",
    "    \n",
    "    def plot(self, model=None, plot_col='Adj Close', max_subplots=3):\n",
    "        inputs, labels = self.sample_batch\n",
    "        \n",
    "        plt.figure(figsize=(12, 8))\n",
    "        plot_col_index = self.column_indices[plot_col]\n",
    "        max_n = min(max_subplots, len(inputs))\n",
    "        \n",
    "        for n in range(max_n):\n",
    "            plt.subplot(3, 1, n+1)\n",
    "            plt.ylabel(f'{plot_col} [scaled]')\n",
    "            plt.plot(self.input_indices, inputs[n, :, plot_col_index],\n",
    "                     label='Inputs', marker='.', zorder=-10)\n",
    "\n",
    "            if self.label_columns:\n",
    "              label_col_index = self.label_columns_indices.get(plot_col, None)\n",
    "            else:\n",
    "              label_col_index = plot_col_index\n",
    "\n",
    "            if label_col_index is None:\n",
    "              continue\n",
    "\n",
    "            plt.scatter(self.label_indices, labels[n, :, label_col_index],\n",
    "                        edgecolors='k', marker='s', label='Labels', c='green', s=64)\n",
    "            if model is not None:\n",
    "              predictions = model(inputs)\n",
    "              plt.scatter(self.label_indices, predictions[n, :, label_col_index],\n",
    "                          marker='X', edgecolors='k', label='Predictions',\n",
    "                          c='red', s=64)\n",
    "\n",
    "            if n == 0:\n",
    "              plt.legend()\n",
    "\n",
    "        plt.xlabel('Time (h)')\n",
    "        \n",
    "    def make_dataset(self, data):\n",
    "        data = np.array(data, dtype=np.float32)\n",
    "        ds = tf.keras.preprocessing.timeseries_dataset_from_array(\n",
    "            data=data,\n",
    "            targets=None,\n",
    "            sequence_length=self.total_window_size,\n",
    "            sequence_stride=1,\n",
    "            shuffle=True,\n",
    "            batch_size=32\n",
    "        )\n",
    "        \n",
    "        ds = ds.map(self.split_to_inputs_labels)\n",
    "        return ds\n",
    "    \n",
    "    @property\n",
    "    def train(self):\n",
    "        return self.make_dataset(self.train_df)\n",
    "    \n",
    "    @property\n",
    "    def val(self):\n",
    "        return self.make_dataset(self.val_df)\n",
    "    \n",
    "    @property\n",
    "    def test(self):\n",
    "        return self.make_dataset(self.test_df)\n",
    "    \n",
    "    @property\n",
    "    def sample_batch(self):\n",
    "        result = getattr(self, '_sample_batch', None)\n",
    "        if result is None:\n",
    "            result = next(iter(self.train))\n",
    "            self._sample_batch = result\n",
    "        return result"
   ]
  },
  {
   "cell_type": "code",
   "execution_count": 8,
   "id": "2b2af6bb",
   "metadata": {},
   "outputs": [],
   "source": [
    "def compile_and_fit(model, window, patience=3, max_epochs=1000):\n",
    "    early_stopping = EarlyStopping(monitor='val_loss',\n",
    "                                   patience=patience,\n",
    "                                   mode='min')\n",
    "    \n",
    "    model.compile(loss=MeanSquaredError(),\n",
    "                  optimizer=Adam(),\n",
    "                  metrics=[MeanAbsoluteError()])\n",
    "    \n",
    "    history = model.fit(window.train,\n",
    "                       epochs=max_epochs,\n",
    "                       validation_data=window.val,\n",
    "                       callbacks=[early_stopping])\n",
    "    \n",
    "    return history"
   ]
  },
  {
   "cell_type": "code",
   "execution_count": 9,
   "id": "4891ddc7",
   "metadata": {},
   "outputs": [],
   "source": [
    "column_indices = {name: i for i, name in enumerate(train_df.columns)}"
   ]
  },
  {
   "attachments": {},
   "cell_type": "markdown",
   "id": "3e95f4b1",
   "metadata": {},
   "source": [
    "## Baseline models "
   ]
  },
  {
   "cell_type": "code",
   "execution_count": 10,
   "id": "1f24f0b3",
   "metadata": {},
   "outputs": [],
   "source": [
    "multi_window = DataWindow(input_width=7, label_width=7, shift=7, label_columns=['Adj Close'])"
   ]
  },
  {
   "attachments": {},
   "cell_type": "markdown",
   "id": "e8f3a328",
   "metadata": {},
   "source": [
    "### Repeat last value "
   ]
  },
  {
   "cell_type": "code",
   "execution_count": 11,
   "id": "187dab3c",
   "metadata": {},
   "outputs": [],
   "source": [
    "class MultiStepLastBaseline(Model):\n",
    "    def __init__(self, label_index=None):\n",
    "        super().__init__()\n",
    "        self.label_index = label_index\n",
    "        \n",
    "    def call(self, inputs):\n",
    "        if self.label_index is None:\n",
    "            return tf.tile(inputs[:, -1:, :], [1, 7, 1])\n",
    "        return tf.tile(inputs[:, -1:, self.label_index:], [1, 7, 1])"
   ]
  },
  {
   "cell_type": "code",
   "execution_count": 12,
   "id": "605f438f",
   "metadata": {},
   "outputs": [
    {
     "name": "stdout",
     "output_type": "stream",
     "text": [
      "5/5 [==============================] - 0s 3ms/step - loss: 0.0608 - mean_absolute_error: 0.1345\n"
     ]
    }
   ],
   "source": [
    "baseline_last = MultiStepLastBaseline(label_index=column_indices['Adj Close'])\n",
    "\n",
    "baseline_last.compile(loss=MeanSquaredError(), metrics=[MeanAbsoluteError()])\n",
    "\n",
    "val_performance = {}\n",
    "performance = {}\n",
    "\n",
    "val_performance['Baseline - Last'] = baseline_last.evaluate(multi_window.val)\n",
    "performance['Baseline - Last'] = baseline_last.evaluate(multi_window.test, verbose=0)"
   ]
  },
  {
   "attachments": {},
   "cell_type": "markdown",
   "id": "dea618c7",
   "metadata": {},
   "source": [
    "### Repeat last day "
   ]
  },
  {
   "cell_type": "code",
   "execution_count": 13,
   "id": "8177a5d8",
   "metadata": {},
   "outputs": [],
   "source": [
    "class RepeatBaseline(Model):\n",
    "    def __init__(self, label_index=None):\n",
    "        super().__init__()\n",
    "        self.label_index = label_index\n",
    "        \n",
    "    def call(self, inputs):\n",
    "        return inputs[:, :, self.label_index:]"
   ]
  },
  {
   "cell_type": "code",
   "execution_count": 14,
   "id": "b9655925",
   "metadata": {},
   "outputs": [
    {
     "name": "stdout",
     "output_type": "stream",
     "text": [
      "5/5 [==============================] - 0s 2ms/step - loss: 0.0610 - mean_absolute_error: 0.1387\n"
     ]
    }
   ],
   "source": [
    "baseline_repeat = RepeatBaseline(label_index=column_indices['Adj Close'])\n",
    "\n",
    "baseline_repeat.compile(loss=MeanSquaredError(), metrics=[MeanAbsoluteError()])\n",
    "\n",
    "val_performance['Baseline - Repeat'] = baseline_repeat.evaluate(multi_window.val)\n",
    "performance['Baseline - Repeat'] = baseline_repeat.evaluate(multi_window.test, verbose=0)"
   ]
  },
  {
   "attachments": {},
   "cell_type": "markdown",
   "id": "bb1367ac",
   "metadata": {},
   "source": [
    "## Linear model "
   ]
  },
  {
   "cell_type": "code",
   "execution_count": 15,
   "id": "2b1e7274",
   "metadata": {
    "collapsed": true
   },
   "outputs": [
    {
     "name": "stdout",
     "output_type": "stream",
     "text": [
      "Epoch 1/1000\n",
      "16/16 [==============================] - 1s 17ms/step - loss: 0.1784 - mean_absolute_error: 0.3398 - val_loss: 0.0134 - val_mean_absolute_error: 0.0997\n",
      "Epoch 2/1000\n",
      "16/16 [==============================] - 0s 8ms/step - loss: 0.0961 - mean_absolute_error: 0.2419 - val_loss: 0.0044 - val_mean_absolute_error: 0.0522\n",
      "Epoch 3/1000\n",
      "16/16 [==============================] - 0s 6ms/step - loss: 0.0483 - mean_absolute_error: 0.1735 - val_loss: 0.0026 - val_mean_absolute_error: 0.0453\n",
      "Epoch 4/1000\n",
      "16/16 [==============================] - 0s 6ms/step - loss: 0.0243 - mean_absolute_error: 0.1267 - val_loss: 0.0043 - val_mean_absolute_error: 0.0577\n",
      "Epoch 5/1000\n",
      "16/16 [==============================] - 0s 5ms/step - loss: 0.0145 - mean_absolute_error: 0.1001 - val_loss: 0.0064 - val_mean_absolute_error: 0.0701\n",
      "Epoch 6/1000\n",
      "16/16 [==============================] - 0s 6ms/step - loss: 0.0112 - mean_absolute_error: 0.0886 - val_loss: 0.0074 - val_mean_absolute_error: 0.0763\n",
      "5/5 [==============================] - 0s 1ms/step - loss: 0.0074 - mean_absolute_error: 0.0763\n"
     ]
    }
   ],
   "source": [
    "label_index = column_indices['Adj Close']\n",
    "num_features = train_df.shape[1]\n",
    "\n",
    "linear = Sequential([\n",
    "    Dense(1, kernel_initializer=tf.initializers.zeros)\n",
    "])\n",
    "\n",
    "history = compile_and_fit(linear, multi_window)\n",
    "\n",
    "val_performance['Linear'] = linear.evaluate(multi_window.val)\n",
    "performance['Linear'] = linear.evaluate(multi_window.test, verbose=0)"
   ]
  },
  {
   "attachments": {},
   "cell_type": "markdown",
   "id": "8337bfb5",
   "metadata": {},
   "source": [
    "## Dense model "
   ]
  },
  {
   "cell_type": "code",
   "execution_count": 16,
   "id": "5f7610a2",
   "metadata": {
    "collapsed": true
   },
   "outputs": [
    {
     "name": "stdout",
     "output_type": "stream",
     "text": [
      "Epoch 1/1000\n",
      "16/16 [==============================] - 1s 19ms/step - loss: 0.1637 - mean_absolute_error: 0.3205 - val_loss: 0.0044 - val_mean_absolute_error: 0.0566\n",
      "Epoch 2/1000\n",
      "16/16 [==============================] - 0s 7ms/step - loss: 0.0293 - mean_absolute_error: 0.1420 - val_loss: 0.0267 - val_mean_absolute_error: 0.1550\n",
      "Epoch 3/1000\n",
      "16/16 [==============================] - 0s 6ms/step - loss: 0.0123 - mean_absolute_error: 0.0932 - val_loss: 0.0040 - val_mean_absolute_error: 0.0553\n",
      "Epoch 4/1000\n",
      "16/16 [==============================] - 0s 6ms/step - loss: 0.0072 - mean_absolute_error: 0.0698 - val_loss: 0.0019 - val_mean_absolute_error: 0.0372\n",
      "Epoch 5/1000\n",
      "16/16 [==============================] - 0s 7ms/step - loss: 0.0050 - mean_absolute_error: 0.0535 - val_loss: 0.0013 - val_mean_absolute_error: 0.0280\n",
      "Epoch 6/1000\n",
      "16/16 [==============================] - 0s 6ms/step - loss: 0.0043 - mean_absolute_error: 0.0484 - val_loss: 0.0015 - val_mean_absolute_error: 0.0281\n",
      "Epoch 7/1000\n",
      "16/16 [==============================] - 0s 6ms/step - loss: 0.0041 - mean_absolute_error: 0.0466 - val_loss: 0.0014 - val_mean_absolute_error: 0.0285\n",
      "Epoch 8/1000\n",
      "16/16 [==============================] - 0s 6ms/step - loss: 0.0040 - mean_absolute_error: 0.0461 - val_loss: 0.0015 - val_mean_absolute_error: 0.0289\n",
      "5/5 [==============================] - 0s 2ms/step - loss: 0.0015 - mean_absolute_error: 0.0289\n"
     ]
    }
   ],
   "source": [
    "dense = Sequential([\n",
    "    Dense(64, activation='relu'),\n",
    "    Dense(64, activation='relu'),\n",
    "    Dense(1, kernel_initializer=tf.initializers.zeros),\n",
    "])\n",
    "\n",
    "history = compile_and_fit(dense, multi_window)\n",
    "\n",
    "val_performance['Dense'] = dense.evaluate(multi_window.val)\n",
    "performance['Dense'] = dense.evaluate(multi_window.test, verbose=0)"
   ]
  },
  {
   "attachments": {},
   "cell_type": "markdown",
   "id": "e8fa723c",
   "metadata": {},
   "source": [
    "## LSTM model "
   ]
  },
  {
   "cell_type": "code",
   "execution_count": 17,
   "id": "c4928aee",
   "metadata": {
    "collapsed": true
   },
   "outputs": [
    {
     "name": "stdout",
     "output_type": "stream",
     "text": [
      "Epoch 1/1000\n",
      "16/16 [==============================] - 3s 44ms/step - loss: 0.1894 - mean_absolute_error: 0.3499 - val_loss: 0.0128 - val_mean_absolute_error: 0.0956\n",
      "Epoch 2/1000\n",
      "16/16 [==============================] - 0s 11ms/step - loss: 0.0754 - mean_absolute_error: 0.2049 - val_loss: 0.0272 - val_mean_absolute_error: 0.1343\n",
      "Epoch 3/1000\n",
      "16/16 [==============================] - 0s 13ms/step - loss: 0.0454 - mean_absolute_error: 0.1700 - val_loss: 0.0101 - val_mean_absolute_error: 0.0832\n",
      "Epoch 4/1000\n",
      "16/16 [==============================] - 0s 11ms/step - loss: 0.0321 - mean_absolute_error: 0.1299 - val_loss: 0.0046 - val_mean_absolute_error: 0.0561\n",
      "Epoch 5/1000\n",
      "16/16 [==============================] - 0s 12ms/step - loss: 0.0243 - mean_absolute_error: 0.1132 - val_loss: 0.0033 - val_mean_absolute_error: 0.0473\n",
      "Epoch 6/1000\n",
      "16/16 [==============================] - 0s 8ms/step - loss: 0.0182 - mean_absolute_error: 0.0948 - val_loss: 0.0023 - val_mean_absolute_error: 0.0388\n",
      "Epoch 7/1000\n",
      "16/16 [==============================] - 0s 12ms/step - loss: 0.0136 - mean_absolute_error: 0.0838 - val_loss: 0.0018 - val_mean_absolute_error: 0.0353\n",
      "Epoch 8/1000\n",
      "16/16 [==============================] - 0s 11ms/step - loss: 0.0108 - mean_absolute_error: 0.0747 - val_loss: 0.0017 - val_mean_absolute_error: 0.0344\n",
      "Epoch 9/1000\n",
      "16/16 [==============================] - 0s 8ms/step - loss: 0.0093 - mean_absolute_error: 0.0709 - val_loss: 0.0017 - val_mean_absolute_error: 0.0340\n",
      "Epoch 10/1000\n",
      "16/16 [==============================] - 0s 10ms/step - loss: 0.0081 - mean_absolute_error: 0.0662 - val_loss: 0.0017 - val_mean_absolute_error: 0.0338\n",
      "Epoch 11/1000\n",
      "16/16 [==============================] - 0s 11ms/step - loss: 0.0072 - mean_absolute_error: 0.0628 - val_loss: 0.0016 - val_mean_absolute_error: 0.0336\n",
      "Epoch 12/1000\n",
      "16/16 [==============================] - 0s 12ms/step - loss: 0.0066 - mean_absolute_error: 0.0610 - val_loss: 0.0017 - val_mean_absolute_error: 0.0340\n",
      "Epoch 13/1000\n",
      "16/16 [==============================] - 0s 12ms/step - loss: 0.0062 - mean_absolute_error: 0.0590 - val_loss: 0.0017 - val_mean_absolute_error: 0.0340\n",
      "Epoch 14/1000\n",
      "16/16 [==============================] - 0s 14ms/step - loss: 0.0058 - mean_absolute_error: 0.0568 - val_loss: 0.0016 - val_mean_absolute_error: 0.0330\n",
      "Epoch 15/1000\n",
      "16/16 [==============================] - 0s 11ms/step - loss: 0.0055 - mean_absolute_error: 0.0557 - val_loss: 0.0018 - val_mean_absolute_error: 0.0339\n",
      "Epoch 16/1000\n",
      "16/16 [==============================] - 0s 11ms/step - loss: 0.0050 - mean_absolute_error: 0.0530 - val_loss: 0.0017 - val_mean_absolute_error: 0.0331\n",
      "Epoch 17/1000\n",
      "16/16 [==============================] - 0s 10ms/step - loss: 0.0048 - mean_absolute_error: 0.0519 - val_loss: 0.0018 - val_mean_absolute_error: 0.0344\n",
      "5/5 [==============================] - 0s 3ms/step - loss: 0.0018 - mean_absolute_error: 0.0344\n"
     ]
    }
   ],
   "source": [
    "lstm_model = Sequential([\n",
    "    LSTM(32, return_sequences=True),\n",
    "    Dense(1, kernel_initializer=tf.initializers.zeros),\n",
    "])\n",
    "\n",
    "history = compile_and_fit(lstm_model, multi_window)\n",
    "\n",
    "val_performance['LSTM'] = lstm_model.evaluate(multi_window.val)\n",
    "performance['LSTM'] = lstm_model.evaluate(multi_window.test, verbose=0)"
   ]
  },
  {
   "attachments": {},
   "cell_type": "markdown",
   "id": "c18fa073",
   "metadata": {},
   "source": [
    "## CNN model "
   ]
  },
  {
   "cell_type": "code",
   "execution_count": 18,
   "id": "788d85d3",
   "metadata": {},
   "outputs": [],
   "source": [
    "KERNEL_WIDTH = 3\n",
    "LABEL_WIDTH = 7\n",
    "INPUT_WIDTH = LABEL_WIDTH + KERNEL_WIDTH - 1\n",
    "\n",
    "cnn_multi_window = DataWindow(input_width=INPUT_WIDTH, label_width=LABEL_WIDTH, shift=7, label_columns=['Adj Close'])"
   ]
  },
  {
   "cell_type": "code",
   "execution_count": 19,
   "id": "bbe66a09",
   "metadata": {
    "collapsed": true
   },
   "outputs": [
    {
     "name": "stdout",
     "output_type": "stream",
     "text": [
      "Epoch 1/1000\n",
      "16/16 [==============================] - 1s 22ms/step - loss: 0.1878 - mean_absolute_error: 0.3476 - val_loss: 0.0093 - val_mean_absolute_error: 0.0797\n",
      "Epoch 2/1000\n",
      "16/16 [==============================] - 0s 9ms/step - loss: 0.0442 - mean_absolute_error: 0.1594 - val_loss: 0.0299 - val_mean_absolute_error: 0.1616\n",
      "Epoch 3/1000\n",
      "16/16 [==============================] - 0s 9ms/step - loss: 0.0160 - mean_absolute_error: 0.1070 - val_loss: 0.0047 - val_mean_absolute_error: 0.0597\n",
      "Epoch 4/1000\n",
      "16/16 [==============================] - 0s 7ms/step - loss: 0.0095 - mean_absolute_error: 0.0798 - val_loss: 0.0038 - val_mean_absolute_error: 0.0528\n",
      "Epoch 5/1000\n",
      "16/16 [==============================] - 0s 5ms/step - loss: 0.0059 - mean_absolute_error: 0.0594 - val_loss: 0.0019 - val_mean_absolute_error: 0.0341\n",
      "Epoch 6/1000\n",
      "16/16 [==============================] - 0s 5ms/step - loss: 0.0051 - mean_absolute_error: 0.0532 - val_loss: 0.0020 - val_mean_absolute_error: 0.0341\n",
      "Epoch 7/1000\n",
      "16/16 [==============================] - 0s 7ms/step - loss: 0.0049 - mean_absolute_error: 0.0516 - val_loss: 0.0021 - val_mean_absolute_error: 0.0341\n",
      "Epoch 8/1000\n",
      "16/16 [==============================] - 0s 5ms/step - loss: 0.0048 - mean_absolute_error: 0.0511 - val_loss: 0.0021 - val_mean_absolute_error: 0.0341\n",
      "5/5 [==============================] - 0s 2ms/step - loss: 0.0021 - mean_absolute_error: 0.0341\n"
     ]
    }
   ],
   "source": [
    "cnn_model = Sequential([\n",
    "    Conv1D(32, activation='relu', kernel_size=(KERNEL_WIDTH)),\n",
    "    Dense(units=32, activation='relu'),\n",
    "    Dense(1, kernel_initializer=tf.initializers.zeros),\n",
    "])\n",
    "\n",
    "history = compile_and_fit(cnn_model, cnn_multi_window)\n",
    "\n",
    "val_performance['CNN'] = cnn_model.evaluate(cnn_multi_window.val)\n",
    "performance['CNN'] = cnn_model.evaluate(cnn_multi_window.test, verbose=0)"
   ]
  },
  {
   "attachments": {},
   "cell_type": "markdown",
   "id": "5ea84ea1",
   "metadata": {},
   "source": [
    "## CNN + LSTM model "
   ]
  },
  {
   "cell_type": "code",
   "execution_count": 20,
   "id": "73eab43f",
   "metadata": {
    "collapsed": true
   },
   "outputs": [
    {
     "name": "stdout",
     "output_type": "stream",
     "text": [
      "Epoch 1/1000\n",
      "16/16 [==============================] - 5s 45ms/step - loss: 0.1859 - mean_absolute_error: 0.3448 - val_loss: 0.0088 - val_mean_absolute_error: 0.0754\n",
      "Epoch 2/1000\n",
      "16/16 [==============================] - 0s 14ms/step - loss: 0.0616 - mean_absolute_error: 0.1928 - val_loss: 0.0535 - val_mean_absolute_error: 0.1984\n",
      "Epoch 3/1000\n",
      "16/16 [==============================] - 0s 15ms/step - loss: 0.0363 - mean_absolute_error: 0.1522 - val_loss: 0.0061 - val_mean_absolute_error: 0.0662\n",
      "Epoch 4/1000\n",
      "16/16 [==============================] - 0s 14ms/step - loss: 0.0199 - mean_absolute_error: 0.1039 - val_loss: 0.0043 - val_mean_absolute_error: 0.0545\n",
      "Epoch 5/1000\n",
      "16/16 [==============================] - 0s 11ms/step - loss: 0.0123 - mean_absolute_error: 0.0792 - val_loss: 0.0036 - val_mean_absolute_error: 0.0500\n",
      "Epoch 6/1000\n",
      "16/16 [==============================] - 0s 11ms/step - loss: 0.0094 - mean_absolute_error: 0.0708 - val_loss: 0.0030 - val_mean_absolute_error: 0.0439\n",
      "Epoch 7/1000\n",
      "16/16 [==============================] - 0s 17ms/step - loss: 0.0078 - mean_absolute_error: 0.0640 - val_loss: 0.0026 - val_mean_absolute_error: 0.0392\n",
      "Epoch 8/1000\n",
      "16/16 [==============================] - 0s 15ms/step - loss: 0.0070 - mean_absolute_error: 0.0610 - val_loss: 0.0024 - val_mean_absolute_error: 0.0378\n",
      "Epoch 9/1000\n",
      "16/16 [==============================] - 0s 15ms/step - loss: 0.0068 - mean_absolute_error: 0.0602 - val_loss: 0.0024 - val_mean_absolute_error: 0.0374\n",
      "Epoch 10/1000\n",
      "16/16 [==============================] - 0s 16ms/step - loss: 0.0059 - mean_absolute_error: 0.0561 - val_loss: 0.0022 - val_mean_absolute_error: 0.0360\n",
      "Epoch 11/1000\n",
      "16/16 [==============================] - 0s 12ms/step - loss: 0.0054 - mean_absolute_error: 0.0540 - val_loss: 0.0021 - val_mean_absolute_error: 0.0349\n",
      "Epoch 12/1000\n",
      "16/16 [==============================] - 0s 17ms/step - loss: 0.0052 - mean_absolute_error: 0.0527 - val_loss: 0.0021 - val_mean_absolute_error: 0.0351\n",
      "Epoch 13/1000\n",
      "16/16 [==============================] - 0s 16ms/step - loss: 0.0050 - mean_absolute_error: 0.0521 - val_loss: 0.0021 - val_mean_absolute_error: 0.0348\n",
      "Epoch 14/1000\n",
      "16/16 [==============================] - 0s 9ms/step - loss: 0.0048 - mean_absolute_error: 0.0511 - val_loss: 0.0020 - val_mean_absolute_error: 0.0345\n",
      "Epoch 15/1000\n",
      "16/16 [==============================] - 0s 14ms/step - loss: 0.0047 - mean_absolute_error: 0.0502 - val_loss: 0.0019 - val_mean_absolute_error: 0.0335\n",
      "Epoch 16/1000\n",
      "16/16 [==============================] - 0s 15ms/step - loss: 0.0048 - mean_absolute_error: 0.0508 - val_loss: 0.0021 - val_mean_absolute_error: 0.0355\n",
      "Epoch 17/1000\n",
      "16/16 [==============================] - 0s 13ms/step - loss: 0.0046 - mean_absolute_error: 0.0500 - val_loss: 0.0020 - val_mean_absolute_error: 0.0342\n",
      "Epoch 18/1000\n",
      "16/16 [==============================] - 0s 13ms/step - loss: 0.0045 - mean_absolute_error: 0.0491 - val_loss: 0.0020 - val_mean_absolute_error: 0.0338\n",
      "5/5 [==============================] - 0s 3ms/step - loss: 0.0020 - mean_absolute_error: 0.0338\n"
     ]
    }
   ],
   "source": [
    "cnn_lstm_model = Sequential([\n",
    "    Conv1D(32, activation='relu', kernel_size=(KERNEL_WIDTH)),\n",
    "    LSTM(32, return_sequences=True),\n",
    "    Dense(1, kernel_initializer=tf.initializers.zeros),\n",
    "])\n",
    "\n",
    "history = compile_and_fit(cnn_lstm_model, cnn_multi_window)\n",
    "\n",
    "val_performance['CNN + LSTM'] = cnn_lstm_model.evaluate(cnn_multi_window.val)\n",
    "performance['CNN + LSTM'] = cnn_lstm_model.evaluate(cnn_multi_window.test, verbose=0)"
   ]
  },
  {
   "attachments": {},
   "cell_type": "markdown",
   "id": "de1e02db",
   "metadata": {},
   "source": [
    "## Autoregressive LSTM "
   ]
  },
  {
   "cell_type": "code",
   "execution_count": 21,
   "id": "92a1013a",
   "metadata": {},
   "outputs": [],
   "source": [
    "class AutoRegressive(Model):\n",
    "    def __init__(self, units, out_steps):\n",
    "        super().__init__()\n",
    "        self.out_steps = out_steps\n",
    "        self.units = units\n",
    "        self.lstm_cell = LSTMCell(units)\n",
    "        self.lstm_rnn = RNN(self.lstm_cell, return_state=True)\n",
    "        self.dense = Dense(train_df.shape[1])\n",
    "        \n",
    "    def warmup(self, inputs):\n",
    "        x, *state = self.lstm_rnn(inputs)\n",
    "        prediction = self.dense(x)\n",
    "                \n",
    "        return prediction, state\n",
    "    \n",
    "    def call(self, inputs, training=None):\n",
    "        predictions = []\n",
    "        prediction, state = self.warmup(inputs)\n",
    "        \n",
    "        predictions.append(prediction)\n",
    "        \n",
    "        for n in range(1, self.out_steps):\n",
    "            x = prediction\n",
    "            x, state = self.lstm_cell(x, states=state, training=training)\n",
    "            \n",
    "            prediction = self.dense(x)\n",
    "            predictions.append(prediction)\n",
    "        \n",
    "        predictions = tf.stack(predictions)\n",
    "        predictions = tf.transpose(predictions, [1, 0, 2])\n",
    "        \n",
    "        return predictions"
   ]
  },
  {
   "cell_type": "code",
   "execution_count": 22,
   "id": "2c28e672",
   "metadata": {
    "collapsed": true
   },
   "outputs": [
    {
     "name": "stdout",
     "output_type": "stream",
     "text": [
      "Epoch 1/1000\n",
      "16/16 [==============================] - 4s 38ms/step - loss: 0.1722 - mean_absolute_error: 0.3232 - val_loss: 0.0223 - val_mean_absolute_error: 0.1144\n",
      "Epoch 2/1000\n",
      "16/16 [==============================] - 0s 12ms/step - loss: 0.0677 - mean_absolute_error: 0.1926 - val_loss: 0.0099 - val_mean_absolute_error: 0.0788\n",
      "Epoch 3/1000\n",
      "16/16 [==============================] - 0s 10ms/step - loss: 0.0181 - mean_absolute_error: 0.1010 - val_loss: 0.0058 - val_mean_absolute_error: 0.0601\n",
      "Epoch 4/1000\n",
      "16/16 [==============================] - 0s 11ms/step - loss: 0.0083 - mean_absolute_error: 0.0709 - val_loss: 0.0042 - val_mean_absolute_error: 0.0516\n",
      "Epoch 5/1000\n",
      "16/16 [==============================] - 0s 11ms/step - loss: 0.0059 - mean_absolute_error: 0.0595 - val_loss: 0.0028 - val_mean_absolute_error: 0.0422\n",
      "Epoch 6/1000\n",
      "16/16 [==============================] - 0s 10ms/step - loss: 0.0048 - mean_absolute_error: 0.0535 - val_loss: 0.0031 - val_mean_absolute_error: 0.0449\n",
      "Epoch 7/1000\n",
      "16/16 [==============================] - 0s 11ms/step - loss: 0.0048 - mean_absolute_error: 0.0531 - val_loss: 0.0023 - val_mean_absolute_error: 0.0383\n",
      "Epoch 8/1000\n",
      "16/16 [==============================] - 0s 9ms/step - loss: 0.0043 - mean_absolute_error: 0.0503 - val_loss: 0.0026 - val_mean_absolute_error: 0.0407\n",
      "Epoch 9/1000\n",
      "16/16 [==============================] - 0s 11ms/step - loss: 0.0040 - mean_absolute_error: 0.0484 - val_loss: 0.0022 - val_mean_absolute_error: 0.0374\n",
      "Epoch 10/1000\n",
      "16/16 [==============================] - 0s 11ms/step - loss: 0.0040 - mean_absolute_error: 0.0480 - val_loss: 0.0022 - val_mean_absolute_error: 0.0374\n",
      "Epoch 11/1000\n",
      "16/16 [==============================] - 0s 10ms/step - loss: 0.0036 - mean_absolute_error: 0.0460 - val_loss: 0.0023 - val_mean_absolute_error: 0.0384\n",
      "Epoch 12/1000\n",
      "16/16 [==============================] - 0s 12ms/step - loss: 0.0035 - mean_absolute_error: 0.0457 - val_loss: 0.0023 - val_mean_absolute_error: 0.0386\n",
      "5/5 [==============================] - 0s 6ms/step - loss: 0.0023 - mean_absolute_error: 0.0386\n"
     ]
    }
   ],
   "source": [
    "AR_LSTM = AutoRegressive(units=32, out_steps=7)\n",
    "\n",
    "history = compile_and_fit(AR_LSTM, multi_window)\n",
    "\n",
    "val_performance['AR - LSTM'] = AR_LSTM.evaluate(multi_window.val)\n",
    "performance['AR - LSTM'] = AR_LSTM.evaluate(multi_window.test, verbose=0)"
   ]
  },
  {
   "cell_type": "code",
   "execution_count": 23,
   "id": "00865b74",
   "metadata": {},
   "outputs": [
    {
     "name": "stdout",
     "output_type": "stream",
     "text": [
      "Epoch 1/1000\n",
      "16/16 [==============================] - 4s 51ms/step - loss: 0.1914 - mean_absolute_error: 0.3508 - val_loss: 0.0104 - val_mean_absolute_error: 0.0829\n",
      "Epoch 2/1000\n",
      "16/16 [==============================] - 0s 11ms/step - loss: 0.0692 - mean_absolute_error: 0.2017 - val_loss: 0.0525 - val_mean_absolute_error: 0.1926\n",
      "Epoch 3/1000\n",
      "16/16 [==============================] - 0s 13ms/step - loss: 0.0407 - mean_absolute_error: 0.1601 - val_loss: 0.0057 - val_mean_absolute_error: 0.0622\n",
      "Epoch 4/1000\n",
      "16/16 [==============================] - 0s 12ms/step - loss: 0.0243 - mean_absolute_error: 0.1094 - val_loss: 0.0043 - val_mean_absolute_error: 0.0537\n",
      "Epoch 5/1000\n",
      "16/16 [==============================] - 0s 12ms/step - loss: 0.0157 - mean_absolute_error: 0.0883 - val_loss: 0.0035 - val_mean_absolute_error: 0.0467\n",
      "Epoch 6/1000\n",
      "16/16 [==============================] - 0s 13ms/step - loss: 0.0105 - mean_absolute_error: 0.0731 - val_loss: 0.0028 - val_mean_absolute_error: 0.0420\n",
      "Epoch 7/1000\n",
      "16/16 [==============================] - 0s 10ms/step - loss: 0.0082 - mean_absolute_error: 0.0654 - val_loss: 0.0026 - val_mean_absolute_error: 0.0405\n",
      "Epoch 8/1000\n",
      "16/16 [==============================] - 0s 13ms/step - loss: 0.0072 - mean_absolute_error: 0.0612 - val_loss: 0.0024 - val_mean_absolute_error: 0.0382\n",
      "Epoch 9/1000\n",
      "16/16 [==============================] - 0s 10ms/step - loss: 0.0062 - mean_absolute_error: 0.0568 - val_loss: 0.0022 - val_mean_absolute_error: 0.0364\n",
      "Epoch 10/1000\n",
      "16/16 [==============================] - 0s 11ms/step - loss: 0.0056 - mean_absolute_error: 0.0540 - val_loss: 0.0022 - val_mean_absolute_error: 0.0358\n",
      "Epoch 11/1000\n",
      "16/16 [==============================] - 0s 10ms/step - loss: 0.0052 - mean_absolute_error: 0.0524 - val_loss: 0.0021 - val_mean_absolute_error: 0.0352\n",
      "Epoch 12/1000\n",
      "16/16 [==============================] - 0s 10ms/step - loss: 0.0050 - mean_absolute_error: 0.0519 - val_loss: 0.0021 - val_mean_absolute_error: 0.0347\n",
      "Epoch 13/1000\n",
      "16/16 [==============================] - 0s 10ms/step - loss: 0.0050 - mean_absolute_error: 0.0518 - val_loss: 0.0021 - val_mean_absolute_error: 0.0351\n",
      "Epoch 14/1000\n",
      "16/16 [==============================] - 0s 12ms/step - loss: 0.0046 - mean_absolute_error: 0.0494 - val_loss: 0.0020 - val_mean_absolute_error: 0.0339\n",
      "Epoch 15/1000\n",
      "16/16 [==============================] - 0s 13ms/step - loss: 0.0047 - mean_absolute_error: 0.0504 - val_loss: 0.0019 - val_mean_absolute_error: 0.0333\n",
      "Epoch 16/1000\n",
      "16/16 [==============================] - 0s 11ms/step - loss: 0.0044 - mean_absolute_error: 0.0486 - val_loss: 0.0021 - val_mean_absolute_error: 0.0345\n",
      "Epoch 17/1000\n",
      "16/16 [==============================] - 0s 13ms/step - loss: 0.0044 - mean_absolute_error: 0.0489 - val_loss: 0.0020 - val_mean_absolute_error: 0.0337\n",
      "Epoch 18/1000\n",
      "16/16 [==============================] - 0s 11ms/step - loss: 0.0043 - mean_absolute_error: 0.0482 - val_loss: 0.0019 - val_mean_absolute_error: 0.0333\n",
      "Epoch 19/1000\n",
      "16/16 [==============================] - 0s 11ms/step - loss: 0.0043 - mean_absolute_error: 0.0479 - val_loss: 0.0020 - val_mean_absolute_error: 0.0340\n",
      "Epoch 20/1000\n",
      "16/16 [==============================] - 0s 12ms/step - loss: 0.0042 - mean_absolute_error: 0.0476 - val_loss: 0.0019 - val_mean_absolute_error: 0.0329\n",
      "Epoch 21/1000\n",
      "16/16 [==============================] - 0s 12ms/step - loss: 0.0044 - mean_absolute_error: 0.0484 - val_loss: 0.0020 - val_mean_absolute_error: 0.0346\n",
      "Epoch 22/1000\n",
      "16/16 [==============================] - 0s 10ms/step - loss: 0.0041 - mean_absolute_error: 0.0472 - val_loss: 0.0020 - val_mean_absolute_error: 0.0347\n",
      "Epoch 23/1000\n",
      "16/16 [==============================] - 0s 11ms/step - loss: 0.0042 - mean_absolute_error: 0.0475 - val_loss: 0.0018 - val_mean_absolute_error: 0.0327\n",
      "Epoch 24/1000\n",
      "16/16 [==============================] - 0s 12ms/step - loss: 0.0046 - mean_absolute_error: 0.0496 - val_loss: 0.0019 - val_mean_absolute_error: 0.0339\n",
      "Epoch 25/1000\n",
      "16/16 [==============================] - 0s 12ms/step - loss: 0.0042 - mean_absolute_error: 0.0473 - val_loss: 0.0020 - val_mean_absolute_error: 0.0341\n",
      "Epoch 26/1000\n",
      "16/16 [==============================] - 0s 12ms/step - loss: 0.0041 - mean_absolute_error: 0.0468 - val_loss: 0.0018 - val_mean_absolute_error: 0.0328\n",
      "5/5 [==============================] - 0s 3ms/step - loss: 0.0018 - mean_absolute_error: 0.0328\n"
     ]
    }
   ],
   "source": [
    "cnn_lstm_model = Sequential([\n",
    "    Conv1D(32, activation='relu', kernel_size=(KERNEL_WIDTH)),\n",
    "    LSTM(32, return_sequences=True),\n",
    "    Dense(1, kernel_initializer=tf.initializers.zeros),\n",
    "])\n",
    "\n",
    "history = compile_and_fit(cnn_lstm_model, cnn_multi_window)\n",
    "\n",
    "val_performance['CNN + LSTM'] = cnn_lstm_model.evaluate(cnn_multi_window.val)\n",
    "performance['CNN + LSTM'] = cnn_lstm_model.evaluate(cnn_multi_window.test, verbose=0)"
   ]
  },
  {
   "cell_type": "code",
   "execution_count": 24,
   "id": "6e833c13",
   "metadata": {},
   "outputs": [
    {
     "data": {
      "image/png": "[encoded data removed]",
      "text/plain": [
       "<Figure size 1000x750 with 1 Axes>"
      ]
     },
     "metadata": {},
     "output_type": "display_data"
    }
   ],
   "source": [
    "mae_val = [v[1] for v in val_performance.values()]\n",
    "mae_test = [v[1] for v in performance.values()]\n",
    "\n",
    "x = np.arange(len(performance))\n",
    "\n",
    "fig, ax = plt.subplots()\n",
    "ax.bar(x - 0.15, mae_val, width=0.25, color='black', edgecolor='black', label='Validation')\n",
    "ax.bar(x + 0.15, mae_test, width=0.25, color='white', edgecolor='black', hatch='/', label='Test')\n",
    "ax.set_ylabel('Mean absolute error')\n",
    "ax.set_xlabel('Models')\n",
    "\n",
    "for index, value in enumerate(mae_val):\n",
    "    plt.text(x=index - 0.15, y=value+0.05, s=str(round(value, 3)), ha='center')\n",
    "    \n",
    "for index, value in enumerate(mae_test):\n",
    "    plt.text(x=index + 0.15, y=value+0.025, s=str(round(value, 3)), ha='center')\n",
    "\n",
    "# plt.ylim(0, 0.33)\n",
    "plt.xticks(ticks=x, labels=performance.keys())\n",
    "plt.legend(loc='best')\n",
    "plt.tight_layout()\n",
    "\n",
    "plt.savefig('figures/F14_peixeiro.png', dpi=300)"
   ]
  },
  {
   "cell_type": "code",
   "execution_count": null,
   "id": "e03c0e77",
   "metadata": {},
   "outputs": [],
   "source": []
  }
 ],
 "metadata": {
  "kernelspec": {
   "display_name": "Python 3 (ipykernel)",
   "language": "python",
   "name": "python3"
  },
  "language_info": {
   "codemirror_mode": {
    "name": "ipython",
    "version": 3
   },
   "file_extension": ".py",
   "mimetype": "text/x-python",
   "name": "python",
   "nbconvert_exporter": "python",
   "pygments_lexer": "ipython3",
   "version": "3.10.9"
  }
 },
 "nbformat": 4,
 "nbformat_minor": 5
}
